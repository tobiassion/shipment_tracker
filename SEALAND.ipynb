{
 "cells": [
  {
   "cell_type": "code",
   "execution_count": 1,
   "metadata": {},
   "outputs": [],
   "source": [
    "# we scraper\n",
    "from bs4 import BeautifulSoup\n",
    "\n",
    "# request\n",
    "import requests\n",
    "\n",
    "# io\n",
    "from io import BytesIO\n",
    "\n",
    "# date parser and sleep\n",
    "from dateutil.parser import parse\n",
    "import time\n",
    "\n",
    "# web driver\n",
    "from datetime import datetime\n",
    "from selenium.webdriver.chrome.options import Options\n",
    "from selenium.webdriver.common.action_chains import ActionChains\n",
    "from selenium.webdriver.common.by import By\n",
    "from selenium.webdriver.support.wait import WebDriverWait\n",
    "from selenium.webdriver.support import expected_conditions as EC\n",
    "from selenium.webdriver.common.by import By\n",
    "import undetected_chromedriver as uc\n",
    "\n",
    "# reeading and exporting to excel files\n",
    "import pandas as pd\n",
    "\n",
    "# looping process monitoring\n",
    "from tqdm import tqdm\n",
    "import random"
   ]
  },
  {
   "cell_type": "code",
   "execution_count": 2,
   "metadata": {},
   "outputs": [],
   "source": [
    "# class to determine ganjil genap\n",
    "def is_date(string, fuzzy=False):\n",
    "    try: \n",
    "        parse(string, fuzzy=fuzzy)\n",
    "        return True\n",
    "    except ValueError:\n",
    "        return False\n",
    "\n",
    "s = slice(11)"
   ]
  },
  {
   "cell_type": "code",
   "execution_count": 3,
   "metadata": {},
   "outputs": [],
   "source": [
    "# reading all BL number from google sheet\n",
    "from acquiringbl import takingBL\n",
    "bl_list = takingBL(\"SEALAND\")"
   ]
  },
  {
   "cell_type": "code",
   "execution_count": 4,
   "metadata": {},
   "outputs": [
    {
     "data": {
      "text/plain": [
       "40"
      ]
     },
     "execution_count": 4,
     "metadata": {},
     "output_type": "execute_result"
    }
   ],
   "source": [
    "len(bl_list)"
   ]
  },
  {
   "cell_type": "code",
   "execution_count": 5,
   "metadata": {},
   "outputs": [],
   "source": [
    "dict_hasil = {}\n",
    "current_dict = {}\n",
    "list_dict = []\n",
    "gagal = []"
   ]
  },
  {
   "cell_type": "code",
   "execution_count": 6,
   "metadata": {},
   "outputs": [
    {
     "data": {
      "text/plain": [
       "['229154632',\n",
       " '228422054',\n",
       " '228404249',\n",
       " '230739731',\n",
       " '228877614',\n",
       " '229327088',\n",
       " '231152296',\n",
       " '231230946',\n",
       " '228698779',\n",
       " '230776298',\n",
       " '229327131',\n",
       " '231164567',\n",
       " '230927433',\n",
       " '231590994',\n",
       " '228107228',\n",
       " '228326741',\n",
       " '228528205',\n",
       " '231167818',\n",
       " '228329054',\n",
       " '227145963',\n",
       " '228000484',\n",
       " '228776329',\n",
       " '228667042',\n",
       " '231184364',\n",
       " '231076839',\n",
       " '228478181',\n",
       " '231453389',\n",
       " '228876620',\n",
       " '228576712',\n",
       " '228883601',\n",
       " '229292557',\n",
       " '231456604',\n",
       " '228495628',\n",
       " '228151079',\n",
       " '230927793',\n",
       " '231552881',\n",
       " '228487087',\n",
       " '230556186',\n",
       " '227927058',\n",
       " '228627103']"
      ]
     },
     "execution_count": 6,
     "metadata": {},
     "output_type": "execute_result"
    }
   ],
   "source": [
    "bl_list"
   ]
  },
  {
   "cell_type": "code",
   "execution_count": 19,
   "metadata": {},
   "outputs": [],
   "source": [
    "bl_list = ['229154632', '228487087']"
   ]
  },
  {
   "cell_type": "markdown",
   "metadata": {},
   "source": [
    "**FIX**\n"
   ]
  },
  {
   "cell_type": "code",
   "execution_count": 20,
   "metadata": {},
   "outputs": [
    {
     "name": "stderr",
     "output_type": "stream",
     "text": [
      "  0%|          | 0/2 [00:00<?, ?it/s]"
     ]
    },
    {
     "name": "stdout",
     "output_type": "stream",
     "text": [
      "229154632 HAVE  2  CTR\n",
      "['Bill of Lading number', '229154632', 'From', 'Jakarta', 'To', 'Cagayan de Oro']\n",
      "Hasil dari Append Judul\n",
      "{'Bill of Lading number': '229154632', 'From': 'Jakarta', 'To': 'Cagayan de Oro'}\n",
      "clicking div no : 3\n",
      "clicking div no : 4\n"
     ]
    },
    {
     "name": "stderr",
     "output_type": "stream",
     "text": [
      " 50%|█████     | 1/2 [00:10<00:10, 10.08s/it]"
     ]
    },
    {
     "name": "stdout",
     "output_type": "stream",
     "text": [
      "{'Container Number': 'CRSU9354980', 'Bill of Lading number': '229154632', 'From': 'Jakarta', 'To': 'Cagayan de Oro', 'Jakarta Gate outEmpty': '12 Jul 2023', 'Jakarta Gate in': '13 Jul 2023', 'Jakarta Load': '16 Jul 2023', 'Jakarta Vessel departure': '17 Jul 2023', 'Tanjung Pelepas Vessel arrival': '19 Jul 2023', 'Tanjung Pelepas Discharge': '19 Jul 2023', 'Tanjung Pelepas Load': '26 Jul 2023', 'Tanjung Pelepas Vessel departure': '27 Jul 2023', 'Cagayan de Oro Vessel arrival': '09 Aug 2023', 'Cagayan de Oro Discharge': '09 Aug 2023'}\n",
      "{'Container Number': 'MRSU3255450', 'Bill of Lading number': '229154632', 'From': 'Jakarta', 'To': 'Cagayan de Oro', 'Jakarta Gate outEmpty': '12 Jul 2023', 'Jakarta Gate in': '15 Jul 2023', 'Jakarta Load': '16 Jul 2023', 'Jakarta Vessel departure': '17 Jul 2023', 'Tanjung Pelepas Vessel arrival': '19 Jul 2023', 'Tanjung Pelepas Discharge': '19 Jul 2023', 'Tanjung Pelepas Load': '26 Jul 2023', 'Tanjung Pelepas Vessel departure': '27 Jul 2023', 'Cagayan de Oro Vessel arrival': '09 Aug 2023', 'Cagayan de Oro Discharge': '09 Aug 2023'}\n",
      "229154632 , completed!!\n",
      "228487087 HAVE  5  CTR\n",
      "['Bill of Lading number', '228487087', 'From', 'Jakarta', 'To', 'Subic']\n",
      "Hasil dari Append Judul\n",
      "{'Bill of Lading number': '228487087', 'From': 'Jakarta', 'To': 'Subic'}\n",
      "clicking div no : 3\n",
      "clicking div no : 4\n",
      "clicking div no : 5\n",
      "clicking div no : 6\n",
      "clicking div no : 7\n"
     ]
    },
    {
     "name": "stderr",
     "output_type": "stream",
     "text": [
      "100%|██████████| 2/2 [00:23<00:00, 11.64s/it]"
     ]
    },
    {
     "name": "stdout",
     "output_type": "stream",
     "text": [
      "{'Container Number': 'MRSU3683490', 'Bill of Lading number': '228487087', 'From': 'Jakarta', 'To': 'Subic', 'Jakarta Gate outEmpty': '20 Jun 2023', 'Jakarta Gate in': '21 Jun 2023', 'Jakarta Load': '22 Jun 2023', 'Jakarta Vessel departure': '23 Jun 2023', 'Subic Vessel arrival': '05 Jul 2023', 'Subic Discharge': '05 Jul 2023'}\n",
      "{'Container Number': 'TRHU4396840', 'Bill of Lading number': '228487087', 'From': 'Jakarta', 'To': 'Subic', 'Jakarta Gate outEmpty': '19 Jun 2023', 'Jakarta Gate in': '20 Jun 2023', 'Jakarta Load': '22 Jun 2023', 'Jakarta Vessel departure': '23 Jun 2023', 'Subic Vessel arrival': '05 Jul 2023', 'Subic Discharge': '05 Jul 2023'}\n",
      "{'Container Number': 'MRSU4086821', 'Bill of Lading number': '228487087', 'From': 'Jakarta', 'To': 'Subic', 'Jakarta Gate outEmpty': '20 Jun 2023', 'Jakarta Gate in': '21 Jun 2023', 'Jakarta Load': '22 Jun 2023', 'Jakarta Vessel departure': '23 Jun 2023', 'Subic Vessel arrival': '05 Jul 2023', 'Subic Discharge': '05 Jul 2023'}\n",
      "{'Container Number': 'HASU4792860', 'Bill of Lading number': '228487087', 'From': 'Jakarta', 'To': 'Subic', 'Jakarta Gate outEmpty': '20 Jun 2023', 'Jakarta Gate in': '21 Jun 2023', 'Jakarta Load': '22 Jun 2023', 'Jakarta Vessel departure': '23 Jun 2023', 'Subic Vessel arrival': '05 Jul 2023', 'Subic Discharge': '05 Jul 2023'}\n",
      "{'Container Number': 'MRSU6517527', 'Bill of Lading number': '228487087', 'From': 'Jakarta', 'To': 'Subic', 'Jakarta Gate outEmpty': '19 Jun 2023', 'Jakarta Gate in': '21 Jun 2023', 'Jakarta Load': '22 Jun 2023', 'Jakarta Vessel departure': '23 Jun 2023', 'Subic Vessel arrival': '05 Jul 2023', 'Subic Discharge': '05 Jul 2023'}\n",
      "228487087 , completed!!\n"
     ]
    },
    {
     "name": "stderr",
     "output_type": "stream",
     "text": [
      "\n"
     ]
    }
   ],
   "source": [
    "list_dict = []\n",
    "# web scripting\n",
    "options = Options()\n",
    "options.add_argument(\"--window-size=1920,1280\")\n",
    "driver = uc.Chrome(use_subprocess=True)\n",
    "driver.get('https://www.sealandmaersk.com/tracking/' + bl_list[random.randint(0, len(bl_list)-1)])\n",
    "\n",
    "# wait to load all\n",
    "time.sleep(2)\n",
    "\n",
    "#click allow all\n",
    "click_allowall = driver.find_element(By.XPATH,'//button[text()=\"Allow all\"]')\n",
    "click_allowall.click()\n",
    "\n",
    "# click asia\n",
    "click_asia = driver.find_element(By.XPATH,\"/html/body/div[2]/div/section/div/div[2]/form/div[1]/div/div/ol/li[3]/label/div[1]\")\n",
    "click_asia.click()\n",
    "\n",
    "# click continue\n",
    "click_continue = driver.find_element(By.ID,'confirmRegion')\n",
    "click_continue.click()\n",
    "\n",
    "for i, bls in enumerate(tqdm(bl_list)):\n",
    "    try:\n",
    "        # access the web\n",
    "        driver.get('https://www.sealandmaersk.com/tracking/' + bl_list[i])\n",
    "\n",
    "        # sleep wait\n",
    "        time.sleep(3)\n",
    "        \n",
    "        # finding how many hide details in 1 page refering to how many container number in 1 bl\n",
    "        soup1 = BeautifulSoup(driver.page_source, 'lxml')\n",
    "        containers = soup1.find_all('div', {\"data-test\": \"container\"})\n",
    "        number_of_ctr = len(containers)\n",
    "        \n",
    "        print(bls, \"HAVE \", number_of_ctr, \" CTR\")\n",
    "        # print(dict_hasil)\n",
    "\n",
    "        # print(\"current bl: \", bls, \"\\n number of container: \", number_of_ctr)\n",
    "        if number_of_ctr > 1:\n",
    "            # taking BL Number, From, and To \n",
    "            title = driver.find_element(By.XPATH, \"/html/body/main/div/div/dl\")\n",
    "            titles = title.text.split('\\n')\n",
    "            titles.remove('View Shipment Details')\n",
    "            print(titles)\n",
    "            for a, item in enumerate(titles):\n",
    "                #\n",
    "                if a%2==0 :\n",
    "                    case_judul = {titles[a]:titles[a+1]}\n",
    "                    dict_hasil.update(case_judul)\n",
    "            \n",
    "            print(\"Hasil dari Append Judul\")\n",
    "            print(dict_hasil)\n",
    "            x=3\n",
    "            # clicking all view more\n",
    "            for c in range(number_of_ctr):\n",
    "                try:\n",
    "                    print(\"clicking div no :\",  x)\n",
    "                    show_details2 = WebDriverWait(driver, 30).until(EC.element_to_be_clickable((By.XPATH, '/html/body/main/div/div/div[{}]/dl/button'.format(x))))  \n",
    "                    show_details2.click()\n",
    "                    time.sleep(1)\n",
    "                except Exception as e:\n",
    "                    print(e)\n",
    "                x=x+1\n",
    "\n",
    "            time.sleep(2)\n",
    "            # taking the whole page's html\n",
    "            soup2 = BeautifulSoup(driver.page_source, 'lxml')\n",
    "            \n",
    "            table = soup2.find_all('div', {\"data-test\": \"container\"})\n",
    "            milestones = []\n",
    "            for tag in table:\n",
    "                for ctri1, ctr_num1  in enumerate(tag.find_all('strong', {\"data-test\":'container-details-value'})):\n",
    "                    temp_ctr_num1 = ctr_num1\n",
    "                    milestones.append(\"Container Number\")\n",
    "                    milestones.append(temp_ctr_num1.text)\n",
    "                for m, li_milestone in enumerate(tag.find_all('li', {\"data-test\":'transport-plan-item-complete'})):\n",
    "                    span_history = li_milestone.find_all(\"span\")\n",
    "                    for c1, city1 in enumerate(li_milestone.find_all(\"strong\")):\n",
    "                        temp1 = city1.text\n",
    "                    for milestone_span in span_history:\n",
    "                        if is_date(milestone_span.text):\n",
    "                            milestones.append(milestone_span.text[s])\n",
    "                        else:\n",
    "                            milestones.append(temp1 +\" \"+ milestone_span.text)\n",
    "                            \n",
    "                for n, li_expected in enumerate(tag.find_all('li', {\"data-test\":'transport-plan-item-future'})):\n",
    "                    spans = li_expected.find_all(\"span\")\n",
    "                    for c2, city2 in enumerate(li_expected.find_all(\"strong\")):\n",
    "                        temp2 = city2.text\n",
    "                    for expected_span in spans:\n",
    "                        if is_date(expected_span.text):\n",
    "                            milestones.append(expected_span.text[s])\n",
    "                        else:\n",
    "                            milestones.append(temp2 + \" ESTIMATED \" + expected_span.text)\n",
    "                 \n",
    "                for panjang in range(0, len(milestones), 2):\n",
    "                    key = milestones[panjang]\n",
    "                    value = milestones[panjang + 1]\n",
    "\n",
    "                    if key == 'Container Number':\n",
    "                        if current_dict:\n",
    "                            list_dict.append(current_dict.copy())\n",
    "                        current_dict = {'Container Number': value}\n",
    "                    else:\n",
    "                        current_dict[key] = value\n",
    "\n",
    "                    current_dict.update(dict_hasil) \n",
    "                print(current_dict)\n",
    "            list_dict.append(current_dict)\n",
    "            current_dict = {}\n",
    "            dict_hasil={}\n",
    "            print(bls, \", completed!!\")\n",
    "        else:\n",
    "            time.sleep(1)\n",
    "            \n",
    "            title = driver.find_element(By.XPATH, \"/html/body/main/div/div/dl\")\n",
    "            titles = title.text.split('\\n')\n",
    "            titles.remove('View Shipment Details')\n",
    "            for a, item in enumerate(titles):\n",
    "                if a%2==0 :\n",
    "                    case_judul = {titles[a]:titles[a+1]}\n",
    "                    dict_hasil.update(case_judul)\n",
    "            \n",
    "            time.sleep(2)\n",
    "            soup2 = BeautifulSoup(driver.page_source, 'lxml')\n",
    "            \n",
    "            table = soup2.find_all('div', {\"data-test\": \"container\"})\n",
    "            milestones = []\n",
    "            for tag in table:\n",
    "                for ctri1, ctr_num1  in enumerate(tag.find_all('strong', {\"data-test\":'container-details-value'})):\n",
    "                    temp_ctr_num1 = ctr_num1\n",
    "                    milestones.append(\"Container Number\")\n",
    "                    milestones.append(temp_ctr_num1.text)\n",
    "\n",
    "                for m, li_milestone in enumerate(tag.find_all('li', {\"data-test\":'transport-plan-item-complete'})):\n",
    "                    span_history = li_milestone.find_all(\"span\")\n",
    "                    for c1, city1 in enumerate(li_milestone.find_all(\"strong\")):\n",
    "                        temp1 = city1.text\n",
    "                    for milestone_span in span_history:\n",
    "                        if is_date(milestone_span.text):\n",
    "                            milestones.append(milestone_span.text[s])\n",
    "                        else:\n",
    "                            milestones.append(temp1 +\" \"+ milestone_span.text)\n",
    "                            \n",
    "                for n, li_expected in enumerate(tag.find_all('li', {\"data-test\":'transport-plan-item-future'})):\n",
    "                    spans = li_expected.find_all(\"span\")\n",
    "                    for c2, city2 in enumerate(li_expected.find_all(\"strong\")):\n",
    "                        temp2 = city2.text\n",
    "                    for expected_span in spans:\n",
    "                        if is_date(expected_span.text):\n",
    "                            milestones.append(expected_span.text[s])\n",
    "                        else:\n",
    "                            milestones.append(temp2 + \" ESTIMATED \" + expected_span.text)\n",
    "            \n",
    "            for t, milestone in enumerate(milestones):\n",
    "                if milestone == \"Container Number\":\n",
    "                    case_mlstn = {milestones[t]:milestones[t+1]}\n",
    "                    current_dict.update(case_mlstn)\n",
    "                elif t%2==0 :\n",
    "                    case_mlstn = {milestones[t]:milestones[t+1]}\n",
    "                    current_dict.update(case_mlstn)\n",
    "                    \n",
    "            current_dict.update(dict_hasil) \n",
    "            list_dict.append(current_dict)\n",
    "            current_dict = {}\n",
    "            dict_hasil={}\n",
    "        \n",
    "        unique_list = []\n",
    "        for d in list_dict:\n",
    "            if d not in unique_list:\n",
    "                unique_list.append(d)\n",
    "\n",
    "    except Exception as e:\n",
    "        print(e)\n",
    "        print(\"{} GAGAL!!\".format(bls))\n",
    "        gagal.append(bls)"
   ]
  },
  {
   "cell_type": "code",
   "execution_count": 21,
   "metadata": {},
   "outputs": [
    {
     "data": {
      "text/plain": [
       "{'Container Number': 'CRSU9354980',\n",
       " 'Bill of Lading number': '229154632',\n",
       " 'From': 'Jakarta',\n",
       " 'To': 'Cagayan de Oro',\n",
       " 'Jakarta Gate outEmpty': '12 Jul 2023',\n",
       " 'Jakarta Gate in': '13 Jul 2023',\n",
       " 'Jakarta Load': '16 Jul 2023',\n",
       " 'Jakarta Vessel departure': '17 Jul 2023',\n",
       " 'Tanjung Pelepas Vessel arrival': '19 Jul 2023',\n",
       " 'Tanjung Pelepas Discharge': '19 Jul 2023',\n",
       " 'Tanjung Pelepas Load': '26 Jul 2023',\n",
       " 'Tanjung Pelepas Vessel departure': '27 Jul 2023',\n",
       " 'Cagayan de Oro Vessel arrival': '09 Aug 2023',\n",
       " 'Cagayan de Oro Discharge': '09 Aug 2023'}"
      ]
     },
     "execution_count": 21,
     "metadata": {},
     "output_type": "execute_result"
    }
   ],
   "source": [
    "unique_list[0]"
   ]
  },
  {
   "cell_type": "code",
   "execution_count": 22,
   "metadata": {},
   "outputs": [],
   "source": [
    "filtered_dict_list =[]\n",
    "for dict_milestone in unique_list:\n",
    "    # print(dict_milestone)\n",
    "    kw = ['Bill of Lading number', 'Container Number', 'From', 'To', dict_milestone['From'], dict_milestone['To']]\n",
    "    dict_key = []\n",
    "    for keys in dict_milestone:\n",
    "        dict_key.append(keys)\n",
    "    # print(\"BEFORE\", dict_key)\n",
    "    new_list = [] \n",
    "    \n",
    "    for key in dict_key:\n",
    "        if any(substring in key for substring in kw):\n",
    "            new_list.append(key)\n",
    "    # print(\"AFTER\",new_list)\n",
    "    dict_milestone = {key: dict_milestone[key] for key in new_list}\n",
    "    filtered_dict_list.append(dict_milestone)"
   ]
  },
  {
   "cell_type": "code",
   "execution_count": 23,
   "metadata": {},
   "outputs": [
    {
     "data": {
      "text/plain": [
       "{'Container Number': 'CRSU9354980',\n",
       " 'Bill of Lading number': '229154632',\n",
       " 'From': 'Jakarta',\n",
       " 'To': 'Cagayan de Oro',\n",
       " 'Jakarta Gate outEmpty': '12 Jul 2023',\n",
       " 'Jakarta Gate in': '13 Jul 2023',\n",
       " 'Jakarta Load': '16 Jul 2023',\n",
       " 'Jakarta Vessel departure': '17 Jul 2023',\n",
       " 'Cagayan de Oro Vessel arrival': '09 Aug 2023',\n",
       " 'Cagayan de Oro Discharge': '09 Aug 2023'}"
      ]
     },
     "execution_count": 23,
     "metadata": {},
     "output_type": "execute_result"
    }
   ],
   "source": [
    "filtered_dict_list[0]"
   ]
  },
  {
   "cell_type": "code",
   "execution_count": 24,
   "metadata": {},
   "outputs": [],
   "source": [
    "list_of_dict_fix = []\n",
    "for filter_dict in filtered_dict_list:\n",
    "    replacement_mapping = {\n",
    "        filter_dict[\"From\"]: 'Origin',\n",
    "        filter_dict[\"To\"]: 'Destination'\n",
    "    }\n",
    "\n",
    "    updated_dict = {}\n",
    "\n",
    "    for key, value in filter_dict.items():\n",
    "        for old_key, new_key in replacement_mapping.items():\n",
    "            key = key.replace(old_key, new_key)\n",
    "        updated_dict[key] = value\n",
    "\n",
    "    list_of_dict_fix.append(updated_dict)"
   ]
  },
  {
   "cell_type": "code",
   "execution_count": 25,
   "metadata": {},
   "outputs": [
    {
     "data": {
      "text/plain": [
       "{'Container Number': 'CRSU9354980',\n",
       " 'Bill of Lading number': '229154632',\n",
       " 'From': 'Jakarta',\n",
       " 'To': 'Cagayan de Oro',\n",
       " 'Origin Gate outEmpty': '12 Jul 2023',\n",
       " 'Origin Gate in': '13 Jul 2023',\n",
       " 'Origin Load': '16 Jul 2023',\n",
       " 'Origin Vessel departure': '17 Jul 2023',\n",
       " 'Destination Vessel arrival': '09 Aug 2023',\n",
       " 'Destination Discharge': '09 Aug 2023'}"
      ]
     },
     "execution_count": 25,
     "metadata": {},
     "output_type": "execute_result"
    }
   ],
   "source": [
    "list_of_dict_fix[0]"
   ]
  },
  {
   "cell_type": "code",
   "execution_count": 26,
   "metadata": {},
   "outputs": [],
   "source": [
    "list_of_dict_fix2 = []\n",
    "for filter_dict in list_of_dict_fix:\n",
    "    replacement_mapping = {\n",
    "        \"Bill of Lading number\" : \"BL Number\",\n",
    "        \"Origin Vessel departure\": 'ATD',\n",
    "        \"Destination Discharge\": 'ATA',\n",
    "        \"Destination Gate out\": 'Container Release',\n",
    "        \"Destination Empty container return\" : 'Container Return'\n",
    "    }\n",
    "\n",
    "    updated_dict = {}\n",
    "\n",
    "    for key, value in filter_dict.items():\n",
    "        for old_key, new_key in replacement_mapping.items():\n",
    "            key = key.replace(old_key, new_key)\n",
    "        updated_dict[key] = value\n",
    "\n",
    "        if is_date(value):\n",
    "           input_date = datetime.strptime(value, '%d %b %Y')\n",
    "           updated_dict[key] = input_date.strftime(\"%Y-%m-%d\")\n",
    "    \n",
    "    updated_dict[\"Liners\"] = \"SEALAND\"\n",
    "\n",
    "    list_of_dict_fix2.append(updated_dict)"
   ]
  },
  {
   "cell_type": "code",
   "execution_count": 27,
   "metadata": {},
   "outputs": [
    {
     "data": {
      "text/plain": [
       "[{'Container Number': 'CRSU9354980',\n",
       "  'BL Number': '229154632',\n",
       "  'From': 'Jakarta',\n",
       "  'To': 'Cagayan de Oro',\n",
       "  'Origin Gate outEmpty': '2023-07-12',\n",
       "  'Origin Gate in': '2023-07-13',\n",
       "  'Origin Load': '2023-07-16',\n",
       "  'ATD': '2023-07-17',\n",
       "  'Destination Vessel arrival': '2023-08-09',\n",
       "  'ATA': '2023-08-09',\n",
       "  'Liners': 'SEALAND'},\n",
       " {'Container Number': 'MRSU3255450',\n",
       "  'BL Number': '229154632',\n",
       "  'From': 'Jakarta',\n",
       "  'To': 'Cagayan de Oro',\n",
       "  'Origin Gate outEmpty': '2023-07-12',\n",
       "  'Origin Gate in': '2023-07-15',\n",
       "  'Origin Load': '2023-07-16',\n",
       "  'ATD': '2023-07-17',\n",
       "  'Destination Vessel arrival': '2023-08-09',\n",
       "  'ATA': '2023-08-09',\n",
       "  'Liners': 'SEALAND'},\n",
       " {'Container Number': 'MRSU3683490',\n",
       "  'BL Number': '228487087',\n",
       "  'From': 'Jakarta',\n",
       "  'To': 'Subic',\n",
       "  'Origin Gate outEmpty': '2023-06-20',\n",
       "  'Origin Gate in': '2023-06-21',\n",
       "  'Origin Load': '2023-06-22',\n",
       "  'ATD': '2023-06-23',\n",
       "  'Destination Vessel arrival': '2023-07-05',\n",
       "  'ATA': '2023-07-05',\n",
       "  'Liners': 'SEALAND'},\n",
       " {'Container Number': 'TRHU4396840',\n",
       "  'BL Number': '228487087',\n",
       "  'From': 'Jakarta',\n",
       "  'To': 'Subic',\n",
       "  'Origin Gate outEmpty': '2023-06-19',\n",
       "  'Origin Gate in': '2023-06-20',\n",
       "  'Origin Load': '2023-06-22',\n",
       "  'ATD': '2023-06-23',\n",
       "  'Destination Vessel arrival': '2023-07-05',\n",
       "  'ATA': '2023-07-05',\n",
       "  'Liners': 'SEALAND'},\n",
       " {'Container Number': 'MRSU4086821',\n",
       "  'BL Number': '228487087',\n",
       "  'From': 'Jakarta',\n",
       "  'To': 'Subic',\n",
       "  'Origin Gate outEmpty': '2023-06-20',\n",
       "  'Origin Gate in': '2023-06-21',\n",
       "  'Origin Load': '2023-06-22',\n",
       "  'ATD': '2023-06-23',\n",
       "  'Destination Vessel arrival': '2023-07-05',\n",
       "  'ATA': '2023-07-05',\n",
       "  'Liners': 'SEALAND'},\n",
       " {'Container Number': 'HASU4792860',\n",
       "  'BL Number': '228487087',\n",
       "  'From': 'Jakarta',\n",
       "  'To': 'Subic',\n",
       "  'Origin Gate outEmpty': '2023-06-20',\n",
       "  'Origin Gate in': '2023-06-21',\n",
       "  'Origin Load': '2023-06-22',\n",
       "  'ATD': '2023-06-23',\n",
       "  'Destination Vessel arrival': '2023-07-05',\n",
       "  'ATA': '2023-07-05',\n",
       "  'Liners': 'SEALAND'},\n",
       " {'Container Number': 'MRSU6517527',\n",
       "  'BL Number': '228487087',\n",
       "  'From': 'Jakarta',\n",
       "  'To': 'Subic',\n",
       "  'Origin Gate outEmpty': '2023-06-19',\n",
       "  'Origin Gate in': '2023-06-21',\n",
       "  'Origin Load': '2023-06-22',\n",
       "  'ATD': '2023-06-23',\n",
       "  'Destination Vessel arrival': '2023-07-05',\n",
       "  'ATA': '2023-07-05',\n",
       "  'Liners': 'SEALAND'}]"
      ]
     },
     "execution_count": 27,
     "metadata": {},
     "output_type": "execute_result"
    }
   ],
   "source": [
    "list_of_dict_fix2"
   ]
  },
  {
   "cell_type": "code",
   "execution_count": 28,
   "metadata": {},
   "outputs": [
    {
     "name": "stdout",
     "output_type": "stream",
     "text": [
      "Today's Collection Name ===>  all_tracking_Oct-06-2023\n",
      "Today's Collection Has Been Made\n",
      "Inserting Many Complete!!\n"
     ]
    }
   ],
   "source": [
    "# connect to mongodb\n",
    "from mongoinit import mongo_table_initiation, insert_many_mongo\n",
    "\n",
    "mongo_table_initiation()\n",
    "insert_many_mongo(list_of_dict_fix2)"
   ]
  },
  {
   "cell_type": "code",
   "execution_count": 29,
   "metadata": {},
   "outputs": [
    {
     "data": {
      "text/plain": [
       "['229154632', '228487087']"
      ]
     },
     "execution_count": 29,
     "metadata": {},
     "output_type": "execute_result"
    }
   ],
   "source": [
    "gagal"
   ]
  },
  {
   "cell_type": "code",
   "execution_count": 16,
   "metadata": {},
   "outputs": [
    {
     "name": "stderr",
     "output_type": "stream",
     "text": [
      "  0%|          | 0/1 [00:00<?, ?it/s]"
     ]
    },
    {
     "name": "stdout",
     "output_type": "stream",
     "text": [
      "231590994 HAVE  1  CTR\n"
     ]
    },
    {
     "name": "stderr",
     "output_type": "stream",
     "text": [
      "100%|██████████| 1/1 [00:08<00:00,  8.01s/it]\n"
     ]
    }
   ],
   "source": [
    "list_dict = []\n",
    "# web scripting\n",
    "options = Options()\n",
    "options.add_argument(\"--window-size=1920,1280\")\n",
    "driver = uc.Chrome(use_subprocess=True)\n",
    "driver.get('https://www.sealandmaersk.com/tracking/' + bl_list[random.randint(0, len(bl_list)-1)])\n",
    "\n",
    "# wait to load all\n",
    "time.sleep(2)\n",
    "\n",
    "#click allow all\n",
    "click_allowall = driver.find_element(By.XPATH,'//button[text()=\"Allow all\"]')\n",
    "click_allowall.click()\n",
    "\n",
    "# click asia\n",
    "click_asia = driver.find_element(By.XPATH,\"/html/body/div[2]/div/section/div/div[2]/form/div[1]/div/div/ol/li[3]/label/div[1]\")\n",
    "click_asia.click()\n",
    "\n",
    "# click continue\n",
    "click_continue = driver.find_element(By.ID,'confirmRegion')\n",
    "click_continue.click()\n",
    "\n",
    "for i, bls in enumerate(tqdm(gagal)):\n",
    "    try:\n",
    "        # access the web\n",
    "        driver.get('https://www.sealandmaersk.com/tracking/' + bl_list[i])\n",
    "\n",
    "        # sleep wait\n",
    "        time.sleep(3)\n",
    "        \n",
    "        # finding how many hide details in 1 page refering to how many container number in 1 bl\n",
    "        soup1 = BeautifulSoup(driver.page_source, 'lxml')\n",
    "        containers = soup1.find_all('div', {\"data-test\": \"container\"})\n",
    "        number_of_ctr = len(containers)\n",
    "        \n",
    "        print(bls, \"HAVE \", number_of_ctr, \" CTR\")\n",
    "        # print(dict_hasil)\n",
    "\n",
    "        # print(\"current bl: \", bls, \"\\n number of container: \", number_of_ctr)\n",
    "        if number_of_ctr > 1:\n",
    "            # taking BL Number, From, and To \n",
    "            title = driver.find_element(By.XPATH, \"/html/body/main/div/div/dl\")\n",
    "            titles = title.text.split('\\n')\n",
    "            titles.remove('View Shipment Details')\n",
    "            print(titles)\n",
    "            for a, item in enumerate(titles):\n",
    "                #\n",
    "                if a%2==0 :\n",
    "                    case_judul = {titles[a]:titles[a+1]}\n",
    "                    dict_hasil.update(case_judul)\n",
    "            \n",
    "            print(\"Hasil dari Append Judul\")\n",
    "            print(dict_hasil)\n",
    "            x=3\n",
    "            # clicking all view more\n",
    "            for c in range(number_of_ctr):\n",
    "                try:\n",
    "                    print(\"clicking div no :\",  x)\n",
    "                    show_details2 = WebDriverWait(driver, 30).until(EC.element_to_be_clickable((By.XPATH, '/html/body/main/div/div/div[{}]/dl/button'.format(x))))  \n",
    "                    show_details2.click()\n",
    "                    time.sleep(1)\n",
    "                except Exception as e:\n",
    "                    print(e)\n",
    "                x=x+1\n",
    "\n",
    "            time.sleep(2)\n",
    "            # taking the whole page's html\n",
    "            soup2 = BeautifulSoup(driver.page_source, 'lxml')\n",
    "            \n",
    "            table = soup2.find_all('div', {\"data-test\": \"container\"})\n",
    "            milestones = []\n",
    "            for tag in table:\n",
    "                for ctri1, ctr_num1  in enumerate(tag.find_all('strong', {\"data-test\":'container-details-value'})):\n",
    "                    temp_ctr_num1 = ctr_num1\n",
    "                    milestones.append(\"Container Number\")\n",
    "                    milestones.append(temp_ctr_num1.text)\n",
    "                for m, li_milestone in enumerate(tag.find_all('li', {\"data-test\":'transport-plan-item-complete'})):\n",
    "                    span_history = li_milestone.find_all(\"span\")\n",
    "                    for c1, city1 in enumerate(li_milestone.find_all(\"strong\")):\n",
    "                        temp1 = city1.text\n",
    "                    for milestone_span in span_history:\n",
    "                        if is_date(milestone_span.text):\n",
    "                            milestones.append(milestone_span.text[s])\n",
    "                        else:\n",
    "                            milestones.append(temp1 +\" \"+ milestone_span.text)\n",
    "                            \n",
    "                for n, li_expected in enumerate(tag.find_all('li', {\"data-test\":'transport-plan-item-future'})):\n",
    "                    spans = li_expected.find_all(\"span\")\n",
    "                    for c2, city2 in enumerate(li_expected.find_all(\"strong\")):\n",
    "                        temp2 = city2.text\n",
    "                    for expected_span in spans:\n",
    "                        if is_date(expected_span.text):\n",
    "                            milestones.append(expected_span.text[s])\n",
    "                        else:\n",
    "                            milestones.append(temp2 + \" ESTIMATED \" + expected_span.text)\n",
    "                 \n",
    "                for panjang in range(0, len(milestones), 2):\n",
    "                    key = milestones[panjang]\n",
    "                    value = milestones[panjang + 1]\n",
    "\n",
    "                    if key == 'Container Number':\n",
    "                        if current_dict:\n",
    "                            list_dict.append(current_dict.copy())\n",
    "                        current_dict = {'Container Number': value}\n",
    "                    else:\n",
    "                        current_dict[key] = value\n",
    "\n",
    "                    current_dict.update(dict_hasil) \n",
    "                print(current_dict)\n",
    "            list_dict.append(current_dict)\n",
    "            current_dict = {}\n",
    "            dict_hasil={}\n",
    "            print(bls, \", completed!!\")\n",
    "        else:\n",
    "            time.sleep(1)\n",
    "            \n",
    "            title = driver.find_element(By.XPATH, \"/html/body/main/div/div/dl\")\n",
    "            titles = title.text.split('\\n')\n",
    "            titles.remove('View Shipment Details')\n",
    "            for a, item in enumerate(titles):\n",
    "                if a%2==0 :\n",
    "                    case_judul = {titles[a]:titles[a+1]}\n",
    "                    dict_hasil.update(case_judul)\n",
    "            \n",
    "            time.sleep(2)\n",
    "            soup2 = BeautifulSoup(driver.page_source, 'lxml')\n",
    "            \n",
    "            table = soup2.find_all('div', {\"data-test\": \"container\"})\n",
    "            milestones = []\n",
    "            for tag in table:\n",
    "                for ctri1, ctr_num1  in enumerate(tag.find_all('strong', {\"data-test\":'container-details-value'})):\n",
    "                    temp_ctr_num1 = ctr_num1\n",
    "                    milestones.append(\"Container Number\")\n",
    "                    milestones.append(temp_ctr_num1.text)\n",
    "\n",
    "                for m, li_milestone in enumerate(tag.find_all('li', {\"data-test\":'transport-plan-item-complete'})):\n",
    "                    span_history = li_milestone.find_all(\"span\")\n",
    "                    for c1, city1 in enumerate(li_milestone.find_all(\"strong\")):\n",
    "                        temp1 = city1.text\n",
    "                    for milestone_span in span_history:\n",
    "                        if is_date(milestone_span.text):\n",
    "                            milestones.append(milestone_span.text[s])\n",
    "                        else:\n",
    "                            milestones.append(temp1 +\" \"+ milestone_span.text)\n",
    "                            \n",
    "                for n, li_expected in enumerate(tag.find_all('li', {\"data-test\":'transport-plan-item-future'})):\n",
    "                    spans = li_expected.find_all(\"span\")\n",
    "                    for c2, city2 in enumerate(li_expected.find_all(\"strong\")):\n",
    "                        temp2 = city2.text\n",
    "                    for expected_span in spans:\n",
    "                        if is_date(expected_span.text):\n",
    "                            milestones.append(expected_span.text[s])\n",
    "                        else:\n",
    "                            milestones.append(temp2 + \" ESTIMATED \" + expected_span.text)\n",
    "            \n",
    "            for t, milestone in enumerate(milestones):\n",
    "                if milestone == \"Container Number\":\n",
    "                    case_mlstn = {milestones[t]:milestones[t+1]}\n",
    "                    current_dict.update(case_mlstn)\n",
    "                elif t%2==0 :\n",
    "                    case_mlstn = {milestones[t]:milestones[t+1]}\n",
    "                    current_dict.update(case_mlstn)\n",
    "                    \n",
    "            current_dict.update(dict_hasil) \n",
    "            list_dict.append(current_dict)\n",
    "            current_dict = {}\n",
    "            dict_hasil={}\n",
    "        \n",
    "        unique_list = []\n",
    "        for d in list_dict:\n",
    "            if d not in unique_list:\n",
    "                unique_list.append(d)\n",
    "\n",
    "    except Exception as e:\n",
    "        print(e)\n",
    "        print(\"{} GAGAL!!\".format(bls))\n",
    "        gagal.append(bls)"
   ]
  },
  {
   "cell_type": "code",
   "execution_count": 17,
   "metadata": {},
   "outputs": [
    {
     "data": {
      "text/plain": [
       "[{'Container Number': 'CAAU6577730',\n",
       "  'Jakarta Gate outEmpty': '01 Jun 2023',\n",
       "  'Jakarta Gate in': '03 Jun 2023',\n",
       "  'Jakarta Load': '09 Jun 2023',\n",
       "  'Jakarta Vessel departure': '09 Jun 2023',\n",
       "  'Subic Vessel arrival': '21 Jun 2023',\n",
       "  'Subic Discharge': '22 Jun 2023',\n",
       "  'Bill of Lading number': '228000484',\n",
       "  'From': 'Jakarta',\n",
       "  'To': 'Subic'}]"
      ]
     },
     "execution_count": 17,
     "metadata": {},
     "output_type": "execute_result"
    }
   ],
   "source": [
    "unique_list"
   ]
  },
  {
   "cell_type": "code",
   "execution_count": null,
   "metadata": {},
   "outputs": [],
   "source": []
  }
 ],
 "metadata": {
  "kernelspec": {
   "display_name": "Python 3.10.10 64-bit",
   "language": "python",
   "name": "python3"
  },
  "language_info": {
   "codemirror_mode": {
    "name": "ipython",
    "version": 3
   },
   "file_extension": ".py",
   "mimetype": "text/x-python",
   "name": "python",
   "nbconvert_exporter": "python",
   "pygments_lexer": "ipython3",
   "version": "3.10.10"
  },
  "orig_nbformat": 4,
  "vscode": {
   "interpreter": {
    "hash": "8c3d4d9970fc5c09c50d9318a9c7fbf4d0159e4b28833276f5678ee22bded273"
   }
  }
 },
 "nbformat": 4,
 "nbformat_minor": 2
}
