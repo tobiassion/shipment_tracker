{
 "cells": [
  {
   "cell_type": "code",
   "execution_count": 1,
   "metadata": {},
   "outputs": [],
   "source": [
    "# we scraper\n",
    "from bs4 import BeautifulSoup\n",
    "\n",
    "# request\n",
    "import requests\n",
    "\n",
    "# io\n",
    "from io import BytesIO\n",
    "\n",
    "# date parser and sleep\n",
    "from dateutil.parser import parse\n",
    "import time\n",
    "\n",
    "# web driver\n",
    "from datetime import datetime\n",
    "from selenium.webdriver.chrome.options import Options\n",
    "from selenium.webdriver.common.action_chains import ActionChains\n",
    "from selenium.webdriver.common.by import By\n",
    "from selenium.webdriver.support.wait import WebDriverWait\n",
    "from selenium.webdriver.support import expected_conditions as EC\n",
    "from selenium.webdriver.common.by import By\n",
    "import undetected_chromedriver as uc\n",
    "\n",
    "# reeading and exporting to excel files\n",
    "import pandas as pd\n",
    "\n",
    "# looping process monitoring\n",
    "from tqdm import tqdm\n",
    "import random"
   ]
  },
  {
   "cell_type": "code",
   "execution_count": 2,
   "metadata": {},
   "outputs": [],
   "source": [
    "# class to determine ganjil genap\n",
    "def is_date(string, fuzzy=False):\n",
    "    try: \n",
    "        parse(string, fuzzy=fuzzy)\n",
    "        return True\n",
    "    except ValueError:\n",
    "        return False\n",
    "\n",
    "s = slice(11)"
   ]
  },
  {
   "cell_type": "code",
   "execution_count": 3,
   "metadata": {},
   "outputs": [],
   "source": [
    "# reading all BL number from google sheet\n",
    "from acquiringbl import takingBL\n",
    "bl_list = takingBL(\"SEALAND\")"
   ]
  },
  {
   "cell_type": "code",
   "execution_count": 4,
   "metadata": {},
   "outputs": [
    {
     "data": {
      "text/plain": [
       "52"
      ]
     },
     "execution_count": 4,
     "metadata": {},
     "output_type": "execute_result"
    }
   ],
   "source": [
    "len(bl_list)"
   ]
  },
  {
   "cell_type": "code",
   "execution_count": 5,
   "metadata": {},
   "outputs": [],
   "source": [
    "dict_hasil = {}\n",
    "current_dict = {}\n",
    "list_dict = []\n",
    "gagal = []"
   ]
  },
  {
   "cell_type": "markdown",
   "metadata": {},
   "source": [
    "**FIX**\n"
   ]
  },
  {
   "cell_type": "code",
   "execution_count": 6,
   "metadata": {},
   "outputs": [
    {
     "name": "stderr",
     "output_type": "stream",
     "text": [
      "  0%|          | 0/52 [00:00<?, ?it/s]"
     ]
    },
    {
     "name": "stdout",
     "output_type": "stream",
     "text": [
      "228000484 HAVE  1  CTR\n"
     ]
    },
    {
     "name": "stderr",
     "output_type": "stream",
     "text": [
      "  2%|▏         | 1/52 [00:08<07:10,  8.45s/it]"
     ]
    },
    {
     "name": "stdout",
     "output_type": "stream",
     "text": [
      "231590994 HAVE  1  CTR\n"
     ]
    },
    {
     "name": "stderr",
     "output_type": "stream",
     "text": [
      "  4%|▍         | 2/52 [00:16<06:53,  8.27s/it]"
     ]
    },
    {
     "name": "stdout",
     "output_type": "stream",
     "text": [
      "name 'temp2' is not defined\n",
      "231590994 GAGAL!!\n",
      "228329054 HAVE  3  CTR\n",
      "['Bill of Lading number', '228329054', 'From', 'Jakarta', 'To', 'Subic']\n",
      "Hasil dari Append Judul\n",
      "{'Bill of Lading number': '228329054', 'From': 'Jakarta', 'To': 'Subic'}\n",
      "clicking div no : 3\n",
      "clicking div no : 4\n",
      "clicking div no : 5\n"
     ]
    },
    {
     "name": "stderr",
     "output_type": "stream",
     "text": [
      "  6%|▌         | 3/52 [00:28<07:58,  9.77s/it]"
     ]
    },
    {
     "name": "stdout",
     "output_type": "stream",
     "text": [
      "{'Container Number': 'TCNU1561866', 'Bill of Lading number': '228329054', 'From': 'Jakarta', 'To': 'Subic', 'Jakarta Gate outEmpty': '16 Jun 2023', 'Jakarta Gate in': '18 Jun 2023', 'Jakarta Load': '22 Jun 2023', 'Jakarta Vessel departure': '23 Jun 2023', 'Subic Vessel arrival': '05 Jul 2023', 'Subic Discharge': '05 Jul 2023'}\n",
      "{'Container Number': 'CAAU6419457', 'Bill of Lading number': '228329054', 'From': 'Jakarta', 'To': 'Subic', 'Jakarta Gate outEmpty': '16 Jun 2023', 'Jakarta Gate in': '18 Jun 2023', 'Jakarta Load': '22 Jun 2023', 'Jakarta Vessel departure': '23 Jun 2023', 'Subic Vessel arrival': '05 Jul 2023', 'Subic Discharge': '05 Jul 2023'}\n",
      "{'Container Number': 'MRSU5539521', 'Bill of Lading number': '228329054', 'From': 'Jakarta', 'To': 'Subic', 'Jakarta Gate outEmpty': '15 Jun 2023', 'Jakarta Gate in': '17 Jun 2023', 'Jakarta Load': '22 Jun 2023', 'Jakarta Vessel departure': '23 Jun 2023', 'Subic Vessel arrival': '05 Jul 2023', 'Subic Discharge': '05 Jul 2023'}\n",
      "228329054 , completed!!\n",
      "229095678 HAVE  3  CTR\n",
      "['Bill of Lading number', '229095678', 'From', 'Jakarta', 'To', 'Cebu City']\n",
      "Hasil dari Append Judul\n",
      "{'Bill of Lading number': '229095678', 'From': 'Jakarta', 'To': 'Cebu City'}\n",
      "clicking div no : 3\n",
      "clicking div no : 4\n",
      "clicking div no : 5\n"
     ]
    },
    {
     "name": "stderr",
     "output_type": "stream",
     "text": [
      "  8%|▊         | 4/52 [00:38<08:02, 10.05s/it]"
     ]
    },
    {
     "name": "stdout",
     "output_type": "stream",
     "text": [
      "{'Container Number': 'MRSU5453310', 'Bill of Lading number': '229095678', 'From': 'Jakarta', 'To': 'Cebu City', 'Jakarta Gate outEmpty': '10 Jul 2023', 'Jakarta Gate in': '12 Jul 2023', 'Jakarta Load': '16 Jul 2023', 'Jakarta Vessel departure': '17 Jul 2023', 'Hong Kong Vessel arrival': '27 Jul 2023', 'Hong Kong Discharge': '27 Jul 2023', 'Hong Kong Load': '05 Aug 2023', 'Hong Kong Vessel departure': '05 Aug 2023', 'Cebu City Vessel arrival': '08 Aug 2023', 'Cebu City Discharge': '09 Aug 2023', 'Cebu City Gate out': '26 Sep 2023', 'Cebu City Empty container return': '28 Sep 2023'}\n",
      "{'Container Number': 'HASU5143696', 'Bill of Lading number': '229095678', 'From': 'Jakarta', 'To': 'Cebu City', 'Jakarta Gate outEmpty': '10 Jul 2023', 'Jakarta Gate in': '12 Jul 2023', 'Jakarta Load': '16 Jul 2023', 'Jakarta Vessel departure': '17 Jul 2023', 'Hong Kong Vessel arrival': '27 Jul 2023', 'Hong Kong Discharge': '27 Jul 2023', 'Hong Kong Load': '05 Aug 2023', 'Hong Kong Vessel departure': '05 Aug 2023', 'Cebu City Vessel arrival': '08 Aug 2023', 'Cebu City Discharge': '09 Aug 2023', 'Cebu City Gate out': '26 Sep 2023', 'Cebu City Empty container return': '28 Sep 2023'}\n",
      "{'Container Number': 'MRSU6425987', 'Bill of Lading number': '229095678', 'From': 'Jakarta', 'To': 'Cebu City', 'Jakarta Gate outEmpty': '10 Jul 2023', 'Jakarta Gate in': '12 Jul 2023', 'Jakarta Load': '16 Jul 2023', 'Jakarta Vessel departure': '17 Jul 2023', 'Hong Kong Vessel arrival': '27 Jul 2023', 'Hong Kong Discharge': '27 Jul 2023', 'Hong Kong Load': '05 Aug 2023', 'Hong Kong Vessel departure': '05 Aug 2023', 'Cebu City Vessel arrival': '08 Aug 2023', 'Cebu City Discharge': '09 Aug 2023', 'Cebu City Gate out': '26 Sep 2023', 'Cebu City Empty container return': '29 Sep 2023'}\n",
      "229095678 , completed!!\n",
      "228151079 HAVE  1  CTR\n"
     ]
    },
    {
     "name": "stderr",
     "output_type": "stream",
     "text": [
      " 10%|▉         | 5/52 [00:46<07:11,  9.17s/it]"
     ]
    },
    {
     "name": "stdout",
     "output_type": "stream",
     "text": [
      "230607885 HAVE  1  CTR\n"
     ]
    },
    {
     "name": "stderr",
     "output_type": "stream",
     "text": [
      " 12%|█▏        | 6/52 [00:55<07:00,  9.15s/it]"
     ]
    },
    {
     "name": "stdout",
     "output_type": "stream",
     "text": [
      "230739636 HAVE  1  CTR\n"
     ]
    },
    {
     "name": "stderr",
     "output_type": "stream",
     "text": [
      " 13%|█▎        | 7/52 [01:10<08:21, 11.15s/it]"
     ]
    },
    {
     "name": "stdout",
     "output_type": "stream",
     "text": [
      "229327088 HAVE  2  CTR\n",
      "['Bill of Lading number', '229327088', 'From', 'Jakarta', 'To', 'Subic']\n",
      "Hasil dari Append Judul\n",
      "{'Bill of Lading number': '229327088', 'From': 'Jakarta', 'To': 'Subic'}\n",
      "clicking div no : 3\n",
      "clicking div no : 4\n"
     ]
    },
    {
     "name": "stderr",
     "output_type": "stream",
     "text": [
      " 15%|█▌        | 8/52 [01:31<10:29, 14.31s/it]"
     ]
    },
    {
     "name": "stdout",
     "output_type": "stream",
     "text": [
      "{'Container Number': 'CAAU6600450', 'Bill of Lading number': '229327088', 'From': 'Jakarta', 'To': 'Subic', 'Jakarta Gate outEmpty': '17 Jul 2023', 'Jakarta Gate in': '18 Jul 2023', 'Jakarta Load': '20 Jul 2023', 'Jakarta Vessel departure': '21 Jul 2023', 'Subic Vessel arrival': '02 Aug 2023', 'Subic Discharge': '03 Aug 2023'}\n",
      "{'Container Number': 'TRHU4590990', 'Bill of Lading number': '229327088', 'From': 'Jakarta', 'To': 'Subic', 'Jakarta Gate outEmpty': '18 Jul 2023', 'Jakarta Gate in': '19 Jul 2023', 'Jakarta Load': '20 Jul 2023', 'Jakarta Vessel departure': '21 Jul 2023', 'Subic Vessel arrival': '02 Aug 2023', 'Subic Discharge': '03 Aug 2023'}\n",
      "229327088 , completed!!\n",
      "228883601 HAVE  2  CTR\n",
      "['Bill of Lading number', '228883601', 'From', 'Jakarta', 'To', 'Subic']\n",
      "Hasil dari Append Judul\n",
      "{'Bill of Lading number': '228883601', 'From': 'Jakarta', 'To': 'Subic'}\n",
      "clicking div no : 3\n",
      "clicking div no : 4\n"
     ]
    },
    {
     "name": "stderr",
     "output_type": "stream",
     "text": [
      " 17%|█▋        | 9/52 [02:22<18:19, 25.57s/it]"
     ]
    },
    {
     "name": "stdout",
     "output_type": "stream",
     "text": [
      "{'Container Number': 'MRKU5073148', 'Bill of Lading number': '228883601', 'From': 'Jakarta', 'To': 'Subic', 'Jakarta Gate outEmpty': '03 Jul 2023', 'Jakarta Gate in': '04 Jul 2023', 'Jakarta Load': '07 Jul 2023', 'Jakarta Vessel departure': '07 Jul 2023', 'Subic Vessel arrival': '19 Jul 2023', 'Subic Discharge': '20 Jul 2023'}\n",
      "{'Container Number': 'MRSU4840490', 'Bill of Lading number': '228883601', 'From': 'Jakarta', 'To': 'Subic', 'Jakarta Gate outEmpty': '03 Jul 2023', 'Jakarta Gate in': '05 Jul 2023', 'Jakarta Load': '07 Jul 2023', 'Jakarta Vessel departure': '07 Jul 2023', 'Subic Vessel arrival': '19 Jul 2023', 'Subic Discharge': '20 Jul 2023'}\n",
      "228883601 , completed!!\n",
      "230739731 HAVE  1  CTR\n"
     ]
    },
    {
     "name": "stderr",
     "output_type": "stream",
     "text": [
      " 19%|█▉        | 10/52 [02:32<14:43, 21.03s/it]"
     ]
    },
    {
     "name": "stdout",
     "output_type": "stream",
     "text": [
      "227145963 HAVE  1  CTR\n"
     ]
    },
    {
     "name": "stderr",
     "output_type": "stream",
     "text": [
      " 21%|██        | 11/52 [02:41<11:42, 17.12s/it]"
     ]
    },
    {
     "name": "stdout",
     "output_type": "stream",
     "text": [
      "231152296 HAVE  1  CTR\n"
     ]
    },
    {
     "name": "stderr",
     "output_type": "stream",
     "text": [
      " 23%|██▎       | 12/52 [02:50<09:55, 14.90s/it]"
     ]
    },
    {
     "name": "stdout",
     "output_type": "stream",
     "text": [
      "228107228 HAVE  1  CTR\n"
     ]
    },
    {
     "name": "stderr",
     "output_type": "stream",
     "text": [
      " 25%|██▌       | 13/52 [03:01<08:46, 13.49s/it]"
     ]
    },
    {
     "name": "stdout",
     "output_type": "stream",
     "text": [
      "230115357 HAVE  1  CTR\n"
     ]
    },
    {
     "name": "stderr",
     "output_type": "stream",
     "text": [
      " 27%|██▋       | 14/52 [03:10<07:48, 12.33s/it]"
     ]
    },
    {
     "name": "stdout",
     "output_type": "stream",
     "text": [
      "227868337 HAVE  1  CTR\n"
     ]
    },
    {
     "name": "stderr",
     "output_type": "stream",
     "text": [
      " 29%|██▉       | 15/52 [03:19<06:57, 11.28s/it]"
     ]
    },
    {
     "name": "stdout",
     "output_type": "stream",
     "text": [
      "230472233 HAVE  1  CTR\n"
     ]
    },
    {
     "name": "stderr",
     "output_type": "stream",
     "text": [
      " 31%|███       | 16/52 [03:29<06:31, 10.88s/it]"
     ]
    },
    {
     "name": "stdout",
     "output_type": "stream",
     "text": [
      "230556186 HAVE  1  CTR\n"
     ]
    },
    {
     "name": "stderr",
     "output_type": "stream",
     "text": [
      " 33%|███▎      | 17/52 [03:48<07:46, 13.33s/it]"
     ]
    },
    {
     "name": "stdout",
     "output_type": "stream",
     "text": [
      "231164567 HAVE  1  CTR\n"
     ]
    },
    {
     "name": "stderr",
     "output_type": "stream",
     "text": [
      " 35%|███▍      | 18/52 [04:15<09:49, 17.34s/it]"
     ]
    },
    {
     "name": "stdout",
     "output_type": "stream",
     "text": [
      "227793536 HAVE  3  CTR\n",
      "['Bill of Lading number', '227793536', 'From', 'Jakarta', 'To', 'Cagayan de Oro']\n",
      "Hasil dari Append Judul\n",
      "{'Bill of Lading number': '227793536', 'From': 'Jakarta', 'To': 'Cagayan de Oro'}\n",
      "clicking div no : 3\n",
      "clicking div no : 4\n",
      "clicking div no : 5\n"
     ]
    },
    {
     "name": "stderr",
     "output_type": "stream",
     "text": [
      " 37%|███▋      | 19/52 [04:37<10:14, 18.63s/it]"
     ]
    },
    {
     "name": "stdout",
     "output_type": "stream",
     "text": [
      "{'Container Number': 'MRSU4546763', 'Bill of Lading number': '227793536', 'From': 'Jakarta', 'To': 'Cagayan de Oro', 'Jakarta Gate outEmpty': '25 May 2023', 'Jakarta Gate in': '28 May 2023', 'Jakarta Load': '02 Jun 2023', 'Jakarta Vessel departure': '02 Jun 2023', 'Tanjung Pelepas Vessel arrival': '04 Jun 2023', 'Tanjung Pelepas Discharge': '04 Jun 2023', 'Tanjung Pelepas Load': '07 Jun 2023', 'Tanjung Pelepas Vessel departure': '07 Jun 2023', 'Cagayan de Oro Vessel arrival': '21 Jun 2023', 'Cagayan de Oro Discharge': '21 Jun 2023', 'Cagayan de Oro Gate out': '31 Jul 2023', 'Cagayan de Oro Empty container return': '29 Sep 2023'}\n",
      "{'Container Number': 'TLLU7666572', 'Bill of Lading number': '227793536', 'From': 'Jakarta', 'To': 'Cagayan de Oro', 'Jakarta Gate outEmpty': '27 May 2023', 'Jakarta Gate in': '27 May 2023', 'Jakarta Load': '02 Jun 2023', 'Jakarta Vessel departure': '02 Jun 2023', 'Tanjung Pelepas Vessel arrival': '04 Jun 2023', 'Tanjung Pelepas Discharge': '04 Jun 2023', 'Tanjung Pelepas Load': '07 Jun 2023', 'Tanjung Pelepas Vessel departure': '07 Jun 2023', 'Cagayan de Oro Vessel arrival': '21 Jun 2023', 'Cagayan de Oro Discharge': '21 Jun 2023', 'Cagayan de Oro Gate out': '31 Jul 2023', 'Cagayan de Oro Empty container return': '27 Sep 2023'}\n",
      "{'Container Number': 'HASU5159481', 'Bill of Lading number': '227793536', 'From': 'Jakarta', 'To': 'Cagayan de Oro', 'Jakarta Gate outEmpty': '25 May 2023', 'Jakarta Gate in': '28 May 2023', 'Jakarta Load': '02 Jun 2023', 'Jakarta Vessel departure': '02 Jun 2023', 'Tanjung Pelepas Vessel arrival': '04 Jun 2023', 'Tanjung Pelepas Discharge': '04 Jun 2023', 'Tanjung Pelepas Load': '07 Jun 2023', 'Tanjung Pelepas Vessel departure': '07 Jun 2023', 'Cagayan de Oro Vessel arrival': '21 Jun 2023', 'Cagayan de Oro Discharge': '21 Jun 2023', 'Cagayan de Oro Gate out': '31 Jul 2023', 'Cagayan de Oro Empty container return': '27 Sep 2023'}\n",
      "227793536 , completed!!\n",
      "228404249 HAVE  1  CTR\n"
     ]
    },
    {
     "name": "stderr",
     "output_type": "stream",
     "text": [
      " 38%|███▊      | 20/52 [04:51<09:15, 17.35s/it]"
     ]
    },
    {
     "name": "stdout",
     "output_type": "stream",
     "text": [
      "230718157 HAVE  6  CTR\n",
      "['Bill of Lading number', '230718157', 'From', 'Jakarta', 'To', 'Xingang']\n",
      "Hasil dari Append Judul\n",
      "{'Bill of Lading number': '230718157', 'From': 'Jakarta', 'To': 'Xingang'}\n",
      "clicking div no : 3\n",
      "clicking div no : 4\n",
      "clicking div no : 5\n",
      "clicking div no : 6\n",
      "clicking div no : 7\n",
      "clicking div no : 8\n"
     ]
    },
    {
     "name": "stderr",
     "output_type": "stream",
     "text": [
      " 40%|████      | 21/52 [05:09<09:05, 17.58s/it]"
     ]
    },
    {
     "name": "stdout",
     "output_type": "stream",
     "text": [
      "{'Container Number': 'MRSU6234553', 'Bill of Lading number': '230718157', 'From': 'Jakarta', 'To': 'Xingang', 'Jakarta Gate outEmpty': '29 Aug 2023', 'Jakarta Gate in': '31 Aug 2023', 'Jakarta Load': '06 Sep 2023', 'Jakarta Vessel departure': '06 Sep 2023', 'Xingang Vessel arrival': '24 Sep 2023', 'Xingang Discharge': '24 Sep 2023', 'Xingang Gate out': '27 Sep 2023', 'Xingang Empty container return': '27 Sep 2023'}\n",
      "{'Container Number': 'TRHU6312807', 'Bill of Lading number': '230718157', 'From': 'Jakarta', 'To': 'Xingang', 'Jakarta Gate outEmpty': '31 Aug 2023', 'Jakarta Gate in': '02 Sep 2023', 'Jakarta Load': '06 Sep 2023', 'Jakarta Vessel departure': '06 Sep 2023', 'Xingang Vessel arrival': '24 Sep 2023', 'Xingang Discharge': '24 Sep 2023', 'Xingang Gate out': '24 Sep 2023', 'Xingang Empty container return': '25 Sep 2023'}\n",
      "{'Container Number': 'TCKU7725900', 'Bill of Lading number': '230718157', 'From': 'Jakarta', 'To': 'Xingang', 'Jakarta Gate outEmpty': '31 Aug 2023', 'Jakarta Gate in': '02 Sep 2023', 'Jakarta Load': '06 Sep 2023', 'Jakarta Vessel departure': '06 Sep 2023', 'Xingang Vessel arrival': '24 Sep 2023', 'Xingang Discharge': '24 Sep 2023', 'Xingang Gate out': '24 Sep 2023', 'Xingang Empty container return': '26 Sep 2023'}\n",
      "{'Container Number': 'MRSU6379752', 'Bill of Lading number': '230718157', 'From': 'Jakarta', 'To': 'Xingang', 'Jakarta Gate outEmpty': '29 Aug 2023', 'Jakarta Gate in': '30 Aug 2023', 'Jakarta Load': '06 Sep 2023', 'Jakarta Vessel departure': '06 Sep 2023', 'Xingang Vessel arrival': '24 Sep 2023', 'Xingang Discharge': '24 Sep 2023', 'Xingang Gate out': '24 Sep 2023', 'Xingang Empty container return': '25 Sep 2023'}\n",
      "{'Container Number': 'CIPU5000150', 'Bill of Lading number': '230718157', 'From': 'Jakarta', 'To': 'Xingang', 'Jakarta Gate outEmpty': '29 Aug 2023', 'Jakarta Gate in': '31 Aug 2023', 'Jakarta Load': '06 Sep 2023', 'Jakarta Vessel departure': '06 Sep 2023', 'Xingang Vessel arrival': '24 Sep 2023', 'Xingang Discharge': '24 Sep 2023', 'Xingang Gate out': '26 Sep 2023', 'Xingang Empty container return': '27 Sep 2023'}\n",
      "{'Container Number': 'CIPU5189867', 'Bill of Lading number': '230718157', 'From': 'Jakarta', 'To': 'Xingang', 'Jakarta Gate outEmpty': '29 Aug 2023', 'Jakarta Gate in': '30 Aug 2023', 'Jakarta Load': '06 Sep 2023', 'Jakarta Vessel departure': '06 Sep 2023', 'Xingang Vessel arrival': '24 Sep 2023', 'Xingang Discharge': '24 Sep 2023', 'Xingang Gate out': '26 Sep 2023', 'Xingang Empty container return': '27 Sep 2023'}\n",
      "230718157 , completed!!\n",
      "228495628 HAVE  3  CTR\n",
      "['Bill of Lading number', '228495628', 'From', 'Jakarta', 'To', 'Subic']\n",
      "Hasil dari Append Judul\n",
      "{'Bill of Lading number': '228495628', 'From': 'Jakarta', 'To': 'Subic'}\n",
      "clicking div no : 3\n",
      "clicking div no : 4\n",
      "clicking div no : 5\n"
     ]
    },
    {
     "name": "stderr",
     "output_type": "stream",
     "text": [
      " 42%|████▏     | 22/52 [05:24<08:23, 16.78s/it]"
     ]
    },
    {
     "name": "stdout",
     "output_type": "stream",
     "text": [
      "{'Container Number': 'MRSU3497495', 'Bill of Lading number': '228495628', 'From': 'Jakarta', 'To': 'Subic', 'Jakarta Gate outEmpty': '21 Jun 2023', 'Jakarta Gate in': '24 Jun 2023', 'Jakarta Load': '30 Jun 2023', 'Jakarta Vessel departure': '30 Jun 2023', 'Subic Vessel arrival': '12 Jul 2023', 'Subic Discharge': '12 Jul 2023'}\n",
      "{'Container Number': 'TRHU5089617', 'Bill of Lading number': '228495628', 'From': 'Jakarta', 'To': 'Subic', 'Jakarta Gate outEmpty': '22 Jun 2023', 'Jakarta Gate in': '24 Jun 2023', 'Jakarta Load': '30 Jun 2023', 'Jakarta Vessel departure': '30 Jun 2023', 'Subic Vessel arrival': '12 Jul 2023', 'Subic Discharge': '12 Jul 2023'}\n",
      "{'Container Number': 'TGBU8899367', 'Bill of Lading number': '228495628', 'From': 'Jakarta', 'To': 'Subic', 'Jakarta Gate outEmpty': '21 Jun 2023', 'Jakarta Gate in': '24 Jun 2023', 'Jakarta Load': '30 Jun 2023', 'Jakarta Vessel departure': '30 Jun 2023', 'Subic Vessel arrival': '12 Jul 2023', 'Subic Discharge': '12 Jul 2023'}\n",
      "228495628 , completed!!\n",
      "229292557 HAVE  3  CTR\n",
      "['Bill of Lading number', '229292557', 'From', 'Jakarta', 'To', 'Cebu City']\n",
      "Hasil dari Append Judul\n",
      "{'Bill of Lading number': '229292557', 'From': 'Jakarta', 'To': 'Cebu City'}\n",
      "clicking div no : 3\n",
      "clicking div no : 4\n",
      "clicking div no : 5\n"
     ]
    },
    {
     "name": "stderr",
     "output_type": "stream",
     "text": [
      " 44%|████▍     | 23/52 [05:34<07:12, 14.92s/it]"
     ]
    },
    {
     "name": "stdout",
     "output_type": "stream",
     "text": [
      "{'Container Number': 'MRSU6364834', 'Bill of Lading number': '229292557', 'From': 'Jakarta', 'To': 'Cebu City', 'Jakarta Gate outEmpty': '16 Jul 2023', 'Jakarta Gate in': '18 Jul 2023', 'Jakarta Load': '24 Jul 2023', 'Jakarta Vessel departure': '24 Jul 2023', 'Hong Kong Vessel arrival': '04 Aug 2023', 'Hong Kong Discharge': '04 Aug 2023', 'Hong Kong Load': '09 Aug 2023', 'Hong Kong Vessel departure': '09 Aug 2023', 'Cebu City Vessel arrival': '13 Aug 2023', 'Cebu City Discharge': '14 Aug 2023'}\n",
      "{'Container Number': 'MRSU3716720', 'Bill of Lading number': '229292557', 'From': 'Jakarta', 'To': 'Cebu City', 'Jakarta Gate outEmpty': '15 Jul 2023', 'Jakarta Gate in': '18 Jul 2023', 'Jakarta Load': '24 Jul 2023', 'Jakarta Vessel departure': '24 Jul 2023', 'Hong Kong Vessel arrival': '04 Aug 2023', 'Hong Kong Discharge': '04 Aug 2023', 'Hong Kong Load': '09 Aug 2023', 'Hong Kong Vessel departure': '09 Aug 2023', 'Cebu City Vessel arrival': '13 Aug 2023', 'Cebu City Discharge': '14 Aug 2023'}\n",
      "{'Container Number': 'MRSU5698267', 'Bill of Lading number': '229292557', 'From': 'Jakarta', 'To': 'Cebu City', 'Jakarta Gate outEmpty': '15 Jul 2023', 'Jakarta Gate in': '18 Jul 2023', 'Jakarta Load': '24 Jul 2023', 'Jakarta Vessel departure': '24 Jul 2023', 'Hong Kong Vessel arrival': '04 Aug 2023', 'Hong Kong Discharge': '04 Aug 2023', 'Hong Kong Load': '09 Aug 2023', 'Hong Kong Vessel departure': '09 Aug 2023', 'Cebu City Vessel arrival': '13 Aug 2023', 'Cebu City Discharge': '14 Aug 2023'}\n",
      "229292557 , completed!!\n",
      "231167818 HAVE  1  CTR\n"
     ]
    },
    {
     "name": "stderr",
     "output_type": "stream",
     "text": [
      " 46%|████▌     | 24/52 [05:45<06:18, 13.51s/it]"
     ]
    },
    {
     "name": "stdout",
     "output_type": "stream",
     "text": [
      "228627103 HAVE  1  CTR\n"
     ]
    },
    {
     "name": "stderr",
     "output_type": "stream",
     "text": [
      " 48%|████▊     | 25/52 [05:55<05:37, 12.52s/it]"
     ]
    },
    {
     "name": "stdout",
     "output_type": "stream",
     "text": [
      "228876620 HAVE  1  CTR\n"
     ]
    },
    {
     "name": "stderr",
     "output_type": "stream",
     "text": [
      " 50%|█████     | 26/52 [06:04<04:58, 11.46s/it]"
     ]
    },
    {
     "name": "stdout",
     "output_type": "stream",
     "text": [
      "229154632 HAVE  2  CTR\n",
      "['Bill of Lading number', '229154632', 'From', 'Jakarta', 'To', 'Cagayan de Oro']\n",
      "Hasil dari Append Judul\n",
      "{'Bill of Lading number': '229154632', 'From': 'Jakarta', 'To': 'Cagayan de Oro'}\n",
      "clicking div no : 3\n",
      "clicking div no : 4\n"
     ]
    },
    {
     "name": "stderr",
     "output_type": "stream",
     "text": [
      " 52%|█████▏    | 27/52 [06:15<04:42, 11.28s/it]"
     ]
    },
    {
     "name": "stdout",
     "output_type": "stream",
     "text": [
      "{'Container Number': 'CRSU9354980', 'Bill of Lading number': '229154632', 'From': 'Jakarta', 'To': 'Cagayan de Oro', 'Jakarta Gate outEmpty': '12 Jul 2023', 'Jakarta Gate in': '13 Jul 2023', 'Jakarta Load': '16 Jul 2023', 'Jakarta Vessel departure': '17 Jul 2023', 'Tanjung Pelepas Vessel arrival': '19 Jul 2023', 'Tanjung Pelepas Discharge': '19 Jul 2023', 'Tanjung Pelepas Load': '26 Jul 2023', 'Tanjung Pelepas Vessel departure': '27 Jul 2023', 'Cagayan de Oro Vessel arrival': '09 Aug 2023', 'Cagayan de Oro Discharge': '09 Aug 2023'}\n",
      "{'Container Number': 'MRSU3255450', 'Bill of Lading number': '229154632', 'From': 'Jakarta', 'To': 'Cagayan de Oro', 'Jakarta Gate outEmpty': '12 Jul 2023', 'Jakarta Gate in': '15 Jul 2023', 'Jakarta Load': '16 Jul 2023', 'Jakarta Vessel departure': '17 Jul 2023', 'Tanjung Pelepas Vessel arrival': '19 Jul 2023', 'Tanjung Pelepas Discharge': '19 Jul 2023', 'Tanjung Pelepas Load': '26 Jul 2023', 'Tanjung Pelepas Vessel departure': '27 Jul 2023', 'Cagayan de Oro Vessel arrival': '09 Aug 2023', 'Cagayan de Oro Discharge': '09 Aug 2023'}\n",
      "229154632 , completed!!\n",
      "228667042 HAVE  2  CTR\n",
      "['Bill of Lading number', '228667042', 'From', 'Jakarta', 'To', 'Subic']\n",
      "Hasil dari Append Judul\n",
      "{'Bill of Lading number': '228667042', 'From': 'Jakarta', 'To': 'Subic'}\n",
      "clicking div no : 3\n",
      "clicking div no : 4\n"
     ]
    },
    {
     "name": "stderr",
     "output_type": "stream",
     "text": [
      " 54%|█████▍    | 28/52 [06:24<04:18, 10.77s/it]"
     ]
    },
    {
     "name": "stdout",
     "output_type": "stream",
     "text": [
      "{'Container Number': 'TCKU6939189', 'Bill of Lading number': '228667042', 'From': 'Jakarta', 'To': 'Subic', 'Jakarta Gate outEmpty': '26 Jun 2023', 'Jakarta Gate in': '27 Jun 2023', 'Jakarta Load': '30 Jun 2023', 'Jakarta Vessel departure': '30 Jun 2023', 'Subic Vessel arrival': '12 Jul 2023', 'Subic Discharge': '12 Jul 2023'}\n",
      "{'Container Number': 'MRKU6315890', 'Bill of Lading number': '228667042', 'From': 'Jakarta', 'To': 'Subic', 'Jakarta Gate outEmpty': '26 Jun 2023', 'Jakarta Gate in': '28 Jun 2023', 'Jakarta Load': '30 Jun 2023', 'Jakarta Vessel departure': '30 Jun 2023', 'Subic Vessel arrival': '12 Jul 2023', 'Subic Discharge': '12 Jul 2023'}\n",
      "228667042 , completed!!\n",
      "228461915 HAVE  3  CTR\n",
      "['Bill of Lading number', '228461915', 'From', 'Jakarta', 'To', 'Batangas']\n",
      "Hasil dari Append Judul\n",
      "{'Bill of Lading number': '228461915', 'From': 'Jakarta', 'To': 'Batangas'}\n",
      "clicking div no : 3\n",
      "clicking div no : 4\n",
      "clicking div no : 5\n"
     ]
    },
    {
     "name": "stderr",
     "output_type": "stream",
     "text": [
      " 56%|█████▌    | 29/52 [06:35<04:06, 10.73s/it]"
     ]
    },
    {
     "name": "stdout",
     "output_type": "stream",
     "text": [
      "{'Container Number': 'TLLU5295493', 'Bill of Lading number': '228461915', 'From': 'Jakarta', 'To': 'Batangas', 'Jakarta Gate in': '20 Jun 2023', 'Jakarta Load': '23 Jun 2023', 'Jakarta Vessel departure': '23 Jun 2023', 'Batangas Vessel arrival': '01 Jul 2023', 'Batangas Discharge': '01 Jul 2023', 'Batangas Gate out': '28 Sep 2023', 'Batangas Empty container return': '30 Sep 2023'}\n",
      "{'Container Number': 'CAAU6490120', 'Bill of Lading number': '228461915', 'From': 'Jakarta', 'To': 'Batangas', 'Jakarta Gate in': '22 Jun 2023', 'Jakarta Load': '23 Jun 2023', 'Jakarta Vessel departure': '23 Jun 2023', 'Batangas Vessel arrival': '01 Jul 2023', 'Batangas Discharge': '01 Jul 2023', 'Batangas Gate out': '28 Sep 2023', 'Batangas Empty container return': '29 Sep 2023'}\n",
      "{'Container Number': 'CAAU6649450', 'Bill of Lading number': '228461915', 'From': 'Jakarta', 'To': 'Batangas', 'Jakarta Gate in': '22 Jun 2023', 'Jakarta Load': '23 Jun 2023', 'Jakarta Vessel departure': '23 Jun 2023', 'Batangas Vessel arrival': '01 Jul 2023', 'Batangas Discharge': '01 Jul 2023', 'Batangas Gate out': '28 Sep 2023', 'Batangas Empty container return': '29 Sep 2023'}\n",
      "228461915 , completed!!\n",
      "228698779 HAVE  1  CTR\n"
     ]
    },
    {
     "name": "stderr",
     "output_type": "stream",
     "text": [
      " 58%|█████▊    | 30/52 [06:43<03:35,  9.80s/it]"
     ]
    },
    {
     "name": "stdout",
     "output_type": "stream",
     "text": [
      "228877614 HAVE  2  CTR\n",
      "['Bill of Lading number', '228877614', 'From', 'Jakarta', 'To', 'Subic']\n",
      "Hasil dari Append Judul\n",
      "{'Bill of Lading number': '228877614', 'From': 'Jakarta', 'To': 'Subic'}\n",
      "clicking div no : 3\n",
      "clicking div no : 4\n"
     ]
    },
    {
     "name": "stderr",
     "output_type": "stream",
     "text": [
      " 60%|█████▉    | 31/52 [06:54<03:35, 10.26s/it]"
     ]
    },
    {
     "name": "stdout",
     "output_type": "stream",
     "text": [
      "{'Container Number': 'MRSU6472171', 'Bill of Lading number': '228877614', 'From': 'Jakarta', 'To': 'Subic', 'Jakarta Gate outEmpty': '03 Jul 2023', 'Jakarta Gate in': '05 Jul 2023', 'Jakarta Load': '07 Jul 2023', 'Jakarta Vessel departure': '07 Jul 2023', 'Subic Vessel arrival': '19 Jul 2023', 'Subic Discharge': '20 Jul 2023'}\n",
      "{'Container Number': 'TCNU1827072', 'Bill of Lading number': '228877614', 'From': 'Jakarta', 'To': 'Subic', 'Jakarta Gate outEmpty': '03 Jul 2023', 'Jakarta Gate in': '05 Jul 2023', 'Jakarta Load': '07 Jul 2023', 'Jakarta Vessel departure': '07 Jul 2023', 'Subic Vessel arrival': '19 Jul 2023', 'Subic Discharge': '20 Jul 2023'}\n",
      "228877614 , completed!!\n",
      "228576712 HAVE  3  CTR\n",
      "['Bill of Lading number', '228576712', 'From', 'Jakarta', 'To', 'Batangas']\n",
      "Hasil dari Append Judul\n",
      "{'Bill of Lading number': '228576712', 'From': 'Jakarta', 'To': 'Batangas'}\n",
      "clicking div no : 3\n",
      "clicking div no : 4\n",
      "clicking div no : 5\n"
     ]
    },
    {
     "name": "stderr",
     "output_type": "stream",
     "text": [
      " 62%|██████▏   | 32/52 [07:05<03:28, 10.42s/it]"
     ]
    },
    {
     "name": "stdout",
     "output_type": "stream",
     "text": [
      "{'Container Number': 'MRSU3584080', 'Bill of Lading number': '228576712', 'From': 'Jakarta', 'To': 'Batangas', 'Jakarta Gate outEmpty': '23 Jun 2023', 'Jakarta Gate in': '26 Jun 2023', 'Jakarta Load': '30 Jun 2023', 'Jakarta Vessel departure': '30 Jun 2023', 'Batangas Vessel arrival': '08 Jul 2023', 'Batangas Discharge': '08 Jul 2023'}\n",
      "{'Container Number': 'CAAU6562560', 'Bill of Lading number': '228576712', 'From': 'Jakarta', 'To': 'Batangas', 'Jakarta Gate outEmpty': '23 Jun 2023', 'Jakarta Gate in': '26 Jun 2023', 'Jakarta Load': '30 Jun 2023', 'Jakarta Vessel departure': '30 Jun 2023', 'Batangas Vessel arrival': '08 Jul 2023', 'Batangas Discharge': '08 Jul 2023'}\n",
      "{'Container Number': 'MRSU6405450', 'Bill of Lading number': '228576712', 'From': 'Jakarta', 'To': 'Batangas', 'Jakarta Gate outEmpty': '23 Jun 2023', 'Jakarta Gate in': '24 Jun 2023', 'Jakarta Load': '30 Jun 2023', 'Jakarta Vessel departure': '30 Jun 2023', 'Batangas Vessel arrival': '08 Jul 2023', 'Batangas Discharge': '08 Jul 2023'}\n",
      "228576712 , completed!!\n",
      "228326741 HAVE  3  CTR\n",
      "['Bill of Lading number', '228326741', 'From', 'Jakarta', 'To', 'Subic']\n",
      "Hasil dari Append Judul\n",
      "{'Bill of Lading number': '228326741', 'From': 'Jakarta', 'To': 'Subic'}\n",
      "clicking div no : 3\n",
      "clicking div no : 4\n",
      "clicking div no : 5\n"
     ]
    },
    {
     "name": "stderr",
     "output_type": "stream",
     "text": [
      " 63%|██████▎   | 33/52 [07:15<03:19, 10.49s/it]"
     ]
    },
    {
     "name": "stdout",
     "output_type": "stream",
     "text": [
      "{'Container Number': 'CAAU6401890', 'Bill of Lading number': '228326741', 'From': 'Jakarta', 'To': 'Subic', 'Jakarta Gate outEmpty': '15 Jun 2023', 'Jakarta Gate in': '17 Jun 2023', 'Jakarta Load': '22 Jun 2023', 'Jakarta Vessel departure': '23 Jun 2023', 'Subic Vessel arrival': '05 Jul 2023', 'Subic Discharge': '05 Jul 2023'}\n",
      "{'Container Number': 'CAAU6509144', 'Bill of Lading number': '228326741', 'From': 'Jakarta', 'To': 'Subic', 'Jakarta Gate outEmpty': '16 Jun 2023', 'Jakarta Gate in': '17 Jun 2023', 'Jakarta Load': '22 Jun 2023', 'Jakarta Vessel departure': '23 Jun 2023', 'Subic Vessel arrival': '05 Jul 2023', 'Subic Discharge': '05 Jul 2023'}\n",
      "{'Container Number': 'CAIU4733190', 'Bill of Lading number': '228326741', 'From': 'Jakarta', 'To': 'Subic', 'Jakarta Gate outEmpty': '14 Jun 2023', 'Jakarta Gate in': '17 Jun 2023', 'Jakarta Load': '22 Jun 2023', 'Jakarta Vessel departure': '23 Jun 2023', 'Subic Vessel arrival': '05 Jul 2023', 'Subic Discharge': '05 Jul 2023'}\n",
      "228326741 , completed!!\n",
      "230897214 HAVE  1  CTR\n"
     ]
    },
    {
     "name": "stderr",
     "output_type": "stream",
     "text": [
      " 65%|██████▌   | 34/52 [07:23<02:54,  9.69s/it]"
     ]
    },
    {
     "name": "stdout",
     "output_type": "stream",
     "text": [
      "228528205 HAVE  5  CTR\n",
      "['Bill of Lading number', '228528205', 'From', 'Jakarta', 'To', 'Subic']\n",
      "Hasil dari Append Judul\n",
      "{'Bill of Lading number': '228528205', 'From': 'Jakarta', 'To': 'Subic'}\n",
      "clicking div no : 3\n",
      "clicking div no : 4\n",
      "clicking div no : 5\n",
      "clicking div no : 6\n",
      "clicking div no : 7\n"
     ]
    },
    {
     "name": "stderr",
     "output_type": "stream",
     "text": [
      " 67%|██████▋   | 35/52 [07:38<03:08, 11.08s/it]"
     ]
    },
    {
     "name": "stdout",
     "output_type": "stream",
     "text": [
      "{'Container Number': 'BEAU5730225', 'Bill of Lading number': '228528205', 'From': 'Jakarta', 'To': 'Subic', 'Jakarta Gate in': '24 Jun 2023', 'Jakarta Load': '30 Jun 2023', 'Jakarta Vessel departure': '30 Jun 2023', 'Subic Vessel arrival': '12 Jul 2023', 'Subic Discharge': '12 Jul 2023'}\n",
      "{'Container Number': 'MRSU6443569', 'Bill of Lading number': '228528205', 'From': 'Jakarta', 'To': 'Subic', 'Jakarta Gate outEmpty': '22 Jun 2023', 'Jakarta Gate in': '24 Jun 2023', 'Jakarta Load': '30 Jun 2023', 'Jakarta Vessel departure': '30 Jun 2023', 'Subic Vessel arrival': '12 Jul 2023', 'Subic Discharge': '12 Jul 2023'}\n",
      "{'Container Number': 'MRKU5641145', 'Bill of Lading number': '228528205', 'From': 'Jakarta', 'To': 'Subic', 'Jakarta Gate outEmpty': '22 Jun 2023', 'Jakarta Gate in': '24 Jun 2023', 'Jakarta Load': '30 Jun 2023', 'Jakarta Vessel departure': '30 Jun 2023', 'Subic Vessel arrival': '12 Jul 2023', 'Subic Discharge': '12 Jul 2023'}\n",
      "{'Container Number': 'MRSU5128095', 'Bill of Lading number': '228528205', 'From': 'Jakarta', 'To': 'Subic', 'Jakarta Gate outEmpty': '22 Jun 2023', 'Jakarta Gate in': '24 Jun 2023', 'Jakarta Load': '30 Jun 2023', 'Jakarta Vessel departure': '30 Jun 2023', 'Subic Vessel arrival': '12 Jul 2023', 'Subic Discharge': '12 Jul 2023'}\n",
      "{'Container Number': 'MRKU6256966', 'Bill of Lading number': '228528205', 'From': 'Jakarta', 'To': 'Subic', 'Jakarta Gate outEmpty': '23 Jun 2023', 'Jakarta Gate in': '24 Jun 2023', 'Jakarta Load': '30 Jun 2023', 'Jakarta Vessel departure': '30 Jun 2023', 'Subic Vessel arrival': '12 Jul 2023', 'Subic Discharge': '12 Jul 2023'}\n",
      "228528205 , completed!!\n",
      "228487087 HAVE  5  CTR\n",
      "['Bill of Lading number', '228487087', 'From', 'Jakarta', 'To', 'Subic']\n",
      "Hasil dari Append Judul\n",
      "{'Bill of Lading number': '228487087', 'From': 'Jakarta', 'To': 'Subic'}\n",
      "clicking div no : 3\n",
      "clicking div no : 4\n",
      "clicking div no : 5\n",
      "clicking div no : 6\n",
      "clicking div no : 7\n"
     ]
    },
    {
     "name": "stderr",
     "output_type": "stream",
     "text": [
      " 69%|██████▉   | 36/52 [07:53<03:16, 12.27s/it]"
     ]
    },
    {
     "name": "stdout",
     "output_type": "stream",
     "text": [
      "{'Container Number': 'MRSU3683490', 'Bill of Lading number': '228487087', 'From': 'Jakarta', 'To': 'Subic', 'Jakarta Gate outEmpty': '20 Jun 2023', 'Jakarta Gate in': '21 Jun 2023', 'Jakarta Load': '22 Jun 2023', 'Jakarta Vessel departure': '23 Jun 2023', 'Subic Vessel arrival': '05 Jul 2023', 'Subic Discharge': '05 Jul 2023'}\n",
      "{'Container Number': 'TRHU4396840', 'Bill of Lading number': '228487087', 'From': 'Jakarta', 'To': 'Subic', 'Jakarta Gate outEmpty': '19 Jun 2023', 'Jakarta Gate in': '20 Jun 2023', 'Jakarta Load': '22 Jun 2023', 'Jakarta Vessel departure': '23 Jun 2023', 'Subic Vessel arrival': '05 Jul 2023', 'Subic Discharge': '05 Jul 2023'}\n",
      "{'Container Number': 'MRSU4086821', 'Bill of Lading number': '228487087', 'From': 'Jakarta', 'To': 'Subic', 'Jakarta Load': '22 Jun 2023', 'Jakarta Vessel departure': '23 Jun 2023', 'Subic Vessel arrival': '05 Jul 2023', 'Subic Discharge': '05 Jul 2023'}\n",
      "{'Container Number': 'HASU4792860', 'Bill of Lading number': '228487087', 'From': 'Jakarta', 'To': 'Subic', 'Jakarta Gate outEmpty': '20 Jun 2023', 'Jakarta Gate in': '21 Jun 2023', 'Jakarta Load': '22 Jun 2023', 'Jakarta Vessel departure': '23 Jun 2023', 'Subic Vessel arrival': '05 Jul 2023', 'Subic Discharge': '05 Jul 2023'}\n",
      "{'Container Number': 'MRSU6517527', 'Bill of Lading number': '228487087', 'From': 'Jakarta', 'To': 'Subic', 'Jakarta Gate outEmpty': '19 Jun 2023', 'Jakarta Gate in': '21 Jun 2023', 'Jakarta Load': '22 Jun 2023', 'Jakarta Vessel departure': '23 Jun 2023', 'Subic Vessel arrival': '05 Jul 2023', 'Subic Discharge': '05 Jul 2023'}\n",
      "228487087 , completed!!\n",
      "228478181 HAVE  1  CTR\n"
     ]
    },
    {
     "name": "stderr",
     "output_type": "stream",
     "text": [
      " 71%|███████   | 37/52 [08:02<02:51, 11.44s/it]"
     ]
    },
    {
     "name": "stdout",
     "output_type": "stream",
     "text": [
      "227927058 HAVE  2  CTR\n",
      "['Bill of Lading number', '227927058', 'From', 'Jakarta', 'To', 'Subic']\n",
      "Hasil dari Append Judul\n",
      "{'Bill of Lading number': '227927058', 'From': 'Jakarta', 'To': 'Subic'}\n",
      "clicking div no : 3\n",
      "clicking div no : 4\n"
     ]
    },
    {
     "name": "stderr",
     "output_type": "stream",
     "text": [
      " 73%|███████▎  | 38/52 [08:11<02:29, 10.69s/it]"
     ]
    },
    {
     "name": "stdout",
     "output_type": "stream",
     "text": [
      "{'Container Number': 'MRSU4884755', 'Bill of Lading number': '227927058', 'From': 'Jakarta', 'To': 'Subic', 'Jakarta Gate outEmpty': '31 May 2023', 'Jakarta Gate in': '03 Jun 2023', 'Jakarta Load': '09 Jun 2023', 'Jakarta Vessel departure': '09 Jun 2023', 'Subic Vessel arrival': '21 Jun 2023', 'Subic Discharge': '22 Jun 2023'}\n",
      "{'Container Number': 'MRSU5987887', 'Bill of Lading number': '227927058', 'From': 'Jakarta', 'To': 'Subic', 'Jakarta Gate outEmpty': '30 May 2023', 'Jakarta Gate in': '03 Jun 2023', 'Jakarta Load': '09 Jun 2023', 'Jakarta Vessel departure': '09 Jun 2023', 'Subic Vessel arrival': '21 Jun 2023', 'Subic Discharge': '22 Jun 2023'}\n",
      "227927058 , completed!!\n",
      "231230946 HAVE  1  CTR\n"
     ]
    },
    {
     "name": "stderr",
     "output_type": "stream",
     "text": [
      " 75%|███████▌  | 39/52 [08:20<02:13, 10.24s/it]"
     ]
    },
    {
     "name": "stdout",
     "output_type": "stream",
     "text": [
      "228422054 HAVE  1  CTR\n"
     ]
    },
    {
     "name": "stderr",
     "output_type": "stream",
     "text": [
      " 77%|███████▋  | 40/52 [08:28<01:54,  9.56s/it]"
     ]
    },
    {
     "name": "stdout",
     "output_type": "stream",
     "text": [
      "230500336 HAVE  1  CTR\n"
     ]
    },
    {
     "name": "stderr",
     "output_type": "stream",
     "text": [
      " 79%|███████▉  | 41/52 [08:37<01:41,  9.22s/it]"
     ]
    },
    {
     "name": "stdout",
     "output_type": "stream",
     "text": [
      "229327131 HAVE  1  CTR\n"
     ]
    },
    {
     "name": "stderr",
     "output_type": "stream",
     "text": [
      " 81%|████████  | 42/52 [08:47<01:35,  9.58s/it]"
     ]
    },
    {
     "name": "stdout",
     "output_type": "stream",
     "text": [
      "231184364 HAVE  1  CTR\n"
     ]
    },
    {
     "name": "stderr",
     "output_type": "stream",
     "text": [
      " 83%|████████▎ | 43/52 [08:57<01:27,  9.70s/it]"
     ]
    },
    {
     "name": "stdout",
     "output_type": "stream",
     "text": [
      "228776329 HAVE  1  CTR\n"
     ]
    },
    {
     "name": "stderr",
     "output_type": "stream",
     "text": [
      " 85%|████████▍ | 44/52 [09:05<01:13,  9.21s/it]"
     ]
    },
    {
     "name": "stdout",
     "output_type": "stream",
     "text": [
      "227686800 HAVE  1  CTR\n"
     ]
    },
    {
     "name": "stderr",
     "output_type": "stream",
     "text": [
      " 87%|████████▋ | 45/52 [09:13<01:00,  8.69s/it]"
     ]
    },
    {
     "name": "stdout",
     "output_type": "stream",
     "text": [
      "228071847 HAVE  2  CTR\n",
      "['Bill of Lading number', '228071847', 'From', 'Jakarta', 'To', 'Subic']\n",
      "Hasil dari Append Judul\n",
      "{'Bill of Lading number': '228071847', 'From': 'Jakarta', 'To': 'Subic'}\n",
      "clicking div no : 3\n",
      "clicking div no : 4\n"
     ]
    },
    {
     "name": "stderr",
     "output_type": "stream",
     "text": [
      " 88%|████████▊ | 46/52 [09:22<00:54,  9.03s/it]"
     ]
    },
    {
     "name": "stdout",
     "output_type": "stream",
     "text": [
      "{'Container Number': 'MRSU5960802', 'Bill of Lading number': '228071847', 'From': 'Jakarta', 'To': 'Subic', 'Jakarta Gate outEmpty': '05 Jun 2023', 'Jakarta Gate in': '06 Jun 2023', 'Jakarta Load': '09 Jun 2023', 'Jakarta Vessel departure': '09 Jun 2023', 'Subic Vessel arrival': '21 Jun 2023', 'Subic Discharge': '22 Jun 2023', 'Subic Gate out': '25 Sep 2023', 'Subic Empty container return': '27 Sep 2023'}\n",
      "{'Container Number': 'TCKU7186900', 'Bill of Lading number': '228071847', 'From': 'Jakarta', 'To': 'Subic', 'Jakarta Gate outEmpty': '04 Jun 2023', 'Jakarta Gate in': '05 Jun 2023', 'Jakarta Load': '09 Jun 2023', 'Jakarta Vessel departure': '09 Jun 2023', 'Subic Vessel arrival': '21 Jun 2023', 'Subic Discharge': '22 Jun 2023', 'Subic Gate out': '25 Sep 2023', 'Subic Empty container return': '27 Sep 2023'}\n",
      "228071847 , completed!!\n",
      "230927793 HAVE  9  CTR\n",
      "['Bill of Lading number', '230927793', 'From', 'Jakarta', 'To', 'Xingang']\n",
      "Hasil dari Append Judul\n",
      "{'Bill of Lading number': '230927793', 'From': 'Jakarta', 'To': 'Xingang'}\n",
      "clicking div no : 3\n",
      "clicking div no : 4\n",
      "clicking div no : 5\n",
      "clicking div no : 6\n",
      "clicking div no : 7\n",
      "clicking div no : 8\n",
      "clicking div no : 9\n",
      "clicking div no : 10\n",
      "clicking div no : 11\n"
     ]
    },
    {
     "name": "stderr",
     "output_type": "stream",
     "text": [
      " 90%|█████████ | 47/52 [09:45<01:06, 13.24s/it]"
     ]
    },
    {
     "name": "stdout",
     "output_type": "stream",
     "text": [
      "{'Container Number': 'TRHU4331480', 'Bill of Lading number': '230927793', 'From': 'Jakarta', 'To': 'Xingang', 'Jakarta Gate outEmpty': '06 Sep 2023', 'Jakarta Gate in': '07 Sep 2023', 'Jakarta Load': '12 Sep 2023', 'Jakarta Vessel departure': '13 Sep 2023', 'Xingang Vessel arrival': '30 Sep 2023', 'Xingang Discharge': '30 Sep 2023'}\n",
      "{'Container Number': 'CAAU6496073', 'Bill of Lading number': '230927793', 'From': 'Jakarta', 'To': 'Xingang', 'Jakarta Gate outEmpty': '06 Sep 2023', 'Jakarta Gate in': '07 Sep 2023', 'Jakarta Load': '12 Sep 2023', 'Jakarta Vessel departure': '13 Sep 2023', 'Xingang Vessel arrival': '30 Sep 2023', 'Xingang Discharge': '30 Sep 2023'}\n",
      "{'Container Number': 'BEAU6388673', 'Bill of Lading number': '230927793', 'From': 'Jakarta', 'To': 'Xingang', 'Jakarta Gate outEmpty': '06 Sep 2023', 'Jakarta Gate in': '07 Sep 2023', 'Jakarta Load': '12 Sep 2023', 'Jakarta Vessel departure': '13 Sep 2023', 'Xingang Vessel arrival': '30 Sep 2023', 'Xingang Discharge': '30 Sep 2023'}\n",
      "{'Container Number': 'TCKU7186433', 'Bill of Lading number': '230927793', 'From': 'Jakarta', 'To': 'Xingang', 'Jakarta Gate outEmpty': '05 Sep 2023', 'Jakarta Gate in': '06 Sep 2023', 'Jakarta Load': '12 Sep 2023', 'Jakarta Vessel departure': '13 Sep 2023', 'Xingang Vessel arrival': '30 Sep 2023', 'Xingang Discharge': '30 Sep 2023'}\n",
      "{'Container Number': 'MRSU6187636', 'Bill of Lading number': '230927793', 'From': 'Jakarta', 'To': 'Xingang', 'Jakarta Gate outEmpty': '05 Sep 2023', 'Jakarta Gate in': '06 Sep 2023', 'Jakarta Load': '12 Sep 2023', 'Jakarta Vessel departure': '13 Sep 2023', 'Xingang Vessel arrival': '30 Sep 2023', 'Xingang Discharge': '30 Sep 2023'}\n",
      "{'Container Number': 'CIPU5244286', 'Bill of Lading number': '230927793', 'From': 'Jakarta', 'To': 'Xingang', 'Jakarta Gate outEmpty': '06 Sep 2023', 'Jakarta Gate in': '07 Sep 2023', 'Jakarta Load': '12 Sep 2023', 'Jakarta Vessel departure': '13 Sep 2023', 'Xingang Vessel arrival': '30 Sep 2023', 'Xingang Discharge': '30 Sep 2023'}\n",
      "{'Container Number': 'CIPU5220793', 'Bill of Lading number': '230927793', 'From': 'Jakarta', 'To': 'Xingang', 'Jakarta Gate outEmpty': '05 Sep 2023', 'Jakarta Gate in': '06 Sep 2023', 'Jakarta Load': '12 Sep 2023', 'Jakarta Vessel departure': '13 Sep 2023', 'Xingang Vessel arrival': '30 Sep 2023', 'Xingang Discharge': '30 Sep 2023'}\n",
      "{'Container Number': 'TCLU5532869', 'Bill of Lading number': '230927793', 'From': 'Jakarta', 'To': 'Xingang', 'Jakarta Gate outEmpty': '06 Sep 2023', 'Jakarta Gate in': '07 Sep 2023', 'Jakarta Load': '12 Sep 2023', 'Jakarta Vessel departure': '13 Sep 2023', 'Xingang Vessel arrival': '30 Sep 2023', 'Xingang Discharge': '30 Sep 2023'}\n",
      "{'Container Number': 'TLLU7513188', 'Bill of Lading number': '230927793', 'From': 'Jakarta', 'To': 'Xingang', 'Jakarta Gate outEmpty': '05 Sep 2023', 'Jakarta Gate in': '06 Sep 2023', 'Jakarta Load': '12 Sep 2023', 'Jakarta Vessel departure': '13 Sep 2023', 'Xingang Vessel arrival': '30 Sep 2023', 'Xingang Discharge': '30 Sep 2023'}\n",
      "230927793 , completed!!\n",
      "230927433 HAVE  1  CTR\n"
     ]
    },
    {
     "name": "stderr",
     "output_type": "stream",
     "text": [
      " 92%|█████████▏| 48/52 [09:53<00:46, 11.52s/it]"
     ]
    },
    {
     "name": "stdout",
     "output_type": "stream",
     "text": [
      "227914329 HAVE  2  CTR\n",
      "['Bill of Lading number', '227914329', 'From', 'Jakarta', 'To', 'Cagayan de Oro']\n",
      "Hasil dari Append Judul\n",
      "{'Bill of Lading number': '227914329', 'From': 'Jakarta', 'To': 'Cagayan de Oro'}\n",
      "clicking div no : 3\n",
      "clicking div no : 4\n"
     ]
    },
    {
     "name": "stderr",
     "output_type": "stream",
     "text": [
      " 94%|█████████▍| 49/52 [10:03<00:33, 11.06s/it]"
     ]
    },
    {
     "name": "stdout",
     "output_type": "stream",
     "text": [
      "{'Container Number': 'MRSU5540517', 'Bill of Lading number': '227914329', 'From': 'Jakarta', 'To': 'Cagayan de Oro', 'Jakarta Gate outEmpty': '01 Jun 2023', 'Jakarta Gate in': '04 Jun 2023', 'Jakarta Load': '08 Jun 2023', 'Jakarta Vessel departure': '09 Jun 2023', 'Tanjung Pelepas Vessel arrival': '11 Jun 2023', 'Tanjung Pelepas Discharge': '11 Jun 2023', 'Tanjung Pelepas Load': '14 Jun 2023', 'Tanjung Pelepas Vessel departure': '14 Jun 2023', 'Cagayan de Oro Vessel arrival': '29 Jun 2023', 'Cagayan de Oro Discharge': '29 Jun 2023', 'Cagayan de Oro Gate out': '01 Aug 2023', 'Cagayan de Oro Empty container return': '28 Sep 2023'}\n",
      "{'Container Number': 'MRSU3050510', 'Bill of Lading number': '227914329', 'From': 'Jakarta', 'To': 'Cagayan de Oro', 'Jakarta Gate outEmpty': '01 Jun 2023', 'Jakarta Gate in': '03 Jun 2023', 'Jakarta Load': '08 Jun 2023', 'Jakarta Vessel departure': '09 Jun 2023', 'Tanjung Pelepas Vessel arrival': '11 Jun 2023', 'Tanjung Pelepas Discharge': '11 Jun 2023', 'Tanjung Pelepas Load': '13 Jun 2023', 'Tanjung Pelepas Vessel departure': '14 Jun 2023', 'Cagayan de Oro Vessel arrival': '29 Jun 2023', 'Cagayan de Oro Discharge': '29 Jun 2023', 'Cagayan de Oro Gate out': '01 Aug 2023', 'Cagayan de Oro Empty container return': '29 Sep 2023'}\n",
      "227914329 , completed!!\n",
      "230776298 HAVE  1  CTR\n"
     ]
    },
    {
     "name": "stderr",
     "output_type": "stream",
     "text": [
      " 96%|█████████▌| 50/52 [10:11<00:20, 10.25s/it]"
     ]
    },
    {
     "name": "stdout",
     "output_type": "stream",
     "text": [
      "228791396 HAVE  2  CTR\n",
      "['Bill of Lading number', '228791396', 'From', 'Jakarta', 'To', 'Subic']\n",
      "Hasil dari Append Judul\n",
      "{'Bill of Lading number': '228791396', 'From': 'Jakarta', 'To': 'Subic'}\n",
      "clicking div no : 3\n",
      "clicking div no : 4\n"
     ]
    },
    {
     "name": "stderr",
     "output_type": "stream",
     "text": [
      " 98%|█████████▊| 51/52 [10:21<00:09,  9.97s/it]"
     ]
    },
    {
     "name": "stdout",
     "output_type": "stream",
     "text": [
      "{'Container Number': 'SEKU4637372', 'Bill of Lading number': '228791396', 'From': 'Jakarta', 'To': 'Subic', 'Jakarta Gate outEmpty': '30 Jun 2023', 'Jakarta Gate in': '01 Jul 2023', 'Jakarta Load': '07 Jul 2023', 'Jakarta Vessel departure': '07 Jul 2023', 'Subic Vessel arrival': '19 Jul 2023', 'Subic Discharge': '20 Jul 2023', 'Subic Gate out': '29 Sep 2023', 'Subic Empty container return': '30 Sep 2023'}\n",
      "{'Container Number': 'TCNU2510689', 'Bill of Lading number': '228791396', 'From': 'Jakarta', 'To': 'Subic', 'Jakarta Gate outEmpty': '30 Jun 2023', 'Jakarta Gate in': '01 Jul 2023', 'Jakarta Load': '07 Jul 2023', 'Jakarta Vessel departure': '07 Jul 2023', 'Subic Vessel arrival': '19 Jul 2023', 'Subic Discharge': '20 Jul 2023', 'Subic Gate out': '29 Sep 2023', 'Subic Empty container return': '30 Sep 2023'}\n",
      "228791396 , completed!!\n",
      "231552881 HAVE  1  CTR\n"
     ]
    },
    {
     "name": "stderr",
     "output_type": "stream",
     "text": [
      "100%|██████████| 52/52 [10:29<00:00, 12.10s/it]\n"
     ]
    }
   ],
   "source": [
    "list_dict = []\n",
    "# web scripting\n",
    "options = Options()\n",
    "options.add_argument(\"--window-size=1920,1280\")\n",
    "driver = uc.Chrome(use_subprocess=True)\n",
    "driver.get('https://www.sealandmaersk.com/tracking/' + bl_list[random.randint(0, len(bl_list)-1)])\n",
    "\n",
    "# wait to load all\n",
    "time.sleep(2)\n",
    "\n",
    "#click allow all\n",
    "click_allowall = driver.find_element(By.XPATH,'//button[text()=\"Allow all\"]')\n",
    "click_allowall.click()\n",
    "\n",
    "# click asia\n",
    "click_asia = driver.find_element(By.XPATH,\"/html/body/div[2]/div/section/div/div[2]/form/div[1]/div/div/ol/li[3]/label/div[1]\")\n",
    "click_asia.click()\n",
    "\n",
    "# click continue\n",
    "click_continue = driver.find_element(By.ID,'confirmRegion')\n",
    "click_continue.click()\n",
    "\n",
    "for i, bls in enumerate(tqdm(bl_list)):\n",
    "    try:\n",
    "        # access the web\n",
    "        driver.get('https://www.sealandmaersk.com/tracking/' + bl_list[i])\n",
    "\n",
    "        # sleep wait\n",
    "        time.sleep(3)\n",
    "        \n",
    "        # finding how many hide details in 1 page refering to how many container number in 1 bl\n",
    "        soup1 = BeautifulSoup(driver.page_source, 'lxml')\n",
    "        containers = soup1.find_all('div', {\"data-test\": \"container\"})\n",
    "        number_of_ctr = len(containers)\n",
    "        \n",
    "        print(bls, \"HAVE \", number_of_ctr, \" CTR\")\n",
    "        # print(dict_hasil)\n",
    "\n",
    "        # print(\"current bl: \", bls, \"\\n number of container: \", number_of_ctr)\n",
    "        if number_of_ctr > 1:\n",
    "            # taking BL Number, From, and To \n",
    "            title = driver.find_element(By.XPATH, \"/html/body/main/div/div/dl\")\n",
    "            titles = title.text.split('\\n')\n",
    "            titles.remove('View Shipment Details')\n",
    "            print(titles)\n",
    "            for a, item in enumerate(titles):\n",
    "                #\n",
    "                if a%2==0 :\n",
    "                    case_judul = {titles[a]:titles[a+1]}\n",
    "                    dict_hasil.update(case_judul)\n",
    "            \n",
    "            print(\"Hasil dari Append Judul\")\n",
    "            print(dict_hasil)\n",
    "            x=3\n",
    "            # clicking all view more\n",
    "            for c in range(number_of_ctr):\n",
    "                try:\n",
    "                    print(\"clicking div no :\",  x)\n",
    "                    show_details2 = WebDriverWait(driver, 30).until(EC.element_to_be_clickable((By.XPATH, '/html/body/main/div/div/div[{}]/dl/button'.format(x))))  \n",
    "                    show_details2.click()\n",
    "                    time.sleep(1)\n",
    "                except Exception as e:\n",
    "                    print(e)\n",
    "                x=x+1\n",
    "\n",
    "            time.sleep(2)\n",
    "            # taking the whole page's html\n",
    "            soup2 = BeautifulSoup(driver.page_source, 'lxml')\n",
    "            \n",
    "            table = soup2.find_all('div', {\"data-test\": \"container\"})\n",
    "            milestones = []\n",
    "            for tag in table:\n",
    "                for ctri1, ctr_num1  in enumerate(tag.find_all('strong', {\"data-test\":'container-details-value'})):\n",
    "                    temp_ctr_num1 = ctr_num1\n",
    "                    milestones.append(\"Container Number\")\n",
    "                    milestones.append(temp_ctr_num1.text)\n",
    "                for m, li_milestone in enumerate(tag.find_all('li', {\"data-test\":'transport-plan-item-complete'})):\n",
    "                    span_history = li_milestone.find_all(\"span\")\n",
    "                    for c1, city1 in enumerate(li_milestone.find_all(\"strong\")):\n",
    "                        temp1 = city1.text\n",
    "                    for milestone_span in span_history:\n",
    "                        if is_date(milestone_span.text):\n",
    "                            milestones.append(milestone_span.text[s])\n",
    "                        else:\n",
    "                            milestones.append(temp1 +\" \"+ milestone_span.text)\n",
    "                            \n",
    "                for n, li_expected in enumerate(tag.find_all('li', {\"data-test\":'transport-plan-item-future'})):\n",
    "                    spans = li_expected.find_all(\"span\")\n",
    "                    for c2, city2 in enumerate(li_expected.find_all(\"strong\")):\n",
    "                        temp2 = city2.text\n",
    "                    for expected_span in spans:\n",
    "                        if is_date(expected_span.text):\n",
    "                            milestones.append(expected_span.text[s])\n",
    "                        else:\n",
    "                            milestones.append(temp2 + \" ESTIMATED \" + expected_span.text)\n",
    "                 \n",
    "                for panjang in range(0, len(milestones), 2):\n",
    "                    key = milestones[panjang]\n",
    "                    value = milestones[panjang + 1]\n",
    "\n",
    "                    if key == 'Container Number':\n",
    "                        if current_dict:\n",
    "                            list_dict.append(current_dict.copy())\n",
    "                        current_dict = {'Container Number': value}\n",
    "                    else:\n",
    "                        current_dict[key] = value\n",
    "\n",
    "                    current_dict.update(dict_hasil) \n",
    "                print(current_dict)\n",
    "            list_dict.append(current_dict)\n",
    "            current_dict = {}\n",
    "            dict_hasil={}\n",
    "            print(bls, \", completed!!\")\n",
    "        else:\n",
    "            time.sleep(1)\n",
    "            \n",
    "            title = driver.find_element(By.XPATH, \"/html/body/main/div/div/dl\")\n",
    "            titles = title.text.split('\\n')\n",
    "            titles.remove('View Shipment Details')\n",
    "            for a, item in enumerate(titles):\n",
    "                if a%2==0 :\n",
    "                    case_judul = {titles[a]:titles[a+1]}\n",
    "                    dict_hasil.update(case_judul)\n",
    "            \n",
    "            time.sleep(2)\n",
    "            soup2 = BeautifulSoup(driver.page_source, 'lxml')\n",
    "            \n",
    "            table = soup2.find_all('div', {\"data-test\": \"container\"})\n",
    "            milestones = []\n",
    "            for tag in table:\n",
    "                for ctri1, ctr_num1  in enumerate(tag.find_all('strong', {\"data-test\":'container-details-value'})):\n",
    "                    temp_ctr_num1 = ctr_num1\n",
    "                    milestones.append(\"Container Number\")\n",
    "                    milestones.append(temp_ctr_num1.text)\n",
    "\n",
    "                for m, li_milestone in enumerate(tag.find_all('li', {\"data-test\":'transport-plan-item-complete'})):\n",
    "                    span_history = li_milestone.find_all(\"span\")\n",
    "                    for c1, city1 in enumerate(li_milestone.find_all(\"strong\")):\n",
    "                        temp1 = city1.text\n",
    "                    for milestone_span in span_history:\n",
    "                        if is_date(milestone_span.text):\n",
    "                            milestones.append(milestone_span.text[s])\n",
    "                        else:\n",
    "                            milestones.append(temp1 +\" \"+ milestone_span.text)\n",
    "                            \n",
    "                for n, li_expected in enumerate(tag.find_all('li', {\"data-test\":'transport-plan-item-future'})):\n",
    "                    spans = li_expected.find_all(\"span\")\n",
    "                    for c2, city2 in enumerate(li_expected.find_all(\"strong\")):\n",
    "                        temp2 = city2.text\n",
    "                    for expected_span in spans:\n",
    "                        if is_date(expected_span.text):\n",
    "                            milestones.append(expected_span.text[s])\n",
    "                        else:\n",
    "                            milestones.append(temp2 + \" ESTIMATED \" + expected_span.text)\n",
    "            \n",
    "            for t, milestone in enumerate(milestones):\n",
    "                if milestone == \"Container Number\":\n",
    "                    case_mlstn = {milestones[t]:milestones[t+1]}\n",
    "                    current_dict.update(case_mlstn)\n",
    "                elif t%2==0 :\n",
    "                    case_mlstn = {milestones[t]:milestones[t+1]}\n",
    "                    current_dict.update(case_mlstn)\n",
    "                    \n",
    "            current_dict.update(dict_hasil) \n",
    "            list_dict.append(current_dict)\n",
    "            current_dict = {}\n",
    "            dict_hasil={}\n",
    "        \n",
    "        unique_list = []\n",
    "        for d in list_dict:\n",
    "            if d not in unique_list:\n",
    "                unique_list.append(d)\n",
    "\n",
    "    except Exception as e:\n",
    "        print(e)\n",
    "        print(\"{} GAGAL!!\".format(bls))\n",
    "        gagal.append(bls)"
   ]
  },
  {
   "cell_type": "code",
   "execution_count": 7,
   "metadata": {},
   "outputs": [
    {
     "data": {
      "text/plain": [
       "{'Container Number': 'CAAU6577730',\n",
       " 'Jakarta Gate outEmpty': '01 Jun 2023',\n",
       " 'Jakarta Gate in': '03 Jun 2023',\n",
       " 'Jakarta Load': '09 Jun 2023',\n",
       " 'Jakarta Vessel departure': '09 Jun 2023',\n",
       " 'Subic Vessel arrival': '21 Jun 2023',\n",
       " 'Subic Discharge': '22 Jun 2023',\n",
       " 'Bill of Lading number': '228000484',\n",
       " 'From': 'Jakarta',\n",
       " 'To': 'Subic'}"
      ]
     },
     "execution_count": 7,
     "metadata": {},
     "output_type": "execute_result"
    }
   ],
   "source": [
    "unique_list[0]"
   ]
  },
  {
   "cell_type": "code",
   "execution_count": 18,
   "metadata": {},
   "outputs": [],
   "source": [
    "filtered_dict_list =[]\n",
    "for dict_milestone in unique_list:\n",
    "    # print(dict_milestone)\n",
    "    kw = ['Bill of Lading number', 'Container Number', 'From', 'To', dict_milestone['From'], dict_milestone['To']]\n",
    "    dict_key = []\n",
    "    for keys in dict_milestone:\n",
    "        dict_key.append(keys)\n",
    "    # print(\"BEFORE\", dict_key)\n",
    "    new_list = [] \n",
    "    \n",
    "    for key in dict_key:\n",
    "        if any(substring in key for substring in kw):\n",
    "            new_list.append(key)\n",
    "    # print(\"AFTER\",new_list)\n",
    "    dict_milestone = {key: dict_milestone[key] for key in new_list}\n",
    "    filtered_dict_list.append(dict_milestone)"
   ]
  },
  {
   "cell_type": "code",
   "execution_count": 19,
   "metadata": {},
   "outputs": [
    {
     "data": {
      "text/plain": [
       "{'Container Number': 'CAAU6577730',\n",
       " 'Jakarta Gate outEmpty': '01 Jun 2023',\n",
       " 'Jakarta Gate in': '03 Jun 2023',\n",
       " 'Jakarta Load': '09 Jun 2023',\n",
       " 'Jakarta Vessel departure': '09 Jun 2023',\n",
       " 'Subic Vessel arrival': '21 Jun 2023',\n",
       " 'Subic Discharge': '22 Jun 2023',\n",
       " 'Bill of Lading number': '228000484',\n",
       " 'From': 'Jakarta',\n",
       " 'To': 'Subic'}"
      ]
     },
     "execution_count": 19,
     "metadata": {},
     "output_type": "execute_result"
    }
   ],
   "source": [
    "filtered_dict_list[0]"
   ]
  },
  {
   "cell_type": "code",
   "execution_count": 20,
   "metadata": {},
   "outputs": [],
   "source": [
    "list_of_dict_fix = []\n",
    "for filter_dict in filtered_dict_list:\n",
    "    replacement_mapping = {\n",
    "        filter_dict[\"From\"]: 'Origin',\n",
    "        filter_dict[\"To\"]: 'Destination'\n",
    "    }\n",
    "\n",
    "    updated_dict = {}\n",
    "\n",
    "    for key, value in filter_dict.items():\n",
    "        for old_key, new_key in replacement_mapping.items():\n",
    "            key = key.replace(old_key, new_key)\n",
    "        updated_dict[key] = value\n",
    "\n",
    "    list_of_dict_fix.append(updated_dict)"
   ]
  },
  {
   "cell_type": "code",
   "execution_count": 21,
   "metadata": {},
   "outputs": [
    {
     "data": {
      "text/plain": [
       "{'Container Number': 'CAAU6577730',\n",
       " 'Origin Gate outEmpty': '01 Jun 2023',\n",
       " 'Origin Gate in': '03 Jun 2023',\n",
       " 'Origin Load': '09 Jun 2023',\n",
       " 'Origin Vessel departure': '09 Jun 2023',\n",
       " 'Destination Vessel arrival': '21 Jun 2023',\n",
       " 'Destination Discharge': '22 Jun 2023',\n",
       " 'Bill of Lading number': '228000484',\n",
       " 'From': 'Jakarta',\n",
       " 'To': 'Subic'}"
      ]
     },
     "execution_count": 21,
     "metadata": {},
     "output_type": "execute_result"
    }
   ],
   "source": [
    "list_of_dict_fix[0]"
   ]
  },
  {
   "cell_type": "code",
   "execution_count": 22,
   "metadata": {},
   "outputs": [],
   "source": [
    "list_of_dict_fix2 = []\n",
    "for filter_dict in list_of_dict_fix:\n",
    "    replacement_mapping = {\n",
    "        \"Bill of Lading number\" : \"BL Number\",\n",
    "        \"Origin Vessel departure\": 'ATD',\n",
    "        \"Destination Discharge\": 'ATA',\n",
    "        \"Destination Gate out\": 'Container Release',\n",
    "        \"Destination Empty container return\" : 'Container Return'\n",
    "    }\n",
    "\n",
    "    updated_dict = {}\n",
    "\n",
    "    for key, value in filter_dict.items():\n",
    "        for old_key, new_key in replacement_mapping.items():\n",
    "            key = key.replace(old_key, new_key)\n",
    "        updated_dict[key] = value\n",
    "\n",
    "        if is_date(value):\n",
    "           input_date = datetime.strptime(value, '%d %b %Y')\n",
    "           updated_dict[key] = input_date.strftime(\"%Y-%m-%d\")\n",
    "    \n",
    "    updated_dict[\"Liners\"] = \"SEALAND\"\n",
    "\n",
    "    list_of_dict_fix2.append(updated_dict)"
   ]
  },
  {
   "cell_type": "code",
   "execution_count": 23,
   "metadata": {},
   "outputs": [
    {
     "data": {
      "text/plain": [
       "[{'Container Number': 'CAAU6577730',\n",
       "  'Origin Gate outEmpty': '2023-06-01',\n",
       "  'Origin Gate in': '2023-06-03',\n",
       "  'Origin Load': '2023-06-09',\n",
       "  'ATD': '2023-06-09',\n",
       "  'Destination Vessel arrival': '2023-06-21',\n",
       "  'ATA': '2023-06-22',\n",
       "  'BL Number': '228000484',\n",
       "  'From': 'Jakarta',\n",
       "  'To': 'Subic',\n",
       "  'Liners': 'SEALAND'}]"
      ]
     },
     "execution_count": 23,
     "metadata": {},
     "output_type": "execute_result"
    }
   ],
   "source": [
    "list_of_dict_fix2"
   ]
  },
  {
   "cell_type": "code",
   "execution_count": 24,
   "metadata": {},
   "outputs": [
    {
     "name": "stdout",
     "output_type": "stream",
     "text": [
      "Today's Collection Name ===>  all_tracking_Oct-02-2023\n",
      "Today's Collection Has Been Made\n",
      "Inserting Many Complete!!\n"
     ]
    }
   ],
   "source": [
    "# connect to mongodb\n",
    "from mongoinit import mongo_table_initiation, insert_many_mongo\n",
    "\n",
    "mongo_table_initiation()\n",
    "insert_many_mongo(list_of_dict_fix2)"
   ]
  },
  {
   "cell_type": "code",
   "execution_count": 15,
   "metadata": {},
   "outputs": [
    {
     "data": {
      "text/plain": [
       "['231590994']"
      ]
     },
     "execution_count": 15,
     "metadata": {},
     "output_type": "execute_result"
    }
   ],
   "source": [
    "gagal"
   ]
  },
  {
   "cell_type": "code",
   "execution_count": 16,
   "metadata": {},
   "outputs": [
    {
     "name": "stderr",
     "output_type": "stream",
     "text": [
      "  0%|          | 0/1 [00:00<?, ?it/s]"
     ]
    },
    {
     "name": "stdout",
     "output_type": "stream",
     "text": [
      "231590994 HAVE  1  CTR\n"
     ]
    },
    {
     "name": "stderr",
     "output_type": "stream",
     "text": [
      "100%|██████████| 1/1 [00:08<00:00,  8.01s/it]\n"
     ]
    }
   ],
   "source": [
    "list_dict = []\n",
    "# web scripting\n",
    "options = Options()\n",
    "options.add_argument(\"--window-size=1920,1280\")\n",
    "driver = uc.Chrome(use_subprocess=True)\n",
    "driver.get('https://www.sealandmaersk.com/tracking/' + bl_list[random.randint(0, len(bl_list)-1)])\n",
    "\n",
    "# wait to load all\n",
    "time.sleep(2)\n",
    "\n",
    "#click allow all\n",
    "click_allowall = driver.find_element(By.XPATH,'//button[text()=\"Allow all\"]')\n",
    "click_allowall.click()\n",
    "\n",
    "# click asia\n",
    "click_asia = driver.find_element(By.XPATH,\"/html/body/div[2]/div/section/div/div[2]/form/div[1]/div/div/ol/li[3]/label/div[1]\")\n",
    "click_asia.click()\n",
    "\n",
    "# click continue\n",
    "click_continue = driver.find_element(By.ID,'confirmRegion')\n",
    "click_continue.click()\n",
    "\n",
    "for i, bls in enumerate(tqdm(gagal)):\n",
    "    try:\n",
    "        # access the web\n",
    "        driver.get('https://www.sealandmaersk.com/tracking/' + bl_list[i])\n",
    "\n",
    "        # sleep wait\n",
    "        time.sleep(3)\n",
    "        \n",
    "        # finding how many hide details in 1 page refering to how many container number in 1 bl\n",
    "        soup1 = BeautifulSoup(driver.page_source, 'lxml')\n",
    "        containers = soup1.find_all('div', {\"data-test\": \"container\"})\n",
    "        number_of_ctr = len(containers)\n",
    "        \n",
    "        print(bls, \"HAVE \", number_of_ctr, \" CTR\")\n",
    "        # print(dict_hasil)\n",
    "\n",
    "        # print(\"current bl: \", bls, \"\\n number of container: \", number_of_ctr)\n",
    "        if number_of_ctr > 1:\n",
    "            # taking BL Number, From, and To \n",
    "            title = driver.find_element(By.XPATH, \"/html/body/main/div/div/dl\")\n",
    "            titles = title.text.split('\\n')\n",
    "            titles.remove('View Shipment Details')\n",
    "            print(titles)\n",
    "            for a, item in enumerate(titles):\n",
    "                #\n",
    "                if a%2==0 :\n",
    "                    case_judul = {titles[a]:titles[a+1]}\n",
    "                    dict_hasil.update(case_judul)\n",
    "            \n",
    "            print(\"Hasil dari Append Judul\")\n",
    "            print(dict_hasil)\n",
    "            x=3\n",
    "            # clicking all view more\n",
    "            for c in range(number_of_ctr):\n",
    "                try:\n",
    "                    print(\"clicking div no :\",  x)\n",
    "                    show_details2 = WebDriverWait(driver, 30).until(EC.element_to_be_clickable((By.XPATH, '/html/body/main/div/div/div[{}]/dl/button'.format(x))))  \n",
    "                    show_details2.click()\n",
    "                    time.sleep(1)\n",
    "                except Exception as e:\n",
    "                    print(e)\n",
    "                x=x+1\n",
    "\n",
    "            time.sleep(2)\n",
    "            # taking the whole page's html\n",
    "            soup2 = BeautifulSoup(driver.page_source, 'lxml')\n",
    "            \n",
    "            table = soup2.find_all('div', {\"data-test\": \"container\"})\n",
    "            milestones = []\n",
    "            for tag in table:\n",
    "                for ctri1, ctr_num1  in enumerate(tag.find_all('strong', {\"data-test\":'container-details-value'})):\n",
    "                    temp_ctr_num1 = ctr_num1\n",
    "                    milestones.append(\"Container Number\")\n",
    "                    milestones.append(temp_ctr_num1.text)\n",
    "                for m, li_milestone in enumerate(tag.find_all('li', {\"data-test\":'transport-plan-item-complete'})):\n",
    "                    span_history = li_milestone.find_all(\"span\")\n",
    "                    for c1, city1 in enumerate(li_milestone.find_all(\"strong\")):\n",
    "                        temp1 = city1.text\n",
    "                    for milestone_span in span_history:\n",
    "                        if is_date(milestone_span.text):\n",
    "                            milestones.append(milestone_span.text[s])\n",
    "                        else:\n",
    "                            milestones.append(temp1 +\" \"+ milestone_span.text)\n",
    "                            \n",
    "                for n, li_expected in enumerate(tag.find_all('li', {\"data-test\":'transport-plan-item-future'})):\n",
    "                    spans = li_expected.find_all(\"span\")\n",
    "                    for c2, city2 in enumerate(li_expected.find_all(\"strong\")):\n",
    "                        temp2 = city2.text\n",
    "                    for expected_span in spans:\n",
    "                        if is_date(expected_span.text):\n",
    "                            milestones.append(expected_span.text[s])\n",
    "                        else:\n",
    "                            milestones.append(temp2 + \" ESTIMATED \" + expected_span.text)\n",
    "                 \n",
    "                for panjang in range(0, len(milestones), 2):\n",
    "                    key = milestones[panjang]\n",
    "                    value = milestones[panjang + 1]\n",
    "\n",
    "                    if key == 'Container Number':\n",
    "                        if current_dict:\n",
    "                            list_dict.append(current_dict.copy())\n",
    "                        current_dict = {'Container Number': value}\n",
    "                    else:\n",
    "                        current_dict[key] = value\n",
    "\n",
    "                    current_dict.update(dict_hasil) \n",
    "                print(current_dict)\n",
    "            list_dict.append(current_dict)\n",
    "            current_dict = {}\n",
    "            dict_hasil={}\n",
    "            print(bls, \", completed!!\")\n",
    "        else:\n",
    "            time.sleep(1)\n",
    "            \n",
    "            title = driver.find_element(By.XPATH, \"/html/body/main/div/div/dl\")\n",
    "            titles = title.text.split('\\n')\n",
    "            titles.remove('View Shipment Details')\n",
    "            for a, item in enumerate(titles):\n",
    "                if a%2==0 :\n",
    "                    case_judul = {titles[a]:titles[a+1]}\n",
    "                    dict_hasil.update(case_judul)\n",
    "            \n",
    "            time.sleep(2)\n",
    "            soup2 = BeautifulSoup(driver.page_source, 'lxml')\n",
    "            \n",
    "            table = soup2.find_all('div', {\"data-test\": \"container\"})\n",
    "            milestones = []\n",
    "            for tag in table:\n",
    "                for ctri1, ctr_num1  in enumerate(tag.find_all('strong', {\"data-test\":'container-details-value'})):\n",
    "                    temp_ctr_num1 = ctr_num1\n",
    "                    milestones.append(\"Container Number\")\n",
    "                    milestones.append(temp_ctr_num1.text)\n",
    "\n",
    "                for m, li_milestone in enumerate(tag.find_all('li', {\"data-test\":'transport-plan-item-complete'})):\n",
    "                    span_history = li_milestone.find_all(\"span\")\n",
    "                    for c1, city1 in enumerate(li_milestone.find_all(\"strong\")):\n",
    "                        temp1 = city1.text\n",
    "                    for milestone_span in span_history:\n",
    "                        if is_date(milestone_span.text):\n",
    "                            milestones.append(milestone_span.text[s])\n",
    "                        else:\n",
    "                            milestones.append(temp1 +\" \"+ milestone_span.text)\n",
    "                            \n",
    "                for n, li_expected in enumerate(tag.find_all('li', {\"data-test\":'transport-plan-item-future'})):\n",
    "                    spans = li_expected.find_all(\"span\")\n",
    "                    for c2, city2 in enumerate(li_expected.find_all(\"strong\")):\n",
    "                        temp2 = city2.text\n",
    "                    for expected_span in spans:\n",
    "                        if is_date(expected_span.text):\n",
    "                            milestones.append(expected_span.text[s])\n",
    "                        else:\n",
    "                            milestones.append(temp2 + \" ESTIMATED \" + expected_span.text)\n",
    "            \n",
    "            for t, milestone in enumerate(milestones):\n",
    "                if milestone == \"Container Number\":\n",
    "                    case_mlstn = {milestones[t]:milestones[t+1]}\n",
    "                    current_dict.update(case_mlstn)\n",
    "                elif t%2==0 :\n",
    "                    case_mlstn = {milestones[t]:milestones[t+1]}\n",
    "                    current_dict.update(case_mlstn)\n",
    "                    \n",
    "            current_dict.update(dict_hasil) \n",
    "            list_dict.append(current_dict)\n",
    "            current_dict = {}\n",
    "            dict_hasil={}\n",
    "        \n",
    "        unique_list = []\n",
    "        for d in list_dict:\n",
    "            if d not in unique_list:\n",
    "                unique_list.append(d)\n",
    "\n",
    "    except Exception as e:\n",
    "        print(e)\n",
    "        print(\"{} GAGAL!!\".format(bls))\n",
    "        gagal.append(bls)"
   ]
  },
  {
   "cell_type": "code",
   "execution_count": 17,
   "metadata": {},
   "outputs": [
    {
     "data": {
      "text/plain": [
       "[{'Container Number': 'CAAU6577730',\n",
       "  'Jakarta Gate outEmpty': '01 Jun 2023',\n",
       "  'Jakarta Gate in': '03 Jun 2023',\n",
       "  'Jakarta Load': '09 Jun 2023',\n",
       "  'Jakarta Vessel departure': '09 Jun 2023',\n",
       "  'Subic Vessel arrival': '21 Jun 2023',\n",
       "  'Subic Discharge': '22 Jun 2023',\n",
       "  'Bill of Lading number': '228000484',\n",
       "  'From': 'Jakarta',\n",
       "  'To': 'Subic'}]"
      ]
     },
     "execution_count": 17,
     "metadata": {},
     "output_type": "execute_result"
    }
   ],
   "source": [
    "unique_list"
   ]
  },
  {
   "cell_type": "code",
   "execution_count": null,
   "metadata": {},
   "outputs": [],
   "source": []
  }
 ],
 "metadata": {
  "kernelspec": {
   "display_name": "Python 3.10.10 64-bit",
   "language": "python",
   "name": "python3"
  },
  "language_info": {
   "codemirror_mode": {
    "name": "ipython",
    "version": 3
   },
   "file_extension": ".py",
   "mimetype": "text/x-python",
   "name": "python",
   "nbconvert_exporter": "python",
   "pygments_lexer": "ipython3",
   "version": "3.10.10"
  },
  "orig_nbformat": 4,
  "vscode": {
   "interpreter": {
    "hash": "8c3d4d9970fc5c09c50d9318a9c7fbf4d0159e4b28833276f5678ee22bded273"
   }
  }
 },
 "nbformat": 4,
 "nbformat_minor": 2
}
