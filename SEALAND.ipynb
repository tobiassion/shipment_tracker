{
 "cells": [
  {
   "cell_type": "code",
   "execution_count": 2,
   "metadata": {},
   "outputs": [],
   "source": [
    "# we scraper\n",
    "from bs4 import BeautifulSoup\n",
    "\n",
    "# request\n",
    "import requests\n",
    "\n",
    "# io\n",
    "from io import BytesIO\n",
    "\n",
    "# date parser and sleep\n",
    "from dateutil.parser import parse\n",
    "import time\n",
    "\n",
    "# web driver\n",
    "from datetime import datetime\n",
    "from selenium.webdriver.chrome.options import Options\n",
    "from selenium.webdriver.common.action_chains import ActionChains\n",
    "from selenium.webdriver.common.by import By\n",
    "from selenium.webdriver.support.wait import WebDriverWait\n",
    "from selenium.webdriver.support import expected_conditions as EC\n",
    "from selenium.webdriver.common.by import By\n",
    "import undetected_chromedriver as uc\n",
    "\n",
    "# reeading and exporting to excel files\n",
    "import pandas as pd\n",
    "\n",
    "# looping process monitoring\n",
    "from tqdm import tqdm\n",
    "import random"
   ]
  },
  {
   "cell_type": "code",
   "execution_count": 3,
   "metadata": {},
   "outputs": [],
   "source": [
    "# class to determine ganjil genap\n",
    "def is_date(string, fuzzy=False):\n",
    "    try: \n",
    "        parse(string, fuzzy=fuzzy)\n",
    "        return True\n",
    "    except ValueError:\n",
    "        return False\n",
    "\n",
    "s = slice(11)"
   ]
  },
  {
   "cell_type": "code",
   "execution_count": 4,
   "metadata": {},
   "outputs": [],
   "source": [
    "# reading all BL number from google sheet\n",
    "r = requests.get('https://docs.google.com/spreadsheets/d/e/2PACX-1vTAFNFtEXE7yWMYbkJF81On78NhnYpQisqdDbhvW4aPjPYuSMLVSrIDuIK5D6zY0cS9kboGaFazqL3e/pub?output=csv')\n",
    "data = r.content\n",
    "df = pd.read_csv(BytesIO(data))\n",
    "liners_bl = df[df[\"LINERS\"] == \"SEALAND\"]\n",
    "bl_list = list(set(liners_bl[\"BL Number\"]))"
   ]
  },
  {
   "cell_type": "code",
   "execution_count": 5,
   "metadata": {},
   "outputs": [
    {
     "data": {
      "text/plain": [
       "48"
      ]
     },
     "execution_count": 5,
     "metadata": {},
     "output_type": "execute_result"
    }
   ],
   "source": [
    "len(bl_list)"
   ]
  },
  {
   "cell_type": "code",
   "execution_count": 6,
   "metadata": {},
   "outputs": [],
   "source": [
    "dict_hasil = {}\n",
    "current_dict = {}\n",
    "list_dict = []\n",
    "gagal = []"
   ]
  },
  {
   "cell_type": "markdown",
   "metadata": {},
   "source": [
    "**FIX**\n"
   ]
  },
  {
   "cell_type": "code",
   "execution_count": 7,
   "metadata": {},
   "outputs": [
    {
     "name": "stderr",
     "output_type": "stream",
     "text": [
      "  0%|          | 0/48 [00:00<?, ?it/s]"
     ]
    },
    {
     "name": "stdout",
     "output_type": "stream",
     "text": [
      "227703778 HAVE  2  CTR\n",
      "['Bill of Lading number', '227703778', 'From', 'Jakarta', 'To', 'Cagayan de Oro']\n",
      "Hasil dari Append Judul\n",
      "{'Bill of Lading number': '227703778', 'From': 'Jakarta', 'To': 'Cagayan de Oro'}\n",
      "clicking div no : 3\n",
      "clicking div no : 4\n"
     ]
    },
    {
     "name": "stderr",
     "output_type": "stream",
     "text": [
      "  2%|▏         | 1/48 [00:10<08:15, 10.55s/it]"
     ]
    },
    {
     "name": "stdout",
     "output_type": "stream",
     "text": [
      "{'Container Number': 'MRSU4000263', 'Bill of Lading number': '227703778', 'From': 'Jakarta', 'To': 'Cagayan de Oro', 'Jakarta Gate outEmpty': '22 May 2023', 'Jakarta Gate in': '24 May 2023', 'Jakarta Load': '25 May 2023', 'Jakarta Vessel departure': '26 May 2023', 'Tanjung Pelepas Vessel arrival': '28 May 2023', 'Tanjung Pelepas Discharge': '28 May 2023', 'Tanjung Pelepas Load': '01 Jun 2023', 'Tanjung Pelepas Vessel departure': '01 Jun 2023', 'Cagayan de Oro Vessel arrival': '14 Jun 2023', 'Cagayan de Oro Discharge': '14 Jun 2023', 'Cagayan de Oro Gate out': '31 Jul 2023'}\n",
      "{'Container Number': 'MRSU4128167', 'Bill of Lading number': '227703778', 'From': 'Jakarta', 'To': 'Cagayan de Oro', 'Jakarta Gate outEmpty': '22 May 2023', 'Jakarta Gate in': '24 May 2023', 'Jakarta Load': '25 May 2023', 'Jakarta Vessel departure': '26 May 2023', 'Tanjung Pelepas Vessel arrival': '28 May 2023', 'Tanjung Pelepas Discharge': '28 May 2023', 'Tanjung Pelepas Load': '01 Jun 2023', 'Tanjung Pelepas Vessel departure': '01 Jun 2023', 'Cagayan de Oro Vessel arrival': '14 Jun 2023', 'Cagayan de Oro Discharge': '14 Jun 2023'}\n",
      "227703778 , completed!!\n",
      "228478181 HAVE  1  CTR\n"
     ]
    },
    {
     "name": "stderr",
     "output_type": "stream",
     "text": [
      "  4%|▍         | 2/48 [00:19<07:18,  9.54s/it]"
     ]
    },
    {
     "name": "stdout",
     "output_type": "stream",
     "text": [
      "230513738 HAVE  1  CTR\n"
     ]
    },
    {
     "name": "stderr",
     "output_type": "stream",
     "text": [
      "  6%|▋         | 3/48 [00:29<07:16,  9.71s/it]"
     ]
    },
    {
     "name": "stdout",
     "output_type": "stream",
     "text": [
      "228461915 HAVE  3  CTR\n",
      "['Bill of Lading number', '228461915', 'From', 'Jakarta', 'To', 'Batangas']\n",
      "Hasil dari Append Judul\n",
      "{'Bill of Lading number': '228461915', 'From': 'Jakarta', 'To': 'Batangas'}\n",
      "clicking div no : 3\n",
      "clicking div no : 4\n",
      "clicking div no : 5\n"
     ]
    },
    {
     "name": "stderr",
     "output_type": "stream",
     "text": [
      "  8%|▊         | 4/48 [00:39<07:19,  9.99s/it]"
     ]
    },
    {
     "name": "stdout",
     "output_type": "stream",
     "text": [
      "{'Container Number': 'TLLU5295493', 'Bill of Lading number': '228461915', 'From': 'Jakarta', 'To': 'Batangas', 'Jakarta Gate in': '20 Jun 2023', 'Jakarta Load': '23 Jun 2023', 'Jakarta Vessel departure': '23 Jun 2023', 'Batangas Vessel arrival': '01 Jul 2023', 'Batangas Discharge': '01 Jul 2023'}\n",
      "{'Container Number': 'CAAU6490120', 'Bill of Lading number': '228461915', 'From': 'Jakarta', 'To': 'Batangas', 'Jakarta Gate in': '22 Jun 2023', 'Jakarta Load': '23 Jun 2023', 'Jakarta Vessel departure': '23 Jun 2023', 'Batangas Vessel arrival': '01 Jul 2023', 'Batangas Discharge': '01 Jul 2023'}\n",
      "{'Container Number': 'CAAU6649450', 'Bill of Lading number': '228461915', 'From': 'Jakarta', 'To': 'Batangas', 'Jakarta Gate in': '22 Jun 2023', 'Jakarta Load': '23 Jun 2023', 'Jakarta Vessel departure': '23 Jun 2023', 'Batangas Vessel arrival': '01 Jul 2023', 'Batangas Discharge': '01 Jul 2023'}\n",
      "228461915 , completed!!\n",
      "228883601 HAVE  2  CTR\n",
      "['Bill of Lading number', '228883601', 'From', 'Jakarta', 'To', 'Subic']\n",
      "Hasil dari Append Judul\n",
      "{'Bill of Lading number': '228883601', 'From': 'Jakarta', 'To': 'Subic'}\n",
      "clicking div no : 3\n",
      "clicking div no : 4\n"
     ]
    },
    {
     "name": "stderr",
     "output_type": "stream",
     "text": [
      " 10%|█         | 5/48 [00:48<06:56,  9.68s/it]"
     ]
    },
    {
     "name": "stdout",
     "output_type": "stream",
     "text": [
      "{'Container Number': 'MRKU5073148', 'Bill of Lading number': '228883601', 'From': 'Jakarta', 'To': 'Subic', 'Jakarta Gate outEmpty': '03 Jul 2023', 'Jakarta Gate in': '04 Jul 2023', 'Jakarta Load': '07 Jul 2023', 'Jakarta Vessel departure': '07 Jul 2023', 'Subic Vessel arrival': '19 Jul 2023', 'Subic Discharge': '20 Jul 2023'}\n",
      "{'Container Number': 'MRSU4840490', 'Bill of Lading number': '228883601', 'From': 'Jakarta', 'To': 'Subic', 'Jakarta Gate outEmpty': '03 Jul 2023', 'Jakarta Gate in': '05 Jul 2023', 'Jakarta Load': '07 Jul 2023', 'Jakarta Vessel departure': '07 Jul 2023', 'Subic Vessel arrival': '19 Jul 2023', 'Subic Discharge': '20 Jul 2023'}\n",
      "228883601 , completed!!\n",
      "230260721 HAVE  1  CTR\n"
     ]
    },
    {
     "name": "stderr",
     "output_type": "stream",
     "text": [
      " 12%|█▎        | 6/48 [00:57<06:35,  9.41s/it]"
     ]
    },
    {
     "name": "stdout",
     "output_type": "stream",
     "text": [
      "230846336 HAVE  1  CTR\n"
     ]
    },
    {
     "name": "stderr",
     "output_type": "stream",
     "text": [
      " 15%|█▍        | 7/48 [01:06<06:14,  9.13s/it]"
     ]
    },
    {
     "name": "stdout",
     "output_type": "stream",
     "text": [
      "230287829 HAVE  1  CTR\n"
     ]
    },
    {
     "name": "stderr",
     "output_type": "stream",
     "text": [
      " 17%|█▋        | 8/48 [01:15<06:12,  9.30s/it]"
     ]
    },
    {
     "name": "stdout",
     "output_type": "stream",
     "text": [
      "228329054 HAVE  3  CTR\n",
      "['Bill of Lading number', '228329054', 'From', 'Jakarta', 'To', 'Subic']\n",
      "Hasil dari Append Judul\n",
      "{'Bill of Lading number': '228329054', 'From': 'Jakarta', 'To': 'Subic'}\n",
      "clicking div no : 3\n",
      "clicking div no : 4\n",
      "clicking div no : 5\n"
     ]
    },
    {
     "name": "stderr",
     "output_type": "stream",
     "text": [
      " 19%|█▉        | 9/48 [01:27<06:29, 10.00s/it]"
     ]
    },
    {
     "name": "stdout",
     "output_type": "stream",
     "text": [
      "{'Container Number': 'TCNU1561866', 'Bill of Lading number': '228329054', 'From': 'Jakarta', 'To': 'Subic', 'Jakarta Gate outEmpty': '16 Jun 2023', 'Jakarta Gate in': '18 Jun 2023', 'Jakarta Load': '22 Jun 2023', 'Jakarta Vessel departure': '23 Jun 2023', 'Subic Vessel arrival': '05 Jul 2023', 'Subic Discharge': '05 Jul 2023'}\n",
      "{'Container Number': 'CAAU6419457', 'Bill of Lading number': '228329054', 'From': 'Jakarta', 'To': 'Subic', 'Jakarta Gate outEmpty': '16 Jun 2023', 'Jakarta Gate in': '18 Jun 2023', 'Jakarta Load': '22 Jun 2023', 'Jakarta Vessel departure': '23 Jun 2023', 'Subic Vessel arrival': '05 Jul 2023', 'Subic Discharge': '05 Jul 2023'}\n",
      "{'Container Number': 'MRSU5539521', 'Bill of Lading number': '228329054', 'From': 'Jakarta', 'To': 'Subic', 'Jakarta Gate outEmpty': '15 Jun 2023', 'Jakarta Gate in': '17 Jun 2023', 'Jakarta Load': '22 Jun 2023', 'Jakarta Vessel departure': '23 Jun 2023', 'Subic Vessel arrival': '05 Jul 2023', 'Subic Discharge': '05 Jul 2023'}\n",
      "228329054 , completed!!\n",
      "230589915 HAVE  1  CTR\n"
     ]
    },
    {
     "name": "stderr",
     "output_type": "stream",
     "text": [
      " 21%|██        | 10/48 [01:36<06:03,  9.56s/it]"
     ]
    },
    {
     "name": "stdout",
     "output_type": "stream",
     "text": [
      "228627103 HAVE  1  CTR\n"
     ]
    },
    {
     "name": "stderr",
     "output_type": "stream",
     "text": [
      " 23%|██▎       | 11/48 [01:44<05:38,  9.14s/it]"
     ]
    },
    {
     "name": "stdout",
     "output_type": "stream",
     "text": [
      "230499406 HAVE  1  CTR\n"
     ]
    },
    {
     "name": "stderr",
     "output_type": "stream",
     "text": [
      " 25%|██▌       | 12/48 [01:52<05:14,  8.72s/it]"
     ]
    },
    {
     "name": "stdout",
     "output_type": "stream",
     "text": [
      "227914329 HAVE  2  CTR\n",
      "['Bill of Lading number', '227914329', 'From', 'Jakarta', 'To', 'Cagayan de Oro']\n",
      "Hasil dari Append Judul\n",
      "{'Bill of Lading number': '227914329', 'From': 'Jakarta', 'To': 'Cagayan de Oro'}\n",
      "clicking div no : 3\n",
      "clicking div no : 4\n"
     ]
    },
    {
     "name": "stderr",
     "output_type": "stream",
     "text": [
      " 27%|██▋       | 13/48 [02:02<05:20,  9.16s/it]"
     ]
    },
    {
     "name": "stdout",
     "output_type": "stream",
     "text": [
      "{'Container Number': 'MRSU5540517', 'Bill of Lading number': '227914329', 'From': 'Jakarta', 'To': 'Cagayan de Oro', 'Jakarta Gate outEmpty': '01 Jun 2023', 'Jakarta Gate in': '04 Jun 2023', 'Jakarta Load': '08 Jun 2023', 'Jakarta Vessel departure': '09 Jun 2023', 'Tanjung Pelepas Vessel arrival': '11 Jun 2023', 'Tanjung Pelepas Discharge': '11 Jun 2023', 'Tanjung Pelepas Load': '14 Jun 2023', 'Tanjung Pelepas Vessel departure': '14 Jun 2023', 'Cagayan de Oro Vessel arrival': '29 Jun 2023', 'Cagayan de Oro Discharge': '29 Jun 2023', 'Cagayan de Oro Gate out': '01 Aug 2023'}\n",
      "{'Container Number': 'MRSU3050510', 'Bill of Lading number': '227914329', 'From': 'Jakarta', 'To': 'Cagayan de Oro', 'Jakarta Gate outEmpty': '01 Jun 2023', 'Jakarta Gate in': '03 Jun 2023', 'Jakarta Load': '08 Jun 2023', 'Jakarta Vessel departure': '09 Jun 2023', 'Tanjung Pelepas Vessel arrival': '11 Jun 2023', 'Tanjung Pelepas Discharge': '11 Jun 2023', 'Tanjung Pelepas Load': '13 Jun 2023', 'Tanjung Pelepas Vessel departure': '14 Jun 2023', 'Cagayan de Oro Vessel arrival': '29 Jun 2023', 'Cagayan de Oro Discharge': '29 Jun 2023', 'Cagayan de Oro Gate out': '01 Aug 2023'}\n",
      "227914329 , completed!!\n",
      "228071847 HAVE  2  CTR\n",
      "['Bill of Lading number', '228071847', 'From', 'Jakarta', 'To', 'Subic']\n",
      "Hasil dari Append Judul\n",
      "{'Bill of Lading number': '228071847', 'From': 'Jakarta', 'To': 'Subic'}\n",
      "clicking div no : 3\n",
      "clicking div no : 4\n"
     ]
    },
    {
     "name": "stderr",
     "output_type": "stream",
     "text": [
      " 29%|██▉       | 14/48 [02:11<05:15,  9.28s/it]"
     ]
    },
    {
     "name": "stdout",
     "output_type": "stream",
     "text": [
      "{'Container Number': 'MRSU5960802', 'Bill of Lading number': '228071847', 'From': 'Jakarta', 'To': 'Subic', 'Jakarta Gate outEmpty': '05 Jun 2023', 'Jakarta Gate in': '06 Jun 2023', 'Jakarta Load': '09 Jun 2023', 'Jakarta Vessel departure': '09 Jun 2023', 'Subic Vessel arrival': '21 Jun 2023', 'Subic Discharge': '22 Jun 2023'}\n",
      "{'Container Number': 'TCKU7186900', 'Bill of Lading number': '228071847', 'From': 'Jakarta', 'To': 'Subic', 'Jakarta Gate outEmpty': '04 Jun 2023', 'Jakarta Gate in': '05 Jun 2023', 'Jakarta Load': '09 Jun 2023', 'Jakarta Vessel departure': '09 Jun 2023', 'Subic Vessel arrival': '21 Jun 2023', 'Subic Discharge': '22 Jun 2023'}\n",
      "228071847 , completed!!\n",
      "230299438 HAVE  1  CTR\n"
     ]
    },
    {
     "name": "stderr",
     "output_type": "stream",
     "text": [
      " 31%|███▏      | 15/48 [02:19<04:52,  8.86s/it]"
     ]
    },
    {
     "name": "stdout",
     "output_type": "stream",
     "text": [
      "227793536 HAVE  3  CTR\n",
      "['Bill of Lading number', '227793536', 'From', 'Jakarta', 'To', 'Cagayan de Oro']\n",
      "Hasil dari Append Judul\n",
      "{'Bill of Lading number': '227793536', 'From': 'Jakarta', 'To': 'Cagayan de Oro'}\n",
      "clicking div no : 3\n",
      "clicking div no : 4\n",
      "clicking div no : 5\n"
     ]
    },
    {
     "name": "stderr",
     "output_type": "stream",
     "text": [
      " 33%|███▎      | 16/48 [02:30<04:59,  9.35s/it]"
     ]
    },
    {
     "name": "stdout",
     "output_type": "stream",
     "text": [
      "{'Container Number': 'MRSU4546763', 'Bill of Lading number': '227793536', 'From': 'Jakarta', 'To': 'Cagayan de Oro', 'Jakarta Gate outEmpty': '25 May 2023', 'Jakarta Gate in': '28 May 2023', 'Jakarta Load': '02 Jun 2023', 'Jakarta Vessel departure': '02 Jun 2023', 'Tanjung Pelepas Vessel arrival': '04 Jun 2023', 'Tanjung Pelepas Discharge': '04 Jun 2023', 'Tanjung Pelepas Load': '07 Jun 2023', 'Tanjung Pelepas Vessel departure': '07 Jun 2023', 'Cagayan de Oro Vessel arrival': '21 Jun 2023', 'Cagayan de Oro Discharge': '21 Jun 2023', 'Cagayan de Oro Gate out': '31 Jul 2023'}\n",
      "{'Container Number': 'TLLU7666572', 'Bill of Lading number': '227793536', 'From': 'Jakarta', 'To': 'Cagayan de Oro', 'Jakarta Gate outEmpty': '27 May 2023', 'Jakarta Gate in': '27 May 2023', 'Jakarta Load': '02 Jun 2023', 'Jakarta Vessel departure': '02 Jun 2023', 'Tanjung Pelepas Vessel arrival': '04 Jun 2023', 'Tanjung Pelepas Discharge': '04 Jun 2023', 'Tanjung Pelepas Load': '07 Jun 2023', 'Tanjung Pelepas Vessel departure': '07 Jun 2023', 'Cagayan de Oro Vessel arrival': '21 Jun 2023', 'Cagayan de Oro Discharge': '21 Jun 2023', 'Cagayan de Oro Gate out': '31 Jul 2023'}\n",
      "{'Container Number': 'HASU5159481', 'Bill of Lading number': '227793536', 'From': 'Jakarta', 'To': 'Cagayan de Oro', 'Jakarta Gate outEmpty': '25 May 2023', 'Jakarta Gate in': '28 May 2023', 'Jakarta Load': '02 Jun 2023', 'Jakarta Vessel departure': '02 Jun 2023', 'Tanjung Pelepas Vessel arrival': '04 Jun 2023', 'Tanjung Pelepas Discharge': '04 Jun 2023', 'Tanjung Pelepas Load': '07 Jun 2023', 'Tanjung Pelepas Vessel departure': '07 Jun 2023', 'Cagayan de Oro Vessel arrival': '21 Jun 2023', 'Cagayan de Oro Discharge': '21 Jun 2023', 'Cagayan de Oro Gate out': '31 Jul 2023'}\n",
      "227793536 , completed!!\n",
      "228404249 HAVE  1  CTR\n"
     ]
    },
    {
     "name": "stderr",
     "output_type": "stream",
     "text": [
      " 35%|███▌      | 17/48 [02:39<04:50,  9.37s/it]"
     ]
    },
    {
     "name": "stdout",
     "output_type": "stream",
     "text": [
      "228151079 HAVE  1  CTR\n"
     ]
    },
    {
     "name": "stderr",
     "output_type": "stream",
     "text": [
      " 38%|███▊      | 18/48 [02:47<04:32,  9.07s/it]"
     ]
    },
    {
     "name": "stdout",
     "output_type": "stream",
     "text": [
      "228422054 HAVE  1  CTR\n"
     ]
    },
    {
     "name": "stderr",
     "output_type": "stream",
     "text": [
      " 40%|███▉      | 19/48 [02:56<04:18,  8.91s/it]"
     ]
    },
    {
     "name": "stdout",
     "output_type": "stream",
     "text": [
      "228107228 HAVE  1  CTR\n"
     ]
    },
    {
     "name": "stderr",
     "output_type": "stream",
     "text": [
      " 42%|████▏     | 20/48 [03:04<04:04,  8.73s/it]"
     ]
    },
    {
     "name": "stdout",
     "output_type": "stream",
     "text": [
      "227409368 HAVE  1  CTR\n"
     ]
    },
    {
     "name": "stderr",
     "output_type": "stream",
     "text": [
      " 44%|████▍     | 21/48 [03:13<03:57,  8.81s/it]"
     ]
    },
    {
     "name": "stdout",
     "output_type": "stream",
     "text": [
      "227145963 HAVE  1  CTR\n"
     ]
    },
    {
     "name": "stderr",
     "output_type": "stream",
     "text": [
      " 46%|████▌     | 22/48 [03:22<03:46,  8.71s/it]"
     ]
    },
    {
     "name": "stdout",
     "output_type": "stream",
     "text": [
      "228528205 HAVE  5  CTR\n",
      "['Bill of Lading number', '228528205', 'From', 'Jakarta', 'To', 'Subic']\n",
      "Hasil dari Append Judul\n",
      "{'Bill of Lading number': '228528205', 'From': 'Jakarta', 'To': 'Subic'}\n",
      "clicking div no : 3\n",
      "clicking div no : 4\n",
      "clicking div no : 5\n",
      "clicking div no : 6\n",
      "clicking div no : 7\n"
     ]
    },
    {
     "name": "stderr",
     "output_type": "stream",
     "text": [
      " 48%|████▊     | 23/48 [03:35<04:09,  9.99s/it]"
     ]
    },
    {
     "name": "stdout",
     "output_type": "stream",
     "text": [
      "{'Container Number': 'BEAU5730225', 'Bill of Lading number': '228528205', 'From': 'Jakarta', 'To': 'Subic', 'Jakarta Gate in': '24 Jun 2023', 'Jakarta Load': '30 Jun 2023', 'Jakarta Vessel departure': '30 Jun 2023', 'Subic Vessel arrival': '12 Jul 2023', 'Subic Discharge': '12 Jul 2023'}\n",
      "{'Container Number': 'MRSU6443569', 'Bill of Lading number': '228528205', 'From': 'Jakarta', 'To': 'Subic', 'Jakarta Gate outEmpty': '22 Jun 2023', 'Jakarta Gate in': '24 Jun 2023', 'Jakarta Load': '30 Jun 2023', 'Jakarta Vessel departure': '30 Jun 2023', 'Subic Vessel arrival': '12 Jul 2023', 'Subic Discharge': '12 Jul 2023'}\n",
      "{'Container Number': 'MRKU5641145', 'Bill of Lading number': '228528205', 'From': 'Jakarta', 'To': 'Subic', 'Jakarta Gate outEmpty': '22 Jun 2023', 'Jakarta Gate in': '24 Jun 2023', 'Jakarta Load': '30 Jun 2023', 'Jakarta Vessel departure': '30 Jun 2023', 'Subic Vessel arrival': '12 Jul 2023', 'Subic Discharge': '12 Jul 2023'}\n",
      "{'Container Number': 'MRSU5128095', 'Bill of Lading number': '228528205', 'From': 'Jakarta', 'To': 'Subic', 'Jakarta Gate outEmpty': '22 Jun 2023', 'Jakarta Gate in': '24 Jun 2023', 'Jakarta Load': '30 Jun 2023', 'Jakarta Vessel departure': '30 Jun 2023', 'Subic Vessel arrival': '12 Jul 2023', 'Subic Discharge': '12 Jul 2023'}\n",
      "{'Container Number': 'MRKU6256966', 'Bill of Lading number': '228528205', 'From': 'Jakarta', 'To': 'Subic', 'Jakarta Gate outEmpty': '23 Jun 2023', 'Jakarta Gate in': '24 Jun 2023', 'Jakarta Load': '30 Jun 2023', 'Jakarta Vessel departure': '30 Jun 2023', 'Subic Vessel arrival': '12 Jul 2023', 'Subic Discharge': '12 Jul 2023'}\n",
      "228528205 , completed!!\n",
      "228877614 HAVE  2  CTR\n",
      "['Bill of Lading number', '228877614', 'From', 'Jakarta', 'To', 'Subic']\n",
      "Hasil dari Append Judul\n",
      "{'Bill of Lading number': '228877614', 'From': 'Jakarta', 'To': 'Subic'}\n",
      "clicking div no : 3\n",
      "clicking div no : 4\n"
     ]
    },
    {
     "name": "stderr",
     "output_type": "stream",
     "text": [
      " 50%|█████     | 24/48 [03:44<03:58,  9.93s/it]"
     ]
    },
    {
     "name": "stdout",
     "output_type": "stream",
     "text": [
      "{'Container Number': 'MRSU6472171', 'Bill of Lading number': '228877614', 'From': 'Jakarta', 'To': 'Subic', 'Jakarta Gate outEmpty': '03 Jul 2023', 'Jakarta Gate in': '05 Jul 2023', 'Jakarta Load': '07 Jul 2023', 'Jakarta Vessel departure': '07 Jul 2023', 'Subic Vessel arrival': '19 Jul 2023', 'Subic Discharge': '20 Jul 2023'}\n",
      "{'Container Number': 'TCNU1827072', 'Bill of Lading number': '228877614', 'From': 'Jakarta', 'To': 'Subic', 'Jakarta Gate outEmpty': '03 Jul 2023', 'Jakarta Gate in': '05 Jul 2023', 'Jakarta Load': '07 Jul 2023', 'Jakarta Vessel departure': '07 Jul 2023', 'Subic Vessel arrival': '19 Jul 2023', 'Subic Discharge': '20 Jul 2023'}\n",
      "228877614 , completed!!\n",
      "229154632 HAVE  2  CTR\n",
      "['Bill of Lading number', '229154632', 'From', 'Jakarta', 'To', 'Cagayan de Oro']\n",
      "Hasil dari Append Judul\n",
      "{'Bill of Lading number': '229154632', 'From': 'Jakarta', 'To': 'Cagayan de Oro'}\n",
      "clicking div no : 3\n",
      "clicking div no : 4\n"
     ]
    },
    {
     "name": "stderr",
     "output_type": "stream",
     "text": [
      " 52%|█████▏    | 25/48 [03:54<03:44,  9.78s/it]"
     ]
    },
    {
     "name": "stdout",
     "output_type": "stream",
     "text": [
      "{'Container Number': 'CRSU9354980', 'Bill of Lading number': '229154632', 'From': 'Jakarta', 'To': 'Cagayan de Oro', 'Jakarta Gate outEmpty': '12 Jul 2023', 'Jakarta Gate in': '13 Jul 2023', 'Jakarta Load': '16 Jul 2023', 'Jakarta Vessel departure': '17 Jul 2023', 'Tanjung Pelepas Vessel arrival': '19 Jul 2023', 'Tanjung Pelepas Discharge': '19 Jul 2023', 'Tanjung Pelepas Load': '26 Jul 2023', 'Tanjung Pelepas Vessel departure': '27 Jul 2023', 'Cagayan de Oro Vessel arrival': '09 Aug 2023', 'Cagayan de Oro Discharge': '09 Aug 2023'}\n",
      "{'Container Number': 'MRSU3255450', 'Bill of Lading number': '229154632', 'From': 'Jakarta', 'To': 'Cagayan de Oro', 'Jakarta Gate outEmpty': '12 Jul 2023', 'Jakarta Gate in': '15 Jul 2023', 'Jakarta Load': '16 Jul 2023', 'Jakarta Vessel departure': '17 Jul 2023', 'Tanjung Pelepas Vessel arrival': '19 Jul 2023', 'Tanjung Pelepas Discharge': '19 Jul 2023', 'Tanjung Pelepas Load': '26 Jul 2023', 'Tanjung Pelepas Vessel departure': '27 Jul 2023', 'Cagayan de Oro Vessel arrival': '09 Aug 2023', 'Cagayan de Oro Discharge': '09 Aug 2023'}\n",
      "229154632 , completed!!\n",
      "228776329 HAVE  1  CTR\n"
     ]
    },
    {
     "name": "stderr",
     "output_type": "stream",
     "text": [
      " 54%|█████▍    | 26/48 [04:02<03:21,  9.16s/it]"
     ]
    },
    {
     "name": "stdout",
     "output_type": "stream",
     "text": [
      "228876620 HAVE  1  CTR\n"
     ]
    },
    {
     "name": "stderr",
     "output_type": "stream",
     "text": [
      " 56%|█████▋    | 27/48 [04:10<03:06,  8.89s/it]"
     ]
    },
    {
     "name": "stdout",
     "output_type": "stream",
     "text": [
      "229095678 HAVE  3  CTR\n",
      "['Bill of Lading number', '229095678', 'From', 'Jakarta', 'To', 'Cebu City']\n",
      "Hasil dari Append Judul\n",
      "{'Bill of Lading number': '229095678', 'From': 'Jakarta', 'To': 'Cebu City'}\n",
      "clicking div no : 3\n",
      "clicking div no : 4\n",
      "clicking div no : 5\n"
     ]
    },
    {
     "name": "stderr",
     "output_type": "stream",
     "text": [
      " 58%|█████▊    | 28/48 [04:20<03:06,  9.32s/it]"
     ]
    },
    {
     "name": "stdout",
     "output_type": "stream",
     "text": [
      "{'Container Number': 'MRSU5453310', 'Bill of Lading number': '229095678', 'From': 'Jakarta', 'To': 'Cebu City', 'Jakarta Gate outEmpty': '10 Jul 2023', 'Jakarta Gate in': '12 Jul 2023', 'Jakarta Load': '16 Jul 2023', 'Jakarta Vessel departure': '17 Jul 2023', 'Hong Kong Vessel arrival': '27 Jul 2023', 'Hong Kong Discharge': '27 Jul 2023', 'Hong Kong Load': '05 Aug 2023', 'Hong Kong Vessel departure': '05 Aug 2023', 'Cebu City Vessel arrival': '08 Aug 2023', 'Cebu City Discharge': '09 Aug 2023'}\n",
      "{'Container Number': 'HASU5143696', 'Bill of Lading number': '229095678', 'From': 'Jakarta', 'To': 'Cebu City', 'Jakarta Gate outEmpty': '10 Jul 2023', 'Jakarta Gate in': '12 Jul 2023', 'Jakarta Load': '16 Jul 2023', 'Jakarta Vessel departure': '17 Jul 2023', 'Hong Kong Vessel arrival': '27 Jul 2023', 'Hong Kong Discharge': '27 Jul 2023', 'Hong Kong Load': '05 Aug 2023', 'Hong Kong Vessel departure': '05 Aug 2023', 'Cebu City Vessel arrival': '08 Aug 2023', 'Cebu City Discharge': '09 Aug 2023'}\n",
      "{'Container Number': 'MRSU6425987', 'Bill of Lading number': '229095678', 'From': 'Jakarta', 'To': 'Cebu City', 'Jakarta Gate outEmpty': '10 Jul 2023', 'Jakarta Gate in': '12 Jul 2023', 'Jakarta Load': '16 Jul 2023', 'Jakarta Vessel departure': '17 Jul 2023', 'Hong Kong Vessel arrival': '27 Jul 2023', 'Hong Kong Discharge': '27 Jul 2023', 'Hong Kong Load': '05 Aug 2023', 'Hong Kong Vessel departure': '05 Aug 2023', 'Cebu City Vessel arrival': '08 Aug 2023', 'Cebu City Discharge': '09 Aug 2023'}\n",
      "229095678 , completed!!\n",
      "228667042 HAVE  2  CTR\n",
      "['Bill of Lading number', '228667042', 'From', 'Jakarta', 'To', 'Subic']\n",
      "Hasil dari Append Judul\n",
      "{'Bill of Lading number': '228667042', 'From': 'Jakarta', 'To': 'Subic'}\n",
      "clicking div no : 3\n",
      "clicking div no : 4\n"
     ]
    },
    {
     "name": "stderr",
     "output_type": "stream",
     "text": [
      " 60%|██████    | 29/48 [04:30<03:00,  9.49s/it]"
     ]
    },
    {
     "name": "stdout",
     "output_type": "stream",
     "text": [
      "{'Container Number': 'TCKU6939189', 'Bill of Lading number': '228667042', 'From': 'Jakarta', 'To': 'Subic', 'Jakarta Gate outEmpty': '26 Jun 2023', 'Jakarta Gate in': '27 Jun 2023', 'Jakarta Load': '30 Jun 2023', 'Jakarta Vessel departure': '30 Jun 2023', 'Subic Vessel arrival': '12 Jul 2023', 'Subic Discharge': '12 Jul 2023'}\n",
      "{'Container Number': 'MRKU6315890', 'Bill of Lading number': '228667042', 'From': 'Jakarta', 'To': 'Subic', 'Jakarta Gate outEmpty': '26 Jun 2023', 'Jakarta Gate in': '28 Jun 2023', 'Jakarta Load': '30 Jun 2023', 'Jakarta Vessel departure': '30 Jun 2023', 'Subic Vessel arrival': '12 Jul 2023', 'Subic Discharge': '12 Jul 2023'}\n",
      "228667042 , completed!!\n",
      "230846301 HAVE  1  CTR\n"
     ]
    },
    {
     "name": "stderr",
     "output_type": "stream",
     "text": [
      " 62%|██████▎   | 30/48 [04:38<02:42,  9.04s/it]"
     ]
    },
    {
     "name": "stdout",
     "output_type": "stream",
     "text": [
      "228326741 HAVE  3  CTR\n",
      "['Bill of Lading number', '228326741', 'From', 'Jakarta', 'To', 'Subic']\n",
      "Hasil dari Append Judul\n",
      "{'Bill of Lading number': '228326741', 'From': 'Jakarta', 'To': 'Subic'}\n",
      "clicking div no : 3\n",
      "clicking div no : 4\n",
      "clicking div no : 5\n"
     ]
    },
    {
     "name": "stderr",
     "output_type": "stream",
     "text": [
      " 65%|██████▍   | 31/48 [04:49<02:41,  9.51s/it]"
     ]
    },
    {
     "name": "stdout",
     "output_type": "stream",
     "text": [
      "{'Container Number': 'CAAU6401890', 'Bill of Lading number': '228326741', 'From': 'Jakarta', 'To': 'Subic', 'Jakarta Gate outEmpty': '15 Jun 2023', 'Jakarta Gate in': '17 Jun 2023', 'Jakarta Load': '22 Jun 2023', 'Jakarta Vessel departure': '23 Jun 2023', 'Subic Vessel arrival': '05 Jul 2023', 'Subic Discharge': '05 Jul 2023'}\n",
      "{'Container Number': 'CAAU6509144', 'Bill of Lading number': '228326741', 'From': 'Jakarta', 'To': 'Subic', 'Jakarta Gate outEmpty': '16 Jun 2023', 'Jakarta Gate in': '17 Jun 2023', 'Jakarta Load': '22 Jun 2023', 'Jakarta Vessel departure': '23 Jun 2023', 'Subic Vessel arrival': '05 Jul 2023', 'Subic Discharge': '05 Jul 2023'}\n",
      "{'Container Number': 'CAIU4733190', 'Bill of Lading number': '228326741', 'From': 'Jakarta', 'To': 'Subic', 'Jakarta Gate outEmpty': '14 Jun 2023', 'Jakarta Gate in': '17 Jun 2023', 'Jakarta Load': '22 Jun 2023', 'Jakarta Vessel departure': '23 Jun 2023', 'Subic Vessel arrival': '05 Jul 2023', 'Subic Discharge': '05 Jul 2023'}\n",
      "228326741 , completed!!\n",
      "230115357 HAVE  1  CTR\n"
     ]
    },
    {
     "name": "stderr",
     "output_type": "stream",
     "text": [
      " 67%|██████▋   | 32/48 [04:57<02:25,  9.12s/it]"
     ]
    },
    {
     "name": "stdout",
     "output_type": "stream",
     "text": [
      "230556186 HAVE  1  CTR\n"
     ]
    },
    {
     "name": "stderr",
     "output_type": "stream",
     "text": [
      " 69%|██████▉   | 33/48 [05:06<02:17,  9.16s/it]"
     ]
    },
    {
     "name": "stdout",
     "output_type": "stream",
     "text": [
      "227927058 HAVE  2  CTR\n",
      "['Bill of Lading number', '227927058', 'From', 'Jakarta', 'To', 'Subic']\n",
      "Hasil dari Append Judul\n",
      "{'Bill of Lading number': '227927058', 'From': 'Jakarta', 'To': 'Subic'}\n",
      "clicking div no : 3\n",
      "clicking div no : 4\n"
     ]
    },
    {
     "name": "stderr",
     "output_type": "stream",
     "text": [
      " 71%|███████   | 34/48 [05:17<02:15,  9.67s/it]"
     ]
    },
    {
     "name": "stdout",
     "output_type": "stream",
     "text": [
      "{'Container Number': 'MRSU4884755', 'Bill of Lading number': '227927058', 'From': 'Jakarta', 'To': 'Subic', 'Jakarta Gate outEmpty': '31 May 2023', 'Jakarta Gate in': '03 Jun 2023', 'Jakarta Load': '09 Jun 2023', 'Jakarta Vessel departure': '09 Jun 2023', 'Subic Vessel arrival': '21 Jun 2023', 'Subic Discharge': '22 Jun 2023'}\n",
      "{'Container Number': 'MRSU5987887', 'Bill of Lading number': '227927058', 'From': 'Jakarta', 'To': 'Subic', 'Jakarta Gate outEmpty': '30 May 2023', 'Jakarta Gate in': '03 Jun 2023', 'Jakarta Load': '09 Jun 2023', 'Jakarta Vessel departure': '09 Jun 2023', 'Subic Vessel arrival': '21 Jun 2023', 'Subic Discharge': '22 Jun 2023'}\n",
      "227927058 , completed!!\n",
      "228000484 HAVE  1  CTR\n"
     ]
    },
    {
     "name": "stderr",
     "output_type": "stream",
     "text": [
      " 73%|███████▎  | 35/48 [05:25<01:58,  9.10s/it]"
     ]
    },
    {
     "name": "stdout",
     "output_type": "stream",
     "text": [
      "229327088 HAVE  2  CTR\n",
      "['Bill of Lading number', '229327088', 'From', 'Jakarta', 'To', 'Subic']\n",
      "Hasil dari Append Judul\n",
      "{'Bill of Lading number': '229327088', 'From': 'Jakarta', 'To': 'Subic'}\n",
      "clicking div no : 3\n",
      "clicking div no : 4\n"
     ]
    },
    {
     "name": "stderr",
     "output_type": "stream",
     "text": [
      " 75%|███████▌  | 36/48 [05:35<01:53,  9.49s/it]"
     ]
    },
    {
     "name": "stdout",
     "output_type": "stream",
     "text": [
      "{'Container Number': 'CAAU6600450', 'Bill of Lading number': '229327088', 'From': 'Jakarta', 'To': 'Subic', 'Jakarta Gate outEmpty': '17 Jul 2023', 'Jakarta Gate in': '18 Jul 2023', 'Jakarta Load': '20 Jul 2023', 'Jakarta Vessel departure': '21 Jul 2023', 'Subic Vessel arrival': '02 Aug 2023', 'Subic Discharge': '03 Aug 2023'}\n",
      "{'Container Number': 'TRHU4590990', 'Bill of Lading number': '229327088', 'From': 'Jakarta', 'To': 'Subic', 'Jakarta Gate outEmpty': '18 Jul 2023', 'Jakarta Gate in': '19 Jul 2023', 'Jakarta Load': '20 Jul 2023', 'Jakarta Vessel departure': '21 Jul 2023', 'Subic Vessel arrival': '02 Aug 2023', 'Subic Discharge': '03 Aug 2023'}\n",
      "229327088 , completed!!\n",
      "228791396 HAVE  2  CTR\n",
      "['Bill of Lading number', '228791396', 'From', 'Jakarta', 'To', 'Subic']\n",
      "Hasil dari Append Judul\n",
      "{'Bill of Lading number': '228791396', 'From': 'Jakarta', 'To': 'Subic'}\n",
      "clicking div no : 3\n",
      "clicking div no : 4\n"
     ]
    },
    {
     "name": "stderr",
     "output_type": "stream",
     "text": [
      " 77%|███████▋  | 37/48 [05:45<01:45,  9.61s/it]"
     ]
    },
    {
     "name": "stdout",
     "output_type": "stream",
     "text": [
      "{'Container Number': 'SEKU4637372', 'Bill of Lading number': '228791396', 'From': 'Jakarta', 'To': 'Subic', 'Jakarta Gate outEmpty': '30 Jun 2023', 'Jakarta Gate in': '01 Jul 2023', 'Jakarta Load': '07 Jul 2023', 'Jakarta Vessel departure': '07 Jul 2023', 'Subic Vessel arrival': '19 Jul 2023', 'Subic Discharge': '20 Jul 2023'}\n",
      "{'Container Number': 'TCNU2510689', 'Bill of Lading number': '228791396', 'From': 'Jakarta', 'To': 'Subic', 'Jakarta Gate outEmpty': '30 Jun 2023', 'Jakarta Gate in': '01 Jul 2023', 'Jakarta Load': '07 Jul 2023', 'Jakarta Vessel departure': '07 Jul 2023', 'Subic Vessel arrival': '19 Jul 2023', 'Subic Discharge': '20 Jul 2023'}\n",
      "228791396 , completed!!\n",
      "228487087 HAVE  5  CTR\n",
      "['Bill of Lading number', '228487087', 'From', 'Jakarta', 'To', 'Subic']\n",
      "Hasil dari Append Judul\n",
      "{'Bill of Lading number': '228487087', 'From': 'Jakarta', 'To': 'Subic'}\n",
      "clicking div no : 3\n",
      "clicking div no : 4\n",
      "clicking div no : 5\n",
      "clicking div no : 6\n",
      "clicking div no : 7\n"
     ]
    },
    {
     "name": "stderr",
     "output_type": "stream",
     "text": [
      " 79%|███████▉  | 38/48 [05:58<01:47, 10.72s/it]"
     ]
    },
    {
     "name": "stdout",
     "output_type": "stream",
     "text": [
      "{'Container Number': 'MRSU3683490', 'Bill of Lading number': '228487087', 'From': 'Jakarta', 'To': 'Subic', 'Jakarta Gate outEmpty': '20 Jun 2023', 'Jakarta Gate in': '21 Jun 2023', 'Jakarta Load': '22 Jun 2023', 'Jakarta Vessel departure': '23 Jun 2023', 'Subic Vessel arrival': '05 Jul 2023', 'Subic Discharge': '05 Jul 2023'}\n",
      "{'Container Number': 'TRHU4396840', 'Bill of Lading number': '228487087', 'From': 'Jakarta', 'To': 'Subic', 'Jakarta Gate outEmpty': '19 Jun 2023', 'Jakarta Gate in': '20 Jun 2023', 'Jakarta Load': '22 Jun 2023', 'Jakarta Vessel departure': '23 Jun 2023', 'Subic Vessel arrival': '05 Jul 2023', 'Subic Discharge': '05 Jul 2023'}\n",
      "{'Container Number': 'MRSU4086821', 'Bill of Lading number': '228487087', 'From': 'Jakarta', 'To': 'Subic', 'Jakarta Load': '22 Jun 2023', 'Jakarta Vessel departure': '23 Jun 2023', 'Subic Vessel arrival': '05 Jul 2023', 'Subic Discharge': '05 Jul 2023'}\n",
      "{'Container Number': 'HASU4792860', 'Bill of Lading number': '228487087', 'From': 'Jakarta', 'To': 'Subic', 'Jakarta Gate outEmpty': '20 Jun 2023', 'Jakarta Gate in': '21 Jun 2023', 'Jakarta Load': '22 Jun 2023', 'Jakarta Vessel departure': '23 Jun 2023', 'Subic Vessel arrival': '05 Jul 2023', 'Subic Discharge': '05 Jul 2023'}\n",
      "{'Container Number': 'MRSU6517527', 'Bill of Lading number': '228487087', 'From': 'Jakarta', 'To': 'Subic', 'Jakarta Gate outEmpty': '19 Jun 2023', 'Jakarta Gate in': '21 Jun 2023', 'Jakarta Load': '22 Jun 2023', 'Jakarta Vessel departure': '23 Jun 2023', 'Subic Vessel arrival': '05 Jul 2023', 'Subic Discharge': '05 Jul 2023'}\n",
      "228487087 , completed!!\n",
      "230204413 HAVE  1  CTR\n"
     ]
    },
    {
     "name": "stderr",
     "output_type": "stream",
     "text": [
      " 81%|████████▏ | 39/48 [06:07<01:30, 10.06s/it]"
     ]
    },
    {
     "name": "stdout",
     "output_type": "stream",
     "text": [
      "229327131 HAVE  1  CTR\n"
     ]
    },
    {
     "name": "stderr",
     "output_type": "stream",
     "text": [
      " 83%|████████▎ | 40/48 [06:15<01:15,  9.47s/it]"
     ]
    },
    {
     "name": "stdout",
     "output_type": "stream",
     "text": [
      "229890218 HAVE  15  CTR\n",
      "['Bill of Lading number', '229890218', 'From', 'Jakarta', 'To', 'Xingang']\n",
      "Hasil dari Append Judul\n",
      "{'Bill of Lading number': '229890218', 'From': 'Jakarta', 'To': 'Xingang'}\n",
      "clicking div no : 3\n",
      "clicking div no : 4\n",
      "clicking div no : 5\n",
      "clicking div no : 6\n",
      "clicking div no : 7\n",
      "clicking div no : 8\n",
      "clicking div no : 9\n",
      "clicking div no : 10\n",
      "clicking div no : 11\n",
      "clicking div no : 12\n",
      "clicking div no : 13\n",
      "clicking div no : 14\n",
      "clicking div no : 15\n",
      "clicking div no : 16\n",
      "clicking div no : 17\n"
     ]
    },
    {
     "name": "stderr",
     "output_type": "stream",
     "text": [
      " 85%|████████▌ | 41/48 [06:41<01:41, 14.47s/it]"
     ]
    },
    {
     "name": "stdout",
     "output_type": "stream",
     "text": [
      "{'Container Number': 'MRSU6456308', 'Bill of Lading number': '229890218', 'From': 'Jakarta', 'To': 'Xingang', 'Jakarta Gate outEmpty': '02 Aug 2023', 'Jakarta Gate in': '08 Aug 2023', 'Jakarta Load': '14 Aug 2023', 'Jakarta Vessel departure': '14 Aug 2023', 'Xingang Vessel arrival': '01 Sep 2023', 'Xingang Discharge': '01 Sep 2023', 'Xingang Gate out': '04 Sep 2023', 'Xingang Empty container return': '15 Sep 2023'}\n",
      "{'Container Number': 'MRSU3628595', 'Bill of Lading number': '229890218', 'From': 'Jakarta', 'To': 'Xingang', 'Jakarta Gate outEmpty': '10 Aug 2023', 'Jakarta Gate in': '11 Aug 2023', 'Jakarta Load': '13 Aug 2023', 'Jakarta Vessel departure': '14 Aug 2023', 'Xingang Vessel arrival': '01 Sep 2023', 'Xingang Gate out': '04 Sep 2023'}\n",
      "{'Container Number': 'TCKU6593270', 'Bill of Lading number': '229890218', 'From': 'Jakarta', 'To': 'Xingang', 'Jakarta Gate outEmpty': '05 Aug 2023', 'Jakarta Gate in': '08 Aug 2023', 'Jakarta Load': '13 Aug 2023', 'Jakarta Vessel departure': '14 Aug 2023', 'Xingang Vessel arrival': '01 Sep 2023', 'Xingang Discharge': '01 Sep 2023', 'Xingang Gate out': '04 Sep 2023', 'Xingang Empty container return': '14 Sep 2023'}\n",
      "{'Container Number': 'MRKU5449071', 'Bill of Lading number': '229890218', 'From': 'Jakarta', 'To': 'Xingang', 'Jakarta Gate outEmpty': '03 Aug 2023', 'Jakarta Gate in': '08 Aug 2023', 'Jakarta Load': '14 Aug 2023', 'Jakarta Vessel departure': '14 Aug 2023', 'Xingang Vessel arrival': '01 Sep 2023', 'Xingang Discharge': '01 Sep 2023', 'Xingang Gate out': '04 Sep 2023', 'Xingang Empty container return': '14 Sep 2023'}\n",
      "{'Container Number': 'TCKU6630965', 'Bill of Lading number': '229890218', 'From': 'Jakarta', 'To': 'Xingang', 'Jakarta Gate outEmpty': '05 Aug 2023', 'Jakarta Gate in': '08 Aug 2023', 'Jakarta Load': '13 Aug 2023', 'Jakarta Vessel departure': '14 Aug 2023', 'Xingang Vessel arrival': '01 Sep 2023', 'Xingang Discharge': '01 Sep 2023', 'Xingang Gate out': '04 Sep 2023', 'Xingang Empty container return': '15 Sep 2023'}\n",
      "{'Container Number': 'MRSU4342672', 'Bill of Lading number': '229890218', 'From': 'Jakarta', 'To': 'Xingang', 'Jakarta Gate outEmpty': '07 Aug 2023', 'Jakarta Gate in': '08 Aug 2023', 'Jakarta Load': '13 Aug 2023', 'Jakarta Vessel departure': '14 Aug 2023', 'Xingang Vessel arrival': '01 Sep 2023', 'Xingang Discharge': '01 Sep 2023', 'Xingang Gate out': '04 Sep 2023'}\n",
      "{'Container Number': 'MRSU5949655', 'Bill of Lading number': '229890218', 'From': 'Jakarta', 'To': 'Xingang', 'Jakarta Gate outEmpty': '06 Aug 2023', 'Jakarta Gate in': '08 Aug 2023', 'Jakarta Load': '13 Aug 2023', 'Jakarta Vessel departure': '14 Aug 2023', 'Xingang Vessel arrival': '01 Sep 2023', 'Xingang Discharge': '01 Sep 2023', 'Xingang Gate out': '02 Sep 2023', 'Xingang Empty container return': '14 Sep 2023'}\n",
      "{'Container Number': 'MRSU4321108', 'Bill of Lading number': '229890218', 'From': 'Jakarta', 'To': 'Xingang', 'Jakarta Gate outEmpty': '04 Aug 2023', 'Jakarta Gate in': '08 Aug 2023', 'Jakarta Load': '13 Aug 2023', 'Jakarta Vessel departure': '14 Aug 2023', 'Xingang Vessel arrival': '01 Sep 2023', 'Xingang Discharge': '01 Sep 2023', 'Xingang Gate out': '04 Sep 2023', 'Xingang Empty container return': '15 Sep 2023'}\n",
      "{'Container Number': 'TCNU2794564', 'Bill of Lading number': '229890218', 'From': 'Jakarta', 'To': 'Xingang', 'Jakarta Gate outEmpty': '04 Aug 2023', 'Jakarta Gate in': '08 Aug 2023', 'Jakarta Load': '13 Aug 2023', 'Jakarta Vessel departure': '14 Aug 2023', 'Xingang Vessel arrival': '01 Sep 2023', 'Xingang Gate out': '04 Sep 2023', 'Xingang Empty container return': '15 Sep 2023'}\n",
      "{'Container Number': 'MRKU5825815', 'Bill of Lading number': '229890218', 'From': 'Jakarta', 'To': 'Xingang', 'Jakarta Gate outEmpty': '10 Aug 2023', 'Jakarta Gate in': '11 Aug 2023', 'Jakarta Load': '13 Aug 2023', 'Jakarta Vessel departure': '14 Aug 2023', 'Xingang Vessel arrival': '01 Sep 2023', 'Xingang Discharge': '01 Sep 2023', 'Xingang Gate out': '04 Sep 2023'}\n",
      "{'Container Number': 'MRSU4647959', 'Bill of Lading number': '229890218', 'From': 'Jakarta', 'To': 'Xingang', 'Jakarta Gate outEmpty': '10 Aug 2023', 'Jakarta Gate in': '13 Aug 2023', 'Jakarta Load': '13 Aug 2023', 'Jakarta Vessel departure': '14 Aug 2023', 'Xingang Vessel arrival': '01 Sep 2023', 'Xingang Discharge': '01 Sep 2023', 'Xingang Gate out': '02 Sep 2023', 'Xingang Empty container return': '14 Sep 2023'}\n",
      "{'Container Number': 'CIPU5177146', 'Bill of Lading number': '229890218', 'From': 'Jakarta', 'To': 'Xingang', 'Jakarta Gate outEmpty': '02 Aug 2023', 'Jakarta Gate in': '08 Aug 2023', 'Jakarta Load': '14 Aug 2023', 'Jakarta Vessel departure': '14 Aug 2023', 'Xingang Vessel arrival': '01 Sep 2023', 'Xingang Discharge': '01 Sep 2023', 'Xingang Gate out': '04 Sep 2023', 'Xingang Empty container return': '14 Sep 2023'}\n",
      "{'Container Number': 'TCNU2968326', 'Bill of Lading number': '229890218', 'From': 'Jakarta', 'To': 'Xingang', 'Jakarta Gate outEmpty': '07 Aug 2023', 'Jakarta Gate in': '08 Aug 2023', 'Jakarta Load': '13 Aug 2023', 'Jakarta Vessel departure': '14 Aug 2023', 'Xingang Vessel arrival': '01 Sep 2023', 'Xingang Discharge': '01 Sep 2023', 'Xingang Gate out': '02 Sep 2023'}\n",
      "{'Container Number': 'MRSU3406598', 'Bill of Lading number': '229890218', 'From': 'Jakarta', 'To': 'Xingang', 'Jakarta Gate outEmpty': '08 Aug 2023', 'Jakarta Gate in': '09 Aug 2023', 'Jakarta Load': '13 Aug 2023', 'Jakarta Vessel departure': '14 Aug 2023', 'Xingang Vessel arrival': '01 Sep 2023', 'Xingang Discharge': '01 Sep 2023', 'Xingang Gate out': '04 Sep 2023'}\n",
      "{'Container Number': 'BEAU6266865', 'Bill of Lading number': '229890218', 'From': 'Jakarta', 'To': 'Xingang', 'Jakarta Gate outEmpty': '08 Aug 2023', 'Jakarta Gate in': '09 Aug 2023', 'Jakarta Load': '14 Aug 2023', 'Jakarta Vessel departure': '14 Aug 2023', 'Xingang Vessel arrival': '01 Sep 2023', 'Xingang Discharge': '01 Sep 2023', 'Xingang Gate out': '04 Sep 2023', 'Xingang Empty container return': '14 Sep 2023'}\n",
      "229890218 , completed!!\n",
      "227686800 HAVE  1  CTR\n"
     ]
    },
    {
     "name": "stderr",
     "output_type": "stream",
     "text": [
      " 88%|████████▊ | 42/48 [06:49<01:15, 12.63s/it]"
     ]
    },
    {
     "name": "stdout",
     "output_type": "stream",
     "text": [
      "228698779 HAVE  1  CTR\n"
     ]
    },
    {
     "name": "stderr",
     "output_type": "stream",
     "text": [
      " 90%|████████▉ | 43/48 [06:57<00:56, 11.23s/it]"
     ]
    },
    {
     "name": "stdout",
     "output_type": "stream",
     "text": [
      "228495628 HAVE  3  CTR\n",
      "['Bill of Lading number', '228495628', 'From', 'Jakarta', 'To', 'Subic']\n",
      "Hasil dari Append Judul\n",
      "{'Bill of Lading number': '228495628', 'From': 'Jakarta', 'To': 'Subic'}\n",
      "clicking div no : 3\n",
      "clicking div no : 4\n",
      "clicking div no : 5\n"
     ]
    },
    {
     "name": "stderr",
     "output_type": "stream",
     "text": [
      " 92%|█████████▏| 44/48 [07:08<00:44, 11.03s/it]"
     ]
    },
    {
     "name": "stdout",
     "output_type": "stream",
     "text": [
      "{'Container Number': 'MRSU3497495', 'Bill of Lading number': '228495628', 'From': 'Jakarta', 'To': 'Subic', 'Jakarta Gate outEmpty': '21 Jun 2023', 'Jakarta Gate in': '24 Jun 2023', 'Jakarta Load': '30 Jun 2023', 'Jakarta Vessel departure': '30 Jun 2023', 'Subic Vessel arrival': '12 Jul 2023', 'Subic Discharge': '12 Jul 2023'}\n",
      "{'Container Number': 'TRHU5089617', 'Bill of Lading number': '228495628', 'From': 'Jakarta', 'To': 'Subic', 'Jakarta Gate outEmpty': '22 Jun 2023', 'Jakarta Gate in': '24 Jun 2023', 'Jakarta Load': '30 Jun 2023', 'Jakarta Vessel departure': '30 Jun 2023', 'Subic Vessel arrival': '12 Jul 2023', 'Subic Discharge': '12 Jul 2023'}\n",
      "{'Container Number': 'TGBU8899367', 'Bill of Lading number': '228495628', 'From': 'Jakarta', 'To': 'Subic', 'Jakarta Gate outEmpty': '21 Jun 2023', 'Jakarta Gate in': '24 Jun 2023', 'Jakarta Load': '30 Jun 2023', 'Jakarta Vessel departure': '30 Jun 2023', 'Subic Vessel arrival': '12 Jul 2023', 'Subic Discharge': '12 Jul 2023'}\n",
      "228495628 , completed!!\n",
      "228576712 HAVE  3  CTR\n",
      "['Bill of Lading number', '228576712', 'From', 'Jakarta', 'To', 'Batangas']\n",
      "Hasil dari Append Judul\n",
      "{'Bill of Lading number': '228576712', 'From': 'Jakarta', 'To': 'Batangas'}\n",
      "clicking div no : 3\n",
      "clicking div no : 4\n",
      "clicking div no : 5\n"
     ]
    },
    {
     "name": "stderr",
     "output_type": "stream",
     "text": [
      " 94%|█████████▍| 45/48 [07:19<00:33, 11.00s/it]"
     ]
    },
    {
     "name": "stdout",
     "output_type": "stream",
     "text": [
      "{'Container Number': 'MRSU3584080', 'Bill of Lading number': '228576712', 'From': 'Jakarta', 'To': 'Batangas', 'Jakarta Gate outEmpty': '23 Jun 2023', 'Jakarta Gate in': '26 Jun 2023', 'Jakarta Load': '30 Jun 2023', 'Jakarta Vessel departure': '30 Jun 2023', 'Batangas Vessel arrival': '08 Jul 2023', 'Batangas Discharge': '08 Jul 2023'}\n",
      "{'Container Number': 'CAAU6562560', 'Bill of Lading number': '228576712', 'From': 'Jakarta', 'To': 'Batangas', 'Jakarta Gate outEmpty': '23 Jun 2023', 'Jakarta Gate in': '26 Jun 2023', 'Jakarta Load': '30 Jun 2023', 'Jakarta Vessel departure': '30 Jun 2023', 'Batangas Vessel arrival': '08 Jul 2023', 'Batangas Discharge': '08 Jul 2023'}\n",
      "{'Container Number': 'MRSU6405450', 'Bill of Lading number': '228576712', 'From': 'Jakarta', 'To': 'Batangas', 'Jakarta Gate outEmpty': '23 Jun 2023', 'Jakarta Gate in': '24 Jun 2023', 'Jakarta Load': '30 Jun 2023', 'Jakarta Vessel departure': '30 Jun 2023', 'Batangas Vessel arrival': '08 Jul 2023', 'Batangas Discharge': '08 Jul 2023'}\n",
      "228576712 , completed!!\n",
      "230919656 HAVE  1  CTR\n"
     ]
    },
    {
     "name": "stderr",
     "output_type": "stream",
     "text": [
      " 96%|█████████▌| 46/48 [07:27<00:20, 10.09s/it]"
     ]
    },
    {
     "name": "stdout",
     "output_type": "stream",
     "text": [
      "227868337 HAVE  1  CTR\n"
     ]
    },
    {
     "name": "stderr",
     "output_type": "stream",
     "text": [
      " 98%|█████████▊| 47/48 [07:35<00:09,  9.51s/it]"
     ]
    },
    {
     "name": "stdout",
     "output_type": "stream",
     "text": [
      "229292557 HAVE  3  CTR\n",
      "['Bill of Lading number', '229292557', 'From', 'Jakarta', 'To', 'Cebu City']\n",
      "Hasil dari Append Judul\n",
      "{'Bill of Lading number': '229292557', 'From': 'Jakarta', 'To': 'Cebu City'}\n",
      "clicking div no : 3\n",
      "clicking div no : 4\n",
      "clicking div no : 5\n"
     ]
    },
    {
     "name": "stderr",
     "output_type": "stream",
     "text": [
      "100%|██████████| 48/48 [07:45<00:00,  9.71s/it]"
     ]
    },
    {
     "name": "stdout",
     "output_type": "stream",
     "text": [
      "{'Container Number': 'MRSU6364834', 'Bill of Lading number': '229292557', 'From': 'Jakarta', 'To': 'Cebu City', 'Jakarta Gate outEmpty': '16 Jul 2023', 'Jakarta Gate in': '18 Jul 2023', 'Jakarta Load': '24 Jul 2023', 'Jakarta Vessel departure': '24 Jul 2023', 'Hong Kong Vessel arrival': '04 Aug 2023', 'Hong Kong Discharge': '04 Aug 2023', 'Hong Kong Load': '09 Aug 2023', 'Hong Kong Vessel departure': '09 Aug 2023', 'Cebu City Vessel arrival': '13 Aug 2023', 'Cebu City Discharge': '14 Aug 2023'}\n",
      "{'Container Number': 'MRSU3716720', 'Bill of Lading number': '229292557', 'From': 'Jakarta', 'To': 'Cebu City', 'Jakarta Gate outEmpty': '15 Jul 2023', 'Jakarta Gate in': '18 Jul 2023', 'Jakarta Load': '24 Jul 2023', 'Jakarta Vessel departure': '24 Jul 2023', 'Hong Kong Vessel arrival': '04 Aug 2023', 'Hong Kong Discharge': '04 Aug 2023', 'Hong Kong Load': '09 Aug 2023', 'Hong Kong Vessel departure': '09 Aug 2023', 'Cebu City Vessel arrival': '13 Aug 2023', 'Cebu City Discharge': '14 Aug 2023'}\n",
      "{'Container Number': 'MRSU5698267', 'Bill of Lading number': '229292557', 'From': 'Jakarta', 'To': 'Cebu City', 'Jakarta Gate outEmpty': '15 Jul 2023', 'Jakarta Gate in': '18 Jul 2023', 'Jakarta Load': '24 Jul 2023', 'Jakarta Vessel departure': '24 Jul 2023', 'Hong Kong Vessel arrival': '04 Aug 2023', 'Hong Kong Discharge': '04 Aug 2023', 'Hong Kong Load': '09 Aug 2023', 'Hong Kong Vessel departure': '09 Aug 2023', 'Cebu City Vessel arrival': '13 Aug 2023', 'Cebu City Discharge': '14 Aug 2023'}\n",
      "229292557 , completed!!\n"
     ]
    },
    {
     "name": "stderr",
     "output_type": "stream",
     "text": [
      "\n"
     ]
    }
   ],
   "source": [
    "list_dict = []\n",
    "# web scripting\n",
    "options = Options()\n",
    "options.add_argument(\"--window-size=1920,1280\")\n",
    "driver = uc.Chrome(use_subprocess=True)\n",
    "driver.get('https://www.sealandmaersk.com/tracking/' + bl_list[random.randint(0, len(bl_list)-1)])\n",
    "\n",
    "# wait to load all\n",
    "time.sleep(2)\n",
    "\n",
    "#click allow all\n",
    "click_allowall = driver.find_element(By.XPATH,'//button[text()=\"Allow all\"]')\n",
    "click_allowall.click()\n",
    "\n",
    "# click asia\n",
    "click_asia = driver.find_element(By.XPATH,\"/html/body/div[2]/div/section/div/div[2]/form/div[1]/div/div/ol/li[3]/label/div[1]\")\n",
    "click_asia.click()\n",
    "\n",
    "# click continue\n",
    "click_continue = driver.find_element(By.ID,'confirmRegion')\n",
    "click_continue.click()\n",
    "\n",
    "for i, bls in enumerate(tqdm(bl_list)):\n",
    "    try:\n",
    "        # access the web\n",
    "        driver.get('https://www.sealandmaersk.com/tracking/' + bl_list[i])\n",
    "\n",
    "        # sleep wait\n",
    "        time.sleep(3)\n",
    "        \n",
    "        # finding how many hide details in 1 page refering to how many container number in 1 bl\n",
    "        soup1 = BeautifulSoup(driver.page_source, 'lxml')\n",
    "        containers = soup1.find_all('div', {\"data-test\": \"container\"})\n",
    "        number_of_ctr = len(containers)\n",
    "        \n",
    "        print(bls, \"HAVE \", number_of_ctr, \" CTR\")\n",
    "        # print(dict_hasil)\n",
    "\n",
    "        # print(\"current bl: \", bls, \"\\n number of container: \", number_of_ctr)\n",
    "        if number_of_ctr > 1:\n",
    "            # taking BL Number, From, and To \n",
    "            title = driver.find_element(By.XPATH, \"/html/body/main/div/div/dl\")\n",
    "            titles = title.text.split('\\n')\n",
    "            titles.remove('View Shipment Details')\n",
    "            print(titles)\n",
    "            for a, item in enumerate(titles):\n",
    "                #\n",
    "                if a%2==0 :\n",
    "                    case_judul = {titles[a]:titles[a+1]}\n",
    "                    dict_hasil.update(case_judul)\n",
    "            \n",
    "            print(\"Hasil dari Append Judul\")\n",
    "            print(dict_hasil)\n",
    "            x=3\n",
    "            # clicking all view more\n",
    "            for c in range(number_of_ctr):\n",
    "                try:\n",
    "                    print(\"clicking div no :\",  x)\n",
    "                    show_details2 = WebDriverWait(driver, 30).until(EC.element_to_be_clickable((By.XPATH, '/html/body/main/div/div/div[{}]/dl/button'.format(x))))  \n",
    "                    show_details2.click()\n",
    "                    time.sleep(1)\n",
    "                except Exception as e:\n",
    "                    print(e)\n",
    "                x=x+1\n",
    "\n",
    "            time.sleep(2)\n",
    "            # taking the whole page's html\n",
    "            soup2 = BeautifulSoup(driver.page_source, 'lxml')\n",
    "            \n",
    "            table = soup2.find_all('div', {\"data-test\": \"container\"})\n",
    "            milestones = []\n",
    "            for tag in table:\n",
    "                for ctri1, ctr_num1  in enumerate(tag.find_all('strong', {\"data-test\":'container-details-value'})):\n",
    "                    temp_ctr_num1 = ctr_num1\n",
    "                    milestones.append(\"Container Number\")\n",
    "                    milestones.append(temp_ctr_num1.text)\n",
    "                for m, li_milestone in enumerate(tag.find_all('li', {\"data-test\":'transport-plan-item-complete'})):\n",
    "                    span_history = li_milestone.find_all(\"span\")\n",
    "                    for c1, city1 in enumerate(li_milestone.find_all(\"strong\")):\n",
    "                        temp1 = city1.text\n",
    "                    for milestone_span in span_history:\n",
    "                        if is_date(milestone_span.text):\n",
    "                            milestones.append(milestone_span.text[s])\n",
    "                        else:\n",
    "                            milestones.append(temp1 +\" \"+ milestone_span.text)\n",
    "                            \n",
    "                for n, li_expected in enumerate(tag.find_all('li', {\"data-test\":'transport-plan-item-future'})):\n",
    "                    spans = li_expected.find_all(\"span\")\n",
    "                    for c2, city2 in enumerate(li_expected.find_all(\"strong\")):\n",
    "                        temp2 = city2.text\n",
    "                    for expected_span in spans:\n",
    "                        if is_date(expected_span.text):\n",
    "                            milestones.append(expected_span.text[s])\n",
    "                        else:\n",
    "                            milestones.append(temp2 + \" ESTIMATED \" + expected_span.text)\n",
    "                 \n",
    "                for panjang in range(0, len(milestones), 2):\n",
    "                    key = milestones[panjang]\n",
    "                    value = milestones[panjang + 1]\n",
    "\n",
    "                    if key == 'Container Number':\n",
    "                        if current_dict:\n",
    "                            list_dict.append(current_dict.copy())\n",
    "                        current_dict = {'Container Number': value}\n",
    "                    else:\n",
    "                        current_dict[key] = value\n",
    "\n",
    "                    current_dict.update(dict_hasil) \n",
    "                print(current_dict)\n",
    "            list_dict.append(current_dict)\n",
    "            current_dict = {}\n",
    "            dict_hasil={}\n",
    "            print(bls, \", completed!!\")\n",
    "        else:\n",
    "            time.sleep(1)\n",
    "            \n",
    "            title = driver.find_element(By.XPATH, \"/html/body/main/div/div/dl\")\n",
    "            titles = title.text.split('\\n')\n",
    "            titles.remove('View Shipment Details')\n",
    "            for a, item in enumerate(titles):\n",
    "                if a%2==0 :\n",
    "                    case_judul = {titles[a]:titles[a+1]}\n",
    "                    dict_hasil.update(case_judul)\n",
    "            \n",
    "            time.sleep(2)\n",
    "            soup2 = BeautifulSoup(driver.page_source, 'lxml')\n",
    "            \n",
    "            table = soup2.find_all('div', {\"data-test\": \"container\"})\n",
    "            milestones = []\n",
    "            for tag in table:\n",
    "                for ctri1, ctr_num1  in enumerate(tag.find_all('strong', {\"data-test\":'container-details-value'})):\n",
    "                    temp_ctr_num1 = ctr_num1\n",
    "                    milestones.append(\"Container Number\")\n",
    "                    milestones.append(temp_ctr_num1.text)\n",
    "\n",
    "                for m, li_milestone in enumerate(tag.find_all('li', {\"data-test\":'transport-plan-item-complete'})):\n",
    "                    span_history = li_milestone.find_all(\"span\")\n",
    "                    for c1, city1 in enumerate(li_milestone.find_all(\"strong\")):\n",
    "                        temp1 = city1.text\n",
    "                    for milestone_span in span_history:\n",
    "                        if is_date(milestone_span.text):\n",
    "                            milestones.append(milestone_span.text[s])\n",
    "                        else:\n",
    "                            milestones.append(temp1 +\" \"+ milestone_span.text)\n",
    "                            \n",
    "                for n, li_expected in enumerate(tag.find_all('li', {\"data-test\":'transport-plan-item-future'})):\n",
    "                    spans = li_expected.find_all(\"span\")\n",
    "                    for c2, city2 in enumerate(li_expected.find_all(\"strong\")):\n",
    "                        temp2 = city2.text\n",
    "                    for expected_span in spans:\n",
    "                        if is_date(expected_span.text):\n",
    "                            milestones.append(expected_span.text[s])\n",
    "                        else:\n",
    "                            milestones.append(temp2 + \" ESTIMATED \" + expected_span.text)\n",
    "            \n",
    "            for t, milestone in enumerate(milestones):\n",
    "                if milestone == \"Container Number\":\n",
    "                    case_mlstn = {milestones[t]:milestones[t+1]}\n",
    "                    current_dict.update(case_mlstn)\n",
    "                elif t%2==0 :\n",
    "                    case_mlstn = {milestones[t]:milestones[t+1]}\n",
    "                    current_dict.update(case_mlstn)\n",
    "                    \n",
    "            current_dict.update(dict_hasil) \n",
    "            list_dict.append(current_dict)\n",
    "            current_dict = {}\n",
    "            dict_hasil={}\n",
    "        \n",
    "        unique_list = []\n",
    "        for d in list_dict:\n",
    "            if d not in unique_list:\n",
    "                unique_list.append(d)\n",
    "\n",
    "    except Exception as e:\n",
    "        print(e)\n",
    "        print(\"{} GAGAL!!\".format(bls))\n",
    "        gagal.append(bls)"
   ]
  },
  {
   "cell_type": "code",
   "execution_count": 8,
   "metadata": {},
   "outputs": [
    {
     "data": {
      "text/plain": [
       "{'Container Number': 'MRSU4000263',\n",
       " 'Bill of Lading number': '227703778',\n",
       " 'From': 'Jakarta',\n",
       " 'To': 'Cagayan de Oro',\n",
       " 'Jakarta Gate outEmpty': '22 May 2023',\n",
       " 'Jakarta Gate in': '24 May 2023',\n",
       " 'Jakarta Load': '25 May 2023',\n",
       " 'Jakarta Vessel departure': '26 May 2023',\n",
       " 'Tanjung Pelepas Vessel arrival': '28 May 2023',\n",
       " 'Tanjung Pelepas Discharge': '28 May 2023',\n",
       " 'Tanjung Pelepas Load': '01 Jun 2023',\n",
       " 'Tanjung Pelepas Vessel departure': '01 Jun 2023',\n",
       " 'Cagayan de Oro Vessel arrival': '14 Jun 2023',\n",
       " 'Cagayan de Oro Discharge': '14 Jun 2023',\n",
       " 'Cagayan de Oro Gate out': '31 Jul 2023'}"
      ]
     },
     "execution_count": 8,
     "metadata": {},
     "output_type": "execute_result"
    }
   ],
   "source": [
    "unique_list[0]"
   ]
  },
  {
   "cell_type": "code",
   "execution_count": 9,
   "metadata": {},
   "outputs": [],
   "source": [
    "filtered_dict_list =[]\n",
    "for dict_milestone in unique_list:\n",
    "    # print(dict_milestone)\n",
    "    kw = ['Bill of Lading number', 'Container Number', 'From', 'To', dict_milestone['From'], dict_milestone['To']]\n",
    "    dict_key = []\n",
    "    for keys in dict_milestone:\n",
    "        dict_key.append(keys)\n",
    "    # print(\"BEFORE\", dict_key)\n",
    "    new_list = [] \n",
    "    \n",
    "    for key in dict_key:\n",
    "        if any(substring in key for substring in kw):\n",
    "            new_list.append(key)\n",
    "    # print(\"AFTER\",new_list)\n",
    "    dict_milestone = {key: dict_milestone[key] for key in new_list}\n",
    "    filtered_dict_list.append(dict_milestone)"
   ]
  },
  {
   "cell_type": "code",
   "execution_count": 10,
   "metadata": {},
   "outputs": [
    {
     "data": {
      "text/plain": [
       "{'Container Number': 'MRSU4000263',\n",
       " 'Bill of Lading number': '227703778',\n",
       " 'From': 'Jakarta',\n",
       " 'To': 'Cagayan de Oro',\n",
       " 'Jakarta Gate outEmpty': '22 May 2023',\n",
       " 'Jakarta Gate in': '24 May 2023',\n",
       " 'Jakarta Load': '25 May 2023',\n",
       " 'Jakarta Vessel departure': '26 May 2023',\n",
       " 'Cagayan de Oro Vessel arrival': '14 Jun 2023',\n",
       " 'Cagayan de Oro Discharge': '14 Jun 2023',\n",
       " 'Cagayan de Oro Gate out': '31 Jul 2023'}"
      ]
     },
     "execution_count": 10,
     "metadata": {},
     "output_type": "execute_result"
    }
   ],
   "source": [
    "filtered_dict_list[0]"
   ]
  },
  {
   "cell_type": "code",
   "execution_count": 11,
   "metadata": {},
   "outputs": [],
   "source": [
    "list_of_dict_fix = []\n",
    "for filter_dict in filtered_dict_list:\n",
    "    replacement_mapping = {\n",
    "        filter_dict[\"From\"]: 'Origin',\n",
    "        filter_dict[\"To\"]: 'Destination'\n",
    "    }\n",
    "\n",
    "    updated_dict = {}\n",
    "\n",
    "    for key, value in filter_dict.items():\n",
    "        for old_key, new_key in replacement_mapping.items():\n",
    "            key = key.replace(old_key, new_key)\n",
    "        updated_dict[key] = value\n",
    "\n",
    "    list_of_dict_fix.append(updated_dict)"
   ]
  },
  {
   "cell_type": "code",
   "execution_count": 12,
   "metadata": {},
   "outputs": [
    {
     "data": {
      "text/plain": [
       "{'Container Number': 'MRSU4000263',\n",
       " 'Bill of Lading number': '227703778',\n",
       " 'From': 'Jakarta',\n",
       " 'To': 'Cagayan de Oro',\n",
       " 'Origin Gate outEmpty': '22 May 2023',\n",
       " 'Origin Gate in': '24 May 2023',\n",
       " 'Origin Load': '25 May 2023',\n",
       " 'Origin Vessel departure': '26 May 2023',\n",
       " 'Destination Vessel arrival': '14 Jun 2023',\n",
       " 'Destination Discharge': '14 Jun 2023',\n",
       " 'Destination Gate out': '31 Jul 2023'}"
      ]
     },
     "execution_count": 12,
     "metadata": {},
     "output_type": "execute_result"
    }
   ],
   "source": [
    "list_of_dict_fix[0]"
   ]
  },
  {
   "cell_type": "code",
   "execution_count": 13,
   "metadata": {},
   "outputs": [],
   "source": [
    "list_of_dict_fix2 = []\n",
    "for filter_dict in list_of_dict_fix:\n",
    "    replacement_mapping = {\n",
    "        \"Bill of Lading number\" : \"BL Number\",\n",
    "        \"Origin Vessel departure\": 'ATD',\n",
    "        \"Destination Discharge\": 'ATA',\n",
    "        \"Destination Gate out\": 'Container Release',\n",
    "        \"Destination Empty container return\" : 'Container Return'\n",
    "    }\n",
    "\n",
    "    updated_dict = {}\n",
    "\n",
    "    for key, value in filter_dict.items():\n",
    "        for old_key, new_key in replacement_mapping.items():\n",
    "            key = key.replace(old_key, new_key)\n",
    "        updated_dict[key] = value\n",
    "\n",
    "        if is_date(value):\n",
    "           input_date = datetime.strptime(value, '%d %b %Y')\n",
    "           updated_dict[key] = input_date.strftime(\"%Y-%m-%d\")\n",
    "    \n",
    "    updated_dict[\"Liners\"] = \"SEALAND\"\n",
    "\n",
    "    list_of_dict_fix2.append(updated_dict)"
   ]
  },
  {
   "cell_type": "code",
   "execution_count": 14,
   "metadata": {},
   "outputs": [
    {
     "data": {
      "text/plain": [
       "{'Container Number': 'MRSU4000263',\n",
       " 'BL Number': '227703778',\n",
       " 'From': 'Jakarta',\n",
       " 'To': 'Cagayan de Oro',\n",
       " 'Origin Gate outEmpty': '2023-05-22',\n",
       " 'Origin Gate in': '2023-05-24',\n",
       " 'Origin Load': '2023-05-25',\n",
       " 'ATD': '2023-05-26',\n",
       " 'Destination Vessel arrival': '2023-06-14',\n",
       " 'ATA': '2023-06-14',\n",
       " 'Container Release': '2023-07-31',\n",
       " 'Liners': 'SEALAND'}"
      ]
     },
     "execution_count": 14,
     "metadata": {},
     "output_type": "execute_result"
    }
   ],
   "source": [
    "list_of_dict_fix2[0]"
   ]
  },
  {
   "cell_type": "code",
   "execution_count": 17,
   "metadata": {},
   "outputs": [
    {
     "name": "stdout",
     "output_type": "stream",
     "text": [
      "Today's Collection Name ===>  all_tracking_Sep-18-2023\n",
      "Today's Collection Has Been Made\n",
      "Inserting Many Complete!!\n"
     ]
    }
   ],
   "source": [
    "# connect to mongodb\n",
    "from mongoinit import mongo_table_initiation, insert_many_mongo\n",
    "\n",
    "mongo_table_initiation()\n",
    "insert_many_mongo(list_of_dict_fix2)"
   ]
  },
  {
   "cell_type": "code",
   "execution_count": 14,
   "metadata": {},
   "outputs": [],
   "source": [
    "import datetime\n",
    "df = pd.DataFrame(list_of_dict_fix2)\n",
    "\n",
    "excel_file_path = 'export excel/SEALAND.xlsx'\n",
    "\n",
    "df.to_excel(excel_file_path, index=False)"
   ]
  },
  {
   "cell_type": "code",
   "execution_count": 16,
   "metadata": {},
   "outputs": [
    {
     "data": {
      "text/plain": [
       "[]"
      ]
     },
     "execution_count": 16,
     "metadata": {},
     "output_type": "execute_result"
    }
   ],
   "source": [
    "gagal "
   ]
  },
  {
   "cell_type": "code",
   "execution_count": null,
   "metadata": {},
   "outputs": [],
   "source": []
  }
 ],
 "metadata": {
  "kernelspec": {
   "display_name": "Python 3.10.10 64-bit",
   "language": "python",
   "name": "python3"
  },
  "language_info": {
   "codemirror_mode": {
    "name": "ipython",
    "version": 3
   },
   "file_extension": ".py",
   "mimetype": "text/x-python",
   "name": "python",
   "nbconvert_exporter": "python",
   "pygments_lexer": "ipython3",
   "version": "3.10.10"
  },
  "orig_nbformat": 4,
  "vscode": {
   "interpreter": {
    "hash": "8c3d4d9970fc5c09c50d9318a9c7fbf4d0159e4b28833276f5678ee22bded273"
   }
  }
 },
 "nbformat": 4,
 "nbformat_minor": 2
}
