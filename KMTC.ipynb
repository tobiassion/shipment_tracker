{
 "cells": [
  {
   "cell_type": "code",
   "execution_count": 1,
   "metadata": {},
   "outputs": [],
   "source": [
    "import requests\n",
    "import pandas as pd\n",
    "from datetime import date\n",
    "from io import BytesIO\n",
    "\n",
    "from datetime import datetime\n",
    "from dateutil.parser import parse\n",
    "from tqdm import tqdm\n",
    "\n",
    "import pymongo\n",
    "from pymongo import MongoClient\n",
    "from pymongo.server_api import ServerApi"
   ]
  },
  {
   "cell_type": "code",
   "execution_count": 2,
   "metadata": {},
   "outputs": [],
   "source": [
    "# class to determine ganjil genap\n",
    "def is_date(string, fuzzy=False):\n",
    "    try: \n",
    "        parse(string, fuzzy=fuzzy)\n",
    "        return True\n",
    "    except ValueError:\n",
    "        return False"
   ]
  },
  {
   "cell_type": "code",
   "execution_count": 3,
   "metadata": {},
   "outputs": [],
   "source": [
    "# reading all BL number from google sheet\n",
    "from acquiringbl import takingBL\n",
    "bl_list = takingBL(\"KMTC\")"
   ]
  },
  {
   "cell_type": "code",
   "execution_count": 4,
   "metadata": {},
   "outputs": [],
   "source": [
    "# array for failed tracking\n",
    "gagal=[]"
   ]
  },
  {
   "cell_type": "code",
   "execution_count": 5,
   "metadata": {},
   "outputs": [
    {
     "name": "stderr",
     "output_type": "stream",
     "text": [
      "  0%|          | 0/21 [00:00<?, ?it/s]"
     ]
    },
    {
     "name": "stdout",
     "output_type": "stream",
     "text": [
      "{'Liners': 'KMTC', 'From': 'JAKARTA', 'To': 'HOCHIMINH', 'BL Number': 'JKT4581147', 'Container Number': 'FCIU7270517', 'ETD': '2023-09-10', 'ETA': '2023-09-13', 'ATD': '2023-09-10', 'ATA': '2023-09-13'}\n",
      "{'Liners': 'KMTC', 'From': 'JAKARTA', 'To': 'HOCHIMINH', 'BL Number': 'JKT4581147', 'Container Number': 'FFAU1044834', 'ETD': '2023-09-10', 'ETA': '2023-09-13', 'ATD': '2023-09-10', 'ATA': '2023-09-13'}\n",
      "{'Liners': 'KMTC', 'From': 'JAKARTA', 'To': 'HOCHIMINH', 'BL Number': 'JKT4581147', 'Container Number': 'FFAU1058376', 'ETD': '2023-09-10', 'ETA': '2023-09-13', 'ATD': '2023-09-10', 'ATA': '2023-09-13'}\n",
      "{'Liners': 'KMTC', 'From': 'JAKARTA', 'To': 'HOCHIMINH', 'BL Number': 'JKT4581147', 'Container Number': 'FFAU1064147', 'ETD': '2023-09-10', 'ETA': '2023-09-13', 'ATD': '2023-09-10', 'ATA': '2023-09-13'}\n"
     ]
    },
    {
     "name": "stderr",
     "output_type": "stream",
     "text": [
      "  5%|▍         | 1/21 [00:01<00:37,  1.89s/it]"
     ]
    },
    {
     "name": "stdout",
     "output_type": "stream",
     "text": [
      "{'Liners': 'KMTC', 'From': 'JAKARTA', 'To': 'HOCHIMINH', 'BL Number': 'JKT4581147', 'Container Number': 'KMTU9361194', 'ETD': '2023-09-10', 'ETA': '2023-09-13', 'ATD': '2023-09-10', 'ATA': '2023-09-13'}\n",
      "{'Liners': 'KMTC', 'From': 'JAKARTA', 'To': 'HOCHIMINH', 'BL Number': 'JKT4567181', 'Container Number': 'BMOU6207785', 'ETD': '2023-08-24', 'ETA': '2023-08-30', 'ATD': '2023-08-24', 'ATA': '2023-08-30', 'Container Release': '2023-09-12', 'Container Return': '2023-09-14'}\n",
      "{'Liners': 'KMTC', 'From': 'JAKARTA', 'To': 'HOCHIMINH', 'BL Number': 'JKT4567181', 'Container Number': 'BMOU6932821', 'ETD': '2023-08-24', 'ETA': '2023-08-30', 'ATD': '2023-08-24', 'ATA': '2023-08-30', 'Container Release': '2023-09-11', 'Container Return': '2023-09-15'}\n",
      "{'Liners': 'KMTC', 'From': 'JAKARTA', 'To': 'HOCHIMINH', 'BL Number': 'JKT4567181', 'Container Number': 'BMOU6935055', 'ETD': '2023-08-24', 'ETA': '2023-08-30', 'ATD': '2023-08-24', 'ATA': '2023-08-30', 'Container Release': '2023-09-10', 'Container Return': '2023-09-11'}\n",
      "{'Liners': 'KMTC', 'From': 'JAKARTA', 'To': 'HOCHIMINH', 'BL Number': 'JKT4567181', 'Container Number': 'FCIU7149980', 'ETD': '2023-08-24', 'ETA': '2023-08-30', 'ATD': '2023-08-24', 'ATA': '2023-08-30', 'Container Release': '2023-09-12', 'Container Return': '2023-09-13'}\n",
      "{'Liners': 'KMTC', 'From': 'JAKARTA', 'To': 'HOCHIMINH', 'BL Number': 'JKT4567181', 'Container Number': 'FCIU7535473', 'ETD': '2023-08-24', 'ETA': '2023-08-30', 'ATD': '2023-08-24', 'ATA': '2023-08-30', 'Container Release': '2023-09-08', 'Container Return': '2023-09-09'}\n",
      "{'Liners': 'KMTC', 'From': 'JAKARTA', 'To': 'HOCHIMINH', 'BL Number': 'JKT4567181', 'Container Number': 'FFAU1060603', 'ETD': '2023-08-24', 'ETA': '2023-08-30', 'ATD': '2023-08-24', 'ATA': '2023-08-30', 'Container Release': '2023-09-09', 'Container Return': '2023-09-09'}\n",
      "{'Liners': 'KMTC', 'From': 'JAKARTA', 'To': 'HOCHIMINH', 'BL Number': 'JKT4567181', 'Container Number': 'FFAU3976853', 'ETD': '2023-08-24', 'ETA': '2023-08-30', 'ATD': '2023-08-24', 'ATA': '2023-08-30', 'Container Release': '2023-09-09', 'Container Return': '2023-09-09'}\n",
      "{'Liners': 'KMTC', 'From': 'JAKARTA', 'To': 'HOCHIMINH', 'BL Number': 'JKT4567181', 'Container Number': 'FFAU3983976', 'ETD': '2023-08-24', 'ETA': '2023-08-30', 'ATD': '2023-08-24', 'ATA': '2023-08-30', 'Container Release': '2023-09-09', 'Container Return': '2023-09-11'}\n",
      "{'Liners': 'KMTC', 'From': 'JAKARTA', 'To': 'HOCHIMINH', 'BL Number': 'JKT4567181', 'Container Number': 'SEKU5227027', 'ETD': '2023-08-24', 'ETA': '2023-08-30', 'ATD': '2023-08-24', 'ATA': '2023-08-30', 'Container Release': '2023-09-12', 'Container Return': '2023-09-13'}\n"
     ]
    },
    {
     "name": "stderr",
     "output_type": "stream",
     "text": [
      " 10%|▉         | 2/21 [00:04<00:44,  2.34s/it]"
     ]
    },
    {
     "name": "stdout",
     "output_type": "stream",
     "text": [
      "{'Liners': 'KMTC', 'From': 'JAKARTA', 'To': 'HOCHIMINH', 'BL Number': 'JKT4567181', 'Container Number': 'SEKU5952281', 'ETD': '2023-08-24', 'ETA': '2023-08-30', 'ATD': '2023-08-24', 'ATA': '2023-08-30', 'Container Release': '2023-09-12', 'Container Return': '2023-09-12'}\n",
      "{'Liners': 'KMTC', 'From': 'JAKARTA', 'To': 'SHANGHAI', 'BL Number': 'JKT4567842', 'Container Number': 'BEAU4923127', 'ETD': '2023-08-30', 'ETA': '2023-09-09', 'ATD': '2023-08-30', 'ATA': '2023-09-09', 'Container Release': '2023-09-13', 'Container Return': '2023-09-14'}\n",
      "{'Liners': 'KMTC', 'From': 'JAKARTA', 'To': 'SHANGHAI', 'BL Number': 'JKT4567842', 'Container Number': 'BMOU6921874', 'ETD': '2023-08-30', 'ETA': '2023-09-09', 'ATD': '2023-08-30', 'ATA': '2023-09-09', 'Container Release': '2023-09-13', 'Container Return': '2023-09-13'}\n",
      "{'Liners': 'KMTC', 'From': 'JAKARTA', 'To': 'SHANGHAI', 'BL Number': 'JKT4567842', 'Container Number': 'FCIU7121658', 'ETD': '2023-08-30', 'ETA': '2023-09-09', 'ATD': '2023-08-30', 'ATA': '2023-09-09', 'Container Release': '2023-09-11', 'Container Return': '2023-09-12'}\n",
      "{'Liners': 'KMTC', 'From': 'JAKARTA', 'To': 'SHANGHAI', 'BL Number': 'JKT4567842', 'Container Number': 'FFAU1043761', 'ETD': '2023-08-30', 'ETA': '2023-09-09', 'ATD': '2023-08-30', 'ATA': '2023-09-09', 'Container Release': '2023-09-11', 'Container Return': '2023-09-12'}\n",
      "{'Liners': 'KMTC', 'From': 'JAKARTA', 'To': 'SHANGHAI', 'BL Number': 'JKT4567842', 'Container Number': 'FFAU1048383', 'ETD': '2023-08-30', 'ETA': '2023-09-09', 'ATD': '2023-08-30', 'ATA': '2023-09-09', 'Container Release': '2023-09-13', 'Container Return': '2023-09-13'}\n",
      "{'Liners': 'KMTC', 'From': 'JAKARTA', 'To': 'SHANGHAI', 'BL Number': 'JKT4567842', 'Container Number': 'FFAU1088745', 'ETD': '2023-08-30', 'ETA': '2023-09-09', 'ATD': '2023-08-30', 'ATA': '2023-09-09', 'Container Release': '2023-09-12', 'Container Return': '2023-09-13'}\n",
      "{'Liners': 'KMTC', 'From': 'JAKARTA', 'To': 'SHANGHAI', 'BL Number': 'JKT4567842', 'Container Number': 'KMTU9350374', 'ETD': '2023-08-30', 'ETA': '2023-09-09', 'ATD': '2023-08-30', 'ATA': '2023-09-09', 'Container Release': '2023-09-13', 'Container Return': '2023-09-13'}\n",
      "{'Liners': 'KMTC', 'From': 'JAKARTA', 'To': 'SHANGHAI', 'BL Number': 'JKT4567842', 'Container Number': 'SEGU6150115', 'ETD': '2023-08-30', 'ETA': '2023-09-09', 'ATD': '2023-08-30', 'ATA': '2023-09-09', 'Container Release': '2023-09-13', 'Container Return': '2023-09-14'}\n",
      "{'Liners': 'KMTC', 'From': 'JAKARTA', 'To': 'SHANGHAI', 'BL Number': 'JKT4567842', 'Container Number': 'SEKU5852235', 'ETD': '2023-08-30', 'ETA': '2023-09-09', 'ATD': '2023-08-30', 'ATA': '2023-09-09', 'Container Release': '2023-09-11', 'Container Return': '2023-09-12'}\n",
      "{'Liners': 'KMTC', 'From': 'JAKARTA', 'To': 'SHANGHAI', 'BL Number': 'JKT4567842', 'Container Number': 'TXGU5018042', 'ETD': '2023-08-30', 'ETA': '2023-09-09', 'ATD': '2023-08-30', 'ATA': '2023-09-09', 'Container Release': '2023-09-14', 'Container Return': '2023-09-15'}\n",
      "{'Liners': 'KMTC', 'From': 'JAKARTA', 'To': 'SHANGHAI', 'BL Number': 'JKT4567842', 'Container Number': 'TXGU5022269', 'ETD': '2023-08-30', 'ETA': '2023-09-09', 'ATD': '2023-08-30', 'ATA': '2023-09-09', 'Container Release': '2023-09-12', 'Container Return': '2023-09-12'}\n",
      "{'Liners': 'KMTC', 'From': 'JAKARTA', 'To': 'SHANGHAI', 'BL Number': 'JKT4567842', 'Container Number': 'TXGU5033371', 'ETD': '2023-08-30', 'ETA': '2023-09-09', 'ATD': '2023-08-30', 'ATA': '2023-09-09', 'Container Release': '2023-09-11', 'Container Return': '2023-09-12'}\n",
      "{'Liners': 'KMTC', 'From': 'JAKARTA', 'To': 'SHANGHAI', 'BL Number': 'JKT4567842', 'Container Number': 'TXGU5033670', 'ETD': '2023-08-30', 'ETA': '2023-09-09', 'ATD': '2023-08-30', 'ATA': '2023-09-09', 'Container Release': '2023-09-13', 'Container Return': '2023-09-13'}\n",
      "{'Liners': 'KMTC', 'From': 'JAKARTA', 'To': 'SHANGHAI', 'BL Number': 'JKT4567842', 'Container Number': 'TXGU6145334', 'ETD': '2023-08-30', 'ETA': '2023-09-09', 'ATD': '2023-08-30', 'ATA': '2023-09-09', 'Container Release': '2023-09-12', 'Container Return': '2023-09-12'}\n"
     ]
    },
    {
     "name": "stderr",
     "output_type": "stream",
     "text": [
      " 14%|█▍        | 3/21 [00:10<01:08,  3.82s/it]"
     ]
    },
    {
     "name": "stdout",
     "output_type": "stream",
     "text": [
      "{'Liners': 'KMTC', 'From': 'JAKARTA', 'To': 'SHANGHAI', 'BL Number': 'JKT4567842', 'Container Number': 'UETU5449634', 'ETD': '2023-08-30', 'ETA': '2023-09-09', 'ATD': '2023-08-30', 'ATA': '2023-09-09', 'Container Release': '2023-09-14', 'Container Return': '2023-09-15'}\n",
      "{'Liners': 'KMTC', 'From': 'JAKARTA', 'To': 'HOCHIMINH', 'BL Number': 'JKT4565612', 'Container Number': 'FCIU7472462', 'ETD': '2023-08-30', 'ETA': '2023-09-04', 'ATD': '2023-08-30', 'ATA': '2023-09-04', 'Container Release': '2023-09-16'}\n",
      "{'Liners': 'KMTC', 'From': 'JAKARTA', 'To': 'HOCHIMINH', 'BL Number': 'JKT4565612', 'Container Number': 'FFAU1079759', 'ETD': '2023-08-30', 'ETA': '2023-09-04', 'ATD': '2023-08-30', 'ATA': '2023-09-04'}\n",
      "{'Liners': 'KMTC', 'From': 'JAKARTA', 'To': 'HOCHIMINH', 'BL Number': 'JKT4565612', 'Container Number': 'SEGU6636236', 'ETD': '2023-08-30', 'ETA': '2023-09-04', 'ATD': '2023-08-30', 'ATA': '2023-09-04'}\n",
      "{'Liners': 'KMTC', 'From': 'JAKARTA', 'To': 'HOCHIMINH', 'BL Number': 'JKT4565612', 'Container Number': 'TXGU5014577', 'ETD': '2023-08-30', 'ETA': '2023-09-04', 'ATD': '2023-08-30', 'ATA': '2023-09-04'}\n"
     ]
    },
    {
     "name": "stderr",
     "output_type": "stream",
     "text": [
      " 19%|█▉        | 4/21 [00:12<00:52,  3.08s/it]"
     ]
    },
    {
     "name": "stdout",
     "output_type": "stream",
     "text": [
      "{'Liners': 'KMTC', 'From': 'JAKARTA', 'To': 'HOCHIMINH', 'BL Number': 'JKT4565612', 'Container Number': 'UETU5445984', 'ETD': '2023-08-30', 'ETA': '2023-09-04', 'ATD': '2023-08-30', 'ATA': '2023-09-04'}\n"
     ]
    },
    {
     "name": "stderr",
     "output_type": "stream",
     "text": [
      " 24%|██▍       | 5/21 [00:12<00:35,  2.20s/it]"
     ]
    },
    {
     "name": "stdout",
     "output_type": "stream",
     "text": [
      "{'Liners': 'KMTC', 'From': 'JAKARTA', 'To': 'HOCHIMINH', 'BL Number': 'JKT4587153', 'Container Number': 'BEAU4878007', 'ETD': '2023-09-10', 'ETA': '2023-09-13', 'ATD': '2023-09-10', 'ATA': '2023-09-13'}\n",
      "{'Liners': 'KMTC', 'From': 'JAKARTA', 'To': 'SHEKOU', 'BL Number': 'JKT4572811', 'Container Number': 'FCIU7232271', 'ETD': '2023-09-10', 'ETA': '2023-09-17', 'ATD': '2023-09-10', 'ATA': '2023-09-17'}\n",
      "{'Liners': 'KMTC', 'From': 'JAKARTA', 'To': 'SHEKOU', 'BL Number': 'JKT4572811', 'Container Number': 'FFAU1029850', 'ETD': '2023-09-10', 'ETA': '2023-09-17', 'ATD': '2023-09-10', 'ATA': '2023-09-17'}\n",
      "{'Liners': 'KMTC', 'From': 'JAKARTA', 'To': 'SHEKOU', 'BL Number': 'JKT4572811', 'Container Number': 'FFAU4380088', 'ETD': '2023-09-10', 'ETA': '2023-09-17', 'ATD': '2023-09-10', 'ATA': '2023-09-17'}\n",
      "{'Liners': 'KMTC', 'From': 'JAKARTA', 'To': 'SHEKOU', 'BL Number': 'JKT4572811', 'Container Number': 'GCXU5906325', 'ETD': '2023-09-10', 'ETA': '2023-09-17', 'ATD': '2023-09-10', 'ATA': '2023-09-17'}\n",
      "{'Liners': 'KMTC', 'From': 'JAKARTA', 'To': 'SHEKOU', 'BL Number': 'JKT4572811', 'Container Number': 'SEGU4597341', 'ETD': '2023-09-10', 'ETA': '2023-09-17', 'ATD': '2023-09-10', 'ATA': '2023-09-17'}\n",
      "{'Liners': 'KMTC', 'From': 'JAKARTA', 'To': 'SHEKOU', 'BL Number': 'JKT4572811', 'Container Number': 'TXGU5001630', 'ETD': '2023-09-10', 'ETA': '2023-09-17', 'ATD': '2023-09-10', 'ATA': '2023-09-17'}\n",
      "{'Liners': 'KMTC', 'From': 'JAKARTA', 'To': 'SHEKOU', 'BL Number': 'JKT4572811', 'Container Number': 'TXGU5010484', 'ETD': '2023-09-10', 'ETA': '2023-09-17', 'ATD': '2023-09-10', 'ATA': '2023-09-17'}\n",
      "{'Liners': 'KMTC', 'From': 'JAKARTA', 'To': 'SHEKOU', 'BL Number': 'JKT4572811', 'Container Number': 'TXGU5011449', 'ETD': '2023-09-10', 'ETA': '2023-09-17', 'ATD': '2023-09-10', 'ATA': '2023-09-17'}\n",
      "{'Liners': 'KMTC', 'From': 'JAKARTA', 'To': 'SHEKOU', 'BL Number': 'JKT4572811', 'Container Number': 'TXGU5027785', 'ETD': '2023-09-10', 'ETA': '2023-09-17', 'ATD': '2023-09-10', 'ATA': '2023-09-17'}\n",
      "{'Liners': 'KMTC', 'From': 'JAKARTA', 'To': 'SHEKOU', 'BL Number': 'JKT4572811', 'Container Number': 'TXGU6136543', 'ETD': '2023-09-10', 'ETA': '2023-09-17', 'ATD': '2023-09-10', 'ATA': '2023-09-17'}\n"
     ]
    },
    {
     "name": "stderr",
     "output_type": "stream",
     "text": [
      " 29%|██▊       | 6/21 [00:15<00:38,  2.55s/it]"
     ]
    },
    {
     "name": "stdout",
     "output_type": "stream",
     "text": [
      "{'Liners': 'KMTC', 'From': 'JAKARTA', 'To': 'SHEKOU', 'BL Number': 'JKT4572811', 'Container Number': 'TXGU6142649', 'ETD': '2023-09-10', 'ETA': '2023-09-17', 'ATD': '2023-09-10', 'ATA': '2023-09-17'}\n",
      "{'Liners': 'KMTC', 'From': 'JAKARTA', 'To': 'NORTH MANILA', 'BL Number': 'JKT4471892', 'Container Number': 'BMOU6936112', 'ETD': '2023-06-02', 'ETA': '2023-06-09', 'ATD': '2023-06-02', 'ATA': '2023-06-09'}\n"
     ]
    },
    {
     "name": "stderr",
     "output_type": "stream",
     "text": [
      " 33%|███▎      | 7/21 [00:16<00:27,  1.96s/it]"
     ]
    },
    {
     "name": "stdout",
     "output_type": "stream",
     "text": [
      "{'Liners': 'KMTC', 'From': 'JAKARTA', 'To': 'NORTH MANILA', 'BL Number': 'JKT4471892', 'Container Number': 'FFAU4443490', 'ETD': '2023-06-02', 'ETA': '2023-06-09', 'ATD': '2023-06-02', 'ATA': '2023-06-09'}\n",
      "{'Liners': 'KMTC', 'From': 'JAKARTA', 'To': 'HOCHIMINH', 'BL Number': 'JKT4571311', 'Container Number': 'BMOU6933941', 'ETD': '2023-09-02', 'ETA': '2023-09-05', 'ATD': '2023-09-02', 'ATA': '2023-09-05', 'Container Release': '2023-09-15'}\n",
      "{'Liners': 'KMTC', 'From': 'JAKARTA', 'To': 'HOCHIMINH', 'BL Number': 'JKT4571311', 'Container Number': 'SEGU5538600', 'ETD': '2023-09-02', 'ETA': '2023-09-05', 'ATD': '2023-09-02', 'ATA': '2023-09-05'}\n",
      "{'Liners': 'KMTC', 'From': 'JAKARTA', 'To': 'HOCHIMINH', 'BL Number': 'JKT4571311', 'Container Number': 'SEKU5214117', 'ETD': '2023-09-02', 'ETA': '2023-09-05', 'ATD': '2023-09-02', 'ATA': '2023-09-05'}\n"
     ]
    },
    {
     "name": "stderr",
     "output_type": "stream",
     "text": [
      " 38%|███▊      | 8/21 [00:18<00:23,  1.78s/it]"
     ]
    },
    {
     "name": "stdout",
     "output_type": "stream",
     "text": [
      "{'Liners': 'KMTC', 'From': 'JAKARTA', 'To': 'HOCHIMINH', 'BL Number': 'JKT4571311', 'Container Number': 'TGBU6401080', 'ETD': '2023-09-02', 'ETA': '2023-09-05', 'ATD': '2023-09-02', 'ATA': '2023-09-05', 'Container Release': '2023-09-15', 'Container Return': '2023-09-18'}\n",
      "{'Liners': 'KMTC', 'From': 'JAKARTA', 'To': 'HOCHIMINH', 'BL Number': 'JKT4567601', 'Container Number': 'KMTU9354739', 'ETD': '2023-08-30', 'ETA': '2023-09-04', 'ATD': '2023-08-30', 'ATA': '2023-09-04'}\n"
     ]
    },
    {
     "name": "stderr",
     "output_type": "stream",
     "text": [
      " 43%|████▎     | 9/21 [00:18<00:17,  1.47s/it]"
     ]
    },
    {
     "name": "stdout",
     "output_type": "stream",
     "text": [
      "{'Liners': 'KMTC', 'From': 'JAKARTA', 'To': 'HOCHIMINH', 'BL Number': 'JKT4567601', 'Container Number': 'SEGU4790303', 'ETD': '2023-08-30', 'ETA': '2023-09-04', 'ATD': '2023-08-30', 'ATA': '2023-09-04'}\n",
      "{'Liners': 'KMTC', 'From': 'JAKARTA', 'To': 'XINGANG', 'BL Number': 'JKT4568565', 'Container Number': 'BMOU6035794', 'ETD': '2023-08-27', 'ETA': '2023-09-13', 'ATD': '2023-08-27', 'ATA': '2023-09-13', 'Container Release': '2023-09-13'}\n",
      "{'Liners': 'KMTC', 'From': 'JAKARTA', 'To': 'XINGANG', 'BL Number': 'JKT4568565', 'Container Number': 'BMOU6226260', 'ETD': '2023-08-27', 'ETA': '2023-09-13', 'ATD': '2023-08-27', 'ATA': '2023-09-13', 'Container Release': '2023-09-13'}\n",
      "{'Liners': 'KMTC', 'From': 'JAKARTA', 'To': 'XINGANG', 'BL Number': 'JKT4568565', 'Container Number': 'BMOU6248402', 'ETD': '2023-08-27', 'ETA': '2023-09-13', 'ATD': '2023-08-27', 'ATA': '2023-09-13', 'Container Release': '2023-09-13'}\n",
      "{'Liners': 'KMTC', 'From': 'JAKARTA', 'To': 'XINGANG', 'BL Number': 'JKT4568565', 'Container Number': 'FCIU7113457', 'ETD': '2023-08-27', 'ETA': '2023-09-13', 'ATD': '2023-08-27', 'ATA': '2023-09-13', 'Container Release': '2023-09-13'}\n",
      "{'Liners': 'KMTC', 'From': 'JAKARTA', 'To': 'XINGANG', 'BL Number': 'JKT4568565', 'Container Number': 'FCIU7137675', 'ETD': '2023-08-27', 'ETA': '2023-09-13', 'ATD': '2023-08-27', 'ATA': '2023-09-13', 'Container Release': '2023-09-13'}\n",
      "{'Liners': 'KMTC', 'From': 'JAKARTA', 'To': 'XINGANG', 'BL Number': 'JKT4568565', 'Container Number': 'SEGU4797139', 'ETD': '2023-08-27', 'ETA': '2023-09-13', 'ATD': '2023-08-27', 'ATA': '2023-09-13', 'Container Release': '2023-09-13'}\n",
      "{'Liners': 'KMTC', 'From': 'JAKARTA', 'To': 'XINGANG', 'BL Number': 'JKT4568565', 'Container Number': 'SEGU4971003', 'ETD': '2023-08-27', 'ETA': '2023-09-13', 'ATD': '2023-08-27', 'ATA': '2023-09-13', 'Container Release': '2023-09-13'}\n"
     ]
    },
    {
     "name": "stderr",
     "output_type": "stream",
     "text": [
      " 48%|████▊     | 10/21 [00:21<00:20,  1.86s/it]"
     ]
    },
    {
     "name": "stdout",
     "output_type": "stream",
     "text": [
      "{'Liners': 'KMTC', 'From': 'JAKARTA', 'To': 'XINGANG', 'BL Number': 'JKT4568565', 'Container Number': 'TEMU6625198', 'ETD': '2023-08-27', 'ETA': '2023-09-13', 'ATD': '2023-08-27', 'ATA': '2023-09-13', 'Container Release': '2023-09-13'}\n",
      "{'Liners': 'KMTC', 'From': 'JAKARTA', 'To': 'HOCHIMINH', 'BL Number': 'JKT4580152', 'Container Number': 'BMOU6240119', 'ETD': '2023-09-10', 'ETA': '2023-09-13', 'ATD': '2023-09-10', 'ATA': '2023-09-13'}\n",
      "{'Liners': 'KMTC', 'From': 'JAKARTA', 'To': 'HOCHIMINH', 'BL Number': 'JKT4580152', 'Container Number': 'FFAU1068327', 'ETD': '2023-09-10', 'ETA': '2023-09-13', 'ATD': '2023-09-10', 'ATA': '2023-09-13'}\n",
      "{'Liners': 'KMTC', 'From': 'JAKARTA', 'To': 'HOCHIMINH', 'BL Number': 'JKT4580152', 'Container Number': 'FFAU4309135', 'ETD': '2023-09-10', 'ETA': '2023-09-13', 'ATD': '2023-09-10', 'ATA': '2023-09-13'}\n"
     ]
    },
    {
     "name": "stderr",
     "output_type": "stream",
     "text": [
      " 52%|█████▏    | 11/21 [00:23<00:17,  1.77s/it]"
     ]
    },
    {
     "name": "stdout",
     "output_type": "stream",
     "text": [
      "{'Liners': 'KMTC', 'From': 'JAKARTA', 'To': 'HOCHIMINH', 'BL Number': 'JKT4580152', 'Container Number': 'TXGU5043298', 'ETD': '2023-09-10', 'ETA': '2023-09-13', 'ATD': '2023-09-10', 'ATA': '2023-09-13'}\n",
      "{'Liners': 'KMTC', 'From': 'JAKARTA', 'To': 'HOCHIMINH', 'BL Number': 'JKT4567183', 'Container Number': 'BEAU4932324', 'ETD': '2023-08-24', 'ETA': '2023-08-30', 'ATD': '2023-08-24', 'ATA': '2023-08-30', 'Container Release': '2023-09-11'}\n",
      "{'Liners': 'KMTC', 'From': 'JAKARTA', 'To': 'HOCHIMINH', 'BL Number': 'JKT4567183', 'Container Number': 'FFAU1068461', 'ETD': '2023-08-24', 'ETA': '2023-08-30', 'ATD': '2023-08-24', 'ATA': '2023-08-30', 'Container Release': '2023-09-11'}\n",
      "{'Liners': 'KMTC', 'From': 'JAKARTA', 'To': 'HOCHIMINH', 'BL Number': 'JKT4567183', 'Container Number': 'FFAU3976030', 'ETD': '2023-08-24', 'ETA': '2023-08-30', 'ATD': '2023-08-24', 'ATA': '2023-08-30', 'Container Release': '2023-09-12'}\n",
      "{'Liners': 'KMTC', 'From': 'JAKARTA', 'To': 'HOCHIMINH', 'BL Number': 'JKT4567183', 'Container Number': 'GCXU5906897', 'ETD': '2023-08-24', 'ETA': '2023-08-30', 'ATD': '2023-08-24', 'ATA': '2023-08-30', 'Container Release': '2023-09-10', 'Container Return': '2023-09-11'}\n"
     ]
    },
    {
     "name": "stderr",
     "output_type": "stream",
     "text": [
      " 57%|█████▋    | 12/21 [00:24<00:16,  1.78s/it]"
     ]
    },
    {
     "name": "stdout",
     "output_type": "stream",
     "text": [
      "{'Liners': 'KMTC', 'From': 'JAKARTA', 'To': 'HOCHIMINH', 'BL Number': 'JKT4567183', 'Container Number': 'TXGU5045454', 'ETD': '2023-08-24', 'ETA': '2023-08-30', 'ATD': '2023-08-24', 'ATA': '2023-08-30', 'Container Release': '2023-09-11', 'Container Return': '2023-09-15'}\n"
     ]
    },
    {
     "name": "stderr",
     "output_type": "stream",
     "text": [
      " 62%|██████▏   | 13/21 [00:25<00:11,  1.40s/it]"
     ]
    },
    {
     "name": "stdout",
     "output_type": "stream",
     "text": [
      "{'Liners': 'KMTC', 'From': 'JAKARTA', 'To': 'NORTH MANILA', 'BL Number': 'JKT4435445', 'Container Number': 'FFAU3967342', 'ETD': '2023-04-07', 'ETA': '2023-04-14', 'ATD': '2023-04-07', 'ATA': '2023-04-14', 'Container Release': '2023-05-12'}\n",
      "{'Liners': 'KMTC', 'From': 'JAKARTA', 'To': 'SHANGHAI', 'BL Number': 'JKT4562683', 'Container Number': 'BMOU6032012', 'ETD': '2023-08-30', 'ETA': '2023-09-09', 'ATD': '2023-08-30', 'ATA': '2023-09-09', 'Container Release': '2023-09-12', 'Container Return': '2023-09-12'}\n",
      "{'Liners': 'KMTC', 'From': 'JAKARTA', 'To': 'SHANGHAI', 'BL Number': 'JKT4562683', 'Container Number': 'DFSU6753129', 'ETD': '2023-08-30', 'ETA': '2023-09-09', 'ATD': '2023-08-30', 'ATA': '2023-09-09', 'Container Release': '2023-09-14', 'Container Return': '2023-09-14'}\n",
      "{'Liners': 'KMTC', 'From': 'JAKARTA', 'To': 'SHANGHAI', 'BL Number': 'JKT4562683', 'Container Number': 'FCIU7471390', 'ETD': '2023-08-30', 'ETA': '2023-09-09', 'ATD': '2023-08-30', 'ATA': '2023-09-09', 'Container Release': '2023-09-13', 'Container Return': '2023-09-13'}\n",
      "{'Liners': 'KMTC', 'From': 'JAKARTA', 'To': 'SHANGHAI', 'BL Number': 'JKT4562683', 'Container Number': 'FFAU1038451', 'ETD': '2023-08-30', 'ETA': '2023-09-09', 'ATD': '2023-08-30', 'ATA': '2023-09-09', 'Container Release': '2023-09-15', 'Container Return': '2023-09-15'}\n",
      "{'Liners': 'KMTC', 'From': 'JAKARTA', 'To': 'SHANGHAI', 'BL Number': 'JKT4562683', 'Container Number': 'FFAU1059475', 'ETD': '2023-08-30', 'ETA': '2023-09-09', 'ATD': '2023-08-30', 'ATA': '2023-09-09', 'Container Release': '2023-09-15', 'Container Return': '2023-09-15'}\n",
      "{'Liners': 'KMTC', 'From': 'JAKARTA', 'To': 'SHANGHAI', 'BL Number': 'JKT4562683', 'Container Number': 'FFAU4248575', 'ETD': '2023-08-30', 'ETA': '2023-09-09', 'ATD': '2023-08-30', 'ATA': '2023-09-09', 'Container Release': '2023-09-14', 'Container Return': '2023-09-14'}\n",
      "{'Liners': 'KMTC', 'From': 'JAKARTA', 'To': 'SHANGHAI', 'BL Number': 'JKT4562683', 'Container Number': 'KMTU9312883', 'ETD': '2023-08-30', 'ETA': '2023-09-09', 'ATD': '2023-08-30', 'ATA': '2023-09-09', 'Container Release': '2023-09-12', 'Container Return': '2023-09-12'}\n",
      "{'Liners': 'KMTC', 'From': 'JAKARTA', 'To': 'SHANGHAI', 'BL Number': 'JKT4562683', 'Container Number': 'SEGU5543118', 'ETD': '2023-08-30', 'ETA': '2023-09-09', 'ATD': '2023-08-30', 'ATA': '2023-09-09', 'Container Release': '2023-09-12', 'Container Return': '2023-09-12'}\n",
      "{'Liners': 'KMTC', 'From': 'JAKARTA', 'To': 'SHANGHAI', 'BL Number': 'JKT4562683', 'Container Number': 'TEMU6690892', 'ETD': '2023-08-30', 'ETA': '2023-09-09', 'ATD': '2023-08-30', 'ATA': '2023-09-09', 'Container Release': '2023-09-14', 'Container Return': '2023-09-14'}\n",
      "{'Liners': 'KMTC', 'From': 'JAKARTA', 'To': 'SHANGHAI', 'BL Number': 'JKT4562683', 'Container Number': 'TEMU7817894', 'ETD': '2023-08-30', 'ETA': '2023-09-09', 'ATD': '2023-08-30', 'ATA': '2023-09-09', 'Container Release': '2023-09-14', 'Container Return': '2023-09-14'}\n",
      "{'Liners': 'KMTC', 'From': 'JAKARTA', 'To': 'SHANGHAI', 'BL Number': 'JKT4562683', 'Container Number': 'TXGU5022680', 'ETD': '2023-08-30', 'ETA': '2023-09-09', 'ATD': '2023-08-30', 'ATA': '2023-09-09', 'Container Release': '2023-09-12', 'Container Return': '2023-09-12'}\n"
     ]
    },
    {
     "name": "stderr",
     "output_type": "stream",
     "text": [
      " 67%|██████▋   | 14/21 [00:29<00:16,  2.31s/it]"
     ]
    },
    {
     "name": "stdout",
     "output_type": "stream",
     "text": [
      "{'Liners': 'KMTC', 'From': 'JAKARTA', 'To': 'SHANGHAI', 'BL Number': 'JKT4562683', 'Container Number': 'UETU5446785', 'ETD': '2023-08-30', 'ETA': '2023-09-09', 'ATD': '2023-08-30', 'ATA': '2023-09-09', 'Container Release': '2023-09-12', 'Container Return': '2023-09-12'}\n"
     ]
    },
    {
     "name": "stderr",
     "output_type": "stream",
     "text": [
      " 71%|███████▏  | 15/21 [00:30<00:10,  1.78s/it]"
     ]
    },
    {
     "name": "stdout",
     "output_type": "stream",
     "text": [
      "{'Liners': 'KMTC', 'From': 'JAKARTA', 'To': 'NORTH MANILA', 'BL Number': 'JKT4471882', 'Container Number': 'SEGU4798536', 'ETD': '2023-06-02', 'ETA': '2023-06-09', 'ATD': '2023-06-02', 'ATA': '2023-06-09'}\n",
      "{'Liners': 'KMTC', 'From': 'JAKARTA', 'To': 'HAIPHONG', 'BL Number': 'JKT4577270', 'Container Number': 'FCIU7144817', 'ETD': '2023-09-02', 'ETA': '2023-09-08', 'ATD': '2023-09-02', 'ATA': '2023-09-17'}\n",
      "{'Liners': 'KMTC', 'From': 'JAKARTA', 'To': 'HAIPHONG', 'BL Number': 'JKT4577270', 'Container Number': 'SEGU5563500', 'ETD': '2023-09-02', 'ETA': '2023-09-08', 'ATD': '2023-09-02', 'ATA': '2023-09-17'}\n"
     ]
    },
    {
     "name": "stderr",
     "output_type": "stream",
     "text": [
      " 76%|███████▌  | 16/21 [00:31<00:08,  1.63s/it]"
     ]
    },
    {
     "name": "stdout",
     "output_type": "stream",
     "text": [
      "{'Liners': 'KMTC', 'From': 'JAKARTA', 'To': 'HAIPHONG', 'BL Number': 'JKT4577270', 'Container Number': 'TGBU6400334', 'ETD': '2023-09-02', 'ETA': '2023-09-08', 'ATD': '2023-09-02', 'ATA': '2023-09-17'}\n"
     ]
    },
    {
     "name": "stderr",
     "output_type": "stream",
     "text": [
      " 81%|████████  | 17/21 [00:32<00:05,  1.29s/it]"
     ]
    },
    {
     "name": "stdout",
     "output_type": "stream",
     "text": [
      "{'Liners': 'KMTC', 'From': 'JAKARTA', 'To': 'NORTH MANILA', 'BL Number': 'JKT4479884', 'Container Number': 'BMOU6345887', 'ETD': '2023-06-02', 'ETA': '2023-06-09', 'ATD': '2023-06-02', 'ATA': '2023-06-09'}\n"
     ]
    },
    {
     "name": "stderr",
     "output_type": "stream",
     "text": [
      " 86%|████████▌ | 18/21 [00:32<00:03,  1.10s/it]"
     ]
    },
    {
     "name": "stdout",
     "output_type": "stream",
     "text": [
      "{'Liners': 'KMTC', 'From': 'JAKARTA', 'To': 'HOCHIMINH', 'BL Number': 'JKT4567658', 'Container Number': 'FFAU1052465', 'ETD': '2023-08-29', 'ETA': '2023-09-01', 'ATD': '2023-08-29', 'ATA': '2023-09-01', 'Container Release': '2023-09-15', 'Container Return': '2023-09-15'}\n",
      "{'Liners': 'KMTC', 'From': 'JAKARTA', 'To': 'SHEKOU', 'BL Number': 'JKT4577376', 'Container Number': 'FCIU7344076', 'ETD': '2023-09-02', 'ETA': '2023-09-11', 'ATD': '2023-09-02', 'ATA': '2023-09-11', 'Container Release': '2023-09-13', 'Container Return': '2023-09-14'}\n",
      "{'Liners': 'KMTC', 'From': 'JAKARTA', 'To': 'SHEKOU', 'BL Number': 'JKT4577376', 'Container Number': 'FCIU7461133', 'ETD': '2023-09-02', 'ETA': '2023-09-11', 'ATD': '2023-09-02', 'ATA': '2023-09-11'}\n",
      "{'Liners': 'KMTC', 'From': 'JAKARTA', 'To': 'SHEKOU', 'BL Number': 'JKT4577376', 'Container Number': 'FFAU1090845', 'ETD': '2023-09-02', 'ETA': '2023-09-11', 'ATD': '2023-09-02', 'ATA': '2023-09-11', 'Container Release': '2023-09-13', 'Container Return': '2023-09-13'}\n",
      "{'Liners': 'KMTC', 'From': 'JAKARTA', 'To': 'SHEKOU', 'BL Number': 'JKT4577376', 'Container Number': 'FFAU4442256', 'ETD': '2023-09-02', 'ETA': '2023-09-11', 'ATD': '2023-09-02', 'ATA': '2023-09-11', 'Container Release': '2023-09-12', 'Container Return': '2023-09-14'}\n",
      "{'Liners': 'KMTC', 'From': 'JAKARTA', 'To': 'SHEKOU', 'BL Number': 'JKT4577376', 'Container Number': 'KMTU9361044', 'ETD': '2023-09-02', 'ETA': '2023-09-11', 'ATD': '2023-09-02', 'ATA': '2023-09-11', 'Container Release': '2023-09-12', 'Container Return': '2023-09-13'}\n",
      "{'Liners': 'KMTC', 'From': 'JAKARTA', 'To': 'SHEKOU', 'BL Number': 'JKT4577376', 'Container Number': 'TGBU6403502', 'ETD': '2023-09-02', 'ETA': '2023-09-11', 'ATD': '2023-09-02', 'ATA': '2023-09-11'}\n",
      "{'Liners': 'KMTC', 'From': 'JAKARTA', 'To': 'SHEKOU', 'BL Number': 'JKT4577376', 'Container Number': 'TXGU5019265', 'ETD': '2023-09-02', 'ETA': '2023-09-11', 'ATD': '2023-09-02', 'ATA': '2023-09-11', 'Container Release': '2023-09-13', 'Container Return': '2023-09-14'}\n"
     ]
    },
    {
     "name": "stderr",
     "output_type": "stream",
     "text": [
      " 90%|█████████ | 19/21 [00:35<00:03,  1.62s/it]"
     ]
    },
    {
     "name": "stdout",
     "output_type": "stream",
     "text": [
      "{'Liners': 'KMTC', 'From': 'JAKARTA', 'To': 'SHEKOU', 'BL Number': 'JKT4577376', 'Container Number': 'TXGU5029453', 'ETD': '2023-09-02', 'ETA': '2023-09-11', 'ATD': '2023-09-02', 'ATA': '2023-09-11', 'Container Release': '2023-09-12', 'Container Return': '2023-09-13'}\n",
      "{'Liners': 'KMTC', 'From': 'JAKARTA', 'To': 'XINGANG', 'BL Number': 'JKT4561058', 'Container Number': 'BEAU4739022', 'ETD': '2023-08-24', 'ETA': '2023-09-08', 'ATD': '2023-08-24', 'ATA': '2023-09-08', 'Container Release': '2023-09-11', 'Container Return': '2023-09-12'}\n",
      "{'Liners': 'KMTC', 'From': 'JAKARTA', 'To': 'XINGANG', 'BL Number': 'JKT4561058', 'Container Number': 'FFAU1063578', 'ETD': '2023-08-24', 'ETA': '2023-09-08', 'ATD': '2023-08-24', 'ATA': '2023-09-08', 'Container Release': '2023-09-11', 'Container Return': '2023-09-12'}\n",
      "{'Liners': 'KMTC', 'From': 'JAKARTA', 'To': 'XINGANG', 'BL Number': 'JKT4561058', 'Container Number': 'FFAU3974280', 'ETD': '2023-08-24', 'ETA': '2023-09-08', 'ATD': '2023-08-24', 'ATA': '2023-09-08', 'Container Release': '2023-09-11', 'Container Return': '2023-09-12'}\n",
      "{'Liners': 'KMTC', 'From': 'JAKARTA', 'To': 'XINGANG', 'BL Number': 'JKT4561058', 'Container Number': 'SEGU6156324', 'ETD': '2023-08-24', 'ETA': '2023-09-08', 'ATD': '2023-08-24', 'ATA': '2023-09-08', 'Container Release': '2023-09-11', 'Container Return': '2023-09-13'}\n",
      "{'Liners': 'KMTC', 'From': 'JAKARTA', 'To': 'XINGANG', 'BL Number': 'JKT4561058', 'Container Number': 'SEKU5225209', 'ETD': '2023-08-24', 'ETA': '2023-09-08', 'ATD': '2023-08-24', 'ATA': '2023-09-08', 'Container Release': '2023-09-12', 'Container Return': '2023-09-13'}\n",
      "{'Liners': 'KMTC', 'From': 'JAKARTA', 'To': 'XINGANG', 'BL Number': 'JKT4561058', 'Container Number': 'TEMU7217354', 'ETD': '2023-08-24', 'ETA': '2023-09-08', 'ATD': '2023-08-24', 'ATA': '2023-09-08', 'Container Release': '2023-09-12', 'Container Return': '2023-09-13'}\n",
      "{'Liners': 'KMTC', 'From': 'JAKARTA', 'To': 'XINGANG', 'BL Number': 'JKT4561058', 'Container Number': 'TXGU5014793', 'ETD': '2023-08-24', 'ETA': '2023-09-08', 'ATD': '2023-08-24', 'ATA': '2023-09-08', 'Container Release': '2023-09-11', 'Container Return': '2023-09-12'}\n"
     ]
    },
    {
     "name": "stderr",
     "output_type": "stream",
     "text": [
      " 95%|█████████▌| 20/21 [00:38<00:01,  1.91s/it]"
     ]
    },
    {
     "name": "stdout",
     "output_type": "stream",
     "text": [
      "{'Liners': 'KMTC', 'From': 'JAKARTA', 'To': 'XINGANG', 'BL Number': 'JKT4561058', 'Container Number': 'TXGU6054635', 'ETD': '2023-08-24', 'ETA': '2023-09-08', 'ATD': '2023-08-24', 'ATA': '2023-09-08', 'Container Release': '2023-09-12', 'Container Return': '2023-09-12'}\n",
      "{'Liners': 'KMTC', 'From': 'JAKARTA', 'To': 'PHNOM PENH', 'BL Number': 'JKT4578948', 'Container Number': 'BEAU4868842', 'ETD': '2023-09-10', 'ETA': '2023-09-13', 'ATD': '2023-09-10'}\n",
      "{'Liners': 'KMTC', 'From': 'JAKARTA', 'To': 'PHNOM PENH', 'BL Number': 'JKT4578948', 'Container Number': 'BMOU6918715', 'ETD': '2023-09-10', 'ETA': '2023-09-13', 'ATD': '2023-09-10'}\n",
      "{'Liners': 'KMTC', 'From': 'JAKARTA', 'To': 'PHNOM PENH', 'BL Number': 'JKT4578948', 'Container Number': 'DFSU7692141', 'ETD': '2023-09-10', 'ETA': '2023-09-13', 'ATD': '2023-09-10'}\n",
      "{'Liners': 'KMTC', 'From': 'JAKARTA', 'To': 'PHNOM PENH', 'BL Number': 'JKT4578948', 'Container Number': 'FCIU7123408', 'ETD': '2023-09-10', 'ETA': '2023-09-13', 'ATD': '2023-09-10'}\n",
      "{'Liners': 'KMTC', 'From': 'JAKARTA', 'To': 'PHNOM PENH', 'BL Number': 'JKT4578948', 'Container Number': 'SEGU6659463', 'ETD': '2023-09-10', 'ETA': '2023-09-13', 'ATD': '2023-09-10'}\n"
     ]
    },
    {
     "name": "stderr",
     "output_type": "stream",
     "text": [
      "100%|██████████| 21/21 [00:40<00:00,  1.94s/it]"
     ]
    },
    {
     "name": "stdout",
     "output_type": "stream",
     "text": [
      "{'Liners': 'KMTC', 'From': 'JAKARTA', 'To': 'PHNOM PENH', 'BL Number': 'JKT4578948', 'Container Number': 'TXGU5029598', 'ETD': '2023-09-10', 'ETA': '2023-09-13', 'ATD': '2023-09-10'}\n"
     ]
    },
    {
     "name": "stderr",
     "output_type": "stream",
     "text": [
      "\n"
     ]
    }
   ],
   "source": [
    "hasil_akhir = []\n",
    "for i, bls in enumerate(tqdm(bl_list)):\n",
    "    try:\n",
    "        # hitting the API\n",
    "        url_ctr = \"https://api.ekmtc.com/trans/trans/cargo-tracking/{}?dtKnd=BL&blNo={}\".format(\n",
    "            bls[4:], bls[4:])\n",
    "        response_ctr = requests.request(\"GET\", url_ctr)\n",
    "\n",
    "        # getting container data. booking id needed for API URL\n",
    "        ctr_data = response_ctr.json()\n",
    "        list_of_container_number = []\n",
    "        list_of_bookingid = []\n",
    "\n",
    "        for j, ctr_info in enumerate(ctr_data['cntrList']):\n",
    "            list_of_container_number.append(ctr_info[\"cntrNo\"])\n",
    "            list_of_bookingid.append(ctr_info[\"bkgNo\"])\n",
    "\n",
    "        for c, ctr in enumerate(list_of_container_number):\n",
    "            url_milestone = \"https://api.ekmtc.com/trans/trans/cargo-tracking/{}/detail?bkgNo={}&cntrNo={}&dtKnd=BL&strBkgNo={}\".format(\n",
    "                bls[4:], list_of_bookingid[c], ctr, list_of_bookingid[c])\n",
    "            \n",
    "            # hitting the API again for every container for container milestones\n",
    "            response_milestone = requests.request(\"GET\", url_milestone)\n",
    "\n",
    "            # aqcuiring milestone datas for every container\n",
    "            milstone_data = response_milestone.json()\n",
    "            current_dict = {}\n",
    "            dict_milestone = {}\n",
    "            milestones = []\n",
    "            key_mapping = {\n",
    "                'blNo': 'BL Number',\n",
    "                'cntrNo': 'Container Number',\n",
    "                'etd': 'ETD',\n",
    "                'eta': 'ETA',\n",
    "                # 'GTOOB':'Gate Out Origin',\n",
    "                # 'GTIOB':'Gate In Origin',\n",
    "                'LDGOB': 'ATD',\n",
    "                'DISIB': 'ATA',\n",
    "                'GTOIB': 'Container Release',\n",
    "                'GTIIB': 'Container Return'\n",
    "            }\n",
    "\n",
    "            current_dict.update({\"Liners\": \"KMTC\"})\n",
    "            current_dict.update(\n",
    "                {\"From\": milstone_data['trackingList'][-1]['plcNm'][:milstone_data['trackingList'][-1]['plcNm'].index(\",\")]})\n",
    "            current_dict.update(\n",
    "                {\"To\": milstone_data['trackingList'][-1]['podPortNm']})\n",
    "\n",
    "            for key, label in key_mapping.items():\n",
    "                if key in ctr_data['cntrList'][c]:\n",
    "                    if key == \"etd\" or key == \"eta\":\n",
    "                        current_dict[label] = datetime.strptime(\n",
    "                            ctr_data['cntrList'][c][key][:8], \"%Y%m%d\").strftime(\"%Y-%m-%d\")\n",
    "                    else:\n",
    "                        current_dict[label] = ctr_data['cntrList'][c][key]\n",
    "\n",
    "            for b, milestone in enumerate(milstone_data['trackingList']):\n",
    "                milestones.append(\n",
    "                    milestone[\"cntrStsCd\"] + milestone[\"cntrMvntCd\"])\n",
    "                milestones.append(milestone[\"mvntDt\"])\n",
    "\n",
    "            for m, milestone in enumerate(milestones):\n",
    "                if is_date(milestone):\n",
    "                    case_milestone = {\n",
    "                        milestones[m-1]: datetime.strptime(milestone, \"%Y%m%d\").strftime(\"%Y-%m-%d\")}\n",
    "                    dict_milestone.update(case_milestone)\n",
    "\n",
    "            for key, label in key_mapping.items():\n",
    "                if key in dict_milestone:\n",
    "                    current_dict[label] = dict_milestone[key]\n",
    "\n",
    "            print(current_dict)\n",
    "            hasil_akhir.append(current_dict)\n",
    "    except Exception as e:\n",
    "        print(e)\n",
    "        print(\"{} GAGAL!!\".format(bls))\n",
    "        gagal.append(bls)\n"
   ]
  },
  {
   "cell_type": "code",
   "execution_count": 9,
   "metadata": {},
   "outputs": [
    {
     "name": "stdout",
     "output_type": "stream",
     "text": [
      "Today's Collection Name ===>  all_tracking_Sep-18-2023\n",
      "Today's Collection Has Been Made\n",
      "Inserting Many Complete!!\n"
     ]
    }
   ],
   "source": [
    "# connect to mongodb\n",
    "from mongoinit import mongo_table_initiation, insert_many_mongo\n",
    "\n",
    "mongo_table_initiation()\n",
    "insert_many_mongo(hasil_akhir)"
   ]
  },
  {
   "cell_type": "code",
   "execution_count": 7,
   "metadata": {},
   "outputs": [],
   "source": [
    "# exporting to excel file\n",
    "df = pd.DataFrame(hasil_akhir)\n",
    "excel_file_path = 'export excel/KMTC.xlsx'\n",
    "df.to_excel(excel_file_path, index=False)"
   ]
  },
  {
   "cell_type": "code",
   "execution_count": 7,
   "metadata": {},
   "outputs": [
    {
     "data": {
      "text/plain": [
       "[]"
      ]
     },
     "execution_count": 7,
     "metadata": {},
     "output_type": "execute_result"
    }
   ],
   "source": [
    "gagal"
   ]
  },
  {
   "cell_type": "code",
   "execution_count": null,
   "metadata": {},
   "outputs": [],
   "source": []
  }
 ],
 "metadata": {
  "kernelspec": {
   "display_name": "Python 3.10.10 64-bit",
   "language": "python",
   "name": "python3"
  },
  "language_info": {
   "codemirror_mode": {
    "name": "ipython",
    "version": 3
   },
   "file_extension": ".py",
   "mimetype": "text/x-python",
   "name": "python",
   "nbconvert_exporter": "python",
   "pygments_lexer": "ipython3",
   "version": "3.10.10"
  },
  "orig_nbformat": 4,
  "vscode": {
   "interpreter": {
    "hash": "8c3d4d9970fc5c09c50d9318a9c7fbf4d0159e4b28833276f5678ee22bded273"
   }
  }
 },
 "nbformat": 4,
 "nbformat_minor": 2
}
