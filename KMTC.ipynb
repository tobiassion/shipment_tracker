{
 "cells": [
  {
   "cell_type": "code",
   "execution_count": 1,
   "metadata": {},
   "outputs": [],
   "source": [
    "import requests\n",
    "import pandas as pd\n",
    "from datetime import date\n",
    "from io import BytesIO\n",
    "\n",
    "from datetime import datetime\n",
    "from dateutil.parser import parse\n",
    "from tqdm import tqdm\n",
    "\n",
    "import pymongo\n",
    "from pymongo import MongoClient\n",
    "from pymongo.server_api import ServerApi"
   ]
  },
  {
   "cell_type": "code",
   "execution_count": 2,
   "metadata": {},
   "outputs": [],
   "source": [
    "# class to determine ganjil genap\n",
    "def is_date(string, fuzzy=False):\n",
    "    try: \n",
    "        parse(string, fuzzy=fuzzy)\n",
    "        return True\n",
    "    except ValueError:\n",
    "        return False"
   ]
  },
  {
   "cell_type": "code",
   "execution_count": 3,
   "metadata": {},
   "outputs": [],
   "source": [
    "# reading all BL number from google sheet\n",
    "from acquiringbl import takingBL\n",
    "bl_list = takingBL(\"KMTC\")"
   ]
  },
  {
   "cell_type": "code",
   "execution_count": 4,
   "metadata": {},
   "outputs": [],
   "source": [
    "# array for failed tracking\n",
    "gagal=[]"
   ]
  },
  {
   "cell_type": "code",
   "execution_count": 5,
   "metadata": {},
   "outputs": [
    {
     "name": "stderr",
     "output_type": "stream",
     "text": [
      "  0%|          | 0/13 [00:00<?, ?it/s]"
     ]
    },
    {
     "name": "stdout",
     "output_type": "stream",
     "text": [
      "{'Liners': 'KMTC', 'From': 'JAKARTA', 'To': 'SHEKOU', 'BL Number': 'JKT4599082', 'Container Number': 'BEAU4870270', 'ETD': '2023-09-19', 'ETA': '2023-09-26', 'ATD': '2023-09-19', 'ATA': '2023-09-26', 'Container Release': '2023-09-27', 'Container Return': '2023-09-27'}\n",
      "{'Liners': 'KMTC', 'From': 'JAKARTA', 'To': 'SHEKOU', 'BL Number': 'JKT4599082', 'Container Number': 'BMOU6809231', 'ETD': '2023-09-19', 'ETA': '2023-09-26', 'ATD': '2023-09-19', 'ATA': '2023-09-26', 'Container Release': '2023-10-06', 'Container Return': '2023-10-07'}\n",
      "{'Liners': 'KMTC', 'From': 'JAKARTA', 'To': 'SHEKOU', 'BL Number': 'JKT4599082', 'Container Number': 'BMOU6817432', 'ETD': '2023-09-19', 'ETA': '2023-09-26', 'ATD': '2023-09-19', 'ATA': '2023-09-26', 'Container Release': '2023-10-06', 'Container Return': '2023-10-07'}\n",
      "{'Liners': 'KMTC', 'From': 'JAKARTA', 'To': 'SHEKOU', 'BL Number': 'JKT4599082', 'Container Number': 'BMOU6926639', 'ETD': '2023-09-19', 'ETA': '2023-09-26', 'ATD': '2023-09-19', 'ATA': '2023-09-26', 'Container Release': '2023-10-06', 'Container Return': '2023-10-07'}\n",
      "{'Liners': 'KMTC', 'From': 'JAKARTA', 'To': 'SHEKOU', 'BL Number': 'JKT4599082', 'Container Number': 'FCIU7149573', 'ETD': '2023-09-19', 'ETA': '2023-09-26', 'ATD': '2023-09-19', 'ATA': '2023-09-26', 'Container Release': '2023-10-06', 'Container Return': '2023-10-07'}\n",
      "{'Liners': 'KMTC', 'From': 'JAKARTA', 'To': 'SHEKOU', 'BL Number': 'JKT4599082', 'Container Number': 'FCIU7180481', 'ETD': '2023-09-19', 'ETA': '2023-09-26', 'ATD': '2023-09-19', 'ATA': '2023-09-26', 'Container Release': '2023-10-06', 'Container Return': '2023-10-07'}\n",
      "{'Liners': 'KMTC', 'From': 'JAKARTA', 'To': 'SHEKOU', 'BL Number': 'JKT4599082', 'Container Number': 'FCIU7544897', 'ETD': '2023-09-19', 'ETA': '2023-09-26', 'ATD': '2023-09-19', 'ATA': '2023-09-26', 'Container Release': '2023-10-06', 'Container Return': '2023-10-07'}\n",
      "{'Liners': 'KMTC', 'From': 'JAKARTA', 'To': 'SHEKOU', 'BL Number': 'JKT4599082', 'Container Number': 'FFAU1055654', 'ETD': '2023-09-19', 'ETA': '2023-09-26', 'ATD': '2023-09-19', 'ATA': '2023-09-26', 'Container Release': '2023-10-06', 'Container Return': '2023-10-07'}\n",
      "{'Liners': 'KMTC', 'From': 'JAKARTA', 'To': 'SHEKOU', 'BL Number': 'JKT4599082', 'Container Number': 'FFAU1057976', 'ETD': '2023-09-19', 'ETA': '2023-09-26', 'ATD': '2023-09-19', 'ATA': '2023-09-26', 'Container Release': '2023-10-06', 'Container Return': '2023-10-07'}\n",
      "{'Liners': 'KMTC', 'From': 'JAKARTA', 'To': 'SHEKOU', 'BL Number': 'JKT4599082', 'Container Number': 'GCXU5936926', 'ETD': '2023-09-19', 'ETA': '2023-09-26', 'ATD': '2023-09-19', 'ATA': '2023-09-26', 'Container Release': '2023-10-07', 'Container Return': '2023-10-08'}\n",
      "{'Liners': 'KMTC', 'From': 'JAKARTA', 'To': 'SHEKOU', 'BL Number': 'JKT4599082', 'Container Number': 'KMTU9295425', 'ETD': '2023-09-19', 'ETA': '2023-09-26', 'ATD': '2023-09-19', 'ATA': '2023-09-26', 'Container Release': '2023-10-07', 'Container Return': '2023-10-08'}\n",
      "{'Liners': 'KMTC', 'From': 'JAKARTA', 'To': 'SHEKOU', 'BL Number': 'JKT4599082', 'Container Number': 'KMTU9328909', 'ETD': '2023-09-19', 'ETA': '2023-09-26', 'ATD': '2023-09-19', 'ATA': '2023-09-26', 'Container Release': '2023-09-27', 'Container Return': '2023-09-27'}\n",
      "{'Liners': 'KMTC', 'From': 'JAKARTA', 'To': 'SHEKOU', 'BL Number': 'JKT4599082', 'Container Number': 'SEGU4804259', 'ETD': '2023-09-19', 'ETA': '2023-09-26', 'ATD': '2023-09-19', 'ATA': '2023-09-26', 'Container Release': '2023-10-07', 'Container Return': '2023-10-07'}\n",
      "{'Liners': 'KMTC', 'From': 'JAKARTA', 'To': 'SHEKOU', 'BL Number': 'JKT4599082', 'Container Number': 'SEGU6162374', 'ETD': '2023-09-19', 'ETA': '2023-09-26', 'ATD': '2023-09-19', 'ATA': '2023-09-26'}\n",
      "{'Liners': 'KMTC', 'From': 'JAKARTA', 'To': 'SHEKOU', 'BL Number': 'JKT4599082', 'Container Number': 'SEGU6661780', 'ETD': '2023-09-19', 'ETA': '2023-09-26', 'ATD': '2023-09-19', 'ATA': '2023-09-26', 'Container Release': '2023-10-06', 'Container Return': '2023-10-07'}\n",
      "{'Liners': 'KMTC', 'From': 'JAKARTA', 'To': 'SHEKOU', 'BL Number': 'JKT4599082', 'Container Number': 'TEMU7820521', 'ETD': '2023-09-19', 'ETA': '2023-09-26', 'ATD': '2023-09-19', 'ATA': '2023-09-26', 'Container Release': '2023-10-06', 'Container Return': '2023-10-07'}\n",
      "{'Liners': 'KMTC', 'From': 'JAKARTA', 'To': 'SHEKOU', 'BL Number': 'JKT4599082', 'Container Number': 'TEMU8985402', 'ETD': '2023-09-19', 'ETA': '2023-09-26', 'ATD': '2023-09-19', 'ATA': '2023-09-26', 'Container Release': '2023-10-07', 'Container Return': '2023-10-07'}\n",
      "{'Liners': 'KMTC', 'From': 'JAKARTA', 'To': 'SHEKOU', 'BL Number': 'JKT4599082', 'Container Number': 'TXGU5016287', 'ETD': '2023-09-19', 'ETA': '2023-09-26', 'ATD': '2023-09-19', 'ATA': '2023-09-26', 'Container Release': '2023-10-08', 'Container Return': '2023-10-08'}\n",
      "{'Liners': 'KMTC', 'From': 'JAKARTA', 'To': 'SHEKOU', 'BL Number': 'JKT4599082', 'Container Number': 'UETU5443847', 'ETD': '2023-09-19', 'ETA': '2023-09-26', 'ATD': '2023-09-19', 'ATA': '2023-09-26', 'Container Release': '2023-10-07', 'Container Return': '2023-10-08'}\n"
     ]
    },
    {
     "name": "stderr",
     "output_type": "stream",
     "text": [
      "  8%|▊         | 1/13 [00:19<03:53, 19.50s/it]"
     ]
    },
    {
     "name": "stdout",
     "output_type": "stream",
     "text": [
      "{'Liners': 'KMTC', 'From': 'JAKARTA', 'To': 'SHEKOU', 'BL Number': 'JKT4599082', 'Container Number': 'UETU5452622', 'ETD': '2023-09-19', 'ETA': '2023-09-26', 'ATD': '2023-09-19', 'ATA': '2023-09-26', 'Container Release': '2023-10-07', 'Container Return': '2023-10-08'}\n",
      "{'Liners': 'KMTC', 'From': 'JAKARTA', 'To': 'SHANGHAI', 'BL Number': 'JKT4582808', 'Container Number': 'BMOU6208333', 'ETD': '2023-09-24', 'ETA': '2023-10-06', 'ATD': '2023-09-24', 'ATA': '2023-10-06'}\n",
      "{'Liners': 'KMTC', 'From': 'JAKARTA', 'To': 'SHANGHAI', 'BL Number': 'JKT4582808', 'Container Number': 'GESU6841447', 'ETD': '2023-09-24', 'ETA': '2023-10-06', 'ATD': '2023-09-24', 'ATA': '2023-10-06', 'Container Release': '2023-10-08', 'Container Return': '2023-10-08'}\n",
      "{'Liners': 'KMTC', 'From': 'JAKARTA', 'To': 'SHANGHAI', 'BL Number': 'JKT4582808', 'Container Number': 'HJMU1555665', 'ETD': '2023-09-24', 'ETA': '2023-10-06', 'ATD': '2023-09-24', 'ATA': '2023-10-06', 'Container Release': '2023-10-08', 'Container Return': '2023-10-08'}\n",
      "{'Liners': 'KMTC', 'From': 'JAKARTA', 'To': 'SHANGHAI', 'BL Number': 'JKT4582808', 'Container Number': 'KMTU9297963', 'ETD': '2023-09-24', 'ETA': '2023-10-06', 'ATD': '2023-09-24', 'ATA': '2023-10-06', 'Container Release': '2023-10-08', 'Container Return': '2023-10-08'}\n",
      "{'Liners': 'KMTC', 'From': 'JAKARTA', 'To': 'SHANGHAI', 'BL Number': 'JKT4582808', 'Container Number': 'SEGU5540973', 'ETD': '2023-09-24', 'ETA': '2023-10-06', 'ATD': '2023-09-24', 'ATA': '2023-10-06'}\n",
      "{'Liners': 'KMTC', 'From': 'JAKARTA', 'To': 'SHANGHAI', 'BL Number': 'JKT4582808', 'Container Number': 'SEGU5564091', 'ETD': '2023-09-24', 'ETA': '2023-10-06', 'ATD': '2023-09-24', 'ATA': '2023-10-06', 'Container Release': '2023-10-08', 'Container Return': '2023-10-08'}\n",
      "{'Liners': 'KMTC', 'From': 'JAKARTA', 'To': 'SHANGHAI', 'BL Number': 'JKT4582808', 'Container Number': 'SEGU6149074', 'ETD': '2023-09-24', 'ETA': '2023-10-06', 'ATD': '2023-09-24', 'ATA': '2023-10-06'}\n"
     ]
    },
    {
     "name": "stderr",
     "output_type": "stream",
     "text": [
      " 15%|█▌        | 2/13 [00:34<03:06, 16.92s/it]"
     ]
    },
    {
     "name": "stdout",
     "output_type": "stream",
     "text": [
      "{'Liners': 'KMTC', 'From': 'JAKARTA', 'To': 'SHANGHAI', 'BL Number': 'JKT4582808', 'Container Number': 'TXGU5001775', 'ETD': '2023-09-24', 'ETA': '2023-10-06', 'ATD': '2023-09-24', 'ATA': '2023-10-06', 'Container Release': '2023-10-09'}\n",
      "{'Liners': 'KMTC', 'From': 'JAKARTA', 'To': 'SHANGHAI', 'BL Number': 'JKT4590512', 'Container Number': 'FFAU1070094', 'ETD': '2023-09-24', 'ETA': '2023-10-06', 'ATD': '2023-09-24', 'ATA': '2023-10-06'}\n",
      "{'Liners': 'KMTC', 'From': 'JAKARTA', 'To': 'SHANGHAI', 'BL Number': 'JKT4590512', 'Container Number': 'FFAU1083996', 'ETD': '2023-09-24', 'ETA': '2023-10-06', 'ATD': '2023-09-24', 'ATA': '2023-10-06'}\n",
      "{'Liners': 'KMTC', 'From': 'JAKARTA', 'To': 'SHANGHAI', 'BL Number': 'JKT4590512', 'Container Number': 'GCXU5890152', 'ETD': '2023-09-24', 'ETA': '2023-10-06', 'ATD': '2023-09-24', 'ATA': '2023-10-06', 'Container Release': '2023-10-08'}\n",
      "{'Liners': 'KMTC', 'From': 'JAKARTA', 'To': 'SHANGHAI', 'BL Number': 'JKT4590512', 'Container Number': 'GCXU5903727', 'ETD': '2023-09-24', 'ETA': '2023-10-06', 'ATD': '2023-09-24', 'ATA': '2023-10-06', 'Container Release': '2023-10-08'}\n",
      "{'Liners': 'KMTC', 'From': 'JAKARTA', 'To': 'SHANGHAI', 'BL Number': 'JKT4590512', 'Container Number': 'KMTU9355967', 'ETD': '2023-09-24', 'ETA': '2023-10-06', 'ATD': '2023-09-24', 'ATA': '2023-10-06'}\n",
      "{'Liners': 'KMTC', 'From': 'JAKARTA', 'To': 'SHANGHAI', 'BL Number': 'JKT4590512', 'Container Number': 'SEGU5560250', 'ETD': '2023-09-24', 'ETA': '2023-10-06', 'ATD': '2023-09-24', 'ATA': '2023-10-06'}\n",
      "{'Liners': 'KMTC', 'From': 'JAKARTA', 'To': 'SHANGHAI', 'BL Number': 'JKT4590512', 'Container Number': 'TLLU5190743', 'ETD': '2023-09-24', 'ETA': '2023-10-06', 'ATD': '2023-09-24', 'ATA': '2023-10-06'}\n",
      "{'Liners': 'KMTC', 'From': 'JAKARTA', 'To': 'SHANGHAI', 'BL Number': 'JKT4590512', 'Container Number': 'TXGU5007109', 'ETD': '2023-09-24', 'ETA': '2023-10-06', 'ATD': '2023-09-24', 'ATA': '2023-10-06'}\n",
      "{'Liners': 'KMTC', 'From': 'JAKARTA', 'To': 'SHANGHAI', 'BL Number': 'JKT4590512', 'Container Number': 'TXGU5019291', 'ETD': '2023-09-24', 'ETA': '2023-10-06', 'ATD': '2023-09-24', 'ATA': '2023-10-06', 'Container Release': '2023-10-08', 'Container Return': '2023-10-08'}\n"
     ]
    },
    {
     "name": "stderr",
     "output_type": "stream",
     "text": [
      " 23%|██▎       | 3/13 [00:40<02:00, 12.04s/it]"
     ]
    },
    {
     "name": "stdout",
     "output_type": "stream",
     "text": [
      "{'Liners': 'KMTC', 'From': 'JAKARTA', 'To': 'SHANGHAI', 'BL Number': 'JKT4590512', 'Container Number': 'TXGU6056788', 'ETD': '2023-09-24', 'ETA': '2023-10-06', 'ATD': '2023-09-24', 'ATA': '2023-10-06'}\n",
      "{'Liners': 'KMTC', 'From': 'JAKARTA', 'To': 'SHEKOU', 'BL Number': 'JKT4598108', 'Container Number': 'BMOU6215820', 'ETD': '2023-09-19', 'ETA': '2023-09-26', 'ATD': '2023-09-19', 'ATA': '2023-09-26'}\n",
      "{'Liners': 'KMTC', 'From': 'JAKARTA', 'To': 'SHEKOU', 'BL Number': 'JKT4598108', 'Container Number': 'BMOU6248589', 'ETD': '2023-09-19', 'ETA': '2023-09-26', 'ATD': '2023-09-19', 'ATA': '2023-09-26', 'Container Release': '2023-09-27', 'Container Return': '2023-09-27'}\n",
      "{'Liners': 'KMTC', 'From': 'JAKARTA', 'To': 'SHEKOU', 'BL Number': 'JKT4598108', 'Container Number': 'BMOU6342949', 'ETD': '2023-09-19', 'ETA': '2023-09-26', 'ATD': '2023-09-19', 'ATA': '2023-09-26', 'Container Release': '2023-10-01', 'Container Return': '2023-10-01'}\n",
      "{'Liners': 'KMTC', 'From': 'JAKARTA', 'To': 'SHEKOU', 'BL Number': 'JKT4598108', 'Container Number': 'BMOU6362816', 'ETD': '2023-09-19', 'ETA': '2023-09-26', 'ATD': '2023-09-19', 'ATA': '2023-09-26', 'Container Release': '2023-09-30', 'Container Return': '2023-10-01'}\n",
      "{'Liners': 'KMTC', 'From': 'JAKARTA', 'To': 'SHEKOU', 'BL Number': 'JKT4598108', 'Container Number': 'CAIU8830794', 'ETD': '2023-09-19', 'ETA': '2023-09-26', 'ATD': '2023-09-19', 'ATA': '2023-09-26', 'Container Release': '2023-10-01', 'Container Return': '2023-10-01'}\n",
      "{'Liners': 'KMTC', 'From': 'JAKARTA', 'To': 'SHEKOU', 'BL Number': 'JKT4598108', 'Container Number': 'FBLU0231872', 'ETD': '2023-09-19', 'ETA': '2023-09-26', 'ATD': '2023-09-19', 'ATA': '2023-09-26', 'Container Release': '2023-09-30', 'Container Return': '2023-10-01'}\n",
      "{'Liners': 'KMTC', 'From': 'JAKARTA', 'To': 'SHEKOU', 'BL Number': 'JKT4598108', 'Container Number': 'FCIU7120461', 'ETD': '2023-09-19', 'ETA': '2023-09-26', 'ATD': '2023-09-19', 'ATA': '2023-09-26', 'Container Release': '2023-10-06', 'Container Return': '2023-10-06'}\n",
      "{'Liners': 'KMTC', 'From': 'JAKARTA', 'To': 'SHEKOU', 'BL Number': 'JKT4598108', 'Container Number': 'FFAU1015008', 'ETD': '2023-09-19', 'ETA': '2023-09-26', 'ATD': '2023-09-19', 'ATA': '2023-09-26', 'Container Release': '2023-10-06', 'Container Return': '2023-10-06'}\n",
      "{'Liners': 'KMTC', 'From': 'JAKARTA', 'To': 'SHEKOU', 'BL Number': 'JKT4598108', 'Container Number': 'FFAU1024479', 'ETD': '2023-09-19', 'ETA': '2023-09-26', 'ATD': '2023-09-19', 'ATA': '2023-09-26', 'Container Release': '2023-10-05', 'Container Return': '2023-10-06'}\n",
      "{'Liners': 'KMTC', 'From': 'JAKARTA', 'To': 'SHEKOU', 'BL Number': 'JKT4598108', 'Container Number': 'KMTU9360032', 'ETD': '2023-09-19', 'ETA': '2023-09-26', 'ATD': '2023-09-19', 'ATA': '2023-09-26', 'Container Release': '2023-09-28', 'Container Return': '2023-09-28'}\n",
      "{'Liners': 'KMTC', 'From': 'JAKARTA', 'To': 'SHEKOU', 'BL Number': 'JKT4598108', 'Container Number': 'SEGU4472072', 'ETD': '2023-09-19', 'ETA': '2023-09-26', 'ATD': '2023-09-19', 'ATA': '2023-09-26', 'Container Release': '2023-10-06', 'Container Return': '2023-10-07'}\n",
      "{'Liners': 'KMTC', 'From': 'JAKARTA', 'To': 'SHEKOU', 'BL Number': 'JKT4598108', 'Container Number': 'SEGU4799194', 'ETD': '2023-09-19', 'ETA': '2023-09-26', 'ATD': '2023-09-19', 'ATA': '2023-09-26', 'Container Release': '2023-10-05', 'Container Return': '2023-10-06'}\n",
      "{'Liners': 'KMTC', 'From': 'JAKARTA', 'To': 'SHEKOU', 'BL Number': 'JKT4598108', 'Container Number': 'SEGU5545907', 'ETD': '2023-09-19', 'ETA': '2023-09-26', 'ATD': '2023-09-19', 'ATA': '2023-09-26', 'Container Release': '2023-10-06', 'Container Return': '2023-10-06'}\n",
      "{'Liners': 'KMTC', 'From': 'JAKARTA', 'To': 'SHEKOU', 'BL Number': 'JKT4598108', 'Container Number': 'SEGU6151298', 'ETD': '2023-09-19', 'ETA': '2023-09-26', 'ATD': '2023-09-19', 'ATA': '2023-09-26', 'Container Release': '2023-09-27', 'Container Return': '2023-09-27'}\n",
      "{'Liners': 'KMTC', 'From': 'JAKARTA', 'To': 'SHEKOU', 'BL Number': 'JKT4598108', 'Container Number': 'SEGU6158585', 'ETD': '2023-09-19', 'ETA': '2023-09-26', 'ATD': '2023-09-19', 'ATA': '2023-09-26', 'Container Release': '2023-09-28', 'Container Return': '2023-09-28'}\n",
      "{'Liners': 'KMTC', 'From': 'JAKARTA', 'To': 'SHEKOU', 'BL Number': 'JKT4598108', 'Container Number': 'SEGU6460321', 'ETD': '2023-09-19', 'ETA': '2023-09-26', 'ATD': '2023-09-19', 'ATA': '2023-09-26', 'Container Release': '2023-09-26', 'Container Return': '2023-09-27'}\n",
      "{'Liners': 'KMTC', 'From': 'JAKARTA', 'To': 'SHEKOU', 'BL Number': 'JKT4598108', 'Container Number': 'SEKU5942787', 'ETD': '2023-09-19', 'ETA': '2023-09-26', 'ATD': '2023-09-19', 'ATA': '2023-09-26', 'Container Release': '2023-10-05', 'Container Return': '2023-10-06'}\n",
      "{'Liners': 'KMTC', 'From': 'JAKARTA', 'To': 'SHEKOU', 'BL Number': 'JKT4598108', 'Container Number': 'TEMU7793766', 'ETD': '2023-09-19', 'ETA': '2023-09-26', 'ATD': '2023-09-19', 'ATA': '2023-09-26', 'Container Release': '2023-10-06', 'Container Return': '2023-10-07'}\n",
      "{'Liners': 'KMTC', 'From': 'JAKARTA', 'To': 'SHEKOU', 'BL Number': 'JKT4598108', 'Container Number': 'TXGU6058353', 'ETD': '2023-09-19', 'ETA': '2023-09-26', 'ATD': '2023-09-19', 'ATA': '2023-09-26', 'Container Release': '2023-10-06', 'Container Return': '2023-10-06'}\n"
     ]
    },
    {
     "name": "stderr",
     "output_type": "stream",
     "text": [
      " 31%|███       | 4/13 [00:47<01:30, 10.03s/it]"
     ]
    },
    {
     "name": "stdout",
     "output_type": "stream",
     "text": [
      "{'Liners': 'KMTC', 'From': 'JAKARTA', 'To': 'SHEKOU', 'BL Number': 'JKT4598108', 'Container Number': 'TXGU6144282', 'ETD': '2023-09-19', 'ETA': '2023-09-26', 'ATD': '2023-09-19', 'ATA': '2023-09-26', 'Container Release': '2023-10-06', 'Container Return': '2023-10-06'}\n",
      "{'Liners': 'KMTC', 'From': 'JAKARTA', 'To': 'XINGANG', 'BL Number': 'JKT4595266', 'Container Number': 'BEAU4927436', 'ETD': '2023-09-24', 'ETA': '2023-10-10', 'ATD': '2023-09-24'}\n",
      "{'Liners': 'KMTC', 'From': 'JAKARTA', 'To': 'XINGANG', 'BL Number': 'JKT4595266', 'Container Number': 'BMOU6255253', 'ETD': '2023-09-24', 'ETA': '2023-10-10', 'ATD': '2023-09-24'}\n",
      "{'Liners': 'KMTC', 'From': 'JAKARTA', 'To': 'XINGANG', 'BL Number': 'JKT4595266', 'Container Number': 'FFAU1033188', 'ETD': '2023-09-24', 'ETA': '2023-10-10', 'ATD': '2023-09-24'}\n",
      "{'Liners': 'KMTC', 'From': 'JAKARTA', 'To': 'XINGANG', 'BL Number': 'JKT4595266', 'Container Number': 'KMTU9341562', 'ETD': '2023-09-24', 'ETA': '2023-10-10', 'ATD': '2023-09-24'}\n",
      "{'Liners': 'KMTC', 'From': 'JAKARTA', 'To': 'XINGANG', 'BL Number': 'JKT4595266', 'Container Number': 'TEMU7794295', 'ETD': '2023-09-24', 'ETA': '2023-10-10', 'ATD': '2023-09-24'}\n",
      "{'Liners': 'KMTC', 'From': 'JAKARTA', 'To': 'XINGANG', 'BL Number': 'JKT4595266', 'Container Number': 'TGBU4570178', 'ETD': '2023-09-24', 'ETA': '2023-10-10', 'ATD': '2023-09-24'}\n",
      "{'Liners': 'KMTC', 'From': 'JAKARTA', 'To': 'XINGANG', 'BL Number': 'JKT4595266', 'Container Number': 'TRHU5687748', 'ETD': '2023-09-24', 'ETA': '2023-10-10', 'ATD': '2023-09-24'}\n",
      "{'Liners': 'KMTC', 'From': 'JAKARTA', 'To': 'XINGANG', 'BL Number': 'JKT4595266', 'Container Number': 'TXGU5012050', 'ETD': '2023-09-24', 'ETA': '2023-10-10', 'ATD': '2023-09-24'}\n"
     ]
    },
    {
     "name": "stderr",
     "output_type": "stream",
     "text": [
      " 38%|███▊      | 5/13 [00:50<00:59,  7.49s/it]"
     ]
    },
    {
     "name": "stdout",
     "output_type": "stream",
     "text": [
      "{'Liners': 'KMTC', 'From': 'JAKARTA', 'To': 'XINGANG', 'BL Number': 'JKT4595266', 'Container Number': 'TXGU5032272', 'ETD': '2023-09-24', 'ETA': '2023-10-10', 'ATD': '2023-09-24'}\n",
      "{'Liners': 'KMTC', 'From': 'JAKARTA', 'To': 'SHEKOU', 'BL Number': 'JKT4594107', 'Container Number': 'BMOU6228047', 'ETD': '2023-09-19', 'ETA': '2023-09-26', 'ATD': '2023-09-19', 'ATA': '2023-09-26', 'Container Release': '2023-10-07', 'Container Return': '2023-10-07'}\n",
      "{'Liners': 'KMTC', 'From': 'JAKARTA', 'To': 'SHEKOU', 'BL Number': 'JKT4594107', 'Container Number': 'BSIU9626733', 'ETD': '2023-09-19', 'ETA': '2023-09-26', 'ATD': '2023-09-19', 'ATA': '2023-09-26', 'Container Release': '2023-10-06', 'Container Return': '2023-10-07'}\n",
      "{'Liners': 'KMTC', 'From': 'JAKARTA', 'To': 'SHEKOU', 'BL Number': 'JKT4594107', 'Container Number': 'KMTU9338620', 'ETD': '2023-09-19', 'ETA': '2023-09-26', 'ATD': '2023-09-19', 'ATA': '2023-09-26', 'Container Release': '2023-10-07', 'Container Return': '2023-10-07'}\n",
      "{'Liners': 'KMTC', 'From': 'JAKARTA', 'To': 'SHEKOU', 'BL Number': 'JKT4594107', 'Container Number': 'SEGU4785971', 'ETD': '2023-09-19', 'ETA': '2023-09-26', 'ATD': '2023-09-19', 'ATA': '2023-09-26', 'Container Release': '2023-10-07', 'Container Return': '2023-10-08'}\n",
      "{'Liners': 'KMTC', 'From': 'JAKARTA', 'To': 'SHEKOU', 'BL Number': 'JKT4594107', 'Container Number': 'SEGU4805954', 'ETD': '2023-09-19', 'ETA': '2023-09-26', 'ATD': '2023-09-19', 'ATA': '2023-09-26', 'Container Release': '2023-10-07', 'Container Return': '2023-10-08'}\n",
      "{'Liners': 'KMTC', 'From': 'JAKARTA', 'To': 'SHEKOU', 'BL Number': 'JKT4594107', 'Container Number': 'SEGU5555546', 'ETD': '2023-09-19', 'ETA': '2023-09-26', 'ATD': '2023-09-19', 'ATA': '2023-09-26', 'Container Release': '2023-09-28', 'Container Return': '2023-09-28'}\n"
     ]
    },
    {
     "name": "stderr",
     "output_type": "stream",
     "text": [
      " 46%|████▌     | 6/13 [00:53<00:40,  5.81s/it]"
     ]
    },
    {
     "name": "stdout",
     "output_type": "stream",
     "text": [
      "{'Liners': 'KMTC', 'From': 'JAKARTA', 'To': 'SHEKOU', 'BL Number': 'JKT4594107', 'Container Number': 'SEGU6149900', 'ETD': '2023-09-19', 'ETA': '2023-09-26', 'ATD': '2023-09-19', 'ATA': '2023-09-26', 'Container Release': '2023-09-27', 'Container Return': '2023-09-27'}\n",
      "{'Liners': 'KMTC', 'From': 'JAKARTA', 'To': 'HOCHIMINH', 'BL Number': 'JKT4607234', 'Container Number': 'BEAU4870500', 'ETD': '2023-10-02', 'ETA': '2023-10-06', 'ATD': '2023-10-02', 'ATA': '2023-10-06'}\n",
      "{'Liners': 'KMTC', 'From': 'JAKARTA', 'To': 'HOCHIMINH', 'BL Number': 'JKT4607234', 'Container Number': 'BEAU4929357', 'ETD': '2023-10-02', 'ETA': '2023-10-06', 'ATD': '2023-10-02', 'ATA': '2023-10-06'}\n",
      "{'Liners': 'KMTC', 'From': 'JAKARTA', 'To': 'HOCHIMINH', 'BL Number': 'JKT4607234', 'Container Number': 'BMOU6239102', 'ETD': '2023-10-02', 'ETA': '2023-10-06', 'ATD': '2023-10-02', 'ATA': '2023-10-06'}\n",
      "{'Liners': 'KMTC', 'From': 'JAKARTA', 'To': 'HOCHIMINH', 'BL Number': 'JKT4607234', 'Container Number': 'BMOU6359113', 'ETD': '2023-10-02', 'ETA': '2023-10-06', 'ATD': '2023-10-02', 'ATA': '2023-10-06'}\n",
      "{'Liners': 'KMTC', 'From': 'JAKARTA', 'To': 'HOCHIMINH', 'BL Number': 'JKT4607234', 'Container Number': 'FCIU7473469', 'ETD': '2023-10-02', 'ETA': '2023-10-06', 'ATD': '2023-10-02', 'ATA': '2023-10-06'}\n",
      "{'Liners': 'KMTC', 'From': 'JAKARTA', 'To': 'HOCHIMINH', 'BL Number': 'JKT4607234', 'Container Number': 'GCXU5886086', 'ETD': '2023-10-02', 'ETA': '2023-10-06', 'ATD': '2023-10-02', 'ATA': '2023-10-06'}\n",
      "{'Liners': 'KMTC', 'From': 'JAKARTA', 'To': 'HOCHIMINH', 'BL Number': 'JKT4607234', 'Container Number': 'SEGU5561750', 'ETD': '2023-10-02', 'ETA': '2023-10-06', 'ATD': '2023-10-02', 'ATA': '2023-10-06'}\n",
      "{'Liners': 'KMTC', 'From': 'JAKARTA', 'To': 'HOCHIMINH', 'BL Number': 'JKT4607234', 'Container Number': 'TRHU5695450', 'ETD': '2023-10-02', 'ETA': '2023-10-06', 'ATD': '2023-10-02', 'ATA': '2023-10-06'}\n"
     ]
    },
    {
     "name": "stderr",
     "output_type": "stream",
     "text": [
      " 54%|█████▍    | 7/13 [00:56<00:29,  4.88s/it]"
     ]
    },
    {
     "name": "stdout",
     "output_type": "stream",
     "text": [
      "{'Liners': 'KMTC', 'From': 'JAKARTA', 'To': 'HOCHIMINH', 'BL Number': 'JKT4607234', 'Container Number': 'TXGU5011710', 'ETD': '2023-10-02', 'ETA': '2023-10-06', 'ATD': '2023-10-02', 'ATA': '2023-10-06'}\n",
      "{'Liners': 'KMTC', 'From': 'JAKARTA', 'To': 'SHANGHAI', 'BL Number': 'JKT4593187', 'Container Number': 'BEAU4870562', 'ETD': '2023-09-24', 'ETA': '2023-10-06', 'ATD': '2023-09-24', 'ATA': '2023-10-06'}\n",
      "{'Liners': 'KMTC', 'From': 'JAKARTA', 'To': 'SHANGHAI', 'BL Number': 'JKT4593187', 'Container Number': 'FCIU7545980', 'ETD': '2023-09-24', 'ETA': '2023-10-06', 'ATD': '2023-09-24', 'ATA': '2023-10-06', 'Container Release': '2023-10-08', 'Container Return': '2023-10-08'}\n",
      "{'Liners': 'KMTC', 'From': 'JAKARTA', 'To': 'SHANGHAI', 'BL Number': 'JKT4593187', 'Container Number': 'FFAU1059290', 'ETD': '2023-09-24', 'ETA': '2023-10-06', 'ATD': '2023-09-24', 'ATA': '2023-10-06'}\n",
      "{'Liners': 'KMTC', 'From': 'JAKARTA', 'To': 'SHANGHAI', 'BL Number': 'JKT4593187', 'Container Number': 'FFAU1067022', 'ETD': '2023-09-24', 'ETA': '2023-10-06', 'ATD': '2023-09-24', 'ATA': '2023-10-06'}\n",
      "{'Liners': 'KMTC', 'From': 'JAKARTA', 'To': 'SHANGHAI', 'BL Number': 'JKT4593187', 'Container Number': 'FFAU4000470', 'ETD': '2023-09-24', 'ETA': '2023-10-06', 'ATD': '2023-09-24', 'ATA': '2023-10-06', 'Container Release': '2023-10-08', 'Container Return': '2023-10-08'}\n",
      "{'Liners': 'KMTC', 'From': 'JAKARTA', 'To': 'SHANGHAI', 'BL Number': 'JKT4593187', 'Container Number': 'SEGU6580060', 'ETD': '2023-09-24', 'ETA': '2023-10-06', 'ATD': '2023-09-24', 'ATA': '2023-10-06'}\n",
      "{'Liners': 'KMTC', 'From': 'JAKARTA', 'To': 'SHANGHAI', 'BL Number': 'JKT4593187', 'Container Number': 'SEKU5230123', 'ETD': '2023-09-24', 'ETA': '2023-10-06', 'ATD': '2023-09-24', 'ATA': '2023-10-06', 'Container Release': '2023-10-08', 'Container Return': '2023-10-08'}\n",
      "{'Liners': 'KMTC', 'From': 'JAKARTA', 'To': 'SHANGHAI', 'BL Number': 'JKT4593187', 'Container Number': 'SEKU5230226', 'ETD': '2023-09-24', 'ETA': '2023-10-06', 'ATD': '2023-09-24', 'ATA': '2023-10-06'}\n",
      "{'Liners': 'KMTC', 'From': 'JAKARTA', 'To': 'SHANGHAI', 'BL Number': 'JKT4593187', 'Container Number': 'TEMU8978337', 'ETD': '2023-09-24', 'ETA': '2023-10-06', 'ATD': '2023-09-24', 'ATA': '2023-10-06', 'Container Release': '2023-10-09'}\n",
      "{'Liners': 'KMTC', 'From': 'JAKARTA', 'To': 'SHANGHAI', 'BL Number': 'JKT4593187', 'Container Number': 'TGBU6401855', 'ETD': '2023-09-24', 'ETA': '2023-10-06', 'ATD': '2023-09-24', 'ATA': '2023-10-06', 'Container Release': '2023-10-09'}\n",
      "{'Liners': 'KMTC', 'From': 'JAKARTA', 'To': 'SHANGHAI', 'BL Number': 'JKT4593187', 'Container Number': 'TXGU5003783', 'ETD': '2023-09-24', 'ETA': '2023-10-06', 'ATD': '2023-09-24', 'ATA': '2023-10-06'}\n"
     ]
    },
    {
     "name": "stderr",
     "output_type": "stream",
     "text": [
      " 62%|██████▏   | 8/13 [01:00<00:22,  4.57s/it]"
     ]
    },
    {
     "name": "stdout",
     "output_type": "stream",
     "text": [
      "{'Liners': 'KMTC', 'From': 'JAKARTA', 'To': 'SHANGHAI', 'BL Number': 'JKT4593187', 'Container Number': 'TXGU5055350', 'ETD': '2023-09-24', 'ETA': '2023-10-06', 'ATD': '2023-09-24', 'ATA': '2023-10-06'}\n",
      "{'Liners': 'KMTC', 'From': 'JAKARTA', 'To': 'PHNOM PENH', 'BL Number': 'JKT4608350', 'Container Number': 'BEAU4855594', 'ETD': '2023-10-02', 'ETA': '2023-10-06', 'ATD': '2023-10-02'}\n",
      "{'Liners': 'KMTC', 'From': 'JAKARTA', 'To': 'PHNOM PENH', 'BL Number': 'JKT4608350', 'Container Number': 'BEAU4873108', 'ETD': '2023-10-02', 'ETA': '2023-10-06', 'ATD': '2023-10-02'}\n",
      "{'Liners': 'KMTC', 'From': 'JAKARTA', 'To': 'PHNOM PENH', 'BL Number': 'JKT4608350', 'Container Number': 'BEAU4930640', 'ETD': '2023-10-02', 'ETA': '2023-10-06', 'ATD': '2023-10-02'}\n",
      "{'Liners': 'KMTC', 'From': 'JAKARTA', 'To': 'PHNOM PENH', 'BL Number': 'JKT4608350', 'Container Number': 'BMOU6341876', 'ETD': '2023-10-02', 'ETA': '2023-10-06', 'ATD': '2023-10-02'}\n",
      "{'Liners': 'KMTC', 'From': 'JAKARTA', 'To': 'PHNOM PENH', 'BL Number': 'JKT4608350', 'Container Number': 'BMOU6814388', 'ETD': '2023-10-02', 'ETA': '2023-10-06', 'ATD': '2023-10-02'}\n",
      "{'Liners': 'KMTC', 'From': 'JAKARTA', 'To': 'PHNOM PENH', 'BL Number': 'JKT4608350', 'Container Number': 'FCIU7133432', 'ETD': '2023-10-02', 'ETA': '2023-10-06', 'ATD': '2023-10-02'}\n",
      "{'Liners': 'KMTC', 'From': 'JAKARTA', 'To': 'PHNOM PENH', 'BL Number': 'JKT4608350', 'Container Number': 'FFAU1048280', 'ETD': '2023-10-02', 'ETA': '2023-10-06', 'ATD': '2023-10-02'}\n",
      "{'Liners': 'KMTC', 'From': 'JAKARTA', 'To': 'PHNOM PENH', 'BL Number': 'JKT4608350', 'Container Number': 'KMTU9302118', 'ETD': '2023-10-02', 'ETA': '2023-10-06', 'ATD': '2023-10-02'}\n",
      "{'Liners': 'KMTC', 'From': 'JAKARTA', 'To': 'PHNOM PENH', 'BL Number': 'JKT4608350', 'Container Number': 'KMTU9345228', 'ETD': '2023-10-02', 'ETA': '2023-10-06', 'ATD': '2023-10-02'}\n",
      "{'Liners': 'KMTC', 'From': 'JAKARTA', 'To': 'PHNOM PENH', 'BL Number': 'JKT4608350', 'Container Number': 'SEGU5560861', 'ETD': '2023-10-02', 'ETA': '2023-10-06', 'ATD': '2023-10-02'}\n",
      "{'Liners': 'KMTC', 'From': 'JAKARTA', 'To': 'PHNOM PENH', 'BL Number': 'JKT4608350', 'Container Number': 'SEGU5573787', 'ETD': '2023-10-02', 'ETA': '2023-10-06', 'ATD': '2023-10-02'}\n",
      "{'Liners': 'KMTC', 'From': 'JAKARTA', 'To': 'PHNOM PENH', 'BL Number': 'JKT4608350', 'Container Number': 'TCNU1882953', 'ETD': '2023-10-02', 'ETA': '2023-10-06', 'ATD': '2023-10-02'}\n",
      "{'Liners': 'KMTC', 'From': 'JAKARTA', 'To': 'PHNOM PENH', 'BL Number': 'JKT4608350', 'Container Number': 'TXGU5016348', 'ETD': '2023-10-02', 'ETA': '2023-10-06', 'ATD': '2023-10-02'}\n"
     ]
    },
    {
     "name": "stderr",
     "output_type": "stream",
     "text": [
      " 69%|██████▉   | 9/13 [01:04<00:18,  4.61s/it]"
     ]
    },
    {
     "name": "stdout",
     "output_type": "stream",
     "text": [
      "{'Liners': 'KMTC', 'From': 'JAKARTA', 'To': 'PHNOM PENH', 'BL Number': 'JKT4608350', 'Container Number': 'TXGU6056469', 'ETD': '2023-10-02', 'ETA': '2023-10-06', 'ATD': '2023-10-02'}\n",
      "{'Liners': 'KMTC', 'From': 'JAKARTA', 'To': 'SHANGHAI', 'BL Number': 'JKT4588669', 'Container Number': 'BMOU6808575', 'ETD': '2023-09-14', 'ETA': '2023-09-27', 'ATD': '2023-09-14', 'ATA': '2023-09-27', 'Container Release': '2023-10-06', 'Container Return': '2023-10-06'}\n",
      "{'Liners': 'KMTC', 'From': 'JAKARTA', 'To': 'SHANGHAI', 'BL Number': 'JKT4588669', 'Container Number': 'BMOU6819610', 'ETD': '2023-09-14', 'ETA': '2023-09-27', 'ATD': '2023-09-14', 'ATA': '2023-09-27', 'Container Release': '2023-10-06', 'Container Return': '2023-10-06'}\n",
      "{'Liners': 'KMTC', 'From': 'JAKARTA', 'To': 'SHANGHAI', 'BL Number': 'JKT4588669', 'Container Number': 'FCIU7114181', 'ETD': '2023-09-14', 'ETA': '2023-09-27', 'ATD': '2023-09-14', 'ATA': '2023-09-27', 'Container Release': '2023-10-05', 'Container Return': '2023-10-05'}\n",
      "{'Liners': 'KMTC', 'From': 'JAKARTA', 'To': 'SHANGHAI', 'BL Number': 'JKT4588669', 'Container Number': 'FFAU1044623', 'ETD': '2023-09-14', 'ETA': '2023-09-27', 'ATD': '2023-09-14', 'ATA': '2023-09-27', 'Container Release': '2023-10-05', 'Container Return': '2023-10-05'}\n",
      "{'Liners': 'KMTC', 'From': 'JAKARTA', 'To': 'SHANGHAI', 'BL Number': 'JKT4588669', 'Container Number': 'FFAU1065457', 'ETD': '2023-09-14', 'ETA': '2023-09-27', 'ATD': '2023-09-14', 'ATA': '2023-09-27', 'Container Release': '2023-10-04', 'Container Return': '2023-10-04'}\n",
      "{'Liners': 'KMTC', 'From': 'JAKARTA', 'To': 'SHANGHAI', 'BL Number': 'JKT4588669', 'Container Number': 'FFAU3966602', 'ETD': '2023-09-14', 'ETA': '2023-09-27', 'ATD': '2023-09-14', 'ATA': '2023-09-27', 'Container Release': '2023-10-04', 'Container Return': '2023-10-04'}\n",
      "{'Liners': 'KMTC', 'From': 'JAKARTA', 'To': 'SHANGHAI', 'BL Number': 'JKT4588669', 'Container Number': 'GCXU5935508', 'ETD': '2023-09-14', 'ETA': '2023-09-27', 'ATD': '2023-09-14', 'ATA': '2023-09-27', 'Container Release': '2023-10-04', 'Container Return': '2023-10-04'}\n",
      "{'Liners': 'KMTC', 'From': 'JAKARTA', 'To': 'SHANGHAI', 'BL Number': 'JKT4588669', 'Container Number': 'SEGU5164921', 'ETD': '2023-09-14', 'ETA': '2023-09-27', 'ATD': '2023-09-14', 'ATA': '2023-09-27', 'Container Release': '2023-10-04', 'Container Return': '2023-10-04'}\n",
      "{'Liners': 'KMTC', 'From': 'JAKARTA', 'To': 'SHANGHAI', 'BL Number': 'JKT4588669', 'Container Number': 'SEGU5577566', 'ETD': '2023-09-14', 'ETA': '2023-09-27', 'ATD': '2023-09-14', 'ATA': '2023-09-27', 'Container Release': '2023-10-05', 'Container Return': '2023-10-05'}\n",
      "{'Liners': 'KMTC', 'From': 'JAKARTA', 'To': 'SHANGHAI', 'BL Number': 'JKT4588669', 'Container Number': 'SEGU6581560', 'ETD': '2023-09-14', 'ETA': '2023-09-27', 'ATD': '2023-09-14', 'ATA': '2023-09-27', 'Container Release': '2023-10-06', 'Container Return': '2023-10-06'}\n",
      "{'Liners': 'KMTC', 'From': 'JAKARTA', 'To': 'SHANGHAI', 'BL Number': 'JKT4588669', 'Container Number': 'SEGU6588415', 'ETD': '2023-09-14', 'ETA': '2023-09-27', 'ATD': '2023-09-14', 'ATA': '2023-09-27', 'Container Release': '2023-10-05', 'Container Return': '2023-10-05'}\n",
      "{'Liners': 'KMTC', 'From': 'JAKARTA', 'To': 'SHANGHAI', 'BL Number': 'JKT4588669', 'Container Number': 'TCNU1913170', 'ETD': '2023-09-14', 'ETA': '2023-09-27', 'ATD': '2023-09-14', 'ATA': '2023-09-27', 'Container Release': '2023-10-05', 'Container Return': '2023-10-05'}\n"
     ]
    },
    {
     "name": "stderr",
     "output_type": "stream",
     "text": [
      " 77%|███████▋  | 10/13 [01:09<00:13,  4.57s/it]"
     ]
    },
    {
     "name": "stdout",
     "output_type": "stream",
     "text": [
      "{'Liners': 'KMTC', 'From': 'JAKARTA', 'To': 'SHANGHAI', 'BL Number': 'JKT4588669', 'Container Number': 'TXGU6053541', 'ETD': '2023-09-14', 'ETA': '2023-09-27', 'ATD': '2023-09-14', 'ATA': '2023-09-27', 'Container Release': '2023-10-04', 'Container Return': '2023-10-04'}\n",
      "{'Liners': 'KMTC', 'From': 'JAKARTA', 'To': 'HOCHIMINH', 'BL Number': 'JKT4587697', 'Container Number': 'BEAU4873978', 'ETD': '2023-09-14', 'ETA': '2023-09-20', 'ATD': '2023-09-14', 'ATA': '2023-09-20'}\n",
      "{'Liners': 'KMTC', 'From': 'JAKARTA', 'To': 'HOCHIMINH', 'BL Number': 'JKT4587697', 'Container Number': 'BMOU6369831', 'ETD': '2023-09-14', 'ETA': '2023-09-20', 'ATD': '2023-09-14', 'ATA': '2023-09-20', 'Container Release': '2023-10-04', 'Container Return': '2023-10-05'}\n",
      "{'Liners': 'KMTC', 'From': 'JAKARTA', 'To': 'HOCHIMINH', 'BL Number': 'JKT4587697', 'Container Number': 'FFAU1014510', 'ETD': '2023-09-14', 'ETA': '2023-09-20', 'ATD': '2023-09-14', 'ATA': '2023-09-20'}\n",
      "{'Liners': 'KMTC', 'From': 'JAKARTA', 'To': 'HOCHIMINH', 'BL Number': 'JKT4587697', 'Container Number': 'KMTU9282290', 'ETD': '2023-09-14', 'ETA': '2023-09-20', 'ATD': '2023-09-14', 'ATA': '2023-09-20', 'Container Release': '2023-10-06', 'Container Return': '2023-10-06'}\n",
      "{'Liners': 'KMTC', 'From': 'JAKARTA', 'To': 'HOCHIMINH', 'BL Number': 'JKT4587697', 'Container Number': 'SEGU5538580', 'ETD': '2023-09-14', 'ETA': '2023-09-20', 'ATD': '2023-09-14', 'ATA': '2023-09-20', 'Container Release': '2023-10-06', 'Container Return': '2023-10-09'}\n"
     ]
    },
    {
     "name": "stderr",
     "output_type": "stream",
     "text": [
      " 85%|████████▍ | 11/13 [01:11<00:07,  3.86s/it]"
     ]
    },
    {
     "name": "stdout",
     "output_type": "stream",
     "text": [
      "{'Liners': 'KMTC', 'From': 'JAKARTA', 'To': 'HOCHIMINH', 'BL Number': 'JKT4587697', 'Container Number': 'SEGU6586346', 'ETD': '2023-09-14', 'ETA': '2023-09-20', 'ATD': '2023-09-14', 'ATA': '2023-09-20'}\n"
     ]
    },
    {
     "name": "stderr",
     "output_type": "stream",
     "text": [
      " 92%|█████████▏| 12/13 [01:12<00:02,  2.86s/it]"
     ]
    },
    {
     "name": "stdout",
     "output_type": "stream",
     "text": [
      "{'Liners': 'KMTC', 'From': 'JAKARTA', 'To': 'NORTH MANILA', 'BL Number': 'JKT4601010', 'Container Number': 'FFAU1014167', 'ETD': '2023-09-26', 'ETA': '2023-10-04', 'ATD': '2023-09-26', 'ATA': '2023-10-04'}\n",
      "{'Liners': 'KMTC', 'From': 'JAKARTA', 'To': 'XINGANG', 'BL Number': 'JKT4587839', 'Container Number': 'BEAU4732429', 'ETD': '2023-09-15', 'ETA': '2023-09-30', 'ATD': '2023-09-15', 'ATA': '2023-09-30', 'Container Release': '2023-10-05', 'Container Return': '2023-10-06'}\n",
      "{'Liners': 'KMTC', 'From': 'JAKARTA', 'To': 'XINGANG', 'BL Number': 'JKT4587839', 'Container Number': 'BEAU4738772', 'ETD': '2023-09-15', 'ETA': '2023-09-30', 'ATD': '2023-09-15', 'ATA': '2023-09-30', 'Container Release': '2023-10-05', 'Container Return': '2023-10-06'}\n",
      "{'Liners': 'KMTC', 'From': 'JAKARTA', 'To': 'XINGANG', 'BL Number': 'JKT4587839', 'Container Number': 'BMOU6373174', 'ETD': '2023-09-15', 'ETA': '2023-09-30', 'ATD': '2023-09-15', 'ATA': '2023-09-30', 'Container Release': '2023-10-03', 'Container Return': '2023-10-04'}\n",
      "{'Liners': 'KMTC', 'From': 'JAKARTA', 'To': 'XINGANG', 'BL Number': 'JKT4587839', 'Container Number': 'FFAU1022476', 'ETD': '2023-09-15', 'ETA': '2023-09-30', 'ATD': '2023-09-15', 'ATA': '2023-09-30', 'Container Release': '2023-10-04', 'Container Return': '2023-10-05'}\n",
      "{'Liners': 'KMTC', 'From': 'JAKARTA', 'To': 'XINGANG', 'BL Number': 'JKT4587839', 'Container Number': 'GCXU5883744', 'ETD': '2023-09-15', 'ETA': '2023-09-30', 'ATD': '2023-09-15', 'ATA': '2023-09-30', 'Container Release': '2023-10-05', 'Container Return': '2023-10-06'}\n",
      "{'Liners': 'KMTC', 'From': 'JAKARTA', 'To': 'XINGANG', 'BL Number': 'JKT4587839', 'Container Number': 'KMTU9331374', 'ETD': '2023-09-15', 'ETA': '2023-09-30', 'ATD': '2023-09-15', 'ATA': '2023-09-30', 'Container Release': '2023-10-04', 'Container Return': '2023-10-04'}\n",
      "{'Liners': 'KMTC', 'From': 'JAKARTA', 'To': 'XINGANG', 'BL Number': 'JKT4587839', 'Container Number': 'TEMU6525671', 'ETD': '2023-09-15', 'ETA': '2023-09-30', 'ATD': '2023-09-15', 'ATA': '2023-09-30', 'Container Release': '2023-10-05', 'Container Return': '2023-10-05'}\n",
      "{'Liners': 'KMTC', 'From': 'JAKARTA', 'To': 'XINGANG', 'BL Number': 'JKT4587839', 'Container Number': 'TGBU6400761', 'ETD': '2023-09-15', 'ETA': '2023-09-30', 'ATD': '2023-09-15', 'ATA': '2023-09-30', 'Container Release': '2023-10-04', 'Container Return': '2023-10-04'}\n",
      "{'Liners': 'KMTC', 'From': 'JAKARTA', 'To': 'XINGANG', 'BL Number': 'JKT4587839', 'Container Number': 'TLLU5328339', 'ETD': '2023-09-15', 'ETA': '2023-09-30', 'ATD': '2023-09-15', 'ATA': '2023-09-30', 'Container Release': '2023-10-05', 'Container Return': '2023-10-05'}\n"
     ]
    },
    {
     "name": "stderr",
     "output_type": "stream",
     "text": [
      "100%|██████████| 13/13 [01:15<00:00,  5.80s/it]"
     ]
    },
    {
     "name": "stdout",
     "output_type": "stream",
     "text": [
      "{'Liners': 'KMTC', 'From': 'JAKARTA', 'To': 'XINGANG', 'BL Number': 'JKT4587839', 'Container Number': 'TXGU5007140', 'ETD': '2023-09-15', 'ETA': '2023-09-30', 'ATD': '2023-09-15', 'ATA': '2023-09-30', 'Container Release': '2023-10-05', 'Container Return': '2023-10-05'}\n"
     ]
    },
    {
     "name": "stderr",
     "output_type": "stream",
     "text": [
      "\n"
     ]
    }
   ],
   "source": [
    "hasil_akhir = []\n",
    "for i, bls in enumerate(tqdm(bl_list)):\n",
    "    try:\n",
    "        # hitting the API\n",
    "        url_ctr = \"https://api.ekmtc.com/trans/trans/cargo-tracking/{}?dtKnd=BL&blNo={}\".format(\n",
    "            bls[4:], bls[4:])\n",
    "        response_ctr = requests.request(\"GET\", url_ctr)\n",
    "\n",
    "        # getting container data. booking id needed for API URL\n",
    "        ctr_data = response_ctr.json()\n",
    "        list_of_container_number = []\n",
    "        list_of_bookingid = []\n",
    "\n",
    "        for j, ctr_info in enumerate(ctr_data['cntrList']):\n",
    "            list_of_container_number.append(ctr_info[\"cntrNo\"])\n",
    "            list_of_bookingid.append(ctr_info[\"bkgNo\"])\n",
    "\n",
    "        for c, ctr in enumerate(list_of_container_number):\n",
    "            url_milestone = \"https://api.ekmtc.com/trans/trans/cargo-tracking/{}/detail?bkgNo={}&cntrNo={}&dtKnd=BL&strBkgNo={}\".format(\n",
    "                bls[4:], list_of_bookingid[c], ctr, list_of_bookingid[c])\n",
    "            \n",
    "            # hitting the API again for every container for container milestones\n",
    "            response_milestone = requests.request(\"GET\", url_milestone)\n",
    "\n",
    "            # aqcuiring milestone datas for every container\n",
    "            milstone_data = response_milestone.json()\n",
    "            current_dict = {}\n",
    "            dict_milestone = {}\n",
    "            milestones = []\n",
    "            key_mapping = {\n",
    "                'blNo': 'BL Number',\n",
    "                'cntrNo': 'Container Number',\n",
    "                'etd': 'ETD',\n",
    "                'eta': 'ETA',\n",
    "                # 'GTOOB':'Gate Out Origin',\n",
    "                # 'GTIOB':'Gate In Origin',\n",
    "                'LDGOB': 'ATD',\n",
    "                'DISIB': 'ATA',\n",
    "                'GTOIB': 'Container Release',\n",
    "                'GTIIB': 'Container Return'\n",
    "            }\n",
    "\n",
    "            current_dict.update({\"Liners\": \"KMTC\"})\n",
    "            current_dict.update(\n",
    "                {\"From\": milstone_data['trackingList'][-1]['plcNm'][:milstone_data['trackingList'][-1]['plcNm'].index(\",\")]})\n",
    "            current_dict.update(\n",
    "                {\"To\": milstone_data['trackingList'][-1]['podPortNm']})\n",
    "\n",
    "            for key, label in key_mapping.items():\n",
    "                if key in ctr_data['cntrList'][c]:\n",
    "                    if key == \"etd\" or key == \"eta\":\n",
    "                        current_dict[label] = datetime.strptime(\n",
    "                            ctr_data['cntrList'][c][key][:8], \"%Y%m%d\").strftime(\"%Y-%m-%d\")\n",
    "                    else:\n",
    "                        current_dict[label] = ctr_data['cntrList'][c][key]\n",
    "\n",
    "            for b, milestone in enumerate(milstone_data['trackingList']):\n",
    "                milestones.append(\n",
    "                    milestone[\"cntrStsCd\"] + milestone[\"cntrMvntCd\"])\n",
    "                milestones.append(milestone[\"mvntDt\"])\n",
    "\n",
    "            for m, milestone in enumerate(milestones):\n",
    "                if is_date(milestone):\n",
    "                    case_milestone = {\n",
    "                        milestones[m-1]: datetime.strptime(milestone, \"%Y%m%d\").strftime(\"%Y-%m-%d\")}\n",
    "                    dict_milestone.update(case_milestone)\n",
    "\n",
    "            for key, label in key_mapping.items():\n",
    "                if key in dict_milestone:\n",
    "                    current_dict[label] = dict_milestone[key]\n",
    "\n",
    "            print(current_dict)\n",
    "            hasil_akhir.append(current_dict)\n",
    "    except Exception as e:\n",
    "        print(e)\n",
    "        print(\"{} GAGAL!!\".format(bls))\n",
    "        gagal.append(bls)\n"
   ]
  },
  {
   "cell_type": "code",
   "execution_count": 6,
   "metadata": {},
   "outputs": [
    {
     "name": "stdout",
     "output_type": "stream",
     "text": [
      "Today's Collection Name ===>  all_tracking_Oct-09-2023\n",
      "Today's Collection Has Been Made\n",
      "Inserting Many Complete!!\n"
     ]
    }
   ],
   "source": [
    "# connect to mongodb\n",
    "from mongoinit import mongo_table_initiation, insert_many_mongo\n",
    "\n",
    "mongo_table_initiation()\n",
    "insert_many_mongo(hasil_akhir)"
   ]
  },
  {
   "cell_type": "code",
   "execution_count": 7,
   "metadata": {},
   "outputs": [
    {
     "data": {
      "text/plain": [
       "[]"
      ]
     },
     "execution_count": 7,
     "metadata": {},
     "output_type": "execute_result"
    }
   ],
   "source": [
    "gagal"
   ]
  },
  {
   "cell_type": "code",
   "execution_count": 7,
   "metadata": {},
   "outputs": [],
   "source": [
    "# exporting to excel file\n",
    "df = pd.DataFrame(hasil_akhir)\n",
    "excel_file_path = 'export excel/KMTC.xlsx'\n",
    "df.to_excel(excel_file_path, index=False)"
   ]
  },
  {
   "cell_type": "code",
   "execution_count": null,
   "metadata": {},
   "outputs": [],
   "source": []
  }
 ],
 "metadata": {
  "kernelspec": {
   "display_name": "Python 3.10.10 64-bit",
   "language": "python",
   "name": "python3"
  },
  "language_info": {
   "codemirror_mode": {
    "name": "ipython",
    "version": 3
   },
   "file_extension": ".py",
   "mimetype": "text/x-python",
   "name": "python",
   "nbconvert_exporter": "python",
   "pygments_lexer": "ipython3",
   "version": "3.10.10"
  },
  "orig_nbformat": 4,
  "vscode": {
   "interpreter": {
    "hash": "8c3d4d9970fc5c09c50d9318a9c7fbf4d0159e4b28833276f5678ee22bded273"
   }
  }
 },
 "nbformat": 4,
 "nbformat_minor": 2
}
