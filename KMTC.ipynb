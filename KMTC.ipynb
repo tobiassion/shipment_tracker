{
 "cells": [
  {
   "cell_type": "code",
   "execution_count": 1,
   "metadata": {},
   "outputs": [],
   "source": [
    "import requests\n",
    "import pandas as pd\n",
    "from datetime import date\n",
    "from io import BytesIO\n",
    "\n",
    "from datetime import datetime\n",
    "from dateutil.parser import parse\n",
    "from tqdm import tqdm\n",
    "\n",
    "import pymongo\n",
    "from pymongo import MongoClient\n",
    "from pymongo.server_api import ServerApi"
   ]
  },
  {
   "cell_type": "code",
   "execution_count": 2,
   "metadata": {},
   "outputs": [],
   "source": [
    "# class to determine ganjil genap\n",
    "def is_date(string, fuzzy=False):\n",
    "    try: \n",
    "        parse(string, fuzzy=fuzzy)\n",
    "        return True\n",
    "    except ValueError:\n",
    "        return False"
   ]
  },
  {
   "cell_type": "code",
   "execution_count": 3,
   "metadata": {},
   "outputs": [],
   "source": [
    "# reading all BL number from google sheet\n",
    "from acquiringbl import takingBL\n",
    "bl_list = takingBL(\"KMTC\")"
   ]
  },
  {
   "cell_type": "code",
   "execution_count": 4,
   "metadata": {},
   "outputs": [],
   "source": [
    "# array for failed tracking\n",
    "gagal=[]"
   ]
  },
  {
   "cell_type": "code",
   "execution_count": 5,
   "metadata": {},
   "outputs": [
    {
     "name": "stderr",
     "output_type": "stream",
     "text": [
      "  7%|▋         | 1/15 [00:02<00:36,  2.62s/it]"
     ]
    },
    {
     "name": "stdout",
     "output_type": "stream",
     "text": [
      "{'Liners': 'KMTC', 'From': 'JAKARTA', 'To': 'NORTH MANILA', 'BL Number': 'JKT4435445', 'Container Number': 'FFAU3967342', 'ETD': '2023-04-07', 'ETA': '2023-04-14', 'ATD': '2023-04-07', 'ATA': '2023-04-14', 'Container Release': '2023-05-12'}\n"
     ]
    },
    {
     "name": "stderr",
     "output_type": "stream",
     "text": [
      " 13%|█▎        | 2/15 [00:03<00:17,  1.38s/it]"
     ]
    },
    {
     "name": "stdout",
     "output_type": "stream",
     "text": [
      "{'Liners': 'KMTC', 'From': 'JAKARTA', 'To': 'NORTH MANILA', 'BL Number': 'JKT4479884', 'Container Number': 'BMOU6345887', 'ETD': '2023-06-02', 'ETA': '2023-06-09', 'ATD': '2023-06-02', 'ATA': '2023-06-09'}\n",
      "{'Liners': 'KMTC', 'From': 'JAKARTA', 'To': 'HOCHIMINH', 'BL Number': 'JKT4589520', 'Container Number': 'FCIU7472518', 'ETD': '2023-09-14', 'ETA': '2023-09-20', 'ATD': '2023-09-14', 'ATA': '2023-09-20'}\n"
     ]
    },
    {
     "name": "stderr",
     "output_type": "stream",
     "text": [
      " 20%|██        | 3/15 [00:04<00:15,  1.29s/it]"
     ]
    },
    {
     "name": "stdout",
     "output_type": "stream",
     "text": [
      "{'Liners': 'KMTC', 'From': 'JAKARTA', 'To': 'HOCHIMINH', 'BL Number': 'JKT4589520', 'Container Number': 'TXGU5023537', 'ETD': '2023-09-14', 'ETA': '2023-09-20', 'ATD': '2023-09-14', 'ATA': '2023-09-20', 'Container Release': '2023-09-27'}\n",
      "{'Liners': 'KMTC', 'From': 'JAKARTA', 'To': 'SHEKOU', 'BL Number': 'JKT4594107', 'Container Number': 'BMOU6228047', 'ETD': '2023-09-19', 'ETA': '2023-09-26', 'ATD': '2023-09-19', 'ATA': '2023-09-26'}\n",
      "{'Liners': 'KMTC', 'From': 'JAKARTA', 'To': 'SHEKOU', 'BL Number': 'JKT4594107', 'Container Number': 'BSIU9626733', 'ETD': '2023-09-19', 'ETA': '2023-09-26', 'ATD': '2023-09-19', 'ATA': '2023-09-26'}\n",
      "{'Liners': 'KMTC', 'From': 'JAKARTA', 'To': 'SHEKOU', 'BL Number': 'JKT4594107', 'Container Number': 'KMTU9338620', 'ETD': '2023-09-19', 'ETA': '2023-09-26', 'ATD': '2023-09-19', 'ATA': '2023-09-26'}\n",
      "{'Liners': 'KMTC', 'From': 'JAKARTA', 'To': 'SHEKOU', 'BL Number': 'JKT4594107', 'Container Number': 'SEGU4785971', 'ETD': '2023-09-19', 'ETA': '2023-09-26', 'ATD': '2023-09-19', 'ATA': '2023-09-26'}\n",
      "{'Liners': 'KMTC', 'From': 'JAKARTA', 'To': 'SHEKOU', 'BL Number': 'JKT4594107', 'Container Number': 'SEGU4805954', 'ETD': '2023-09-19', 'ETA': '2023-09-26', 'ATD': '2023-09-19', 'ATA': '2023-09-26'}\n",
      "{'Liners': 'KMTC', 'From': 'JAKARTA', 'To': 'SHEKOU', 'BL Number': 'JKT4594107', 'Container Number': 'SEGU5555546', 'ETD': '2023-09-19', 'ETA': '2023-09-26', 'ATD': '2023-09-19', 'ATA': '2023-09-26', 'Container Release': '2023-09-28', 'Container Return': '2023-09-28'}\n"
     ]
    },
    {
     "name": "stderr",
     "output_type": "stream",
     "text": [
      " 27%|██▋       | 4/15 [00:06<00:18,  1.64s/it]"
     ]
    },
    {
     "name": "stdout",
     "output_type": "stream",
     "text": [
      "{'Liners': 'KMTC', 'From': 'JAKARTA', 'To': 'SHEKOU', 'BL Number': 'JKT4594107', 'Container Number': 'SEGU6149900', 'ETD': '2023-09-19', 'ETA': '2023-09-26', 'ATD': '2023-09-19', 'ATA': '2023-09-26', 'Container Release': '2023-09-27', 'Container Return': '2023-09-27'}\n",
      "{'Liners': 'KMTC', 'From': 'JAKARTA', 'To': 'XINGANG', 'BL Number': 'JKT4587839', 'Container Number': 'BEAU4732429', 'ETD': '2023-09-15', 'ETA': '2023-09-30', 'ATD': '2023-09-15', 'ATA': '2023-09-30'}\n",
      "{'Liners': 'KMTC', 'From': 'JAKARTA', 'To': 'XINGANG', 'BL Number': 'JKT4587839', 'Container Number': 'BEAU4738772', 'ETD': '2023-09-15', 'ETA': '2023-09-30', 'ATD': '2023-09-15', 'ATA': '2023-09-30'}\n",
      "{'Liners': 'KMTC', 'From': 'JAKARTA', 'To': 'XINGANG', 'BL Number': 'JKT4587839', 'Container Number': 'BMOU6373174', 'ETD': '2023-09-15', 'ETA': '2023-09-30', 'ATD': '2023-09-15', 'ATA': '2023-09-30'}\n",
      "{'Liners': 'KMTC', 'From': 'JAKARTA', 'To': 'XINGANG', 'BL Number': 'JKT4587839', 'Container Number': 'FFAU1022476', 'ETD': '2023-09-15', 'ETA': '2023-09-30', 'ATD': '2023-09-15', 'ATA': '2023-09-30'}\n",
      "{'Liners': 'KMTC', 'From': 'JAKARTA', 'To': 'XINGANG', 'BL Number': 'JKT4587839', 'Container Number': 'GCXU5883744', 'ETD': '2023-09-15', 'ETA': '2023-09-30', 'ATD': '2023-09-15', 'ATA': '2023-09-30'}\n",
      "{'Liners': 'KMTC', 'From': 'JAKARTA', 'To': 'XINGANG', 'BL Number': 'JKT4587839', 'Container Number': 'KMTU9331374', 'ETD': '2023-09-15', 'ETA': '2023-09-30', 'ATD': '2023-09-15', 'ATA': '2023-09-30'}\n",
      "{'Liners': 'KMTC', 'From': 'JAKARTA', 'To': 'XINGANG', 'BL Number': 'JKT4587839', 'Container Number': 'TEMU6525671', 'ETD': '2023-09-15', 'ETA': '2023-09-30', 'ATD': '2023-09-15', 'ATA': '2023-09-30'}\n",
      "{'Liners': 'KMTC', 'From': 'JAKARTA', 'To': 'XINGANG', 'BL Number': 'JKT4587839', 'Container Number': 'TGBU6400761', 'ETD': '2023-09-15', 'ETA': '2023-09-30', 'ATD': '2023-09-15', 'ATA': '2023-09-30'}\n",
      "{'Liners': 'KMTC', 'From': 'JAKARTA', 'To': 'XINGANG', 'BL Number': 'JKT4587839', 'Container Number': 'TLLU5328339', 'ETD': '2023-09-15', 'ETA': '2023-09-30', 'ATD': '2023-09-15', 'ATA': '2023-09-30'}\n"
     ]
    },
    {
     "name": "stderr",
     "output_type": "stream",
     "text": [
      " 33%|███▎      | 5/15 [00:09<00:22,  2.25s/it]"
     ]
    },
    {
     "name": "stdout",
     "output_type": "stream",
     "text": [
      "{'Liners': 'KMTC', 'From': 'JAKARTA', 'To': 'XINGANG', 'BL Number': 'JKT4587839', 'Container Number': 'TXGU5007140', 'ETD': '2023-09-15', 'ETA': '2023-09-30', 'ATD': '2023-09-15', 'ATA': '2023-09-30'}\n"
     ]
    },
    {
     "name": "stderr",
     "output_type": "stream",
     "text": [
      " 40%|████      | 6/15 [00:10<00:15,  1.67s/it]"
     ]
    },
    {
     "name": "stdout",
     "output_type": "stream",
     "text": [
      "{'Liners': 'KMTC', 'From': 'JAKARTA', 'To': 'NORTH MANILA', 'BL Number': 'JKT4471882', 'Container Number': 'SEGU4798536', 'ETD': '2023-06-02', 'ETA': '2023-06-09', 'ATD': '2023-06-02', 'ATA': '2023-06-09'}\n"
     ]
    },
    {
     "name": "stderr",
     "output_type": "stream",
     "text": [
      " 47%|████▋     | 7/15 [00:10<00:10,  1.30s/it]"
     ]
    },
    {
     "name": "stdout",
     "output_type": "stream",
     "text": [
      "{'Liners': 'KMTC', 'From': 'JAKARTA', 'To': 'HOCHIMINH', 'BL Number': 'JKT4587153', 'Container Number': 'BEAU4878007', 'ETD': '2023-09-10', 'ETA': '2023-09-13', 'ATD': '2023-09-10', 'ATA': '2023-09-13'}\n",
      "{'Liners': 'KMTC', 'From': 'JAKARTA', 'To': 'SHEKOU', 'BL Number': 'JKT4598108', 'Container Number': 'BMOU6215820', 'ETD': '2023-09-19', 'ETA': '2023-09-26', 'ATD': '2023-09-19', 'ATA': '2023-09-26'}\n",
      "{'Liners': 'KMTC', 'From': 'JAKARTA', 'To': 'SHEKOU', 'BL Number': 'JKT4598108', 'Container Number': 'BMOU6248589', 'ETD': '2023-09-19', 'ETA': '2023-09-26', 'ATD': '2023-09-19', 'ATA': '2023-09-26', 'Container Release': '2023-09-27', 'Container Return': '2023-09-27'}\n",
      "{'Liners': 'KMTC', 'From': 'JAKARTA', 'To': 'SHEKOU', 'BL Number': 'JKT4598108', 'Container Number': 'BMOU6342949', 'ETD': '2023-09-19', 'ETA': '2023-09-26', 'ATD': '2023-09-19', 'ATA': '2023-09-26', 'Container Release': '2023-10-01', 'Container Return': '2023-10-01'}\n",
      "{'Liners': 'KMTC', 'From': 'JAKARTA', 'To': 'SHEKOU', 'BL Number': 'JKT4598108', 'Container Number': 'BMOU6362816', 'ETD': '2023-09-19', 'ETA': '2023-09-26', 'ATD': '2023-09-19', 'ATA': '2023-09-26', 'Container Release': '2023-09-30', 'Container Return': '2023-10-01'}\n",
      "{'Liners': 'KMTC', 'From': 'JAKARTA', 'To': 'SHEKOU', 'BL Number': 'JKT4598108', 'Container Number': 'CAIU8830794', 'ETD': '2023-09-19', 'ETA': '2023-09-26', 'ATD': '2023-09-19', 'ATA': '2023-09-26', 'Container Release': '2023-10-01', 'Container Return': '2023-10-01'}\n",
      "{'Liners': 'KMTC', 'From': 'JAKARTA', 'To': 'SHEKOU', 'BL Number': 'JKT4598108', 'Container Number': 'FBLU0231872', 'ETD': '2023-09-19', 'ETA': '2023-09-26', 'ATD': '2023-09-19', 'ATA': '2023-09-26', 'Container Release': '2023-09-30', 'Container Return': '2023-10-01'}\n",
      "{'Liners': 'KMTC', 'From': 'JAKARTA', 'To': 'SHEKOU', 'BL Number': 'JKT4598108', 'Container Number': 'FCIU7120461', 'ETD': '2023-09-19', 'ETA': '2023-09-26', 'ATD': '2023-09-19', 'ATA': '2023-09-26'}\n",
      "{'Liners': 'KMTC', 'From': 'JAKARTA', 'To': 'SHEKOU', 'BL Number': 'JKT4598108', 'Container Number': 'FFAU1015008', 'ETD': '2023-09-19', 'ETA': '2023-09-26', 'ATD': '2023-09-19', 'ATA': '2023-09-26'}\n",
      "{'Liners': 'KMTC', 'From': 'JAKARTA', 'To': 'SHEKOU', 'BL Number': 'JKT4598108', 'Container Number': 'FFAU1024479', 'ETD': '2023-09-19', 'ETA': '2023-09-26', 'ATD': '2023-09-19', 'ATA': '2023-09-26'}\n",
      "{'Liners': 'KMTC', 'From': 'JAKARTA', 'To': 'SHEKOU', 'BL Number': 'JKT4598108', 'Container Number': 'KMTU9360032', 'ETD': '2023-09-19', 'ETA': '2023-09-26', 'ATD': '2023-09-19', 'ATA': '2023-09-26', 'Container Release': '2023-09-28', 'Container Return': '2023-09-28'}\n",
      "{'Liners': 'KMTC', 'From': 'JAKARTA', 'To': 'SHEKOU', 'BL Number': 'JKT4598108', 'Container Number': 'SEGU4472072', 'ETD': '2023-09-19', 'ETA': '2023-09-26', 'ATD': '2023-09-19', 'ATA': '2023-09-26'}\n",
      "{'Liners': 'KMTC', 'From': 'JAKARTA', 'To': 'SHEKOU', 'BL Number': 'JKT4598108', 'Container Number': 'SEGU4799194', 'ETD': '2023-09-19', 'ETA': '2023-09-26', 'ATD': '2023-09-19', 'ATA': '2023-09-26'}\n",
      "{'Liners': 'KMTC', 'From': 'JAKARTA', 'To': 'SHEKOU', 'BL Number': 'JKT4598108', 'Container Number': 'SEGU5545907', 'ETD': '2023-09-19', 'ETA': '2023-09-26', 'ATD': '2023-09-19', 'ATA': '2023-09-26'}\n",
      "{'Liners': 'KMTC', 'From': 'JAKARTA', 'To': 'SHEKOU', 'BL Number': 'JKT4598108', 'Container Number': 'SEGU6151298', 'ETD': '2023-09-19', 'ETA': '2023-09-26', 'ATD': '2023-09-19', 'ATA': '2023-09-26', 'Container Release': '2023-09-27', 'Container Return': '2023-09-27'}\n",
      "{'Liners': 'KMTC', 'From': 'JAKARTA', 'To': 'SHEKOU', 'BL Number': 'JKT4598108', 'Container Number': 'SEGU6158585', 'ETD': '2023-09-19', 'ETA': '2023-09-26', 'ATD': '2023-09-19', 'ATA': '2023-09-26', 'Container Release': '2023-09-28', 'Container Return': '2023-09-28'}\n",
      "{'Liners': 'KMTC', 'From': 'JAKARTA', 'To': 'SHEKOU', 'BL Number': 'JKT4598108', 'Container Number': 'SEGU6460321', 'ETD': '2023-09-19', 'ETA': '2023-09-26', 'ATD': '2023-09-19', 'ATA': '2023-09-26', 'Container Release': '2023-09-26', 'Container Return': '2023-09-27'}\n",
      "{'Liners': 'KMTC', 'From': 'JAKARTA', 'To': 'SHEKOU', 'BL Number': 'JKT4598108', 'Container Number': 'SEKU5942787', 'ETD': '2023-09-19', 'ETA': '2023-09-26', 'ATD': '2023-09-19', 'ATA': '2023-09-26'}\n",
      "{'Liners': 'KMTC', 'From': 'JAKARTA', 'To': 'SHEKOU', 'BL Number': 'JKT4598108', 'Container Number': 'TEMU7793766', 'ETD': '2023-09-19', 'ETA': '2023-09-26', 'ATD': '2023-09-19', 'ATA': '2023-09-26'}\n",
      "{'Liners': 'KMTC', 'From': 'JAKARTA', 'To': 'SHEKOU', 'BL Number': 'JKT4598108', 'Container Number': 'TXGU6058353', 'ETD': '2023-09-19', 'ETA': '2023-09-26', 'ATD': '2023-09-19', 'ATA': '2023-09-26'}\n"
     ]
    },
    {
     "name": "stderr",
     "output_type": "stream",
     "text": [
      " 53%|█████▎    | 8/15 [00:17<00:20,  2.91s/it]"
     ]
    },
    {
     "name": "stdout",
     "output_type": "stream",
     "text": [
      "{'Liners': 'KMTC', 'From': 'JAKARTA', 'To': 'SHEKOU', 'BL Number': 'JKT4598108', 'Container Number': 'TXGU6144282', 'ETD': '2023-09-19', 'ETA': '2023-09-26', 'ATD': '2023-09-19', 'ATA': '2023-09-26'}\n",
      "{'Liners': 'KMTC', 'From': 'JAKARTA', 'To': 'HOCHIMINH', 'BL Number': 'JKT4607234', 'Container Number': 'BEAU4870500', 'ETD': '2023-10-02', 'ETA': '2023-10-04'}\n",
      "{'Liners': 'KMTC', 'From': 'JAKARTA', 'To': 'HOCHIMINH', 'BL Number': 'JKT4607234', 'Container Number': 'BEAU4929357', 'ETD': '2023-10-02', 'ETA': '2023-10-04'}\n",
      "{'Liners': 'KMTC', 'From': 'JAKARTA', 'To': 'HOCHIMINH', 'BL Number': 'JKT4607234', 'Container Number': 'BMOU6239102', 'ETD': '2023-10-02', 'ETA': '2023-10-04'}\n",
      "{'Liners': 'KMTC', 'From': 'JAKARTA', 'To': 'HOCHIMINH', 'BL Number': 'JKT4607234', 'Container Number': 'BMOU6359113', 'ETD': '2023-10-02', 'ETA': '2023-10-04'}\n",
      "{'Liners': 'KMTC', 'From': 'JAKARTA', 'To': 'HOCHIMINH', 'BL Number': 'JKT4607234', 'Container Number': 'FCIU7473469', 'ETD': '2023-10-02', 'ETA': '2023-10-04'}\n",
      "{'Liners': 'KMTC', 'From': 'JAKARTA', 'To': 'HOCHIMINH', 'BL Number': 'JKT4607234', 'Container Number': 'GCXU5886086', 'ETD': '2023-10-02', 'ETA': '2023-10-04'}\n",
      "{'Liners': 'KMTC', 'From': 'JAKARTA', 'To': 'HOCHIMINH', 'BL Number': 'JKT4607234', 'Container Number': 'SEGU5561750', 'ETD': '2023-10-02', 'ETA': '2023-10-04'}\n",
      "{'Liners': 'KMTC', 'From': 'JAKARTA', 'To': 'HOCHIMINH', 'BL Number': 'JKT4607234', 'Container Number': 'TRHU5695450', 'ETD': '2023-10-02', 'ETA': '2023-10-04'}\n"
     ]
    },
    {
     "name": "stderr",
     "output_type": "stream",
     "text": [
      " 60%|██████    | 9/15 [00:21<00:19,  3.26s/it]"
     ]
    },
    {
     "name": "stdout",
     "output_type": "stream",
     "text": [
      "{'Liners': 'KMTC', 'From': 'JAKARTA', 'To': 'HOCHIMINH', 'BL Number': 'JKT4607234', 'Container Number': 'TXGU5011710', 'ETD': '2023-10-02', 'ETA': '2023-10-04'}\n",
      "{'Liners': 'KMTC', 'From': 'JAKARTA', 'To': 'SHEKOU', 'BL Number': 'JKT4596021', 'Container Number': 'BEAU4856040', 'ETD': '2023-09-19', 'ETA': '2023-09-26', 'ATD': '2023-09-19', 'ATA': '2023-09-26', 'Container Release': '2023-09-30', 'Container Return': '2023-10-01'}\n",
      "{'Liners': 'KMTC', 'From': 'JAKARTA', 'To': 'SHEKOU', 'BL Number': 'JKT4596021', 'Container Number': 'BEAU4859917', 'ETD': '2023-09-19', 'ETA': '2023-09-26', 'ATD': '2023-09-19', 'ATA': '2023-09-26', 'Container Release': '2023-09-30', 'Container Return': '2023-10-01'}\n",
      "{'Liners': 'KMTC', 'From': 'JAKARTA', 'To': 'SHEKOU', 'BL Number': 'JKT4596021', 'Container Number': 'BMOU6358565', 'ETD': '2023-09-19', 'ETA': '2023-09-26', 'ATD': '2023-09-19', 'ATA': '2023-09-26', 'Container Release': '2023-10-01'}\n",
      "{'Liners': 'KMTC', 'From': 'JAKARTA', 'To': 'SHEKOU', 'BL Number': 'JKT4596021', 'Container Number': 'SEGU4276188', 'ETD': '2023-09-19', 'ETA': '2023-09-26', 'ATD': '2023-09-19', 'ATA': '2023-09-26', 'Container Release': '2023-09-27', 'Container Return': '2023-09-28'}\n",
      "{'Liners': 'KMTC', 'From': 'JAKARTA', 'To': 'SHEKOU', 'BL Number': 'JKT4596021', 'Container Number': 'SEGU4787526', 'ETD': '2023-09-19', 'ETA': '2023-09-26', 'ATD': '2023-09-19', 'ATA': '2023-09-26', 'Container Release': '2023-10-01', 'Container Return': '2023-10-01'}\n",
      "{'Liners': 'KMTC', 'From': 'JAKARTA', 'To': 'SHEKOU', 'BL Number': 'JKT4596021', 'Container Number': 'SEKU5943628', 'ETD': '2023-09-19', 'ETA': '2023-09-26', 'ATD': '2023-09-19', 'ATA': '2023-09-26', 'Container Release': '2023-09-28', 'Container Return': '2023-09-28'}\n",
      "{'Liners': 'KMTC', 'From': 'JAKARTA', 'To': 'SHEKOU', 'BL Number': 'JKT4596021', 'Container Number': 'TCNU1882927', 'ETD': '2023-09-19', 'ETA': '2023-09-26', 'ATD': '2023-09-19', 'ATA': '2023-09-26', 'Container Release': '2023-10-01', 'Container Return': '2023-10-01'}\n",
      "{'Liners': 'KMTC', 'From': 'JAKARTA', 'To': 'SHEKOU', 'BL Number': 'JKT4596021', 'Container Number': 'TLLU5329607', 'ETD': '2023-09-19', 'ETA': '2023-09-26', 'ATD': '2023-09-19', 'ATA': '2023-09-26', 'Container Release': '2023-09-30', 'Container Return': '2023-10-01'}\n",
      "{'Liners': 'KMTC', 'From': 'JAKARTA', 'To': 'SHEKOU', 'BL Number': 'JKT4596021', 'Container Number': 'TXGU5034491', 'ETD': '2023-09-19', 'ETA': '2023-09-26', 'ATD': '2023-09-19', 'ATA': '2023-09-26', 'Container Release': '2023-09-28', 'Container Return': '2023-09-28'}\n"
     ]
    },
    {
     "name": "stderr",
     "output_type": "stream",
     "text": [
      " 67%|██████▋   | 10/15 [00:24<00:16,  3.24s/it]"
     ]
    },
    {
     "name": "stdout",
     "output_type": "stream",
     "text": [
      "{'Liners': 'KMTC', 'From': 'JAKARTA', 'To': 'SHEKOU', 'BL Number': 'JKT4596021', 'Container Number': 'TXGU5036540', 'ETD': '2023-09-19', 'ETA': '2023-09-26', 'ATD': '2023-09-19', 'ATA': '2023-09-26', 'Container Release': '2023-09-30', 'Container Return': '2023-10-01'}\n",
      "{'Liners': 'KMTC', 'From': 'JAKARTA', 'To': 'SHANGHAI', 'BL Number': 'JKT4588669', 'Container Number': 'BMOU6808575', 'ETD': '2023-09-14', 'ETA': '2023-09-27', 'ATD': '2023-09-14', 'ATA': '2023-09-27'}\n",
      "{'Liners': 'KMTC', 'From': 'JAKARTA', 'To': 'SHANGHAI', 'BL Number': 'JKT4588669', 'Container Number': 'BMOU6819610', 'ETD': '2023-09-14', 'ETA': '2023-09-27', 'ATD': '2023-09-14', 'ATA': '2023-09-27'}\n",
      "{'Liners': 'KMTC', 'From': 'JAKARTA', 'To': 'SHANGHAI', 'BL Number': 'JKT4588669', 'Container Number': 'FCIU7114181', 'ETD': '2023-09-14', 'ETA': '2023-09-27', 'ATD': '2023-09-14', 'ATA': '2023-09-27'}\n",
      "{'Liners': 'KMTC', 'From': 'JAKARTA', 'To': 'SHANGHAI', 'BL Number': 'JKT4588669', 'Container Number': 'FFAU1044623', 'ETD': '2023-09-14', 'ETA': '2023-09-27', 'ATD': '2023-09-14', 'ATA': '2023-09-27'}\n",
      "{'Liners': 'KMTC', 'From': 'JAKARTA', 'To': 'SHANGHAI', 'BL Number': 'JKT4588669', 'Container Number': 'FFAU1065457', 'ETD': '2023-09-14', 'ETA': '2023-09-27', 'ATD': '2023-09-14', 'ATA': '2023-09-27'}\n",
      "{'Liners': 'KMTC', 'From': 'JAKARTA', 'To': 'SHANGHAI', 'BL Number': 'JKT4588669', 'Container Number': 'FFAU3966602', 'ETD': '2023-09-14', 'ETA': '2023-09-27', 'ATD': '2023-09-14', 'ATA': '2023-09-27'}\n",
      "{'Liners': 'KMTC', 'From': 'JAKARTA', 'To': 'SHANGHAI', 'BL Number': 'JKT4588669', 'Container Number': 'GCXU5935508', 'ETD': '2023-09-14', 'ETA': '2023-09-27', 'ATD': '2023-09-14', 'ATA': '2023-09-27'}\n",
      "{'Liners': 'KMTC', 'From': 'JAKARTA', 'To': 'SHANGHAI', 'BL Number': 'JKT4588669', 'Container Number': 'SEGU5164921', 'ETD': '2023-09-14', 'ETA': '2023-09-27', 'ATD': '2023-09-14', 'ATA': '2023-09-27'}\n",
      "{'Liners': 'KMTC', 'From': 'JAKARTA', 'To': 'SHANGHAI', 'BL Number': 'JKT4588669', 'Container Number': 'SEGU5577566', 'ETD': '2023-09-14', 'ETA': '2023-09-27', 'ATD': '2023-09-14', 'ATA': '2023-09-27'}\n",
      "{'Liners': 'KMTC', 'From': 'JAKARTA', 'To': 'SHANGHAI', 'BL Number': 'JKT4588669', 'Container Number': 'SEGU6581560', 'ETD': '2023-09-14', 'ETA': '2023-09-27', 'ATD': '2023-09-14', 'ATA': '2023-09-27'}\n",
      "{'Liners': 'KMTC', 'From': 'JAKARTA', 'To': 'SHANGHAI', 'BL Number': 'JKT4588669', 'Container Number': 'SEGU6588415', 'ETD': '2023-09-14', 'ETA': '2023-09-27', 'ATD': '2023-09-14', 'ATA': '2023-09-27'}\n",
      "{'Liners': 'KMTC', 'From': 'JAKARTA', 'To': 'SHANGHAI', 'BL Number': 'JKT4588669', 'Container Number': 'TCNU1913170', 'ETD': '2023-09-14', 'ETA': '2023-09-27', 'ATD': '2023-09-14', 'ATA': '2023-09-27'}\n"
     ]
    },
    {
     "name": "stderr",
     "output_type": "stream",
     "text": [
      " 73%|███████▎  | 11/15 [00:28<00:13,  3.47s/it]"
     ]
    },
    {
     "name": "stdout",
     "output_type": "stream",
     "text": [
      "{'Liners': 'KMTC', 'From': 'JAKARTA', 'To': 'SHANGHAI', 'BL Number': 'JKT4588669', 'Container Number': 'TXGU6053541', 'ETD': '2023-09-14', 'ETA': '2023-09-27', 'ATD': '2023-09-14', 'ATA': '2023-09-27'}\n",
      "{'Liners': 'KMTC', 'From': 'JAKARTA', 'To': 'NORTH MANILA', 'BL Number': 'JKT4471892', 'Container Number': 'BMOU6936112', 'ETD': '2023-06-02', 'ETA': '2023-06-09', 'ATD': '2023-06-02', 'ATA': '2023-06-09'}\n"
     ]
    },
    {
     "name": "stderr",
     "output_type": "stream",
     "text": [
      " 80%|████████  | 12/15 [00:29<00:08,  2.82s/it]"
     ]
    },
    {
     "name": "stdout",
     "output_type": "stream",
     "text": [
      "{'Liners': 'KMTC', 'From': 'JAKARTA', 'To': 'NORTH MANILA', 'BL Number': 'JKT4471892', 'Container Number': 'FFAU4443490', 'ETD': '2023-06-02', 'ETA': '2023-06-09', 'ATD': '2023-06-02', 'ATA': '2023-06-09'}\n",
      "{'Liners': 'KMTC', 'From': 'JAKARTA', 'To': 'HOCHIMINH', 'BL Number': 'JKT4587697', 'Container Number': 'BEAU4873978', 'ETD': '2023-09-14', 'ETA': '2023-09-20', 'ATD': '2023-09-14', 'ATA': '2023-09-20'}\n",
      "{'Liners': 'KMTC', 'From': 'JAKARTA', 'To': 'HOCHIMINH', 'BL Number': 'JKT4587697', 'Container Number': 'BMOU6369831', 'ETD': '2023-09-14', 'ETA': '2023-09-20', 'ATD': '2023-09-14', 'ATA': '2023-09-20'}\n",
      "{'Liners': 'KMTC', 'From': 'JAKARTA', 'To': 'HOCHIMINH', 'BL Number': 'JKT4587697', 'Container Number': 'FFAU1014510', 'ETD': '2023-09-14', 'ETA': '2023-09-20', 'ATD': '2023-09-14', 'ATA': '2023-09-20'}\n",
      "{'Liners': 'KMTC', 'From': 'JAKARTA', 'To': 'HOCHIMINH', 'BL Number': 'JKT4587697', 'Container Number': 'KMTU9282290', 'ETD': '2023-09-14', 'ETA': '2023-09-20', 'ATD': '2023-09-14', 'ATA': '2023-09-20'}\n",
      "{'Liners': 'KMTC', 'From': 'JAKARTA', 'To': 'HOCHIMINH', 'BL Number': 'JKT4587697', 'Container Number': 'SEGU5538580', 'ETD': '2023-09-14', 'ETA': '2023-09-20', 'ATD': '2023-09-14', 'ATA': '2023-09-20'}\n"
     ]
    },
    {
     "name": "stderr",
     "output_type": "stream",
     "text": [
      " 87%|████████▋ | 13/15 [00:31<00:05,  2.60s/it]"
     ]
    },
    {
     "name": "stdout",
     "output_type": "stream",
     "text": [
      "{'Liners': 'KMTC', 'From': 'JAKARTA', 'To': 'HOCHIMINH', 'BL Number': 'JKT4587697', 'Container Number': 'SEGU6586346', 'ETD': '2023-09-14', 'ETA': '2023-09-20', 'ATD': '2023-09-14', 'ATA': '2023-09-20'}\n",
      "{'Liners': 'KMTC', 'From': 'JAKARTA', 'To': 'HOCHIMINH', 'BL Number': 'JKT4581147', 'Container Number': 'FCIU7270517', 'ETD': '2023-09-10', 'ETA': '2023-09-13', 'ATD': '2023-09-10', 'ATA': '2023-09-13'}\n",
      "{'Liners': 'KMTC', 'From': 'JAKARTA', 'To': 'HOCHIMINH', 'BL Number': 'JKT4581147', 'Container Number': 'FFAU1044834', 'ETD': '2023-09-10', 'ETA': '2023-09-13', 'ATD': '2023-09-10', 'ATA': '2023-09-13'}\n",
      "{'Liners': 'KMTC', 'From': 'JAKARTA', 'To': 'HOCHIMINH', 'BL Number': 'JKT4581147', 'Container Number': 'FFAU1058376', 'ETD': '2023-09-10', 'ETA': '2023-09-13', 'ATD': '2023-09-10', 'ATA': '2023-09-13'}\n",
      "{'Liners': 'KMTC', 'From': 'JAKARTA', 'To': 'HOCHIMINH', 'BL Number': 'JKT4581147', 'Container Number': 'FFAU1064147', 'ETD': '2023-09-10', 'ETA': '2023-09-13', 'ATD': '2023-09-10', 'ATA': '2023-09-13'}\n"
     ]
    },
    {
     "name": "stderr",
     "output_type": "stream",
     "text": [
      " 93%|█████████▎| 14/15 [00:33<00:02,  2.38s/it]"
     ]
    },
    {
     "name": "stdout",
     "output_type": "stream",
     "text": [
      "{'Liners': 'KMTC', 'From': 'JAKARTA', 'To': 'HOCHIMINH', 'BL Number': 'JKT4581147', 'Container Number': 'KMTU9361194', 'ETD': '2023-09-10', 'ETA': '2023-09-13', 'ATD': '2023-09-10', 'ATA': '2023-09-13'}\n",
      "{'Liners': 'KMTC', 'From': 'JAKARTA', 'To': 'SHEKOU', 'BL Number': 'JKT4599082', 'Container Number': 'BEAU4870270', 'ETD': '2023-09-19', 'ETA': '2023-09-26', 'ATD': '2023-09-19', 'ATA': '2023-09-26', 'Container Release': '2023-09-27', 'Container Return': '2023-09-27'}\n",
      "{'Liners': 'KMTC', 'From': 'JAKARTA', 'To': 'SHEKOU', 'BL Number': 'JKT4599082', 'Container Number': 'BMOU6809231', 'ETD': '2023-09-19', 'ETA': '2023-09-26', 'ATD': '2023-09-19', 'ATA': '2023-09-26'}\n",
      "{'Liners': 'KMTC', 'From': 'JAKARTA', 'To': 'SHEKOU', 'BL Number': 'JKT4599082', 'Container Number': 'BMOU6817432', 'ETD': '2023-09-19', 'ETA': '2023-09-26', 'ATD': '2023-09-19', 'ATA': '2023-09-26'}\n",
      "{'Liners': 'KMTC', 'From': 'JAKARTA', 'To': 'SHEKOU', 'BL Number': 'JKT4599082', 'Container Number': 'BMOU6926639', 'ETD': '2023-09-19', 'ETA': '2023-09-26', 'ATD': '2023-09-19', 'ATA': '2023-09-26'}\n",
      "{'Liners': 'KMTC', 'From': 'JAKARTA', 'To': 'SHEKOU', 'BL Number': 'JKT4599082', 'Container Number': 'FCIU7149573', 'ETD': '2023-09-19', 'ETA': '2023-09-26', 'ATD': '2023-09-19', 'ATA': '2023-09-26'}\n",
      "{'Liners': 'KMTC', 'From': 'JAKARTA', 'To': 'SHEKOU', 'BL Number': 'JKT4599082', 'Container Number': 'FCIU7180481', 'ETD': '2023-09-19', 'ETA': '2023-09-26', 'ATD': '2023-09-19', 'ATA': '2023-09-26'}\n",
      "{'Liners': 'KMTC', 'From': 'JAKARTA', 'To': 'SHEKOU', 'BL Number': 'JKT4599082', 'Container Number': 'FCIU7544897', 'ETD': '2023-09-19', 'ETA': '2023-09-26', 'ATD': '2023-09-19', 'ATA': '2023-09-26'}\n",
      "{'Liners': 'KMTC', 'From': 'JAKARTA', 'To': 'SHEKOU', 'BL Number': 'JKT4599082', 'Container Number': 'FFAU1055654', 'ETD': '2023-09-19', 'ETA': '2023-09-26', 'ATD': '2023-09-19', 'ATA': '2023-09-26'}\n",
      "{'Liners': 'KMTC', 'From': 'JAKARTA', 'To': 'SHEKOU', 'BL Number': 'JKT4599082', 'Container Number': 'FFAU1057976', 'ETD': '2023-09-19', 'ETA': '2023-09-26', 'ATD': '2023-09-19', 'ATA': '2023-09-26'}\n",
      "{'Liners': 'KMTC', 'From': 'JAKARTA', 'To': 'SHEKOU', 'BL Number': 'JKT4599082', 'Container Number': 'GCXU5936926', 'ETD': '2023-09-19', 'ETA': '2023-09-26', 'ATD': '2023-09-19', 'ATA': '2023-09-26'}\n",
      "{'Liners': 'KMTC', 'From': 'JAKARTA', 'To': 'SHEKOU', 'BL Number': 'JKT4599082', 'Container Number': 'KMTU9295425', 'ETD': '2023-09-19', 'ETA': '2023-09-26', 'ATD': '2023-09-19', 'ATA': '2023-09-26'}\n",
      "{'Liners': 'KMTC', 'From': 'JAKARTA', 'To': 'SHEKOU', 'BL Number': 'JKT4599082', 'Container Number': 'KMTU9328909', 'ETD': '2023-09-19', 'ETA': '2023-09-26', 'ATD': '2023-09-19', 'ATA': '2023-09-26', 'Container Release': '2023-09-27', 'Container Return': '2023-09-27'}\n",
      "{'Liners': 'KMTC', 'From': 'JAKARTA', 'To': 'SHEKOU', 'BL Number': 'JKT4599082', 'Container Number': 'SEGU4804259', 'ETD': '2023-09-19', 'ETA': '2023-09-26', 'ATD': '2023-09-19', 'ATA': '2023-09-26'}\n",
      "{'Liners': 'KMTC', 'From': 'JAKARTA', 'To': 'SHEKOU', 'BL Number': 'JKT4599082', 'Container Number': 'SEGU6162374', 'ETD': '2023-09-19', 'ETA': '2023-09-26', 'ATD': '2023-09-19', 'ATA': '2023-09-26'}\n",
      "{'Liners': 'KMTC', 'From': 'JAKARTA', 'To': 'SHEKOU', 'BL Number': 'JKT4599082', 'Container Number': 'SEGU6661780', 'ETD': '2023-09-19', 'ETA': '2023-09-26', 'ATD': '2023-09-19', 'ATA': '2023-09-26'}\n",
      "{'Liners': 'KMTC', 'From': 'JAKARTA', 'To': 'SHEKOU', 'BL Number': 'JKT4599082', 'Container Number': 'TEMU7820521', 'ETD': '2023-09-19', 'ETA': '2023-09-26', 'ATD': '2023-09-19', 'ATA': '2023-09-26'}\n",
      "{'Liners': 'KMTC', 'From': 'JAKARTA', 'To': 'SHEKOU', 'BL Number': 'JKT4599082', 'Container Number': 'TEMU8985402', 'ETD': '2023-09-19', 'ETA': '2023-09-26', 'ATD': '2023-09-19', 'ATA': '2023-09-26'}\n",
      "{'Liners': 'KMTC', 'From': 'JAKARTA', 'To': 'SHEKOU', 'BL Number': 'JKT4599082', 'Container Number': 'TXGU5016287', 'ETD': '2023-09-19', 'ETA': '2023-09-26', 'ATD': '2023-09-19', 'ATA': '2023-09-26'}\n",
      "{'Liners': 'KMTC', 'From': 'JAKARTA', 'To': 'SHEKOU', 'BL Number': 'JKT4599082', 'Container Number': 'UETU5443847', 'ETD': '2023-09-19', 'ETA': '2023-09-26', 'ATD': '2023-09-19', 'ATA': '2023-09-26'}\n"
     ]
    },
    {
     "name": "stderr",
     "output_type": "stream",
     "text": [
      "100%|██████████| 15/15 [00:39<00:00,  2.65s/it]"
     ]
    },
    {
     "name": "stdout",
     "output_type": "stream",
     "text": [
      "{'Liners': 'KMTC', 'From': 'JAKARTA', 'To': 'SHEKOU', 'BL Number': 'JKT4599082', 'Container Number': 'UETU5452622', 'ETD': '2023-09-19', 'ETA': '2023-09-26', 'ATD': '2023-09-19', 'ATA': '2023-09-26'}\n"
     ]
    },
    {
     "name": "stderr",
     "output_type": "stream",
     "text": [
      "\n"
     ]
    }
   ],
   "source": [
    "hasil_akhir = []\n",
    "for i, bls in enumerate(tqdm(bl_list)):\n",
    "    try:\n",
    "        # hitting the API\n",
    "        url_ctr = \"https://api.ekmtc.com/trans/trans/cargo-tracking/{}?dtKnd=BL&blNo={}\".format(\n",
    "            bls[4:], bls[4:])\n",
    "        response_ctr = requests.request(\"GET\", url_ctr)\n",
    "\n",
    "        # getting container data. booking id needed for API URL\n",
    "        ctr_data = response_ctr.json()\n",
    "        list_of_container_number = []\n",
    "        list_of_bookingid = []\n",
    "\n",
    "        for j, ctr_info in enumerate(ctr_data['cntrList']):\n",
    "            list_of_container_number.append(ctr_info[\"cntrNo\"])\n",
    "            list_of_bookingid.append(ctr_info[\"bkgNo\"])\n",
    "\n",
    "        for c, ctr in enumerate(list_of_container_number):\n",
    "            url_milestone = \"https://api.ekmtc.com/trans/trans/cargo-tracking/{}/detail?bkgNo={}&cntrNo={}&dtKnd=BL&strBkgNo={}\".format(\n",
    "                bls[4:], list_of_bookingid[c], ctr, list_of_bookingid[c])\n",
    "            \n",
    "            # hitting the API again for every container for container milestones\n",
    "            response_milestone = requests.request(\"GET\", url_milestone)\n",
    "\n",
    "            # aqcuiring milestone datas for every container\n",
    "            milstone_data = response_milestone.json()\n",
    "            current_dict = {}\n",
    "            dict_milestone = {}\n",
    "            milestones = []\n",
    "            key_mapping = {\n",
    "                'blNo': 'BL Number',\n",
    "                'cntrNo': 'Container Number',\n",
    "                'etd': 'ETD',\n",
    "                'eta': 'ETA',\n",
    "                # 'GTOOB':'Gate Out Origin',\n",
    "                # 'GTIOB':'Gate In Origin',\n",
    "                'LDGOB': 'ATD',\n",
    "                'DISIB': 'ATA',\n",
    "                'GTOIB': 'Container Release',\n",
    "                'GTIIB': 'Container Return'\n",
    "            }\n",
    "\n",
    "            current_dict.update({\"Liners\": \"KMTC\"})\n",
    "            current_dict.update(\n",
    "                {\"From\": milstone_data['trackingList'][-1]['plcNm'][:milstone_data['trackingList'][-1]['plcNm'].index(\",\")]})\n",
    "            current_dict.update(\n",
    "                {\"To\": milstone_data['trackingList'][-1]['podPortNm']})\n",
    "\n",
    "            for key, label in key_mapping.items():\n",
    "                if key in ctr_data['cntrList'][c]:\n",
    "                    if key == \"etd\" or key == \"eta\":\n",
    "                        current_dict[label] = datetime.strptime(\n",
    "                            ctr_data['cntrList'][c][key][:8], \"%Y%m%d\").strftime(\"%Y-%m-%d\")\n",
    "                    else:\n",
    "                        current_dict[label] = ctr_data['cntrList'][c][key]\n",
    "\n",
    "            for b, milestone in enumerate(milstone_data['trackingList']):\n",
    "                milestones.append(\n",
    "                    milestone[\"cntrStsCd\"] + milestone[\"cntrMvntCd\"])\n",
    "                milestones.append(milestone[\"mvntDt\"])\n",
    "\n",
    "            for m, milestone in enumerate(milestones):\n",
    "                if is_date(milestone):\n",
    "                    case_milestone = {\n",
    "                        milestones[m-1]: datetime.strptime(milestone, \"%Y%m%d\").strftime(\"%Y-%m-%d\")}\n",
    "                    dict_milestone.update(case_milestone)\n",
    "\n",
    "            for key, label in key_mapping.items():\n",
    "                if key in dict_milestone:\n",
    "                    current_dict[label] = dict_milestone[key]\n",
    "\n",
    "            print(current_dict)\n",
    "            hasil_akhir.append(current_dict)\n",
    "    except Exception as e:\n",
    "        print(e)\n",
    "        print(\"{} GAGAL!!\".format(bls))\n",
    "        gagal.append(bls)\n"
   ]
  },
  {
   "cell_type": "code",
   "execution_count": 6,
   "metadata": {},
   "outputs": [
    {
     "name": "stdout",
     "output_type": "stream",
     "text": [
      "Today's Collection Name ===>  all_tracking_Oct-02-2023\n",
      "Today's Collection Has Been Made\n",
      "Inserting Many Complete!!\n"
     ]
    }
   ],
   "source": [
    "# connect to mongodb\n",
    "from mongoinit import mongo_table_initiation, insert_many_mongo\n",
    "\n",
    "mongo_table_initiation()\n",
    "insert_many_mongo(hasil_akhir)"
   ]
  },
  {
   "cell_type": "code",
   "execution_count": 7,
   "metadata": {},
   "outputs": [
    {
     "data": {
      "text/plain": [
       "[]"
      ]
     },
     "execution_count": 7,
     "metadata": {},
     "output_type": "execute_result"
    }
   ],
   "source": [
    "gagal"
   ]
  },
  {
   "cell_type": "code",
   "execution_count": 7,
   "metadata": {},
   "outputs": [],
   "source": [
    "# exporting to excel file\n",
    "df = pd.DataFrame(hasil_akhir)\n",
    "excel_file_path = 'export excel/KMTC.xlsx'\n",
    "df.to_excel(excel_file_path, index=False)"
   ]
  },
  {
   "cell_type": "code",
   "execution_count": null,
   "metadata": {},
   "outputs": [],
   "source": []
  }
 ],
 "metadata": {
  "kernelspec": {
   "display_name": "Python 3.10.10 64-bit",
   "language": "python",
   "name": "python3"
  },
  "language_info": {
   "codemirror_mode": {
    "name": "ipython",
    "version": 3
   },
   "file_extension": ".py",
   "mimetype": "text/x-python",
   "name": "python",
   "nbconvert_exporter": "python",
   "pygments_lexer": "ipython3",
   "version": "3.10.10"
  },
  "orig_nbformat": 4,
  "vscode": {
   "interpreter": {
    "hash": "8c3d4d9970fc5c09c50d9318a9c7fbf4d0159e4b28833276f5678ee22bded273"
   }
  }
 },
 "nbformat": 4,
 "nbformat_minor": 2
}
