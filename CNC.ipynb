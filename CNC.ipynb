{
 "cells": [
  {
   "cell_type": "code",
   "execution_count": 3,
   "metadata": {},
   "outputs": [],
   "source": [
    "# web scraping\n",
    "from bs4 import BeautifulSoup\n",
    "\n",
    "# date parser\n",
    "from datetime import datetime\n",
    "from dateutil.parser import parse\n",
    "\n",
    "# web driver\n",
    "import undetected_chromedriver as uc \n",
    "from selenium import webdriver\n",
    "from selenium.webdriver.chrome.options import Options\n",
    "from selenium.webdriver.common.action_chains import ActionChains\n",
    "from selenium.webdriver.common.by import By\n",
    "from selenium.webdriver.support.wait import WebDriverWait\n",
    "from selenium.webdriver.support import expected_conditions as EC\n",
    "\n",
    "# random wait\n",
    "import time\n",
    "import random\n",
    "\n",
    "# mongodb connection\n",
    "from pymongo import MongoClient\n",
    "\n",
    "# progress bar\n",
    "from tqdm import tqdm\n",
    "\n",
    "# saving to excel\n",
    "import pandas as pd\n",
    "\n",
    "import requests\n",
    "from io import BytesIO\n",
    "\n",
    "import json"
   ]
  },
  {
   "cell_type": "code",
   "execution_count": 4,
   "metadata": {},
   "outputs": [],
   "source": [
    "# date parser function\n",
    "def parse_date(date_str):\n",
    "    date1 = datetime.strptime(date_str, '%d-%b-%Y')\n",
    "    output_date_string = date1.strftime(\"%Y-%m-%d\")\n",
    "    return output_date_string"
   ]
  },
  {
   "cell_type": "code",
   "execution_count": 5,
   "metadata": {},
   "outputs": [],
   "source": [
    "# class to determine ganjil genap\n",
    "def is_date(string, fuzzy=False):\n",
    "    try: \n",
    "        parse(string, fuzzy=fuzzy)\n",
    "        return True\n",
    "    except ValueError:\n",
    "        return False"
   ]
  },
  {
   "cell_type": "code",
   "execution_count": 6,
   "metadata": {},
   "outputs": [],
   "source": [
    "# reading all BL number from google sheet\n",
    "from acquiringbl import takingBL\n",
    "bl_list = takingBL(\"CNC\")"
   ]
  },
  {
   "cell_type": "code",
   "execution_count": 7,
   "metadata": {},
   "outputs": [
    {
     "data": {
      "text/plain": [
       "29"
      ]
     },
     "execution_count": 7,
     "metadata": {},
     "output_type": "execute_result"
    }
   ],
   "source": [
    "# view bl list\n",
    "len(bl_list)"
   ]
  },
  {
   "cell_type": "code",
   "execution_count": 17,
   "metadata": {},
   "outputs": [],
   "source": [
    "# collecting failed BL to track\n",
    "bl_list = ['ARM0305513', 'ARM0300221', 'ARM0300326', 'ARM0301801', 'ARM0301769']"
   ]
  },
  {
   "cell_type": "markdown",
   "metadata": {},
   "source": [
    "<h3><strong>Web Scraping Flow</strong></h3>\n",
    "<ol>\n",
    " <li>Acquiring every BL Number that want to be track and store it into a list of BL</li>\n",
    " <li>Iterate all of the list and search it through the liners web</li>\n",
    " <li>Take list of container number and store it into a list</li>\n",
    " <li>Using BS4 to scrape web data and parse it</li>\n",
    " <li>Change the milestone key and store the list of dictionaries to MongoDB</li>\n",
    "\n",
    "</ol>"
   ]
  },
  {
   "cell_type": "code",
   "execution_count": 18,
   "metadata": {},
   "outputs": [
    {
     "name": "stderr",
     "output_type": "stream",
     "text": [
      "  0%|          | 0/5 [00:00<?, ?it/s]"
     ]
    },
    {
     "name": "stdout",
     "output_type": "stream",
     "text": [
      "ARM0305513 consist of  3  containers\n"
     ]
    },
    {
     "name": "stderr",
     "output_type": "stream",
     "text": [
      " 20%|██        | 1/5 [00:27<01:49, 27.33s/it]"
     ]
    },
    {
     "name": "stdout",
     "output_type": "stream",
     "text": [
      "ARM0300221 consist of  0  containers\n"
     ]
    },
    {
     "name": "stderr",
     "output_type": "stream",
     "text": [
      " 40%|████      | 2/5 [00:45<01:06, 22.03s/it]"
     ]
    },
    {
     "name": "stdout",
     "output_type": "stream",
     "text": [
      "ARM0300326 consist of  2  containers\n"
     ]
    },
    {
     "name": "stderr",
     "output_type": "stream",
     "text": [
      " 60%|██████    | 3/5 [01:09<00:45, 22.84s/it]"
     ]
    },
    {
     "name": "stdout",
     "output_type": "stream",
     "text": [
      "ARM0301801 consist of  0  containers\n"
     ]
    },
    {
     "name": "stderr",
     "output_type": "stream",
     "text": [
      " 80%|████████  | 4/5 [01:29<00:21, 21.65s/it]"
     ]
    },
    {
     "name": "stdout",
     "output_type": "stream",
     "text": [
      "ARM0301769 consist of  5  containers\n"
     ]
    },
    {
     "name": "stderr",
     "output_type": "stream",
     "text": [
      "100%|██████████| 5/5 [02:04<00:00, 24.98s/it]\n"
     ]
    }
   ],
   "source": [
    "hasil_akhir = []\n",
    "list_of_dict_fix2 = []\n",
    "list_of_dict = []\n",
    "\n",
    "# web driving\n",
    "options = Options()\n",
    "options.add_argument(\"--window-size=1920,1280\")\n",
    "driver = uc.Chrome()\n",
    "driver.get(\"https://www.cnc-line.com/ebusiness/tracking/search\")\n",
    "\n",
    "for q, bls in enumerate(tqdm(bl_list)):\n",
    "    try:\n",
    "        time.sleep(random.randrange(2,6))\n",
    "        \n",
    "        # inputing new bl\n",
    "        search_box2 = driver.find_element(By. XPATH, '/html/body/div[2]/main/section[1]/div/div/form[3]/fieldset/div/div[1]/span[1]/input[2]')\n",
    "        search_box2.clear()\n",
    "        search_box2.send_keys(bls)\n",
    "        time.sleep(1.1)\n",
    "        search_button = driver.find_element(By.XPATH, '/html/body/div[2]/main/section[1]/div/div/form[3]/fieldset/div/div[2]/button')\n",
    "        time.sleep(1)\n",
    "        search_button.click()\n",
    "        time.sleep(random.randrange(3,7))\n",
    "\n",
    "        # taking data from web \n",
    "        soup = BeautifulSoup(driver.page_source, 'lxml')\n",
    "\n",
    "        # finding containers in bl\n",
    "        containers_in_bl = soup.find_all('dl',{'class','container-ref'})\n",
    "        list_of_containers = []\n",
    "        for tag in containers_in_bl:\n",
    "            for e, f  in enumerate(tag.find_all('span')):\n",
    "                if len(f.text) == 11:\n",
    "                    list_of_containers.append(f.text)\n",
    "\n",
    "        # checking how many container consisting in 1 bl \n",
    "        print(bls, 'consist of ', len(list_of_containers),' containers')\n",
    "        num_of_ctr_idx = len(list_of_containers) \n",
    "        \n",
    "        # clicking more button\n",
    "        current_dict = {}\n",
    "        \n",
    "        # click all\n",
    "        for button in range(len(list_of_containers)):\n",
    "            more_button= WebDriverWait(driver, 30).until(EC.element_to_be_clickable((By.XPATH, '/html/body/div[2]/main/section[2]/div/div/ul/li[{}]/article/section[2]/div[1]/div/label'.format(num_of_ctr_idx))))  \n",
    "            more_button.click()\n",
    "            time.sleep(random.randrange(2,4))\n",
    "            more_button.click()\n",
    "            num_of_ctr_idx = num_of_ctr_idx-1\n",
    "        \n",
    "        time.sleep(5)\n",
    "        soup1 = BeautifulSoup(driver.page_source, 'lxml')\n",
    "        \n",
    "        div_of_script = soup1.find_all(\"div\", {\"class\":\"l-zone__main\"})\n",
    "        for tag in div_of_script:\n",
    "            for t, tag2 in enumerate(tag.find_all('script')):\n",
    "                script = tag2\n",
    "        \n",
    "        index_separator = '{\"IsFavoriteContainer\":'\n",
    "        var = script.text\n",
    "        list_sementara = var.split(\"var \")\n",
    "        str_milestone = list_sementara[1].replace(\"model =\",\"\").replace(\"\\n\",\"\")[1:-6]\n",
    "        list_str = str_milestone.split(index_separator)\n",
    "        list_str.pop(0)\n",
    "\n",
    "        for j, j_container in enumerate(list_str):\n",
    "            json_text_string = index_separator + j_container\n",
    "\n",
    "            if json_text_string[-1] == \",\":\n",
    "                json_text_string = json_text_string[:-1]\n",
    "\n",
    "            json_data = json.loads(json_text_string)\n",
    "            \n",
    "            ctr_number = json_data['ContainerReference']\n",
    "        \n",
    "            origin = json_data['ContainerMoveDetails']['routingInformation']['portOfLoading']['name'][:-5]\n",
    "            destination = json_data['ContainerMoveDetails']['routingInformation']['portOfDischarge']['name'][:-5]\n",
    "            milestones = json_data['ContainerMoveDetails']['pastMoves'] + json_data['ContainerMoveDetails']['currentMoves'] + json_data['ContainerMoveDetails']['futureMoves'] \n",
    "            current_dict = {\n",
    "                \"Liners\" : \"CNC\",\n",
    "                \"BL Number\" : bls,\n",
    "                \"Container Number\" : ctr_number,\n",
    "                \"From\" : origin,\n",
    "                \"To\" : destination,\n",
    "                }\n",
    "            for d, milestone in enumerate(milestones):\n",
    "                if milestone['location']['name'] == origin:\n",
    "                    mils = milestone['containerStatus'] + \" ORIGIN\"\n",
    "                    case = {mils : milestone['containerStatusDate'][:10]}\n",
    "                    current_dict.update(case)\n",
    "                elif milestone['location']['name'] == destination:\n",
    "                    mils = milestone['containerStatus'] + \" DESTINATION\"\n",
    "                    case = {mils : milestone['containerStatusDate'][:10]}\n",
    "                    current_dict.update(case)\n",
    "            \n",
    "            list_of_dict.append(current_dict)            \n",
    "    \n",
    "    # for failed scraping and further analysis for error\n",
    "    except Exception as e:\n",
    "        print(e)\n",
    "        print(\"{} GAGAL!!\".format(bls))\n",
    "        gagal.append(bls)\n",
    "\n",
    "# changing dict key to db key\n",
    "key_mapping = {\n",
    "    'ActualVesselDeparture ORIGIN': 'ATD',\n",
    "    'ActualVesselArrival DESTINATION': 'ATA',\n",
    "    'ContainerToConsignee DESTINATION': 'Container Release',\n",
    "    'EmptyInDepotMEA DESTINATION': 'Container Return'\n",
    "}\n",
    "\n",
    "# itterate dictionaries and change the keys to match DB's key\n",
    "for item in list_of_dict:\n",
    "    transformed_item = {key_mapping.get(key, key): value for key, value in item.items() if key in key_mapping or key not in key_mapping}\n",
    "    list_of_dict_fix2.append(transformed_item)   "
   ]
  },
  {
   "cell_type": "code",
   "execution_count": 19,
   "metadata": {},
   "outputs": [
    {
     "data": {
      "text/plain": [
       "[{'Liners': 'CNC',\n",
       "  'BL Number': 'ARM0305513',\n",
       "  'Container Number': 'SEKU5696322',\n",
       "  'From': 'JAKARTA',\n",
       "  'To': 'BATANGAS',\n",
       "  'EmptyDeliveredToShipper ORIGIN': '2023-08-07',\n",
       "  'Readytobeloaded ORIGIN': '2023-08-10',\n",
       "  'LoadedonboardXOF ORIGIN': '2023-08-12',\n",
       "  'ActualVesselDeparture ORIGIN': '2023-08-13',\n",
       "  'ActualVesselArrival DESTINATION': '2023-09-02',\n",
       "  'Discharged DESTINATION': '2023-09-02'},\n",
       " {'Liners': 'CNC',\n",
       "  'BL Number': 'ARM0305513',\n",
       "  'Container Number': 'CMAU8718766',\n",
       "  'From': 'JAKARTA',\n",
       "  'To': 'BATANGAS',\n",
       "  'EmptyDeliveredToShipper ORIGIN': '2023-08-09',\n",
       "  'Readytobeloaded ORIGIN': '2023-08-11',\n",
       "  'LoadedonboardXOF ORIGIN': '2023-08-12',\n",
       "  'ActualVesselDeparture ORIGIN': '2023-08-13',\n",
       "  'ActualVesselArrival DESTINATION': '2023-09-02',\n",
       "  'Discharged DESTINATION': '2023-09-02'},\n",
       " {'Liners': 'CNC',\n",
       "  'BL Number': 'ARM0305513',\n",
       "  'Container Number': 'TCKU6354975',\n",
       "  'From': 'JAKARTA',\n",
       "  'To': 'BATANGAS',\n",
       "  'EmptyDeliveredToShipper ORIGIN': '2023-08-07',\n",
       "  'Readytobeloaded ORIGIN': '2023-08-09',\n",
       "  'LoadedonboardXOF ORIGIN': '2023-08-12',\n",
       "  'ActualVesselDeparture ORIGIN': '2023-08-13',\n",
       "  'ActualVesselArrival DESTINATION': '2023-09-02',\n",
       "  'Discharged DESTINATION': '2023-09-02'},\n",
       " {'Liners': 'CNC',\n",
       "  'BL Number': 'ARM0300221',\n",
       "  'Container Number': 'CMAU6803365',\n",
       "  'From': 'JAKARTA',\n",
       "  'To': 'CAGAYAN DE ORO',\n",
       "  'EmptyDeliveredToShipper ORIGIN': '2023-06-17',\n",
       "  'Readytobeloaded ORIGIN': '2023-06-19',\n",
       "  'LoadedonboardXOF ORIGIN': '2023-06-25',\n",
       "  'ActualVesselDeparture ORIGIN': '2023-06-26',\n",
       "  'ActualVesselArrival DESTINATION': '2023-07-21',\n",
       "  'Discharged DESTINATION': '2023-07-21'},\n",
       " {'Liners': 'CNC',\n",
       "  'BL Number': 'ARM0300326',\n",
       "  'Container Number': 'CAAU6073180',\n",
       "  'From': 'JAKARTA',\n",
       "  'To': 'CAGAYAN DE ORO',\n",
       "  'EmptyDeliveredToShipper ORIGIN': '2023-06-21',\n",
       "  'Readytobeloaded ORIGIN': '2023-06-22',\n",
       "  'LoadedonboardXOF ORIGIN': '2023-06-25',\n",
       "  'ActualVesselDeparture ORIGIN': '2023-06-26',\n",
       "  'ActualVesselArrival DESTINATION': '2023-07-21',\n",
       "  'Discharged DESTINATION': '2023-07-21',\n",
       "  'ContainerToConsignee DESTINATION': '2023-08-10',\n",
       "  'EmptyInDepotMEA DESTINATION': '2023-10-06'},\n",
       " {'Liners': 'CNC',\n",
       "  'BL Number': 'ARM0300326',\n",
       "  'Container Number': 'CMAU8750710',\n",
       "  'From': 'JAKARTA',\n",
       "  'To': 'CAGAYAN DE ORO',\n",
       "  'EmptyDeliveredToShipper ORIGIN': '2023-06-19',\n",
       "  'Readytobeloaded ORIGIN': '2023-06-22',\n",
       "  'LoadedonboardXOF ORIGIN': '2023-06-25',\n",
       "  'ActualVesselDeparture ORIGIN': '2023-06-26',\n",
       "  'ActualVesselArrival DESTINATION': '2023-07-21',\n",
       "  'Discharged DESTINATION': '2023-07-21',\n",
       "  'ContainerToConsignee DESTINATION': '2023-08-10',\n",
       "  'EmptyInDepotMEA DESTINATION': '2023-10-06'},\n",
       " {'Liners': 'CNC',\n",
       "  'BL Number': 'ARM0301801',\n",
       "  'Container Number': 'TGBU6979463',\n",
       "  'From': 'JAKARTA',\n",
       "  'To': 'BATANGAS',\n",
       "  'EmptyDeliveredToShipper ORIGIN': '2023-07-05',\n",
       "  'Readytobeloaded ORIGIN': '2023-07-07',\n",
       "  'LoadedonboardXOF ORIGIN': '2023-07-09',\n",
       "  'ActualVesselDeparture ORIGIN': '2023-07-09',\n",
       "  'ActualVesselArrival DESTINATION': '2023-08-04',\n",
       "  'Discharged DESTINATION': '2023-08-04'},\n",
       " {'Liners': 'CNC',\n",
       "  'BL Number': 'ARM0301769',\n",
       "  'Container Number': 'TEMU6511220',\n",
       "  'From': 'JAKARTA',\n",
       "  'To': 'BATANGAS',\n",
       "  'EmptyDeliveredToShipper ORIGIN': '2023-07-05',\n",
       "  'Readytobeloaded ORIGIN': '2023-07-07',\n",
       "  'LoadedonboardXOF ORIGIN': '2023-07-09',\n",
       "  'ActualVesselDeparture ORIGIN': '2023-07-09',\n",
       "  'ActualVesselArrival DESTINATION': '2023-08-04',\n",
       "  'Discharged DESTINATION': '2023-08-04'},\n",
       " {'Liners': 'CNC',\n",
       "  'BL Number': 'ARM0301769',\n",
       "  'Container Number': 'CMAU3343538',\n",
       "  'From': 'JAKARTA',\n",
       "  'To': 'BATANGAS',\n",
       "  'EmptyDeliveredToShipper ORIGIN': '2023-07-05',\n",
       "  'Readytobeloaded ORIGIN': '2023-07-06',\n",
       "  'LoadedonboardXOF ORIGIN': '2023-07-09',\n",
       "  'ActualVesselDeparture ORIGIN': '2023-07-09',\n",
       "  'ActualVesselArrival DESTINATION': '2023-08-04',\n",
       "  'Discharged DESTINATION': '2023-08-04'},\n",
       " {'Liners': 'CNC',\n",
       "  'BL Number': 'ARM0301769',\n",
       "  'Container Number': 'CMAU7072835',\n",
       "  'From': 'JAKARTA',\n",
       "  'To': 'BATANGAS',\n",
       "  'EmptyDeliveredToShipper ORIGIN': '2023-07-05',\n",
       "  'Readytobeloaded ORIGIN': '2023-07-08',\n",
       "  'LoadedonboardXOF ORIGIN': '2023-07-09',\n",
       "  'ActualVesselDeparture ORIGIN': '2023-07-09',\n",
       "  'ActualVesselArrival DESTINATION': '2023-08-04',\n",
       "  'Discharged DESTINATION': '2023-08-04'},\n",
       " {'Liners': 'CNC',\n",
       "  'BL Number': 'ARM0301769',\n",
       "  'Container Number': 'CMAU4806576',\n",
       "  'From': 'JAKARTA',\n",
       "  'To': 'BATANGAS',\n",
       "  'EmptyDeliveredToShipper ORIGIN': '2023-07-05',\n",
       "  'Readytobeloaded ORIGIN': '2023-07-07',\n",
       "  'LoadedonboardXOF ORIGIN': '2023-07-09',\n",
       "  'ActualVesselDeparture ORIGIN': '2023-07-09',\n",
       "  'ActualVesselArrival DESTINATION': '2023-08-04',\n",
       "  'Discharged DESTINATION': '2023-08-04'},\n",
       " {'Liners': 'CNC',\n",
       "  'BL Number': 'ARM0301769',\n",
       "  'Container Number': 'TCNU5715229',\n",
       "  'From': 'JAKARTA',\n",
       "  'To': 'BATANGAS',\n",
       "  'EmptyDeliveredToShipper ORIGIN': '2023-07-05',\n",
       "  'Readytobeloaded ORIGIN': '2023-07-07',\n",
       "  'LoadedonboardXOF ORIGIN': '2023-07-09',\n",
       "  'ActualVesselDeparture ORIGIN': '2023-07-09',\n",
       "  'ActualVesselArrival DESTINATION': '2023-08-04',\n",
       "  'Discharged DESTINATION': '2023-08-04'}]"
      ]
     },
     "execution_count": 19,
     "metadata": {},
     "output_type": "execute_result"
    }
   ],
   "source": [
    "list_of_dict"
   ]
  },
  {
   "cell_type": "code",
   "execution_count": 20,
   "metadata": {},
   "outputs": [
    {
     "data": {
      "text/plain": [
       "[{'Liners': 'CNC',\n",
       "  'BL Number': 'ARM0305513',\n",
       "  'Container Number': 'SEKU5696322',\n",
       "  'From': 'JAKARTA',\n",
       "  'To': 'BATANGAS',\n",
       "  'EmptyDeliveredToShipper ORIGIN': '2023-08-07',\n",
       "  'Readytobeloaded ORIGIN': '2023-08-10',\n",
       "  'LoadedonboardXOF ORIGIN': '2023-08-12',\n",
       "  'ActualVesselDeparture ORIGIN': '2023-08-13',\n",
       "  'ActualVesselArrival DESTINATION': '2023-09-02',\n",
       "  'Discharged DESTINATION': '2023-09-02'},\n",
       " {'Liners': 'CNC',\n",
       "  'BL Number': 'ARM0305513',\n",
       "  'Container Number': 'CMAU8718766',\n",
       "  'From': 'JAKARTA',\n",
       "  'To': 'BATANGAS',\n",
       "  'EmptyDeliveredToShipper ORIGIN': '2023-08-09',\n",
       "  'Readytobeloaded ORIGIN': '2023-08-11',\n",
       "  'LoadedonboardXOF ORIGIN': '2023-08-12',\n",
       "  'ActualVesselDeparture ORIGIN': '2023-08-13',\n",
       "  'ActualVesselArrival DESTINATION': '2023-09-02',\n",
       "  'Discharged DESTINATION': '2023-09-02'},\n",
       " {'Liners': 'CNC',\n",
       "  'BL Number': 'ARM0305513',\n",
       "  'Container Number': 'TCKU6354975',\n",
       "  'From': 'JAKARTA',\n",
       "  'To': 'BATANGAS',\n",
       "  'EmptyDeliveredToShipper ORIGIN': '2023-08-07',\n",
       "  'Readytobeloaded ORIGIN': '2023-08-09',\n",
       "  'LoadedonboardXOF ORIGIN': '2023-08-12',\n",
       "  'ActualVesselDeparture ORIGIN': '2023-08-13',\n",
       "  'ActualVesselArrival DESTINATION': '2023-09-02',\n",
       "  'Discharged DESTINATION': '2023-09-02'},\n",
       " {'Liners': 'CNC',\n",
       "  'BL Number': 'ARM0300221',\n",
       "  'Container Number': 'CMAU6803365',\n",
       "  'From': 'JAKARTA',\n",
       "  'To': 'CAGAYAN DE ORO',\n",
       "  'EmptyDeliveredToShipper ORIGIN': '2023-06-17',\n",
       "  'Readytobeloaded ORIGIN': '2023-06-19',\n",
       "  'LoadedonboardXOF ORIGIN': '2023-06-25',\n",
       "  'ActualVesselDeparture ORIGIN': '2023-06-26',\n",
       "  'ActualVesselArrival DESTINATION': '2023-07-21',\n",
       "  'Discharged DESTINATION': '2023-07-21'},\n",
       " {'Liners': 'CNC',\n",
       "  'BL Number': 'ARM0300326',\n",
       "  'Container Number': 'CAAU6073180',\n",
       "  'From': 'JAKARTA',\n",
       "  'To': 'CAGAYAN DE ORO',\n",
       "  'EmptyDeliveredToShipper ORIGIN': '2023-06-21',\n",
       "  'Readytobeloaded ORIGIN': '2023-06-22',\n",
       "  'LoadedonboardXOF ORIGIN': '2023-06-25',\n",
       "  'ActualVesselDeparture ORIGIN': '2023-06-26',\n",
       "  'ActualVesselArrival DESTINATION': '2023-07-21',\n",
       "  'Discharged DESTINATION': '2023-07-21',\n",
       "  'ContainerToConsignee DESTINATION': '2023-08-10',\n",
       "  'EmptyInDepotMEA DESTINATION': '2023-10-06'},\n",
       " {'Liners': 'CNC',\n",
       "  'BL Number': 'ARM0300326',\n",
       "  'Container Number': 'CMAU8750710',\n",
       "  'From': 'JAKARTA',\n",
       "  'To': 'CAGAYAN DE ORO',\n",
       "  'EmptyDeliveredToShipper ORIGIN': '2023-06-19',\n",
       "  'Readytobeloaded ORIGIN': '2023-06-22',\n",
       "  'LoadedonboardXOF ORIGIN': '2023-06-25',\n",
       "  'ActualVesselDeparture ORIGIN': '2023-06-26',\n",
       "  'ActualVesselArrival DESTINATION': '2023-07-21',\n",
       "  'Discharged DESTINATION': '2023-07-21',\n",
       "  'ContainerToConsignee DESTINATION': '2023-08-10',\n",
       "  'EmptyInDepotMEA DESTINATION': '2023-10-06'},\n",
       " {'Liners': 'CNC',\n",
       "  'BL Number': 'ARM0301801',\n",
       "  'Container Number': 'TGBU6979463',\n",
       "  'From': 'JAKARTA',\n",
       "  'To': 'BATANGAS',\n",
       "  'EmptyDeliveredToShipper ORIGIN': '2023-07-05',\n",
       "  'Readytobeloaded ORIGIN': '2023-07-07',\n",
       "  'LoadedonboardXOF ORIGIN': '2023-07-09',\n",
       "  'ActualVesselDeparture ORIGIN': '2023-07-09',\n",
       "  'ActualVesselArrival DESTINATION': '2023-08-04',\n",
       "  'Discharged DESTINATION': '2023-08-04'},\n",
       " {'Liners': 'CNC',\n",
       "  'BL Number': 'ARM0301769',\n",
       "  'Container Number': 'TEMU6511220',\n",
       "  'From': 'JAKARTA',\n",
       "  'To': 'BATANGAS',\n",
       "  'EmptyDeliveredToShipper ORIGIN': '2023-07-05',\n",
       "  'Readytobeloaded ORIGIN': '2023-07-07',\n",
       "  'LoadedonboardXOF ORIGIN': '2023-07-09',\n",
       "  'ActualVesselDeparture ORIGIN': '2023-07-09',\n",
       "  'ActualVesselArrival DESTINATION': '2023-08-04',\n",
       "  'Discharged DESTINATION': '2023-08-04'},\n",
       " {'Liners': 'CNC',\n",
       "  'BL Number': 'ARM0301769',\n",
       "  'Container Number': 'CMAU3343538',\n",
       "  'From': 'JAKARTA',\n",
       "  'To': 'BATANGAS',\n",
       "  'EmptyDeliveredToShipper ORIGIN': '2023-07-05',\n",
       "  'Readytobeloaded ORIGIN': '2023-07-06',\n",
       "  'LoadedonboardXOF ORIGIN': '2023-07-09',\n",
       "  'ActualVesselDeparture ORIGIN': '2023-07-09',\n",
       "  'ActualVesselArrival DESTINATION': '2023-08-04',\n",
       "  'Discharged DESTINATION': '2023-08-04'},\n",
       " {'Liners': 'CNC',\n",
       "  'BL Number': 'ARM0301769',\n",
       "  'Container Number': 'CMAU7072835',\n",
       "  'From': 'JAKARTA',\n",
       "  'To': 'BATANGAS',\n",
       "  'EmptyDeliveredToShipper ORIGIN': '2023-07-05',\n",
       "  'Readytobeloaded ORIGIN': '2023-07-08',\n",
       "  'LoadedonboardXOF ORIGIN': '2023-07-09',\n",
       "  'ActualVesselDeparture ORIGIN': '2023-07-09',\n",
       "  'ActualVesselArrival DESTINATION': '2023-08-04',\n",
       "  'Discharged DESTINATION': '2023-08-04'},\n",
       " {'Liners': 'CNC',\n",
       "  'BL Number': 'ARM0301769',\n",
       "  'Container Number': 'CMAU4806576',\n",
       "  'From': 'JAKARTA',\n",
       "  'To': 'BATANGAS',\n",
       "  'EmptyDeliveredToShipper ORIGIN': '2023-07-05',\n",
       "  'Readytobeloaded ORIGIN': '2023-07-07',\n",
       "  'LoadedonboardXOF ORIGIN': '2023-07-09',\n",
       "  'ActualVesselDeparture ORIGIN': '2023-07-09',\n",
       "  'ActualVesselArrival DESTINATION': '2023-08-04',\n",
       "  'Discharged DESTINATION': '2023-08-04'},\n",
       " {'Liners': 'CNC',\n",
       "  'BL Number': 'ARM0301769',\n",
       "  'Container Number': 'TCNU5715229',\n",
       "  'From': 'JAKARTA',\n",
       "  'To': 'BATANGAS',\n",
       "  'EmptyDeliveredToShipper ORIGIN': '2023-07-05',\n",
       "  'Readytobeloaded ORIGIN': '2023-07-07',\n",
       "  'LoadedonboardXOF ORIGIN': '2023-07-09',\n",
       "  'ActualVesselDeparture ORIGIN': '2023-07-09',\n",
       "  'ActualVesselArrival DESTINATION': '2023-08-04',\n",
       "  'Discharged DESTINATION': '2023-08-04'}]"
      ]
     },
     "execution_count": 20,
     "metadata": {},
     "output_type": "execute_result"
    }
   ],
   "source": [
    "list_of_dict"
   ]
  },
  {
   "cell_type": "code",
   "execution_count": 21,
   "metadata": {},
   "outputs": [
    {
     "name": "stdout",
     "output_type": "stream",
     "text": [
      "Today's Collection Name ===>  all_tracking_Oct-09-2023\n",
      "Today's Collection Has Been Made\n",
      "Inserting Many Complete!!\n"
     ]
    }
   ],
   "source": [
    "# connect to mongodb\n",
    "from mongoinit import mongo_table_initiation, insert_many_mongo\n",
    "\n",
    "mongo_table_initiation()\n",
    "insert_many_mongo(list_of_dict_fix2)"
   ]
  },
  {
   "cell_type": "code",
   "execution_count": 14,
   "metadata": {},
   "outputs": [
    {
     "data": {
      "text/plain": [
       "['ARM0305513', 'ARM0300221', 'ARM0300326', 'ARM0301801', 'ARM0301769']"
      ]
     },
     "execution_count": 14,
     "metadata": {},
     "output_type": "execute_result"
    }
   ],
   "source": [
    "# checking failed bl\n",
    "gagal"
   ]
  },
  {
   "cell_type": "code",
   "execution_count": null,
   "metadata": {},
   "outputs": [],
   "source": []
  }
 ],
 "metadata": {
  "kernelspec": {
   "display_name": "Python 3.10.10 64-bit",
   "language": "python",
   "name": "python3"
  },
  "language_info": {
   "codemirror_mode": {
    "name": "ipython",
    "version": 3
   },
   "file_extension": ".py",
   "mimetype": "text/x-python",
   "name": "python",
   "nbconvert_exporter": "python",
   "pygments_lexer": "ipython3",
   "version": "3.10.10"
  },
  "orig_nbformat": 4,
  "vscode": {
   "interpreter": {
    "hash": "8c3d4d9970fc5c09c50d9318a9c7fbf4d0159e4b28833276f5678ee22bded273"
   }
  }
 },
 "nbformat": 4,
 "nbformat_minor": 2
}
