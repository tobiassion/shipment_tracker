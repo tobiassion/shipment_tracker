{
 "cells": [
  {
   "cell_type": "code",
   "execution_count": 2,
   "metadata": {},
   "outputs": [],
   "source": [
    "# web scraping\n",
    "from bs4 import BeautifulSoup\n",
    "\n",
    "# date parser\n",
    "from datetime import datetime\n",
    "from dateutil.parser import parse\n",
    "\n",
    "# web driver\n",
    "import undetected_chromedriver as uc \n",
    "from selenium import webdriver\n",
    "from selenium.webdriver.chrome.options import Options\n",
    "from selenium.webdriver.common.action_chains import ActionChains\n",
    "from selenium.webdriver.common.by import By\n",
    "from selenium.webdriver.support.wait import WebDriverWait\n",
    "from selenium.webdriver.support import expected_conditions as EC\n",
    "\n",
    "# random wait\n",
    "import time\n",
    "import random\n",
    "\n",
    "# mongodb connection\n",
    "from pymongo import MongoClient\n",
    "\n",
    "# progress bar\n",
    "from tqdm import tqdm\n",
    "\n",
    "# saving to excel\n",
    "import pandas as pd\n",
    "\n",
    "import requests\n",
    "from io import BytesIO\n",
    "\n",
    "import json"
   ]
  },
  {
   "cell_type": "code",
   "execution_count": 3,
   "metadata": {},
   "outputs": [],
   "source": [
    "# date parser function\n",
    "def parse_date(date_str):\n",
    "    date1 = datetime.strptime(date_str, '%d-%b-%Y')\n",
    "    output_date_string = date1.strftime(\"%Y-%m-%d\")\n",
    "    return output_date_string"
   ]
  },
  {
   "cell_type": "code",
   "execution_count": 4,
   "metadata": {},
   "outputs": [],
   "source": [
    "# class to determine ganjil genap\n",
    "def is_date(string, fuzzy=False):\n",
    "    try: \n",
    "        parse(string, fuzzy=fuzzy)\n",
    "        return True\n",
    "    except ValueError:\n",
    "        return False"
   ]
  },
  {
   "cell_type": "code",
   "execution_count": 96,
   "metadata": {},
   "outputs": [],
   "source": [
    "# reading all BL number from google sheet\n",
    "from acquiringbl import takingBL\n",
    "bl_list = takingBL(\"CNC\")"
   ]
  },
  {
   "cell_type": "code",
   "execution_count": 97,
   "metadata": {},
   "outputs": [
    {
     "data": {
      "text/plain": [
       "30"
      ]
     },
     "execution_count": 97,
     "metadata": {},
     "output_type": "execute_result"
    }
   ],
   "source": [
    "# view bl list\n",
    "len(bl_list)"
   ]
  },
  {
   "cell_type": "code",
   "execution_count": 98,
   "metadata": {},
   "outputs": [],
   "source": [
    "# collecting failed BL to track\n",
    "gagal = []"
   ]
  },
  {
   "cell_type": "markdown",
   "metadata": {},
   "source": [
    "<h3><strong>Web Scraping Flow</strong></h3>\n",
    "<ol>\n",
    " <li>Acquiring every BL Number to track and store it into a list of BL</li>\n",
    " <li>Iterate all of the list and search it through the liners web</li>\n",
    " <li>Take list of container number and store it into a list</li>\n",
    " <li>If container number>1 iterate through all container for container's milestone info and store it into a dictionary and append that to a list of dict</li>\n",
    " <li>If container = 1 take container info and store it into a dictionary and append it to list of dictionary</li>\n",
    " <li>Modify dictionaries to match db's column template</li>\n",
    " <li>Insert list of dictionary to mongo db or export it into and excel file</li>\n",
    "</ol>"
   ]
  },
  {
   "cell_type": "code",
   "execution_count": 102,
   "metadata": {},
   "outputs": [
    {
     "name": "stderr",
     "output_type": "stream",
     "text": [
      "  0%|          | 0/30 [00:00<?, ?it/s]"
     ]
    },
    {
     "name": "stdout",
     "output_type": "stream",
     "text": [
      "ARM0306500 consist of  13  containers\n"
     ]
    },
    {
     "name": "stderr",
     "output_type": "stream",
     "text": [
      "  3%|▎         | 1/30 [00:55<26:59, 55.84s/it]"
     ]
    },
    {
     "name": "stdout",
     "output_type": "stream",
     "text": [
      "ARM0306330 consist of  2  containers\n"
     ]
    },
    {
     "name": "stderr",
     "output_type": "stream",
     "text": [
      "  7%|▋         | 2/30 [01:21<17:38, 37.80s/it]"
     ]
    },
    {
     "name": "stdout",
     "output_type": "stream",
     "text": [
      "ARM0307999 consist of  3  containers\n"
     ]
    },
    {
     "name": "stderr",
     "output_type": "stream",
     "text": [
      " 10%|█         | 3/30 [01:49<15:03, 33.46s/it]"
     ]
    },
    {
     "name": "stdout",
     "output_type": "stream",
     "text": [
      "ARM0301801 consist of  0  containers\n"
     ]
    },
    {
     "name": "stderr",
     "output_type": "stream",
     "text": [
      " 13%|█▎        | 4/30 [02:08<11:59, 27.66s/it]"
     ]
    },
    {
     "name": "stdout",
     "output_type": "stream",
     "text": [
      "ARM0301769 consist of  5  containers\n"
     ]
    },
    {
     "name": "stderr",
     "output_type": "stream",
     "text": [
      " 17%|█▋        | 5/30 [02:40<12:16, 29.46s/it]"
     ]
    },
    {
     "name": "stdout",
     "output_type": "stream",
     "text": [
      "ARM0303415 consist of  0  containers\n"
     ]
    },
    {
     "name": "stderr",
     "output_type": "stream",
     "text": [
      " 20%|██        | 6/30 [02:58<10:14, 25.60s/it]"
     ]
    },
    {
     "name": "stdout",
     "output_type": "stream",
     "text": [
      "ARM0300209 consist of  0  containers\n"
     ]
    },
    {
     "name": "stderr",
     "output_type": "stream",
     "text": [
      " 23%|██▎       | 7/30 [03:17<08:54, 23.22s/it]"
     ]
    },
    {
     "name": "stdout",
     "output_type": "stream",
     "text": [
      "ARM0308202 consist of  4  containers\n"
     ]
    },
    {
     "name": "stderr",
     "output_type": "stream",
     "text": [
      " 27%|██▋       | 8/30 [03:48<09:29, 25.88s/it]"
     ]
    },
    {
     "name": "stdout",
     "output_type": "stream",
     "text": [
      "ARM0300326 consist of  2  containers\n"
     ]
    },
    {
     "name": "stderr",
     "output_type": "stream",
     "text": [
      " 30%|███       | 9/30 [04:12<08:48, 25.15s/it]"
     ]
    },
    {
     "name": "stdout",
     "output_type": "stream",
     "text": [
      "ARM0306618 consist of  2  containers\n"
     ]
    },
    {
     "name": "stderr",
     "output_type": "stream",
     "text": [
      " 33%|███▎      | 10/30 [04:37<08:20, 25.03s/it]"
     ]
    },
    {
     "name": "stdout",
     "output_type": "stream",
     "text": [
      "ARM0300876 consist of  4  containers\n"
     ]
    },
    {
     "name": "stderr",
     "output_type": "stream",
     "text": [
      " 37%|███▋      | 11/30 [05:03<08:05, 25.55s/it]"
     ]
    },
    {
     "name": "stdout",
     "output_type": "stream",
     "text": [
      "ARM0302741 consist of  3  containers\n"
     ]
    },
    {
     "name": "stderr",
     "output_type": "stream",
     "text": [
      " 40%|████      | 12/30 [05:33<08:00, 26.72s/it]"
     ]
    },
    {
     "name": "stdout",
     "output_type": "stream",
     "text": [
      "ARM0308333 consist of  0  containers\n"
     ]
    },
    {
     "name": "stderr",
     "output_type": "stream",
     "text": [
      " 43%|████▎     | 13/30 [05:51<06:50, 24.13s/it]"
     ]
    },
    {
     "name": "stdout",
     "output_type": "stream",
     "text": [
      "ARM0305653 consist of  0  containers\n"
     ]
    },
    {
     "name": "stderr",
     "output_type": "stream",
     "text": [
      " 47%|████▋     | 14/30 [06:08<05:53, 22.08s/it]"
     ]
    },
    {
     "name": "stdout",
     "output_type": "stream",
     "text": [
      "ARM0302772 consist of  0  containers\n"
     ]
    },
    {
     "name": "stderr",
     "output_type": "stream",
     "text": [
      " 50%|█████     | 15/30 [06:27<05:17, 21.15s/it]"
     ]
    },
    {
     "name": "stdout",
     "output_type": "stream",
     "text": [
      "ARM0305513 consist of  3  containers\n"
     ]
    },
    {
     "name": "stderr",
     "output_type": "stream",
     "text": [
      " 53%|█████▎    | 16/30 [06:54<05:18, 22.76s/it]"
     ]
    },
    {
     "name": "stdout",
     "output_type": "stream",
     "text": [
      "ARM0302106 consist of  2  containers\n"
     ]
    },
    {
     "name": "stderr",
     "output_type": "stream",
     "text": [
      " 57%|█████▋    | 17/30 [07:18<05:00, 23.14s/it]"
     ]
    },
    {
     "name": "stdout",
     "output_type": "stream",
     "text": [
      "ARM0303661 consist of  2  containers\n"
     ]
    },
    {
     "name": "stderr",
     "output_type": "stream",
     "text": [
      " 60%|██████    | 18/30 [07:42<04:40, 23.35s/it]"
     ]
    },
    {
     "name": "stdout",
     "output_type": "stream",
     "text": [
      "ARM0308716 consist of  0  containers\n"
     ]
    },
    {
     "name": "stderr",
     "output_type": "stream",
     "text": [
      " 63%|██████▎   | 19/30 [08:01<04:03, 22.12s/it]"
     ]
    },
    {
     "name": "stdout",
     "output_type": "stream",
     "text": [
      "ARM0307246 consist of  2  containers\n"
     ]
    },
    {
     "name": "stderr",
     "output_type": "stream",
     "text": [
      " 67%|██████▋   | 20/30 [08:25<03:47, 22.75s/it]"
     ]
    },
    {
     "name": "stdout",
     "output_type": "stream",
     "text": [
      "ARM0302585 consist of  5  containers\n"
     ]
    },
    {
     "name": "stderr",
     "output_type": "stream",
     "text": [
      " 70%|███████   | 21/30 [08:57<03:50, 25.57s/it]"
     ]
    },
    {
     "name": "stdout",
     "output_type": "stream",
     "text": [
      "ARM0301958 consist of  0  containers\n"
     ]
    },
    {
     "name": "stderr",
     "output_type": "stream",
     "text": [
      " 73%|███████▎  | 22/30 [09:17<03:09, 23.75s/it]"
     ]
    },
    {
     "name": "stdout",
     "output_type": "stream",
     "text": [
      "ARM0303044 consist of  3  containers\n"
     ]
    },
    {
     "name": "stderr",
     "output_type": "stream",
     "text": [
      " 77%|███████▋  | 23/30 [09:43<02:51, 24.47s/it]"
     ]
    },
    {
     "name": "stdout",
     "output_type": "stream",
     "text": [
      "ARM0303785 consist of  2  containers\n"
     ]
    },
    {
     "name": "stderr",
     "output_type": "stream",
     "text": [
      " 80%|████████  | 24/30 [10:04<02:21, 23.54s/it]"
     ]
    },
    {
     "name": "stdout",
     "output_type": "stream",
     "text": [
      "ARM0303224 consist of  0  containers\n"
     ]
    },
    {
     "name": "stderr",
     "output_type": "stream",
     "text": [
      " 83%|████████▎ | 25/30 [10:24<01:52, 22.42s/it]"
     ]
    },
    {
     "name": "stdout",
     "output_type": "stream",
     "text": [
      "ARM0305556 consist of  2  containers\n"
     ]
    },
    {
     "name": "stderr",
     "output_type": "stream",
     "text": [
      " 87%|████████▋ | 26/30 [10:49<01:32, 23.17s/it]"
     ]
    },
    {
     "name": "stdout",
     "output_type": "stream",
     "text": [
      "ARM0301802 consist of  2  containers\n"
     ]
    },
    {
     "name": "stderr",
     "output_type": "stream",
     "text": [
      " 90%|█████████ | 27/30 [11:15<01:12, 24.03s/it]"
     ]
    },
    {
     "name": "stdout",
     "output_type": "stream",
     "text": [
      "ARM0300221 consist of  0  containers\n"
     ]
    },
    {
     "name": "stderr",
     "output_type": "stream",
     "text": [
      " 93%|█████████▎| 28/30 [11:33<00:44, 22.35s/it]"
     ]
    },
    {
     "name": "stdout",
     "output_type": "stream",
     "text": [
      "ARM0306454 consist of  5  containers\n"
     ]
    },
    {
     "name": "stderr",
     "output_type": "stream",
     "text": [
      " 97%|█████████▋| 29/30 [12:06<00:25, 25.43s/it]"
     ]
    },
    {
     "name": "stdout",
     "output_type": "stream",
     "text": [
      "ARM0302330 consist of  0  containers\n"
     ]
    },
    {
     "name": "stderr",
     "output_type": "stream",
     "text": [
      "100%|██████████| 30/30 [12:24<00:00, 24.82s/it]\n"
     ]
    }
   ],
   "source": [
    "hasil_akhir = []\n",
    "list_of_dict_fix2 = []\n",
    "list_of_dict = []\n",
    "# web scripting\n",
    "options = Options()\n",
    "options.add_argument(\"--window-size=1920,1280\")\n",
    "driver = uc.Chrome()\n",
    "driver.get(\"https://www.cnc-line.com/ebusiness/tracking/search\")\n",
    "\n",
    "for q, bls in enumerate(tqdm(bl_list)):\n",
    "    try:\n",
    "        time.sleep(random.randrange(2,6))\n",
    "        # masukin BL baru\n",
    "        search_box2 = driver.find_element(By. XPATH, '/html/body/div[2]/main/section[1]/div/div/form[3]/fieldset/div/div[1]/span[1]/input[2]')\n",
    "        # driver.execute_script(\"window.scrollTo(100,document.body.scrollHeight);\")\n",
    "        search_box2.clear()\n",
    "        search_box2.send_keys(bls)\n",
    "        time.sleep(1.1)\n",
    "        search_button = driver.find_element(By.XPATH, '/html/body/div[2]/main/section[1]/div/div/form[3]/fieldset/div/div[2]/button')\n",
    "        time.sleep(1)\n",
    "        search_button.click()\n",
    "\n",
    "        time.sleep(random.randrange(3,7))\n",
    "        # taking data from web \n",
    "        soup = BeautifulSoup(driver.page_source, 'lxml')\n",
    "\n",
    "        # finding containers in bl\n",
    "        containers_in_bl = soup.find_all('dl',{'class','container-ref'})\n",
    "        list_of_containers = []\n",
    "        for tag in containers_in_bl:\n",
    "            for e, f  in enumerate(tag.find_all('span')):\n",
    "                if len(f.text) == 11:\n",
    "                    list_of_containers.append(f.text)\n",
    "\n",
    "        # web scraping flow if bl have >1 container number\n",
    "        #if len(list_of_containers)>1:\n",
    "        print(bls, 'consist of ', len(list_of_containers),' containers')\n",
    "        num_of_ctr_idx = len(list_of_containers) \n",
    "        # clicking more button\n",
    "        current_dict = {}\n",
    "        \n",
    "        # click all\n",
    "        for button in range(len(list_of_containers)):\n",
    "            more_button= WebDriverWait(driver, 30).until(EC.element_to_be_clickable((By.XPATH, '/html/body/div[2]/main/section[2]/div/div/ul/li[{}]/article/section[2]/div[1]/div/label'.format(num_of_ctr_idx))))  \n",
    "            more_button.click()\n",
    "            time.sleep(random.randrange(2,4))\n",
    "            more_button.click()\n",
    "            num_of_ctr_idx = num_of_ctr_idx-1\n",
    "        \n",
    "        time.sleep(5)\n",
    "        soup1 = BeautifulSoup(driver.page_source, 'lxml')\n",
    "        \n",
    "        div_of_script = soup1.find_all(\"div\", {\"class\":\"l-zone__main\"})\n",
    "        for tag in div_of_script:\n",
    "            for t, tag2 in enumerate(tag.find_all('script')):\n",
    "                script = tag2\n",
    "        \n",
    "        index_separator = '{\"IsFavoriteContainer\":'\n",
    "        var = script.text\n",
    "        list_sementara = var.split(\"var \")\n",
    "        str_milestone = list_sementara[1].replace(\"model =\",\"\").replace(\"\\n\",\"\")[1:-6]\n",
    "        list_str = str_milestone.split(index_separator)\n",
    "        list_str.pop(0)\n",
    "\n",
    "        for j, j_container in enumerate(list_str):\n",
    "            json_text_string = index_separator + j_container\n",
    "\n",
    "            if json_text_string[-1] == \",\":\n",
    "                json_text_string = json_text_string[:-1]\n",
    "\n",
    "            json_data = json.loads(json_text_string)\n",
    "            \n",
    "            ctr_number = json_data['ContainerReference']\n",
    "        \n",
    "            origin = json_data['ContainerMoveDetails']['routingInformation']['portOfLoading']['name'][:-5]\n",
    "            destination = json_data['ContainerMoveDetails']['routingInformation']['portOfDischarge']['name'][:-5]\n",
    "            milestones = json_data['ContainerMoveDetails']['pastMoves'] + json_data['ContainerMoveDetails']['currentMoves'] + json_data['ContainerMoveDetails']['futureMoves'] \n",
    "            current_dict = {\n",
    "                \"Liners\" : \"CNC\",\n",
    "                \"BL Number\" : bls,\n",
    "                \"Container Number\" : ctr_number,\n",
    "                \"From\" : origin,\n",
    "                \"To\" : destination,\n",
    "                }\n",
    "            for d, milestone in enumerate(milestones):\n",
    "                if milestone['location']['name'] == origin:\n",
    "                    mils = milestone['containerStatus'] + \" ORIGIN\"\n",
    "                    case = {mils : milestone['containerStatusDate'][:10]}\n",
    "                    current_dict.update(case)\n",
    "                elif milestone['location']['name'] == destination:\n",
    "                    mils = milestone['containerStatus'] + \" DESTINATION\"\n",
    "                    case = {mils : milestone['containerStatusDate'][:10]}\n",
    "                    current_dict.update(case)\n",
    "            \n",
    "            list_of_dict.append(current_dict)            \n",
    "        \n",
    "    except Exception as e:\n",
    "        # for failed bl\n",
    "        print(e)\n",
    "        print(\"{} GAGAL!!\".format(bls))\n",
    "        gagal.append(bls)\n",
    "\n",
    "# changing dict key to db key\n",
    "# for filter_dict in list_of_dict:\n",
    "key_mapping = {\n",
    "    'EmptyDeliveredToShipper ORIGIN': 'ATD',\n",
    "    'ActualVesselArrival DESTINATION': 'ATA',\n",
    "    'ContainerToConsignee DESTINATION': 'Container Release',\n",
    "    'EmptyInDepotMEA DESTINATION': 'Container Return'\n",
    "}\n",
    "\n",
    "# Transformation\n",
    "for item in list_of_dict:\n",
    "    transformed_item = {key_mapping.get(key, key): value for key, value in item.items() if key in key_mapping or key not in key_mapping}\n",
    "    list_of_dict_fix2.append(transformed_item)   "
   ]
  },
  {
   "cell_type": "code",
   "execution_count": 105,
   "metadata": {},
   "outputs": [
    {
     "name": "stdout",
     "output_type": "stream",
     "text": [
      "Today's Collection Name ===>  all_tracking_Oct-02-2023\n",
      "Today's Collection Has Been Made\n",
      "Inserting Many Complete!!\n"
     ]
    }
   ],
   "source": [
    "# connect to mongodb\n",
    "from mongoinit import mongo_table_initiation, insert_many_mongo\n",
    "\n",
    "mongo_table_initiation()\n",
    "insert_many_mongo(list_of_dict_fix2)"
   ]
  },
  {
   "cell_type": "code",
   "execution_count": null,
   "metadata": {},
   "outputs": [],
   "source": []
  }
 ],
 "metadata": {
  "kernelspec": {
   "display_name": "Python 3.10.10 64-bit",
   "language": "python",
   "name": "python3"
  },
  "language_info": {
   "codemirror_mode": {
    "name": "ipython",
    "version": 3
   },
   "file_extension": ".py",
   "mimetype": "text/x-python",
   "name": "python",
   "nbconvert_exporter": "python",
   "pygments_lexer": "ipython3",
   "version": "3.10.10"
  },
  "orig_nbformat": 4,
  "vscode": {
   "interpreter": {
    "hash": "8c3d4d9970fc5c09c50d9318a9c7fbf4d0159e4b28833276f5678ee22bded273"
   }
  }
 },
 "nbformat": 4,
 "nbformat_minor": 2
}
