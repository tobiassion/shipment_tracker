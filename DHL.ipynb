{
 "cells": [
  {
   "cell_type": "code",
   "execution_count": 1,
   "metadata": {},
   "outputs": [],
   "source": [
    "# hit API \n",
    "import requests\n",
    "\n",
    "# parsing data\n",
    "import pandas as pd\n",
    "from datetime import date\n",
    "\n",
    "# scraping progress\n",
    "from tqdm import tqdm\n",
    "\n",
    "# connecting to db\n",
    "import pymongo\n",
    "from pymongo import MongoClient\n",
    "from pymongo.server_api import ServerApi"
   ]
  },
  {
   "cell_type": "code",
   "execution_count": 2,
   "metadata": {},
   "outputs": [],
   "source": [
    "# reading all BL number from google sheet\n",
    "from acquiringbl import takingBL\n",
    "bl_list = takingBL(\"DANMAR LINES\")"
   ]
  },
  {
   "cell_type": "code",
   "execution_count": 3,
   "metadata": {},
   "outputs": [],
   "source": [
    "# key to map key from json request to key used in db\n",
    "Mapping = { \"Estimated Vessel Departure\"  : \"ETD\",\n",
    "            \"Actual Vessel Departure\" : \"ATD\",\n",
    "            \"Estimated Vessel Arrival\" : \"ETA\",\n",
    "            \"Actual Vessel Arrival\" : \"ATA\"}"
   ]
  },
  {
   "cell_type": "code",
   "execution_count": 5,
   "metadata": {},
   "outputs": [
    {
     "name": "stderr",
     "output_type": "stream",
     "text": [
      "  0%|          | 0/17 [00:00<?, ?it/s]"
     ]
    },
    {
     "name": "stdout",
     "output_type": "stream",
     "text": [
      "BL in Process:  BDOA02869\n",
      "['CMAU8948938', 'BEAU6259980']\n"
     ]
    },
    {
     "name": "stderr",
     "output_type": "stream",
     "text": [
      "100%|██████████| 2/2 [00:00<00:00, 1990.65it/s]\n",
      "  6%|▌         | 1/17 [00:00<00:08,  1.85it/s]"
     ]
    },
    {
     "name": "stdout",
     "output_type": "stream",
     "text": [
      "BDOA02869 CMAU8948938 done\n",
      "BDOA02869 BEAU6259980 done\n",
      "BL in Process:  BDOA02949\n",
      "['FFAU3985639', 'KMTU9355951', 'TEMU8990179']\n"
     ]
    },
    {
     "name": "stderr",
     "output_type": "stream",
     "text": [
      "100%|██████████| 3/3 [00:00<00:00, 3014.59it/s]\n",
      " 12%|█▏        | 2/17 [00:00<00:05,  2.77it/s]"
     ]
    },
    {
     "name": "stdout",
     "output_type": "stream",
     "text": [
      "THIS IS ERROR====> 'Actual Vessel Arrival'\n",
      "BDOA02949 FFAU3985639 done\n",
      "THIS IS ERROR====> 'Actual Vessel Arrival'\n",
      "BDOA02949 KMTU9355951 done\n",
      "THIS IS ERROR====> 'Actual Vessel Arrival'\n",
      "BDOA02949 TEMU8990179 done\n",
      "BL in Process:  BDOA02895\n",
      "['TGBU8860848']\n"
     ]
    },
    {
     "name": "stderr",
     "output_type": "stream",
     "text": [
      "100%|██████████| 1/1 [00:00<?, ?it/s]\n",
      " 18%|█▊        | 3/17 [00:00<00:03,  3.51it/s]"
     ]
    },
    {
     "name": "stdout",
     "output_type": "stream",
     "text": [
      "BDOA02895 TGBU8860848 done\n",
      "BL in Process:  BDOA02917\n",
      "['FFAU2563330']\n"
     ]
    },
    {
     "name": "stderr",
     "output_type": "stream",
     "text": [
      "100%|██████████| 1/1 [00:00<?, ?it/s]\n",
      " 24%|██▎       | 4/17 [00:01<00:03,  3.93it/s]"
     ]
    },
    {
     "name": "stdout",
     "output_type": "stream",
     "text": [
      "BDOA02917 FFAU2563330 done\n",
      "BL in Process:  BDOA02943\n",
      "['FFAU4323766']\n"
     ]
    },
    {
     "name": "stderr",
     "output_type": "stream",
     "text": [
      "100%|██████████| 1/1 [00:00<00:00, 1014.59it/s]\n",
      " 29%|██▉       | 5/17 [00:01<00:03,  3.70it/s]"
     ]
    },
    {
     "name": "stdout",
     "output_type": "stream",
     "text": [
      "BDOA02943 FFAU4323766 done\n",
      "BL in Process:  BDOA02790\n",
      "['MSMU4419542']\n"
     ]
    },
    {
     "name": "stderr",
     "output_type": "stream",
     "text": [
      "100%|██████████| 1/1 [00:00<00:00, 1002.22it/s]"
     ]
    },
    {
     "name": "stdout",
     "output_type": "stream",
     "text": [
      "BDOA02790 MSMU4419542 done\n"
     ]
    },
    {
     "name": "stderr",
     "output_type": "stream",
     "text": [
      "\n",
      " 35%|███▌      | 6/17 [00:01<00:02,  4.17it/s]"
     ]
    },
    {
     "name": "stdout",
     "output_type": "stream",
     "text": [
      "BL in Process:  BDOA02842\n",
      "['UETU5621846']\n"
     ]
    },
    {
     "name": "stderr",
     "output_type": "stream",
     "text": [
      "100%|██████████| 1/1 [00:00<?, ?it/s]\n",
      " 41%|████      | 7/17 [00:01<00:02,  4.47it/s]"
     ]
    },
    {
     "name": "stdout",
     "output_type": "stream",
     "text": [
      "BDOA02842 UETU5621846 done\n",
      "BL in Process:  BDOA02906\n",
      "['OOCU8938448']\n"
     ]
    },
    {
     "name": "stderr",
     "output_type": "stream",
     "text": [
      "100%|██████████| 1/1 [00:00<?, ?it/s]\n",
      " 47%|████▋     | 8/17 [00:02<00:02,  4.47it/s]"
     ]
    },
    {
     "name": "stdout",
     "output_type": "stream",
     "text": [
      "BDOA02906 OOCU8938448 done\n",
      "BL in Process:  BDOA02968\n",
      "['TXGU6144446', 'SEGU4121421', 'KMTU9342580', 'FCIU7070490', 'TEMU7819794']\n"
     ]
    },
    {
     "name": "stderr",
     "output_type": "stream",
     "text": [
      "100%|██████████| 5/5 [00:00<00:00, 1671.30it/s]\n",
      " 53%|█████▎    | 9/17 [00:02<00:01,  4.83it/s]"
     ]
    },
    {
     "name": "stdout",
     "output_type": "stream",
     "text": [
      "THIS IS ERROR====> 'Actual Vessel Arrival'\n",
      "BDOA02968 TXGU6144446 done\n",
      "THIS IS ERROR====> 'Actual Vessel Arrival'\n",
      "BDOA02968 SEGU4121421 done\n",
      "THIS IS ERROR====> 'Actual Vessel Arrival'\n",
      "BDOA02968 KMTU9342580 done\n",
      "THIS IS ERROR====> 'Actual Vessel Arrival'\n",
      "BDOA02968 FCIU7070490 done\n",
      "THIS IS ERROR====> 'Actual Vessel Arrival'\n",
      "BDOA02968 TEMU7819794 done\n",
      "BL in Process:  BDOA02916\n",
      "['TXGU5015043', 'TXGU5050070', 'SEKU5225092', 'BMOU6215008', 'BMOU6347452']\n"
     ]
    },
    {
     "name": "stderr",
     "output_type": "stream",
     "text": [
      "100%|██████████| 5/5 [00:00<00:00, 5014.71it/s]\n",
      " 59%|█████▉    | 10/17 [00:02<00:01,  4.67it/s]"
     ]
    },
    {
     "name": "stdout",
     "output_type": "stream",
     "text": [
      "BDOA02916 TXGU5015043 done\n",
      "BDOA02916 TXGU5050070 done\n",
      "BDOA02916 SEKU5225092 done\n",
      "BDOA02916 BMOU6215008 done\n",
      "BDOA02916 BMOU6347452 done\n",
      "BL in Process:  BDOA02915\n",
      "['TRHU5883761']\n"
     ]
    },
    {
     "name": "stderr",
     "output_type": "stream",
     "text": [
      "100%|██████████| 1/1 [00:00<?, ?it/s]\n",
      " 65%|██████▍   | 11/17 [00:02<00:01,  4.58it/s]"
     ]
    },
    {
     "name": "stdout",
     "output_type": "stream",
     "text": [
      "THIS IS ERROR====> 'Actual Vessel Arrival'\n",
      "BDOA02915 TRHU5883761 done\n",
      "BL in Process:  BDOA02811\n",
      "['MSMU7049082', 'TLLU8587971', 'MSMU4143177']\n"
     ]
    },
    {
     "name": "stderr",
     "output_type": "stream",
     "text": [
      "100%|██████████| 3/3 [00:00<00:00, 3008.11it/s]\n",
      " 71%|███████   | 12/17 [00:02<00:01,  4.55it/s]"
     ]
    },
    {
     "name": "stdout",
     "output_type": "stream",
     "text": [
      "BDOA02811 MSMU7049082 done\n",
      "BDOA02811 TLLU8587971 done\n",
      "BDOA02811 MSMU4143177 done\n",
      "BL in Process:  BDOA02879\n",
      "['TGBU6976926', 'BEAU6114482', 'CMAU6840820', 'SEKU6058343', 'CAAU6195505']\n"
     ]
    },
    {
     "name": "stderr",
     "output_type": "stream",
     "text": [
      "100%|██████████| 5/5 [00:00<00:00, 5014.71it/s]\n",
      " 76%|███████▋  | 13/17 [00:03<00:01,  3.46it/s]"
     ]
    },
    {
     "name": "stdout",
     "output_type": "stream",
     "text": [
      "BDOA02879 TGBU6976926 done\n",
      "BDOA02879 BEAU6114482 done\n",
      "BDOA02879 CMAU6840820 done\n",
      "BDOA02879 SEKU6058343 done\n",
      "BDOA02879 CAAU6195505 done\n",
      "BL in Process:  BDOA02934\n",
      "['BMOU6341454', 'SEGU4472175', 'SEGU6509782', 'BMOU6238111', 'CXDU2319451']\n"
     ]
    },
    {
     "name": "stderr",
     "output_type": "stream",
     "text": [
      "100%|██████████| 5/5 [00:00<00:00, 5011.12it/s]\n",
      " 82%|████████▏ | 14/17 [00:03<00:00,  3.94it/s]"
     ]
    },
    {
     "name": "stdout",
     "output_type": "stream",
     "text": [
      "BDOA02934 BMOU6341454 done\n",
      "BDOA02934 SEGU4472175 done\n",
      "BDOA02934 SEGU6509782 done\n",
      "BDOA02934 BMOU6238111 done\n",
      "BDOA02934 CXDU2319451 done\n",
      "BL in Process:  BDOA02952\n",
      "['GCXU5886255', 'TEMU8979420', 'TXGU5035775', 'FCIU7132020', 'FFAU4200951']\n"
     ]
    },
    {
     "name": "stderr",
     "output_type": "stream",
     "text": [
      "100%|██████████| 5/5 [00:00<00:00, 5012.31it/s]\n",
      " 88%|████████▊ | 15/17 [00:03<00:00,  4.45it/s]"
     ]
    },
    {
     "name": "stdout",
     "output_type": "stream",
     "text": [
      "THIS IS ERROR====> 'Actual Vessel Arrival'\n",
      "BDOA02952 GCXU5886255 done\n",
      "THIS IS ERROR====> 'Actual Vessel Arrival'\n",
      "BDOA02952 TEMU8979420 done\n",
      "THIS IS ERROR====> 'Actual Vessel Arrival'\n",
      "BDOA02952 TXGU5035775 done\n",
      "THIS IS ERROR====> 'Actual Vessel Arrival'\n",
      "BDOA02952 FCIU7132020 done\n",
      "THIS IS ERROR====> 'Actual Vessel Arrival'\n",
      "BDOA02952 FFAU4200951 done\n",
      "BL in Process:  BDOA02781\n",
      "['OOLU4945342', 'CSNU8503995']\n"
     ]
    },
    {
     "name": "stderr",
     "output_type": "stream",
     "text": [
      "100%|██████████| 2/2 [00:00<00:00, 2003.01it/s]\n",
      " 94%|█████████▍| 16/17 [00:03<00:00,  4.44it/s]"
     ]
    },
    {
     "name": "stdout",
     "output_type": "stream",
     "text": [
      "BDOA02781 OOLU4945342 done\n",
      "BDOA02781 CSNU8503995 done\n",
      "BL in Process:  BDOA02816\n",
      "['CAAU5812644', 'MSMU8180501']\n"
     ]
    },
    {
     "name": "stderr",
     "output_type": "stream",
     "text": [
      "100%|██████████| 2/2 [00:00<00:00, 400.68it/s]\n",
      "100%|██████████| 17/17 [00:04<00:00,  4.12it/s]"
     ]
    },
    {
     "name": "stdout",
     "output_type": "stream",
     "text": [
      "BDOA02816 CAAU5812644 done\n",
      "BDOA02816 MSMU8180501 done\n"
     ]
    },
    {
     "name": "stderr",
     "output_type": "stream",
     "text": [
      "\n"
     ]
    }
   ],
   "source": [
    "list_of_dict = []\n",
    "\n",
    "for i, bls in enumerate(tqdm(bl_list)):\n",
    "    \n",
    "    print(\"BL in Process: \" ,bls)\n",
    "    \n",
    "    # hitting API\n",
    "    url = \"https://api.dhl.com/dgff/transportation/shipment-tracking\"\n",
    "    querystring = {\"housebill\": bls}\n",
    "    headers = {\n",
    "        \"content-type\": \"application/json\",\n",
    "        \"DHL-API-Key\": \"qEHPTpIAc13hHfjB6H6gJQ0vEfmP6GhA\"\n",
    "    }\n",
    "\n",
    "    # pasting json response\n",
    "    response = requests.request(\"GET\", url, headers=headers, params=querystring)\n",
    "    json_data = response.json() if response and response.status_code == 200 else None\n",
    "\n",
    "    temp_dict={}\n",
    "    \n",
    "    # list of containers in 1 bl\n",
    "    list_of_containers=[]\n",
    "    for i in json_data['ShipmentTracking']['Shipment']['TransportUnits']['TransportUnit']:\n",
    "        list_of_containers.append(i['TransportUnitID'])\n",
    "\n",
    "    print(list_of_containers)\n",
    "\n",
    "    # parsing every data per container\n",
    "    for c, container in enumerate(tqdm(list_of_containers)):\n",
    "        current_dict={}\n",
    "        current_dict.update({\"Liners\" : \"Danmar Lines / DHL\"})\n",
    "        current_dict.update({\"BL Number\" : bls})\n",
    "        current_dict.update({\"Container Number\" : container})\n",
    "        current_dict.update({\"From\" : json_data['ShipmentTracking']['Shipment']['Origin']['LocationName'][:json_data['ShipmentTracking']['Shipment']['Origin']['LocationName'].index(\",\")]})\n",
    "        current_dict.update({\"To\" : json_data['ShipmentTracking']['Shipment']['Destination']['LocationName']})\n",
    "        \n",
    "        for j, status_dict in enumerate (json_data['ShipmentTracking']['Shipment']['Timestamps']['Timestamp']):\n",
    "            status_name = status_dict.get('TimestampDescription')\n",
    "            status_date = status_dict.get('TimestampDateTime')\n",
    "            case_data = {status_name:status_date[:10]}\n",
    "            temp_dict.update(case_data)\n",
    "            \n",
    "        for old_key, new_key in Mapping.items():\n",
    "            try:\n",
    "                current_dict[new_key] = temp_dict[old_key]\n",
    "            except Exception as e:\n",
    "                current_dict[new_key] = None\n",
    "                print(\"THIS IS ERROR====>\",e)\n",
    "\n",
    "        list_of_dict.append(current_dict)\n",
    "        print(bls, container,\"done\")"
   ]
  },
  {
   "cell_type": "code",
   "execution_count": 9,
   "metadata": {},
   "outputs": [
    {
     "data": {
      "text/plain": [
       "{'Liners': 'Danmar Lines / DHL',\n",
       " 'BL Number': 'BDOA02952',\n",
       " 'Container Number': 'FFAU4200951',\n",
       " 'From': 'Jakarta',\n",
       " 'To': 'Cat Lai',\n",
       " 'ETD': '2023-09-15',\n",
       " 'ATD': '2023-09-14',\n",
       " 'ETA': '2023-09-20',\n",
       " 'ATA': None}"
      ]
     },
     "execution_count": 9,
     "metadata": {},
     "output_type": "execute_result"
    }
   ],
   "source": [
    "list_of_dict[-5]"
   ]
  },
  {
   "cell_type": "code",
   "execution_count": 10,
   "metadata": {},
   "outputs": [
    {
     "name": "stdout",
     "output_type": "stream",
     "text": [
      "Today's Collection Name ===>  all_tracking_Sep-20-2023\n",
      "Today's Collection Has Been Made\n",
      "Inserting Many Complete!!\n"
     ]
    }
   ],
   "source": [
    "# connect to mongodb\n",
    "from mongoinit import mongo_table_initiation, insert_many_mongo\n",
    "\n",
    "mongo_table_initiation()\n",
    "insert_many_mongo(list_of_dict)"
   ]
  },
  {
   "cell_type": "code",
   "execution_count": 23,
   "metadata": {},
   "outputs": [],
   "source": [
    "# exporting scraped data to excel\n",
    "df = pd.DataFrame(list_of_dict)\n",
    "excel_file_path = 'export excel/DHL.xlsx'\n",
    "df.to_excel(excel_file_path, index=False)"
   ]
  },
  {
   "cell_type": "code",
   "execution_count": null,
   "metadata": {},
   "outputs": [],
   "source": []
  }
 ],
 "metadata": {
  "kernelspec": {
   "display_name": "Python 3.10.10 64-bit",
   "language": "python",
   "name": "python3"
  },
  "language_info": {
   "codemirror_mode": {
    "name": "ipython",
    "version": 3
   },
   "file_extension": ".py",
   "mimetype": "text/x-python",
   "name": "python",
   "nbconvert_exporter": "python",
   "pygments_lexer": "ipython3",
   "version": "3.10.10"
  },
  "orig_nbformat": 4,
  "vscode": {
   "interpreter": {
    "hash": "8c3d4d9970fc5c09c50d9318a9c7fbf4d0159e4b28833276f5678ee22bded273"
   }
  }
 },
 "nbformat": 4,
 "nbformat_minor": 2
}
