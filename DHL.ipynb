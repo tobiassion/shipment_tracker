{
 "cells": [
  {
   "cell_type": "code",
   "execution_count": 1,
   "metadata": {},
   "outputs": [],
   "source": [
    "# hit API \n",
    "import requests\n",
    "\n",
    "# parsing data\n",
    "import pandas as pd\n",
    "from datetime import date\n",
    "\n",
    "# scraping progress\n",
    "from tqdm import tqdm\n",
    "\n",
    "# connecting to db\n",
    "import pymongo\n",
    "from pymongo import MongoClient\n",
    "from pymongo.server_api import ServerApi"
   ]
  },
  {
   "cell_type": "code",
   "execution_count": 2,
   "metadata": {},
   "outputs": [],
   "source": [
    "# reading all BL number from google sheet\n",
    "from acquiringbl import takingBL\n",
    "bl_list = takingBL(\"DANMAR LINES\")"
   ]
  },
  {
   "cell_type": "code",
   "execution_count": 3,
   "metadata": {},
   "outputs": [],
   "source": [
    "# key to map key from json request to key used in db\n",
    "Mapping = { \"Estimated Vessel Departure\"  : \"ETD\",\n",
    "            \"Actual Vessel Departure\" : \"ATD\",\n",
    "            \"Estimated Vessel Arrival\" : \"ETA\",\n",
    "            \"Actual Vessel Arrival\" : \"ATA\"}"
   ]
  },
  {
   "cell_type": "code",
   "execution_count": 4,
   "metadata": {},
   "outputs": [
    {
     "data": {
      "text/plain": [
       "['BDOA02975',\n",
       " 'BDOA02990',\n",
       " 'BDOA02980',\n",
       " 'BDOA02949',\n",
       " 'BDOA02934',\n",
       " 'BDOA02977',\n",
       " 'BDOA02988',\n",
       " 'BDOA02960',\n",
       " 'BDOA02979',\n",
       " 'BDOA02952',\n",
       " 'BDOA02978',\n",
       " 'BDOA02989',\n",
       " 'BDOA02968',\n",
       " 'BDOA02961']"
      ]
     },
     "execution_count": 4,
     "metadata": {},
     "output_type": "execute_result"
    }
   ],
   "source": [
    "bl_list"
   ]
  },
  {
   "cell_type": "code",
   "execution_count": 5,
   "metadata": {},
   "outputs": [
    {
     "name": "stderr",
     "output_type": "stream",
     "text": [
      "  0%|          | 0/14 [00:00<?, ?it/s]"
     ]
    },
    {
     "name": "stdout",
     "output_type": "stream",
     "text": [
      "BL in Process:  BDOA02975\n",
      "['KMTU9350991', 'BMOU6243329', 'FCIU7542981', 'TXGU5033010', 'SEGU5574968']\n"
     ]
    },
    {
     "name": "stderr",
     "output_type": "stream",
     "text": [
      "100%|██████████| 5/5 [00:00<00:00, 5001.55it/s]\n",
      "  7%|▋         | 1/14 [00:01<00:14,  1.13s/it]"
     ]
    },
    {
     "name": "stdout",
     "output_type": "stream",
     "text": [
      "BDOA02975 KMTU9350991 done\n",
      "BDOA02975 BMOU6243329 done\n",
      "BDOA02975 FCIU7542981 done\n",
      "BDOA02975 TXGU5033010 done\n",
      "BDOA02975 SEGU5574968 done\n",
      "BL in Process:  BDOA02990\n",
      "['BMOU6043146']\n"
     ]
    },
    {
     "name": "stderr",
     "output_type": "stream",
     "text": [
      "100%|██████████| 1/1 [00:00<00:00, 817.60it/s]\n",
      " 14%|█▍        | 2/14 [00:01<00:10,  1.11it/s]"
     ]
    },
    {
     "name": "stdout",
     "output_type": "stream",
     "text": [
      "BDOA02990 BMOU6043146 done\n",
      "BL in Process:  BDOA02980\n",
      "['FFAU1035730', 'BMOU6360773', 'FFAU1092220', 'TXGU6053599', 'FFAU3978901']\n"
     ]
    },
    {
     "name": "stderr",
     "output_type": "stream",
     "text": [
      "100%|██████████| 5/5 [00:00<00:00, 5020.71it/s]\n",
      " 21%|██▏       | 3/14 [00:02<00:08,  1.22it/s]"
     ]
    },
    {
     "name": "stdout",
     "output_type": "stream",
     "text": [
      "BDOA02980 FFAU1035730 done\n",
      "BDOA02980 BMOU6360773 done\n",
      "BDOA02980 FFAU1092220 done\n",
      "BDOA02980 TXGU6053599 done\n",
      "BDOA02980 FFAU3978901 done\n",
      "BL in Process:  BDOA02949\n",
      "['FFAU3985639', 'KMTU9355951', 'TEMU8990179']\n"
     ]
    },
    {
     "name": "stderr",
     "output_type": "stream",
     "text": [
      "100%|██████████| 3/3 [00:00<00:00, 2986.69it/s]\n",
      " 29%|██▊       | 4/14 [00:03<00:08,  1.23it/s]"
     ]
    },
    {
     "name": "stdout",
     "output_type": "stream",
     "text": [
      "BDOA02949 FFAU3985639 done\n",
      "BDOA02949 KMTU9355951 done\n",
      "BDOA02949 TEMU8990179 done\n",
      "BL in Process:  BDOA02934\n",
      "['BMOU6341454', 'SEGU4472175', 'SEGU6509782', 'BMOU6238111', 'CXDU2319451']\n"
     ]
    },
    {
     "name": "stderr",
     "output_type": "stream",
     "text": [
      "100%|██████████| 5/5 [00:00<00:00, 2427.82it/s]\n",
      " 36%|███▌      | 5/14 [00:04<00:07,  1.21it/s]"
     ]
    },
    {
     "name": "stdout",
     "output_type": "stream",
     "text": [
      "BDOA02934 BMOU6341454 done\n",
      "BDOA02934 SEGU4472175 done\n",
      "BDOA02934 SEGU6509782 done\n",
      "BDOA02934 BMOU6238111 done\n",
      "BDOA02934 CXDU2319451 done\n",
      "BL in Process:  BDOA02977\n",
      "['FFAU3626599']\n"
     ]
    },
    {
     "name": "stderr",
     "output_type": "stream",
     "text": [
      "100%|██████████| 1/1 [00:00<00:00, 1091.70it/s]\n",
      " 43%|████▎     | 6/14 [00:05<00:07,  1.11it/s]"
     ]
    },
    {
     "name": "stdout",
     "output_type": "stream",
     "text": [
      "BDOA02977 FFAU3626599 done\n",
      "BL in Process:  BDOA02988\n",
      "['FFAU2727352']\n"
     ]
    },
    {
     "name": "stderr",
     "output_type": "stream",
     "text": [
      "100%|██████████| 1/1 [00:00<00:00, 1494.76it/s]\n",
      " 50%|█████     | 7/14 [00:06<00:06,  1.16it/s]"
     ]
    },
    {
     "name": "stdout",
     "output_type": "stream",
     "text": [
      "BDOA02988 FFAU2727352 done\n",
      "BL in Process:  BDOA02960\n",
      "['OOCU7608842']\n"
     ]
    },
    {
     "name": "stderr",
     "output_type": "stream",
     "text": [
      "100%|██████████| 1/1 [00:00<?, ?it/s]\n",
      " 57%|█████▋    | 8/14 [00:06<00:04,  1.23it/s]"
     ]
    },
    {
     "name": "stdout",
     "output_type": "stream",
     "text": [
      "BDOA02960 OOCU7608842 done\n",
      "BL in Process:  BDOA02979\n",
      "['CSNU8092050']\n"
     ]
    },
    {
     "name": "stderr",
     "output_type": "stream",
     "text": [
      "100%|██████████| 1/1 [00:00<?, ?it/s]\n",
      " 64%|██████▍   | 9/14 [00:07<00:04,  1.22it/s]"
     ]
    },
    {
     "name": "stdout",
     "output_type": "stream",
     "text": [
      "BDOA02979 CSNU8092050 done\n",
      "BL in Process:  BDOA02952\n",
      "['GCXU5886255', 'TEMU8979420', 'TXGU5035775', 'FCIU7132020', 'FFAU4200951']\n"
     ]
    },
    {
     "name": "stderr",
     "output_type": "stream",
     "text": [
      "100%|██████████| 5/5 [00:00<00:00, 5008.72it/s]\n",
      " 71%|███████▏  | 10/14 [00:08<00:03,  1.18it/s]"
     ]
    },
    {
     "name": "stdout",
     "output_type": "stream",
     "text": [
      "BDOA02952 GCXU5886255 done\n",
      "BDOA02952 TEMU8979420 done\n",
      "BDOA02952 TXGU5035775 done\n",
      "BDOA02952 FCIU7132020 done\n",
      "BDOA02952 FFAU4200951 done\n",
      "BL in Process:  BDOA02978\n",
      "['TGBU4817777']\n"
     ]
    },
    {
     "name": "stderr",
     "output_type": "stream",
     "text": [
      "100%|██████████| 1/1 [00:00<?, ?it/s]\n",
      " 79%|███████▊  | 11/14 [00:09<00:02,  1.23it/s]"
     ]
    },
    {
     "name": "stdout",
     "output_type": "stream",
     "text": [
      "BDOA02978 TGBU4817777 done\n",
      "BL in Process:  BDOA02989\n",
      "['BEAU6191534']\n"
     ]
    },
    {
     "name": "stderr",
     "output_type": "stream",
     "text": [
      "100%|██████████| 1/1 [00:00<?, ?it/s]\n",
      " 86%|████████▌ | 12/14 [00:10<00:01,  1.23it/s]"
     ]
    },
    {
     "name": "stdout",
     "output_type": "stream",
     "text": [
      "BDOA02989 BEAU6191534 done\n",
      "BL in Process:  BDOA02968\n",
      "['TXGU6144446', 'SEGU4121421', 'KMTU9342580', 'FCIU7070490', 'TEMU7819794']\n"
     ]
    },
    {
     "name": "stderr",
     "output_type": "stream",
     "text": [
      "100%|██████████| 5/5 [00:00<00:00, 3253.42it/s]\n",
      " 93%|█████████▎| 13/14 [00:10<00:00,  1.27it/s]"
     ]
    },
    {
     "name": "stdout",
     "output_type": "stream",
     "text": [
      "BDOA02968 TXGU6144446 done\n",
      "BDOA02968 SEGU4121421 done\n",
      "BDOA02968 KMTU9342580 done\n",
      "BDOA02968 FCIU7070490 done\n",
      "BDOA02968 TEMU7819794 done\n",
      "BL in Process:  BDOA02961\n",
      "['OOCU8685761']\n"
     ]
    },
    {
     "name": "stderr",
     "output_type": "stream",
     "text": [
      "100%|██████████| 1/1 [00:00<00:00, 645.97it/s]\n",
      "100%|██████████| 14/14 [00:11<00:00,  1.22it/s]"
     ]
    },
    {
     "name": "stdout",
     "output_type": "stream",
     "text": [
      "BDOA02961 OOCU8685761 done\n"
     ]
    },
    {
     "name": "stderr",
     "output_type": "stream",
     "text": [
      "\n"
     ]
    }
   ],
   "source": [
    "list_of_dict = []\n",
    "\n",
    "for i, bls in enumerate(tqdm(bl_list)):\n",
    "    try:\n",
    "    \n",
    "        print(\"BL in Process: \" ,bls)\n",
    "        \n",
    "        # hitting API\n",
    "        url = \"https://api.dhl.com/dgff/transportation/shipment-tracking\"\n",
    "        querystring = {\"housebill\": bls}\n",
    "        headers = {\n",
    "            \"content-type\": \"application/json\",\n",
    "            \"DHL-API-Key\": \"qEHPTpIAc13hHfjB6H6gJQ0vEfmP6GhA\"\n",
    "        }\n",
    "\n",
    "        # pasting json response\n",
    "        response = requests.request(\"GET\", url, headers=headers, params=querystring)\n",
    "        json_data = response.json() if response and response.status_code == 200 else None\n",
    "\n",
    "        temp_dict={}\n",
    "        \n",
    "        # list of containers in 1 bl\n",
    "        list_of_containers=[]\n",
    "        for i in json_data['ShipmentTracking']['Shipment']['TransportUnits']['TransportUnit']:\n",
    "            list_of_containers.append(i['TransportUnitID'])\n",
    "\n",
    "        print(list_of_containers)\n",
    "\n",
    "        # parsing every data per container\n",
    "        for c, container in enumerate(tqdm(list_of_containers)):\n",
    "            current_dict={}\n",
    "            current_dict.update({\"Liners\" : \"Danmar Lines / DHL\"})\n",
    "            current_dict.update({\"BL Number\" : bls})\n",
    "            current_dict.update({\"Container Number\" : container})\n",
    "            current_dict.update({\"From\" : json_data['ShipmentTracking']['Shipment']['Origin']['LocationName'][:json_data['ShipmentTracking']['Shipment']['Origin']['LocationName'].index(\",\")]})\n",
    "            current_dict.update({\"To\" : json_data['ShipmentTracking']['Shipment']['Destination']['LocationName']})\n",
    "            \n",
    "            for j, status_dict in enumerate (json_data['ShipmentTracking']['Shipment']['Timestamps']['Timestamp']):\n",
    "                status_name = status_dict.get('TimestampDescription')\n",
    "                status_date = status_dict.get('TimestampDateTime')\n",
    "                case_data = {status_name:status_date[:10]}\n",
    "                temp_dict.update(case_data)\n",
    "                \n",
    "            for old_key, new_key in Mapping.items():\n",
    "                try:\n",
    "                    current_dict[new_key] = temp_dict[old_key]\n",
    "                except Exception as e:\n",
    "                    current_dict[new_key] = None\n",
    "                    print(\"THIS IS ERROR====>\",e)\n",
    "\n",
    "            list_of_dict.append(current_dict)\n",
    "            print(bls, container,\"done\")\n",
    "    except Exception as e:\n",
    "        print(bls, \"THIS IS ERROR====>\",e)"
   ]
  },
  {
   "cell_type": "code",
   "execution_count": 6,
   "metadata": {},
   "outputs": [
    {
     "data": {
      "text/plain": [
       "{'Liners': 'Danmar Lines / DHL',\n",
       " 'BL Number': 'BDOA02961',\n",
       " 'Container Number': 'OOCU8685761',\n",
       " 'From': 'Jakarta',\n",
       " 'To': 'Port Klang',\n",
       " 'ETD': '2023-09-14',\n",
       " 'ATD': '2023-09-13',\n",
       " 'ETA': '2023-09-22',\n",
       " 'ATA': '2023-09-22'}"
      ]
     },
     "execution_count": 6,
     "metadata": {},
     "output_type": "execute_result"
    }
   ],
   "source": [
    "list_of_dict[-1]"
   ]
  },
  {
   "cell_type": "code",
   "execution_count": 7,
   "metadata": {},
   "outputs": [
    {
     "name": "stdout",
     "output_type": "stream",
     "text": [
      "Today's Collection Name ===>  all_tracking_Oct-06-2023\n",
      "Today's Collection Has Been Made\n",
      "Inserting Many Complete!!\n"
     ]
    }
   ],
   "source": [
    "# connect to mongodb\n",
    "from mongoinit import mongo_table_initiation, insert_many_mongo\n",
    "\n",
    "mongo_table_initiation()\n",
    "insert_many_mongo(list_of_dict)"
   ]
  },
  {
   "cell_type": "code",
   "execution_count": 20,
   "metadata": {},
   "outputs": [],
   "source": [
    "# exporting scraped data to excel\n",
    "df = pd.DataFrame(list_of_dict)\n",
    "excel_file_path = 'export excel/DHL.xlsx'\n",
    "df.to_excel(excel_file_path, index=False)"
   ]
  },
  {
   "cell_type": "code",
   "execution_count": null,
   "metadata": {},
   "outputs": [],
   "source": []
  }
 ],
 "metadata": {
  "kernelspec": {
   "display_name": "Python 3.10.10 64-bit",
   "language": "python",
   "name": "python3"
  },
  "language_info": {
   "codemirror_mode": {
    "name": "ipython",
    "version": 3
   },
   "file_extension": ".py",
   "mimetype": "text/x-python",
   "name": "python",
   "nbconvert_exporter": "python",
   "pygments_lexer": "ipython3",
   "version": "3.10.10"
  },
  "orig_nbformat": 4,
  "vscode": {
   "interpreter": {
    "hash": "8c3d4d9970fc5c09c50d9318a9c7fbf4d0159e4b28833276f5678ee22bded273"
   }
  }
 },
 "nbformat": 4,
 "nbformat_minor": 2
}
