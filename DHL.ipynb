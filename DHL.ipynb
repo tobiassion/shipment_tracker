{
 "cells": [
  {
   "cell_type": "code",
   "execution_count": 1,
   "metadata": {},
   "outputs": [],
   "source": [
    "# hit API \n",
    "import requests\n",
    "\n",
    "# parsing data\n",
    "import pandas as pd\n",
    "from datetime import date\n",
    "\n",
    "# scraping progress\n",
    "from tqdm import tqdm\n",
    "\n",
    "# connecting to db\n",
    "import pymongo\n",
    "from pymongo import MongoClient\n",
    "from pymongo.server_api import ServerApi"
   ]
  },
  {
   "cell_type": "code",
   "execution_count": 2,
   "metadata": {},
   "outputs": [],
   "source": [
    "# reading all BL number from google sheet\n",
    "from acquiringbl import takingBL\n",
    "bl_list = takingBL(\"DANMAR LINES\")"
   ]
  },
  {
   "cell_type": "code",
   "execution_count": 3,
   "metadata": {},
   "outputs": [],
   "source": [
    "# key to map key from json request to key used in db\n",
    "Mapping = { \"Estimated Vessel Departure\"  : \"ETD\",\n",
    "            \"Actual Vessel Departure\" : \"ATD\",\n",
    "            \"Estimated Vessel Arrival\" : \"ETA\",\n",
    "            \"Actual Vessel Arrival\" : \"ATA\"}"
   ]
  },
  {
   "cell_type": "code",
   "execution_count": 4,
   "metadata": {},
   "outputs": [
    {
     "data": {
      "text/plain": [
       "[]"
      ]
     },
     "execution_count": 4,
     "metadata": {},
     "output_type": "execute_result"
    }
   ],
   "source": [
    "bl_list"
   ]
  },
  {
   "cell_type": "code",
   "execution_count": 5,
   "metadata": {},
   "outputs": [
    {
     "name": "stderr",
     "output_type": "stream",
     "text": [
      "0it [00:00, ?it/s]\n"
     ]
    }
   ],
   "source": [
    "list_of_dict = []\n",
    "sign = False\n",
    "\n",
    "for i, bls in enumerate(tqdm(bl_list)):\n",
    "    try:\n",
    "    \n",
    "        print(\"BL in Process: \" ,bls)\n",
    "        \n",
    "        # hitting API\n",
    "        url = \"https://api.dhl.com/dgff/transportation/shipment-tracking\"\n",
    "        querystring = {\"housebill\": bls}\n",
    "        headers = {\n",
    "            \"content-type\": \"application/json\",\n",
    "            \"DHL-API-Key\": \"qEHPTpIAc13hHfjB6H6gJQ0vEfmP6GhA\"\n",
    "        }\n",
    "\n",
    "        # pasting json response\n",
    "        response = requests.request(\"GET\", url, headers=headers, params=querystring)\n",
    "        json_data = response.json() if response and response.status_code == 200 else None\n",
    "\n",
    "        temp_dict={}\n",
    "        \n",
    "        # list of containers in 1 bl\n",
    "        list_of_containers=[]\n",
    "        for i in json_data['ShipmentTracking']['Shipment']['TransportUnits']['TransportUnit']:\n",
    "            list_of_containers.append(i['TransportUnitID'])\n",
    "\n",
    "        print(list_of_containers)\n",
    "\n",
    "        # parsing every data per container\n",
    "        for c, container in enumerate(tqdm(list_of_containers)):\n",
    "            current_dict={}\n",
    "            current_dict.update({\"Liners\" : \"Danmar Lines / DHL\"})\n",
    "            current_dict.update({\"BL Number\" : bls})\n",
    "            current_dict.update({\"Container Number\" : container})\n",
    "            current_dict.update({\"From\" : json_data['ShipmentTracking']['Shipment']['Origin']['LocationName'][:json_data['ShipmentTracking']['Shipment']['Origin']['LocationName'].index(\",\")]})\n",
    "            current_dict.update({\"To\" : json_data['ShipmentTracking']['Shipment']['Destination']['LocationName']})\n",
    "            \n",
    "            for j, status_dict in enumerate (json_data['ShipmentTracking']['Shipment']['Timestamps']['Timestamp']):\n",
    "                status_name = status_dict.get('TimestampDescription')\n",
    "                status_date = status_dict.get('TimestampDateTime')\n",
    "                case_data = {status_name:status_date[:10]}\n",
    "                temp_dict.update(case_data)\n",
    "                \n",
    "            for old_key, new_key in Mapping.items():\n",
    "                try:\n",
    "                    current_dict[new_key] = temp_dict[old_key]\n",
    "                except Exception as e:\n",
    "                    current_dict[new_key] = None\n",
    "                    print(\"THIS IS ERROR====>\",e)\n",
    "                    list_of_dict.append(current_dict)\n",
    "                    sign = True\n",
    "\n",
    "            if sign == False:\n",
    "                list_of_dict.append(current_dict)\n",
    "            print(bls, container,\"done\")\n",
    "    except Exception as e:\n",
    "        print(bls, \"THIS IS ERROR====>\",e)"
   ]
  },
  {
   "cell_type": "code",
   "execution_count": 6,
   "metadata": {},
   "outputs": [
    {
     "data": {
      "text/plain": [
       "[]"
      ]
     },
     "execution_count": 6,
     "metadata": {},
     "output_type": "execute_result"
    }
   ],
   "source": [
    "list_of_dict"
   ]
  },
  {
   "cell_type": "code",
   "execution_count": 7,
   "metadata": {},
   "outputs": [
    {
     "name": "stdout",
     "output_type": "stream",
     "text": [
      "Today's Collection Name ===>  all_tracking_Jan-08-2024\n",
      "Today's Collection Has Been Made\n"
     ]
    },
    {
     "ename": "TypeError",
     "evalue": "documents must be a non-empty list",
     "output_type": "error",
     "traceback": [
      "\u001b[1;31m---------------------------------------------------------------------------\u001b[0m",
      "\u001b[1;31mTypeError\u001b[0m                                 Traceback (most recent call last)",
      "\u001b[1;32mc:\\Users\\Lenovo\\Documents\\nabati\\01. Export Shipment Tracker\\03. shipment_tracker\\DHL.ipynb Cell 7\u001b[0m in \u001b[0;36m<cell line: 5>\u001b[1;34m()\u001b[0m\n\u001b[0;32m      <a href='vscode-notebook-cell:/c%3A/Users/Lenovo/Documents/nabati/01.%20Export%20Shipment%20Tracker/03.%20shipment_tracker/DHL.ipynb#W6sZmlsZQ%3D%3D?line=1'>2</a>\u001b[0m \u001b[39mfrom\u001b[39;00m \u001b[39mmongoinit\u001b[39;00m \u001b[39mimport\u001b[39;00m mongo_table_initiation, insert_many_mongo\n\u001b[0;32m      <a href='vscode-notebook-cell:/c%3A/Users/Lenovo/Documents/nabati/01.%20Export%20Shipment%20Tracker/03.%20shipment_tracker/DHL.ipynb#W6sZmlsZQ%3D%3D?line=3'>4</a>\u001b[0m mongo_table_initiation()\n\u001b[1;32m----> <a href='vscode-notebook-cell:/c%3A/Users/Lenovo/Documents/nabati/01.%20Export%20Shipment%20Tracker/03.%20shipment_tracker/DHL.ipynb#W6sZmlsZQ%3D%3D?line=4'>5</a>\u001b[0m insert_many_mongo(list_of_dict)\n",
      "File \u001b[1;32mc:\\Users\\Lenovo\\Documents\\nabati\\01. Export Shipment Tracker\\03. shipment_tracker\\mongoinit.py:48\u001b[0m, in \u001b[0;36minsert_many_mongo\u001b[1;34m(results)\u001b[0m\n\u001b[0;32m     46\u001b[0m db \u001b[39m=\u001b[39m cluster[\u001b[39m\"\u001b[39m\u001b[39mbl_tracking\u001b[39m\u001b[39m\"\u001b[39m]\n\u001b[0;32m     47\u001b[0m collection \u001b[39m=\u001b[39m db[collection_name]\n\u001b[1;32m---> 48\u001b[0m collection\u001b[39m.\u001b[39;49minsert_many(results)\n\u001b[0;32m     49\u001b[0m \u001b[39mreturn\u001b[39;00m \u001b[39mprint\u001b[39m(\u001b[39m\"\u001b[39m\u001b[39mInserting Many Complete!!\u001b[39m\u001b[39m\"\u001b[39m)\n",
      "File \u001b[1;32mc:\\Users\\Lenovo\\AppData\\Local\\Programs\\Python\\Python310\\lib\\site-packages\\pymongo\\_csot.py:106\u001b[0m, in \u001b[0;36mapply.<locals>.csot_wrapper\u001b[1;34m(self, *args, **kwargs)\u001b[0m\n\u001b[0;32m    104\u001b[0m         \u001b[39mwith\u001b[39;00m _TimeoutContext(timeout):\n\u001b[0;32m    105\u001b[0m             \u001b[39mreturn\u001b[39;00m func(\u001b[39mself\u001b[39m, \u001b[39m*\u001b[39margs, \u001b[39m*\u001b[39m\u001b[39m*\u001b[39mkwargs)\n\u001b[1;32m--> 106\u001b[0m \u001b[39mreturn\u001b[39;00m func(\u001b[39mself\u001b[39m, \u001b[39m*\u001b[39margs, \u001b[39m*\u001b[39m\u001b[39m*\u001b[39mkwargs)\n",
      "File \u001b[1;32mc:\\Users\\Lenovo\\AppData\\Local\\Programs\\Python\\Python310\\lib\\site-packages\\pymongo\\collection.py:709\u001b[0m, in \u001b[0;36mCollection.insert_many\u001b[1;34m(self, documents, ordered, bypass_document_validation, session, comment)\u001b[0m\n\u001b[0;32m    660\u001b[0m \u001b[39m\"\"\"Insert an iterable of documents.\u001b[39;00m\n\u001b[0;32m    661\u001b[0m \n\u001b[0;32m    662\u001b[0m \u001b[39m  >>> db.test.count_documents({})\u001b[39;00m\n\u001b[1;32m   (...)\u001b[0m\n\u001b[0;32m    702\u001b[0m \u001b[39m.. versionadded:: 3.0\u001b[39;00m\n\u001b[0;32m    703\u001b[0m \u001b[39m\"\"\"\u001b[39;00m\n\u001b[0;32m    704\u001b[0m \u001b[39mif\u001b[39;00m (\n\u001b[0;32m    705\u001b[0m     \u001b[39mnot\u001b[39;00m \u001b[39misinstance\u001b[39m(documents, abc\u001b[39m.\u001b[39mIterable)\n\u001b[0;32m    706\u001b[0m     \u001b[39mor\u001b[39;00m \u001b[39misinstance\u001b[39m(documents, abc\u001b[39m.\u001b[39mMapping)\n\u001b[0;32m    707\u001b[0m     \u001b[39mor\u001b[39;00m \u001b[39mnot\u001b[39;00m documents\n\u001b[0;32m    708\u001b[0m ):\n\u001b[1;32m--> 709\u001b[0m     \u001b[39mraise\u001b[39;00m \u001b[39mTypeError\u001b[39;00m(\u001b[39m\"\u001b[39m\u001b[39mdocuments must be a non-empty list\u001b[39m\u001b[39m\"\u001b[39m)\n\u001b[0;32m    710\u001b[0m inserted_ids: List[ObjectId] \u001b[39m=\u001b[39m []\n\u001b[0;32m    712\u001b[0m \u001b[39mdef\u001b[39;00m \u001b[39mgen\u001b[39m():\n",
      "\u001b[1;31mTypeError\u001b[0m: documents must be a non-empty list"
     ]
    }
   ],
   "source": [
    "# connect to mongodb\n",
    "from mongoinit import mongo_table_initiation, insert_many_mongo\n",
    "\n",
    "mongo_table_initiation()\n",
    "insert_many_mongo(list_of_dict)"
   ]
  },
  {
   "cell_type": "code",
   "execution_count": 8,
   "metadata": {},
   "outputs": [],
   "source": [
    "# exporting scraped data to excel\n",
    "df = pd.DataFrame(list_of_dict)\n",
    "excel_file_path = 'export excel/DHL.xlsx'\n",
    "df.to_excel(excel_file_path, index=False)"
   ]
  },
  {
   "cell_type": "code",
   "execution_count": null,
   "metadata": {},
   "outputs": [],
   "source": []
  }
 ],
 "metadata": {
  "kernelspec": {
   "display_name": "Python 3.10.10 64-bit",
   "language": "python",
   "name": "python3"
  },
  "language_info": {
   "codemirror_mode": {
    "name": "ipython",
    "version": 3
   },
   "file_extension": ".py",
   "mimetype": "text/x-python",
   "name": "python",
   "nbconvert_exporter": "python",
   "pygments_lexer": "ipython3",
   "version": "3.10.10"
  },
  "orig_nbformat": 4,
  "vscode": {
   "interpreter": {
    "hash": "8c3d4d9970fc5c09c50d9318a9c7fbf4d0159e4b28833276f5678ee22bded273"
   }
  }
 },
 "nbformat": 4,
 "nbformat_minor": 2
}
