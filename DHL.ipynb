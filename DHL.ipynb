{
 "cells": [
  {
   "cell_type": "code",
   "execution_count": 3,
   "metadata": {},
   "outputs": [],
   "source": [
    "# hit API \n",
    "import requests\n",
    "\n",
    "# parsing data\n",
    "import pandas as pd\n",
    "from datetime import date\n",
    "\n",
    "# scraping progress\n",
    "from tqdm import tqdm\n",
    "\n",
    "# connecting to db\n",
    "import pymongo\n",
    "from pymongo import MongoClient\n",
    "from pymongo.server_api import ServerApi"
   ]
  },
  {
   "cell_type": "code",
   "execution_count": 26,
   "metadata": {},
   "outputs": [],
   "source": [
    "# reading all BL number from google sheet\n",
    "from acquiringbl import takingBL\n",
    "bl_list = takingBL(\"DANMAR LINES\")"
   ]
  },
  {
   "cell_type": "code",
   "execution_count": 14,
   "metadata": {},
   "outputs": [],
   "source": [
    "# key to map key from json request to key used in db\n",
    "Mapping = { \"Estimated Vessel Departure\"  : \"ETD\",\n",
    "            \"Actual Vessel Departure\" : \"ATD\",\n",
    "            \"Estimated Vessel Arrival\" : \"ETA\",\n",
    "            \"Actual Vessel Arrival\" : \"ATA\"}"
   ]
  },
  {
   "cell_type": "code",
   "execution_count": 15,
   "metadata": {},
   "outputs": [],
   "source": [
    "bl_list = ['BDOA03046']"
   ]
  },
  {
   "cell_type": "code",
   "execution_count": 29,
   "metadata": {},
   "outputs": [
    {
     "name": "stderr",
     "output_type": "stream",
     "text": [
      "  0%|          | 0/5 [00:00<?, ?it/s]"
     ]
    },
    {
     "name": "stdout",
     "output_type": "stream",
     "text": [
      "BL in Process:  BDOA02975\n",
      "['KMTU9350991', 'BMOU6243329', 'FCIU7542981', 'TXGU5033010', 'SEGU5574968']\n"
     ]
    },
    {
     "name": "stderr",
     "output_type": "stream",
     "text": [
      "100%|██████████| 5/5 [00:00<?, ?it/s]\n",
      " 20%|██        | 1/5 [00:00<00:01,  3.26it/s]"
     ]
    },
    {
     "name": "stdout",
     "output_type": "stream",
     "text": [
      "BDOA02975 KMTU9350991 done\n",
      "BDOA02975 BMOU6243329 done\n",
      "BDOA02975 FCIU7542981 done\n",
      "BDOA02975 TXGU5033010 done\n",
      "BDOA02975 SEGU5574968 done\n",
      "BL in Process:  BDOA02980\n",
      "['FFAU1035730', 'BMOU6360773', 'FFAU1092220', 'TXGU6053599', 'FFAU3978901']\n"
     ]
    },
    {
     "name": "stderr",
     "output_type": "stream",
     "text": [
      "100%|██████████| 5/5 [00:00<00:00, 5049.73it/s]\n",
      " 40%|████      | 2/5 [00:00<00:00,  3.44it/s]"
     ]
    },
    {
     "name": "stdout",
     "output_type": "stream",
     "text": [
      "BDOA02980 FFAU1035730 done\n",
      "BDOA02980 BMOU6360773 done\n",
      "BDOA02980 FFAU1092220 done\n",
      "BDOA02980 TXGU6053599 done\n",
      "BDOA02980 FFAU3978901 done\n",
      "BL in Process:  BDOA02994\n",
      "['FFAU3036041']\n"
     ]
    },
    {
     "name": "stderr",
     "output_type": "stream",
     "text": [
      "100%|██████████| 1/1 [00:00<00:00, 996.04it/s]\n",
      " 60%|██████    | 3/5 [00:00<00:00,  4.05it/s]"
     ]
    },
    {
     "name": "stdout",
     "output_type": "stream",
     "text": [
      "BDOA02994 FFAU3036041 done\n",
      "BL in Process:  BDOA03033\n",
      "['CSNU7170185']\n"
     ]
    },
    {
     "name": "stderr",
     "output_type": "stream",
     "text": [
      "100%|██████████| 1/1 [00:00<?, ?it/s]\n",
      " 80%|████████  | 4/5 [00:01<00:00,  4.22it/s]"
     ]
    },
    {
     "name": "stdout",
     "output_type": "stream",
     "text": [
      "BDOA03033 CSNU7170185 done\n",
      "BL in Process:  BDOA03046\n",
      "['FFAU3210739']\n"
     ]
    },
    {
     "name": "stderr",
     "output_type": "stream",
     "text": [
      "100%|██████████| 1/1 [00:00<00:00, 1015.08it/s]\n",
      "100%|██████████| 5/5 [00:01<00:00,  4.10it/s]"
     ]
    },
    {
     "name": "stdout",
     "output_type": "stream",
     "text": [
      "THIS IS ERROR====> 'Actual Vessel Arrival'\n",
      "BDOA03046 FFAU3210739 done\n"
     ]
    },
    {
     "name": "stderr",
     "output_type": "stream",
     "text": [
      "\n"
     ]
    }
   ],
   "source": [
    "list_of_dict = []\n",
    "sign = False\n",
    "\n",
    "for i, bls in enumerate(tqdm(bl_list)):\n",
    "    try:\n",
    "    \n",
    "        print(\"BL in Process: \" ,bls)\n",
    "        \n",
    "        # hitting API\n",
    "        url = \"https://api.dhl.com/dgff/transportation/shipment-tracking\"\n",
    "        querystring = {\"housebill\": bls}\n",
    "        headers = {\n",
    "            \"content-type\": \"application/json\",\n",
    "            \"DHL-API-Key\": \"qEHPTpIAc13hHfjB6H6gJQ0vEfmP6GhA\"\n",
    "        }\n",
    "\n",
    "        # pasting json response\n",
    "        response = requests.request(\"GET\", url, headers=headers, params=querystring)\n",
    "        json_data = response.json() if response and response.status_code == 200 else None\n",
    "\n",
    "        temp_dict={}\n",
    "        \n",
    "        # list of containers in 1 bl\n",
    "        list_of_containers=[]\n",
    "        for i in json_data['ShipmentTracking']['Shipment']['TransportUnits']['TransportUnit']:\n",
    "            list_of_containers.append(i['TransportUnitID'])\n",
    "\n",
    "        print(list_of_containers)\n",
    "\n",
    "        # parsing every data per container\n",
    "        for c, container in enumerate(tqdm(list_of_containers)):\n",
    "            current_dict={}\n",
    "            current_dict.update({\"Liners\" : \"Danmar Lines / DHL\"})\n",
    "            current_dict.update({\"BL Number\" : bls})\n",
    "            current_dict.update({\"Container Number\" : container})\n",
    "            current_dict.update({\"From\" : json_data['ShipmentTracking']['Shipment']['Origin']['LocationName'][:json_data['ShipmentTracking']['Shipment']['Origin']['LocationName'].index(\",\")]})\n",
    "            current_dict.update({\"To\" : json_data['ShipmentTracking']['Shipment']['Destination']['LocationName']})\n",
    "            \n",
    "            for j, status_dict in enumerate (json_data['ShipmentTracking']['Shipment']['Timestamps']['Timestamp']):\n",
    "                status_name = status_dict.get('TimestampDescription')\n",
    "                status_date = status_dict.get('TimestampDateTime')\n",
    "                case_data = {status_name:status_date[:10]}\n",
    "                temp_dict.update(case_data)\n",
    "                \n",
    "            for old_key, new_key in Mapping.items():\n",
    "                try:\n",
    "                    current_dict[new_key] = temp_dict[old_key]\n",
    "                except Exception as e:\n",
    "                    current_dict[new_key] = None\n",
    "                    print(\"THIS IS ERROR====>\",e)\n",
    "                    list_of_dict.append(current_dict)\n",
    "                    sign = True\n",
    "\n",
    "            if sign == False:\n",
    "                list_of_dict.append(current_dict)\n",
    "            print(bls, container,\"done\")\n",
    "    except Exception as e:\n",
    "        print(bls, \"THIS IS ERROR====>\",e)"
   ]
  },
  {
   "cell_type": "code",
   "execution_count": 30,
   "metadata": {},
   "outputs": [
    {
     "data": {
      "text/plain": [
       "[{'Liners': 'Danmar Lines / DHL',\n",
       "  'BL Number': 'BDOA02975',\n",
       "  'Container Number': 'KMTU9350991',\n",
       "  'From': 'Jakarta',\n",
       "  'To': 'Cat Lai',\n",
       "  'ETD': '2023-09-22',\n",
       "  'ATD': '2023-09-24',\n",
       "  'ETA': '2023-09-27',\n",
       "  'ATA': '2023-09-30'},\n",
       " {'Liners': 'Danmar Lines / DHL',\n",
       "  'BL Number': 'BDOA02975',\n",
       "  'Container Number': 'BMOU6243329',\n",
       "  'From': 'Jakarta',\n",
       "  'To': 'Cat Lai',\n",
       "  'ETD': '2023-09-22',\n",
       "  'ATD': '2023-09-24',\n",
       "  'ETA': '2023-09-27',\n",
       "  'ATA': '2023-09-30'},\n",
       " {'Liners': 'Danmar Lines / DHL',\n",
       "  'BL Number': 'BDOA02975',\n",
       "  'Container Number': 'FCIU7542981',\n",
       "  'From': 'Jakarta',\n",
       "  'To': 'Cat Lai',\n",
       "  'ETD': '2023-09-22',\n",
       "  'ATD': '2023-09-24',\n",
       "  'ETA': '2023-09-27',\n",
       "  'ATA': '2023-09-30'},\n",
       " {'Liners': 'Danmar Lines / DHL',\n",
       "  'BL Number': 'BDOA02975',\n",
       "  'Container Number': 'TXGU5033010',\n",
       "  'From': 'Jakarta',\n",
       "  'To': 'Cat Lai',\n",
       "  'ETD': '2023-09-22',\n",
       "  'ATD': '2023-09-24',\n",
       "  'ETA': '2023-09-27',\n",
       "  'ATA': '2023-09-30'},\n",
       " {'Liners': 'Danmar Lines / DHL',\n",
       "  'BL Number': 'BDOA02975',\n",
       "  'Container Number': 'SEGU5574968',\n",
       "  'From': 'Jakarta',\n",
       "  'To': 'Cat Lai',\n",
       "  'ETD': '2023-09-22',\n",
       "  'ATD': '2023-09-24',\n",
       "  'ETA': '2023-09-27',\n",
       "  'ATA': '2023-09-30'},\n",
       " {'Liners': 'Danmar Lines / DHL',\n",
       "  'BL Number': 'BDOA02980',\n",
       "  'Container Number': 'FFAU1035730',\n",
       "  'From': 'Jakarta',\n",
       "  'To': 'Cat Lai',\n",
       "  'ETD': '2023-09-22',\n",
       "  'ATD': '2023-09-24',\n",
       "  'ETA': '2023-09-27',\n",
       "  'ATA': '2023-09-30'},\n",
       " {'Liners': 'Danmar Lines / DHL',\n",
       "  'BL Number': 'BDOA02980',\n",
       "  'Container Number': 'BMOU6360773',\n",
       "  'From': 'Jakarta',\n",
       "  'To': 'Cat Lai',\n",
       "  'ETD': '2023-09-22',\n",
       "  'ATD': '2023-09-24',\n",
       "  'ETA': '2023-09-27',\n",
       "  'ATA': '2023-09-30'},\n",
       " {'Liners': 'Danmar Lines / DHL',\n",
       "  'BL Number': 'BDOA02980',\n",
       "  'Container Number': 'FFAU1092220',\n",
       "  'From': 'Jakarta',\n",
       "  'To': 'Cat Lai',\n",
       "  'ETD': '2023-09-22',\n",
       "  'ATD': '2023-09-24',\n",
       "  'ETA': '2023-09-27',\n",
       "  'ATA': '2023-09-30'},\n",
       " {'Liners': 'Danmar Lines / DHL',\n",
       "  'BL Number': 'BDOA02980',\n",
       "  'Container Number': 'TXGU6053599',\n",
       "  'From': 'Jakarta',\n",
       "  'To': 'Cat Lai',\n",
       "  'ETD': '2023-09-22',\n",
       "  'ATD': '2023-09-24',\n",
       "  'ETA': '2023-09-27',\n",
       "  'ATA': '2023-09-30'},\n",
       " {'Liners': 'Danmar Lines / DHL',\n",
       "  'BL Number': 'BDOA02980',\n",
       "  'Container Number': 'FFAU3978901',\n",
       "  'From': 'Jakarta',\n",
       "  'To': 'Cat Lai',\n",
       "  'ETD': '2023-09-22',\n",
       "  'ATD': '2023-09-24',\n",
       "  'ETA': '2023-09-27',\n",
       "  'ATA': '2023-09-30'},\n",
       " {'Liners': 'Danmar Lines / DHL',\n",
       "  'BL Number': 'BDOA02994',\n",
       "  'Container Number': 'FFAU3036041',\n",
       "  'From': 'Jakarta',\n",
       "  'To': 'Port Klang',\n",
       "  'ETD': '2023-10-11',\n",
       "  'ATD': '2023-10-11',\n",
       "  'ETA': '2023-10-20',\n",
       "  'ATA': '2023-10-21'},\n",
       " {'Liners': 'Danmar Lines / DHL',\n",
       "  'BL Number': 'BDOA03033',\n",
       "  'Container Number': 'CSNU7170185',\n",
       "  'From': 'Jakarta',\n",
       "  'To': 'Port Klang',\n",
       "  'ETD': '2023-10-11',\n",
       "  'ATD': '2023-10-11',\n",
       "  'ETA': '2023-10-20',\n",
       "  'ATA': '2023-10-21'},\n",
       " {'Liners': 'Danmar Lines / DHL',\n",
       "  'BL Number': 'BDOA03046',\n",
       "  'Container Number': 'FFAU3210739',\n",
       "  'From': 'Jakarta',\n",
       "  'To': 'Port Klang',\n",
       "  'ETD': '2023-10-20',\n",
       "  'ATD': '2023-10-18',\n",
       "  'ETA': '2023-10-28',\n",
       "  'ATA': None}]"
      ]
     },
     "execution_count": 30,
     "metadata": {},
     "output_type": "execute_result"
    }
   ],
   "source": [
    "list_of_dict"
   ]
  },
  {
   "cell_type": "code",
   "execution_count": 7,
   "metadata": {},
   "outputs": [
    {
     "name": "stdout",
     "output_type": "stream",
     "text": [
      "Today's Collection Name ===>  all_tracking_Oct-25-2023\n",
      "Table initiation complete\n",
      "Inserting Many Complete!!\n"
     ]
    }
   ],
   "source": [
    "# connect to mongodb\n",
    "from mongoinit import mongo_table_initiation, insert_many_mongo\n",
    "\n",
    "mongo_table_initiation()\n",
    "insert_many_mongo(list_of_dict)"
   ]
  },
  {
   "cell_type": "code",
   "execution_count": null,
   "metadata": {},
   "outputs": [],
   "source": [
    "# exporting scraped data to excel\n",
    "df = pd.DataFrame(list_of_dict)\n",
    "excel_file_path = 'export excel/DHL.xlsx'\n",
    "df.to_excel(excel_file_path, index=False)"
   ]
  },
  {
   "cell_type": "code",
   "execution_count": null,
   "metadata": {},
   "outputs": [],
   "source": []
  }
 ],
 "metadata": {
  "kernelspec": {
   "display_name": "Python 3.10.10 64-bit",
   "language": "python",
   "name": "python3"
  },
  "language_info": {
   "codemirror_mode": {
    "name": "ipython",
    "version": 3
   },
   "file_extension": ".py",
   "mimetype": "text/x-python",
   "name": "python",
   "nbconvert_exporter": "python",
   "pygments_lexer": "ipython3",
   "version": "3.10.10"
  },
  "orig_nbformat": 4,
  "vscode": {
   "interpreter": {
    "hash": "8c3d4d9970fc5c09c50d9318a9c7fbf4d0159e4b28833276f5678ee22bded273"
   }
  }
 },
 "nbformat": 4,
 "nbformat_minor": 2
}
